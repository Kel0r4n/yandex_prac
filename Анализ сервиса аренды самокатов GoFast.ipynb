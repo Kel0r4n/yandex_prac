{
 "cells": [
  {
   "cell_type": "markdown",
   "id": "68d57c8d",
   "metadata": {},
   "source": [
    "Анализ сервиса аренды самокатов GoFast\n",
    "\n",
    "Вы аналитик популярного сервиса аренды самокатов GoFast. Вам передали данные о некоторых пользователях из нескольких городов, а также об их поездках. Проанализируйте данные и проверьте некоторые гипотезы, которые могут помочь бизнесу вырасти.\n",
    "Чтобы совершать поездки по городу, пользователи сервиса GoFast пользуются мобильным приложением. Сервисом можно пользоваться:\n",
    "\n",
    "без подписки\n",
    "\n",
    "- абонентская плата отсутствует;\n",
    "- стоимость одной минуты поездки — 8 рублей;\n",
    "- стоимость старта (начала поездки) — 50 рублей;\n",
    "\n",
    "с подпиской Ultra\n",
    "\n",
    "- абонентская плата — 199 рублей в месяц;\n",
    "- стоимость одной минуты поездки — 6 рублей;\n",
    "- стоимость старта — бесплатно.\n",
    "\n",
    "Описание данных\n",
    "\n",
    "Пользователи — users_go.csv\n",
    "\n",
    "- user_id — уникальный идентификатор пользователя\n",
    "- name — имя пользователя\n",
    "- age — возраст\n",
    "- city — город\n",
    "- subscription_type — тип подписки (free, ultra)\n",
    "- Поeздки — rides_go.csv\n",
    "\n",
    "Поездки — rides_go.csv\n",
    "\n",
    "- user_id — уникальный идентификатор пользователя\n",
    "- distance — расстояние, которое пользователь проехал в текущей сессии (в метрах)\n",
    "- duration — продолжительность сессии (в минутах) — время с того момента, как пользователь нажал кнопку «Начать поездку» до момента, как он нажал кнопку «Завершить поездку»\n",
    "- date — дата совершения поездки\n",
    "- Подписки — subscriptions_go.csv\n",
    "\n",
    "Подписки — subscriptions_go.csv\n",
    "\n",
    "- subscription_type — тип подписки\n",
    "- minute_price — стоимость одной минуты поездки по данной подписке\n",
    "- start_ride_price — стоимость начала поездки\n",
    "- subscription_fee — стоимость ежемесячного платежа\n",
    "\n",
    "Цель исследования: обработать данные и на их основе проверерить гиптоезы, которые могут помочь бизнесу вырасти"
   ]
  },
  {
   "cell_type": "code",
   "execution_count": 1,
   "id": "72576667",
   "metadata": {},
   "outputs": [],
   "source": [
    "import pandas as pd\n",
    "import matplotlib.pyplot as plt\n",
    "import numpy as np\n",
    "from scipy import stats as st\n",
    "from matplotlib.pyplot import figure\n",
    "\n"
   ]
  },
  {
   "cell_type": "markdown",
   "id": "c42cbe00",
   "metadata": {},
   "source": [
    "#### Шаг 1. Загрузка данных"
   ]
  },
  {
   "cell_type": "code",
   "execution_count": 2,
   "id": "eff9f206",
   "metadata": {},
   "outputs": [
    {
     "data": {
      "text/html": [
       "<div>\n",
       "<style scoped>\n",
       "    .dataframe tbody tr th:only-of-type {\n",
       "        vertical-align: middle;\n",
       "    }\n",
       "\n",
       "    .dataframe tbody tr th {\n",
       "        vertical-align: top;\n",
       "    }\n",
       "\n",
       "    .dataframe thead th {\n",
       "        text-align: right;\n",
       "    }\n",
       "</style>\n",
       "<table border=\"1\" class=\"dataframe\">\n",
       "  <thead>\n",
       "    <tr style=\"text-align: right;\">\n",
       "      <th></th>\n",
       "      <th>user_id</th>\n",
       "      <th>name</th>\n",
       "      <th>age</th>\n",
       "      <th>city</th>\n",
       "      <th>subscription_type</th>\n",
       "    </tr>\n",
       "  </thead>\n",
       "  <tbody>\n",
       "    <tr>\n",
       "      <th>0</th>\n",
       "      <td>1</td>\n",
       "      <td>Кира</td>\n",
       "      <td>22</td>\n",
       "      <td>Тюмень</td>\n",
       "      <td>ultra</td>\n",
       "    </tr>\n",
       "    <tr>\n",
       "      <th>1</th>\n",
       "      <td>2</td>\n",
       "      <td>Станислав</td>\n",
       "      <td>31</td>\n",
       "      <td>Омск</td>\n",
       "      <td>ultra</td>\n",
       "    </tr>\n",
       "    <tr>\n",
       "      <th>2</th>\n",
       "      <td>3</td>\n",
       "      <td>Алексей</td>\n",
       "      <td>20</td>\n",
       "      <td>Москва</td>\n",
       "      <td>ultra</td>\n",
       "    </tr>\n",
       "    <tr>\n",
       "      <th>3</th>\n",
       "      <td>4</td>\n",
       "      <td>Константин</td>\n",
       "      <td>26</td>\n",
       "      <td>Ростов-на-Дону</td>\n",
       "      <td>ultra</td>\n",
       "    </tr>\n",
       "    <tr>\n",
       "      <th>4</th>\n",
       "      <td>5</td>\n",
       "      <td>Адель</td>\n",
       "      <td>28</td>\n",
       "      <td>Омск</td>\n",
       "      <td>ultra</td>\n",
       "    </tr>\n",
       "  </tbody>\n",
       "</table>\n",
       "</div>"
      ],
      "text/plain": [
       "   user_id        name  age            city subscription_type\n",
       "0        1        Кира   22          Тюмень             ultra\n",
       "1        2   Станислав   31            Омск             ultra\n",
       "2        3     Алексей   20          Москва             ultra\n",
       "3        4  Константин   26  Ростов-на-Дону             ultra\n",
       "4        5       Адель   28            Омск             ultra"
      ]
     },
     "metadata": {},
     "output_type": "display_data"
    },
    {
     "data": {
      "text/html": [
       "<div>\n",
       "<style scoped>\n",
       "    .dataframe tbody tr th:only-of-type {\n",
       "        vertical-align: middle;\n",
       "    }\n",
       "\n",
       "    .dataframe tbody tr th {\n",
       "        vertical-align: top;\n",
       "    }\n",
       "\n",
       "    .dataframe thead th {\n",
       "        text-align: right;\n",
       "    }\n",
       "</style>\n",
       "<table border=\"1\" class=\"dataframe\">\n",
       "  <thead>\n",
       "    <tr style=\"text-align: right;\">\n",
       "      <th></th>\n",
       "      <th>user_id</th>\n",
       "      <th>distance</th>\n",
       "      <th>duration</th>\n",
       "      <th>date</th>\n",
       "    </tr>\n",
       "  </thead>\n",
       "  <tbody>\n",
       "    <tr>\n",
       "      <th>0</th>\n",
       "      <td>1</td>\n",
       "      <td>4409.919140</td>\n",
       "      <td>25.599769</td>\n",
       "      <td>2021-01-01</td>\n",
       "    </tr>\n",
       "    <tr>\n",
       "      <th>1</th>\n",
       "      <td>1</td>\n",
       "      <td>2617.592153</td>\n",
       "      <td>15.816871</td>\n",
       "      <td>2021-01-18</td>\n",
       "    </tr>\n",
       "    <tr>\n",
       "      <th>2</th>\n",
       "      <td>1</td>\n",
       "      <td>754.159807</td>\n",
       "      <td>6.232113</td>\n",
       "      <td>2021-04-20</td>\n",
       "    </tr>\n",
       "    <tr>\n",
       "      <th>3</th>\n",
       "      <td>1</td>\n",
       "      <td>2694.783254</td>\n",
       "      <td>18.511000</td>\n",
       "      <td>2021-08-11</td>\n",
       "    </tr>\n",
       "    <tr>\n",
       "      <th>4</th>\n",
       "      <td>1</td>\n",
       "      <td>4028.687306</td>\n",
       "      <td>26.265803</td>\n",
       "      <td>2021-08-28</td>\n",
       "    </tr>\n",
       "  </tbody>\n",
       "</table>\n",
       "</div>"
      ],
      "text/plain": [
       "   user_id     distance   duration        date\n",
       "0        1  4409.919140  25.599769  2021-01-01\n",
       "1        1  2617.592153  15.816871  2021-01-18\n",
       "2        1   754.159807   6.232113  2021-04-20\n",
       "3        1  2694.783254  18.511000  2021-08-11\n",
       "4        1  4028.687306  26.265803  2021-08-28"
      ]
     },
     "metadata": {},
     "output_type": "display_data"
    },
    {
     "data": {
      "text/html": [
       "<div>\n",
       "<style scoped>\n",
       "    .dataframe tbody tr th:only-of-type {\n",
       "        vertical-align: middle;\n",
       "    }\n",
       "\n",
       "    .dataframe tbody tr th {\n",
       "        vertical-align: top;\n",
       "    }\n",
       "\n",
       "    .dataframe thead th {\n",
       "        text-align: right;\n",
       "    }\n",
       "</style>\n",
       "<table border=\"1\" class=\"dataframe\">\n",
       "  <thead>\n",
       "    <tr style=\"text-align: right;\">\n",
       "      <th></th>\n",
       "      <th>subscription_type</th>\n",
       "      <th>minute_price</th>\n",
       "      <th>start_ride_price</th>\n",
       "      <th>subscription_fee</th>\n",
       "    </tr>\n",
       "  </thead>\n",
       "  <tbody>\n",
       "    <tr>\n",
       "      <th>0</th>\n",
       "      <td>free</td>\n",
       "      <td>8</td>\n",
       "      <td>50</td>\n",
       "      <td>0</td>\n",
       "    </tr>\n",
       "    <tr>\n",
       "      <th>1</th>\n",
       "      <td>ultra</td>\n",
       "      <td>6</td>\n",
       "      <td>0</td>\n",
       "      <td>199</td>\n",
       "    </tr>\n",
       "  </tbody>\n",
       "</table>\n",
       "</div>"
      ],
      "text/plain": [
       "  subscription_type  minute_price  start_ride_price  subscription_fee\n",
       "0              free             8                50                 0\n",
       "1             ultra             6                 0               199"
      ]
     },
     "metadata": {},
     "output_type": "display_data"
    }
   ],
   "source": [
    "users_df=pd.read_csv('/datasets/users_go.csv')\n",
    "rides_df=pd.read_csv('/datasets/rides_go.csv')\n",
    "sub_df=pd.read_csv('/datasets/subscriptions_go.csv')\n",
    "\n",
    "display(users_df.head())\n",
    "display()\n",
    "display(rides_df.head())\n",
    "display()\n",
    "display(sub_df.head())"
   ]
  },
  {
   "cell_type": "code",
   "execution_count": 3,
   "id": "66947ad7",
   "metadata": {},
   "outputs": [
    {
     "name": "stdout",
     "output_type": "stream",
     "text": [
      "<class 'pandas.core.frame.DataFrame'>\n",
      "RangeIndex: 1565 entries, 0 to 1564\n",
      "Data columns (total 5 columns):\n",
      " #   Column             Non-Null Count  Dtype \n",
      "---  ------             --------------  ----- \n",
      " 0   user_id            1565 non-null   int64 \n",
      " 1   name               1565 non-null   object\n",
      " 2   age                1565 non-null   int64 \n",
      " 3   city               1565 non-null   object\n",
      " 4   subscription_type  1565 non-null   object\n",
      "dtypes: int64(2), object(3)\n",
      "memory usage: 61.3+ KB\n"
     ]
    },
    {
     "data": {
      "text/plain": [
       "None"
      ]
     },
     "metadata": {},
     "output_type": "display_data"
    },
    {
     "name": "stdout",
     "output_type": "stream",
     "text": [
      "<class 'pandas.core.frame.DataFrame'>\n",
      "RangeIndex: 18068 entries, 0 to 18067\n",
      "Data columns (total 4 columns):\n",
      " #   Column    Non-Null Count  Dtype  \n",
      "---  ------    --------------  -----  \n",
      " 0   user_id   18068 non-null  int64  \n",
      " 1   distance  18068 non-null  float64\n",
      " 2   duration  18068 non-null  float64\n",
      " 3   date      18068 non-null  object \n",
      "dtypes: float64(2), int64(1), object(1)\n",
      "memory usage: 564.8+ KB\n"
     ]
    },
    {
     "data": {
      "text/plain": [
       "None"
      ]
     },
     "metadata": {},
     "output_type": "display_data"
    },
    {
     "name": "stdout",
     "output_type": "stream",
     "text": [
      "<class 'pandas.core.frame.DataFrame'>\n",
      "RangeIndex: 2 entries, 0 to 1\n",
      "Data columns (total 4 columns):\n",
      " #   Column             Non-Null Count  Dtype \n",
      "---  ------             --------------  ----- \n",
      " 0   subscription_type  2 non-null      object\n",
      " 1   minute_price       2 non-null      int64 \n",
      " 2   start_ride_price   2 non-null      int64 \n",
      " 3   subscription_fee   2 non-null      int64 \n",
      "dtypes: int64(3), object(1)\n",
      "memory usage: 192.0+ bytes\n"
     ]
    },
    {
     "data": {
      "text/plain": [
       "None"
      ]
     },
     "metadata": {},
     "output_type": "display_data"
    }
   ],
   "source": [
    "display(users_df.info())\n",
    "\n",
    "display(rides_df.info())\n",
    "\n",
    "display(sub_df.info())"
   ]
  },
  {
   "cell_type": "code",
   "execution_count": 4,
   "id": "6f0e152c",
   "metadata": {},
   "outputs": [
    {
     "data": {
      "image/png": "[encoded data removed]",
      "text/plain": [
       "<Figure size 432x288 with 2 Axes>"
      ]
     },
     "metadata": {
      "needs_background": "light"
     },
     "output_type": "display_data"
    },
    {
     "data": {
      "image/png": "[encoded data removed]",
      "text/plain": [
       "<Figure size 432x288 with 4 Axes>"
      ]
     },
     "metadata": {
      "needs_background": "light"
     },
     "output_type": "display_data"
    },
    {
     "data": {
      "image/png": "[encoded data removed]",
      "text/plain": [
       "<Figure size 432x288 with 4 Axes>"
      ]
     },
     "metadata": {
      "needs_background": "light"
     },
     "output_type": "display_data"
    }
   ],
   "source": [
    "users_df.hist();\n",
    "rides_df.hist();\n",
    "sub_df.hist();"
   ]
  },
  {
   "cell_type": "markdown",
   "id": "a7ce84b5",
   "metadata": {},
   "source": [
    "В целом данные без явных проблем, все значения выглядят адекватными. Стоит поменять формат даты на соответствующий. Из графика возрастов видим, что наиболее популярен сервис среди пользователей от 20 до 30 лет. В основном люди проезжают расстояние в 3км и делают это за 20 минут"
   ]
  },
  {
   "cell_type": "markdown",
   "id": "e95ebca7",
   "metadata": {},
   "source": [
    "#### Шаг 2. Предобработка данных"
   ]
  },
  {
   "cell_type": "code",
   "execution_count": 5,
   "id": "59de3a0d",
   "metadata": {},
   "outputs": [
    {
     "data": {
      "text/plain": [
       "user_id              0\n",
       "name                 0\n",
       "age                  0\n",
       "city                 0\n",
       "subscription_type    0\n",
       "dtype: int64"
      ]
     },
     "metadata": {},
     "output_type": "display_data"
    },
    {
     "data": {
      "text/plain": [
       "user_id     0\n",
       "distance    0\n",
       "duration    0\n",
       "date        0\n",
       "dtype: int64"
      ]
     },
     "metadata": {},
     "output_type": "display_data"
    },
    {
     "data": {
      "text/plain": [
       "subscription_type    0\n",
       "minute_price         0\n",
       "start_ride_price     0\n",
       "subscription_fee     0\n",
       "dtype: int64"
      ]
     },
     "metadata": {},
     "output_type": "display_data"
    },
    {
     "data": {
      "text/html": [
       "<div>\n",
       "<style scoped>\n",
       "    .dataframe tbody tr th:only-of-type {\n",
       "        vertical-align: middle;\n",
       "    }\n",
       "\n",
       "    .dataframe tbody tr th {\n",
       "        vertical-align: top;\n",
       "    }\n",
       "\n",
       "    .dataframe thead th {\n",
       "        text-align: right;\n",
       "    }\n",
       "</style>\n",
       "<table border=\"1\" class=\"dataframe\">\n",
       "  <thead>\n",
       "    <tr style=\"text-align: right;\">\n",
       "      <th></th>\n",
       "      <th>user_id</th>\n",
       "      <th>age</th>\n",
       "    </tr>\n",
       "  </thead>\n",
       "  <tbody>\n",
       "    <tr>\n",
       "      <th>count</th>\n",
       "      <td>1565.000000</td>\n",
       "      <td>1565.000000</td>\n",
       "    </tr>\n",
       "    <tr>\n",
       "      <th>mean</th>\n",
       "      <td>762.633866</td>\n",
       "      <td>24.922045</td>\n",
       "    </tr>\n",
       "    <tr>\n",
       "      <th>std</th>\n",
       "      <td>443.260155</td>\n",
       "      <td>4.553496</td>\n",
       "    </tr>\n",
       "    <tr>\n",
       "      <th>min</th>\n",
       "      <td>1.000000</td>\n",
       "      <td>12.000000</td>\n",
       "    </tr>\n",
       "    <tr>\n",
       "      <th>25%</th>\n",
       "      <td>378.000000</td>\n",
       "      <td>22.000000</td>\n",
       "    </tr>\n",
       "    <tr>\n",
       "      <th>50%</th>\n",
       "      <td>762.000000</td>\n",
       "      <td>25.000000</td>\n",
       "    </tr>\n",
       "    <tr>\n",
       "      <th>75%</th>\n",
       "      <td>1146.000000</td>\n",
       "      <td>28.000000</td>\n",
       "    </tr>\n",
       "    <tr>\n",
       "      <th>max</th>\n",
       "      <td>1534.000000</td>\n",
       "      <td>43.000000</td>\n",
       "    </tr>\n",
       "  </tbody>\n",
       "</table>\n",
       "</div>"
      ],
      "text/plain": [
       "           user_id          age\n",
       "count  1565.000000  1565.000000\n",
       "mean    762.633866    24.922045\n",
       "std     443.260155     4.553496\n",
       "min       1.000000    12.000000\n",
       "25%     378.000000    22.000000\n",
       "50%     762.000000    25.000000\n",
       "75%    1146.000000    28.000000\n",
       "max    1534.000000    43.000000"
      ]
     },
     "metadata": {},
     "output_type": "display_data"
    },
    {
     "data": {
      "text/html": [
       "<div>\n",
       "<style scoped>\n",
       "    .dataframe tbody tr th:only-of-type {\n",
       "        vertical-align: middle;\n",
       "    }\n",
       "\n",
       "    .dataframe tbody tr th {\n",
       "        vertical-align: top;\n",
       "    }\n",
       "\n",
       "    .dataframe thead th {\n",
       "        text-align: right;\n",
       "    }\n",
       "</style>\n",
       "<table border=\"1\" class=\"dataframe\">\n",
       "  <thead>\n",
       "    <tr style=\"text-align: right;\">\n",
       "      <th></th>\n",
       "      <th>user_id</th>\n",
       "      <th>distance</th>\n",
       "      <th>duration</th>\n",
       "    </tr>\n",
       "  </thead>\n",
       "  <tbody>\n",
       "    <tr>\n",
       "      <th>count</th>\n",
       "      <td>18068.000000</td>\n",
       "      <td>18068.000000</td>\n",
       "      <td>18068.000000</td>\n",
       "    </tr>\n",
       "    <tr>\n",
       "      <th>mean</th>\n",
       "      <td>842.869936</td>\n",
       "      <td>3070.659976</td>\n",
       "      <td>17.805011</td>\n",
       "    </tr>\n",
       "    <tr>\n",
       "      <th>std</th>\n",
       "      <td>434.734317</td>\n",
       "      <td>1116.831209</td>\n",
       "      <td>6.091051</td>\n",
       "    </tr>\n",
       "    <tr>\n",
       "      <th>min</th>\n",
       "      <td>1.000000</td>\n",
       "      <td>0.855683</td>\n",
       "      <td>0.500000</td>\n",
       "    </tr>\n",
       "    <tr>\n",
       "      <th>25%</th>\n",
       "      <td>487.000000</td>\n",
       "      <td>2543.226360</td>\n",
       "      <td>13.597563</td>\n",
       "    </tr>\n",
       "    <tr>\n",
       "      <th>50%</th>\n",
       "      <td>889.000000</td>\n",
       "      <td>3133.609994</td>\n",
       "      <td>17.678395</td>\n",
       "    </tr>\n",
       "    <tr>\n",
       "      <th>75%</th>\n",
       "      <td>1213.250000</td>\n",
       "      <td>3776.222735</td>\n",
       "      <td>21.724800</td>\n",
       "    </tr>\n",
       "    <tr>\n",
       "      <th>max</th>\n",
       "      <td>1534.000000</td>\n",
       "      <td>7211.007745</td>\n",
       "      <td>40.823963</td>\n",
       "    </tr>\n",
       "  </tbody>\n",
       "</table>\n",
       "</div>"
      ],
      "text/plain": [
       "            user_id      distance      duration\n",
       "count  18068.000000  18068.000000  18068.000000\n",
       "mean     842.869936   3070.659976     17.805011\n",
       "std      434.734317   1116.831209      6.091051\n",
       "min        1.000000      0.855683      0.500000\n",
       "25%      487.000000   2543.226360     13.597563\n",
       "50%      889.000000   3133.609994     17.678395\n",
       "75%     1213.250000   3776.222735     21.724800\n",
       "max     1534.000000   7211.007745     40.823963"
      ]
     },
     "metadata": {},
     "output_type": "display_data"
    },
    {
     "data": {
      "text/html": [
       "<div>\n",
       "<style scoped>\n",
       "    .dataframe tbody tr th:only-of-type {\n",
       "        vertical-align: middle;\n",
       "    }\n",
       "\n",
       "    .dataframe tbody tr th {\n",
       "        vertical-align: top;\n",
       "    }\n",
       "\n",
       "    .dataframe thead th {\n",
       "        text-align: right;\n",
       "    }\n",
       "</style>\n",
       "<table border=\"1\" class=\"dataframe\">\n",
       "  <thead>\n",
       "    <tr style=\"text-align: right;\">\n",
       "      <th></th>\n",
       "      <th>minute_price</th>\n",
       "      <th>start_ride_price</th>\n",
       "      <th>subscription_fee</th>\n",
       "    </tr>\n",
       "  </thead>\n",
       "  <tbody>\n",
       "    <tr>\n",
       "      <th>count</th>\n",
       "      <td>2.000000</td>\n",
       "      <td>2.000000</td>\n",
       "      <td>2.000000</td>\n",
       "    </tr>\n",
       "    <tr>\n",
       "      <th>mean</th>\n",
       "      <td>7.000000</td>\n",
       "      <td>25.000000</td>\n",
       "      <td>99.500000</td>\n",
       "    </tr>\n",
       "    <tr>\n",
       "      <th>std</th>\n",
       "      <td>1.414214</td>\n",
       "      <td>35.355339</td>\n",
       "      <td>140.714249</td>\n",
       "    </tr>\n",
       "    <tr>\n",
       "      <th>min</th>\n",
       "      <td>6.000000</td>\n",
       "      <td>0.000000</td>\n",
       "      <td>0.000000</td>\n",
       "    </tr>\n",
       "    <tr>\n",
       "      <th>25%</th>\n",
       "      <td>6.500000</td>\n",
       "      <td>12.500000</td>\n",
       "      <td>49.750000</td>\n",
       "    </tr>\n",
       "    <tr>\n",
       "      <th>50%</th>\n",
       "      <td>7.000000</td>\n",
       "      <td>25.000000</td>\n",
       "      <td>99.500000</td>\n",
       "    </tr>\n",
       "    <tr>\n",
       "      <th>75%</th>\n",
       "      <td>7.500000</td>\n",
       "      <td>37.500000</td>\n",
       "      <td>149.250000</td>\n",
       "    </tr>\n",
       "    <tr>\n",
       "      <th>max</th>\n",
       "      <td>8.000000</td>\n",
       "      <td>50.000000</td>\n",
       "      <td>199.000000</td>\n",
       "    </tr>\n",
       "  </tbody>\n",
       "</table>\n",
       "</div>"
      ],
      "text/plain": [
       "       minute_price  start_ride_price  subscription_fee\n",
       "count      2.000000          2.000000          2.000000\n",
       "mean       7.000000         25.000000         99.500000\n",
       "std        1.414214         35.355339        140.714249\n",
       "min        6.000000          0.000000          0.000000\n",
       "25%        6.500000         12.500000         49.750000\n",
       "50%        7.000000         25.000000         99.500000\n",
       "75%        7.500000         37.500000        149.250000\n",
       "max        8.000000         50.000000        199.000000"
      ]
     },
     "metadata": {},
     "output_type": "display_data"
    }
   ],
   "source": [
    "display(users_df.isna().sum())\n",
    "display(rides_df.isna().sum())\n",
    "display(sub_df.isna().sum())\n",
    "display()\n",
    "display(users_df.describe())\n",
    "display(rides_df.describe())\n",
    "display(sub_df.describe())\n",
    "#на первый взгляд данные выглядят нормально, без явных выбросов. "
   ]
  },
  {
   "cell_type": "code",
   "execution_count": 6,
   "id": "af6d202c",
   "metadata": {},
   "outputs": [
    {
     "name": "stdout",
     "output_type": "stream",
     "text": [
      "уникальных значений в user_id в датафрейме users: 1534\n",
      "['Тюмень' 'Омск' 'Москва' 'Ростов-на-Дону' 'Краснодар' 'Пятигорск'\n",
      " 'Екатеринбург' 'Сочи']\n",
      "['ultra' 'free']\n"
     ]
    },
    {
     "data": {
      "text/plain": [
       "0       False\n",
       "1       False\n",
       "2       False\n",
       "3       False\n",
       "4       False\n",
       "        ...  \n",
       "1560     True\n",
       "1561     True\n",
       "1562     True\n",
       "1563     True\n",
       "1564     True\n",
       "Length: 1565, dtype: bool"
      ]
     },
     "metadata": {},
     "output_type": "display_data"
    },
    {
     "data": {
      "text/plain": [
       "0"
      ]
     },
     "execution_count": 6,
     "metadata": {},
     "output_type": "execute_result"
    }
   ],
   "source": [
    "print('уникальных значений в user_id в датафрейме users:', len(users_df['user_id'].unique()))\n",
    "#видим, что есть дубилкаты, тк всего 1565 строк\n",
    "print(users_df['city'].unique())\n",
    "#неявных дубликатов в city нет.Столбец age проверять смысла нет, тк это возраст и он может повторяться\n",
    "print(users_df['subscription_type'].unique())\n",
    "#в целом, в этом столбце ultra и free можно заменить на булево значение \n",
    "display(users_df.duplicated())\n",
    "users_df.drop_duplicates(inplace=True)#удаляем дубликаты\n",
    "users_df.duplicated().sum()"
   ]
  },
  {
   "cell_type": "code",
   "execution_count": 7,
   "id": "10b723a6",
   "metadata": {},
   "outputs": [
    {
     "data": {
      "text/plain": [
       "0"
      ]
     },
     "execution_count": 7,
     "metadata": {},
     "output_type": "execute_result"
    }
   ],
   "source": [
    "users_df.duplicated().sum()"
   ]
  },
  {
   "cell_type": "code",
   "execution_count": 8,
   "id": "2d51f352",
   "metadata": {},
   "outputs": [
    {
     "name": "stdout",
     "output_type": "stream",
     "text": [
      "уникальных значений в user_id в датафрейме rides: 1534\n"
     ]
    }
   ],
   "source": [
    "print('уникальных значений в user_id в датафрейме rides:', len(rides_df['user_id'].unique())) \n",
    "#всего 1534 уникальные строчки, но это обусловлено тем, что некоторые пользователи катаются не по 1 разу\n"
   ]
  },
  {
   "cell_type": "code",
   "execution_count": 9,
   "id": "8f374b8e",
   "metadata": {},
   "outputs": [
    {
     "name": "stdout",
     "output_type": "stream",
     "text": [
      "[2021]\n",
      "       user_id     distance   duration       date  month\n",
      "0            1  4409.919140  25.599769 2021-01-01      1\n",
      "1            1  2617.592153  15.816871 2021-01-18      1\n",
      "2            1   754.159807   6.232113 2021-04-20      4\n",
      "3            1  2694.783254  18.511000 2021-08-11      8\n",
      "4            1  4028.687306  26.265803 2021-08-28      8\n",
      "...        ...          ...        ...        ...    ...\n",
      "18063     1534  3781.098080  19.822962 2021-11-04     11\n",
      "18064     1534  2840.423057  21.409799 2021-11-16     11\n",
      "18065     1534  3826.185507  18.435051 2021-11-18     11\n",
      "18066     1534  2902.308661  16.674362 2021-11-27     11\n",
      "18067     1534  2371.711192  15.893917 2021-12-29     12\n",
      "\n",
      "[18068 rows x 5 columns]\n"
     ]
    }
   ],
   "source": [
    "rides_df['date'] = pd.to_datetime(rides_df['date'], format = '%Y-%m-%d')\n",
    "#меняем формат данных с object на необходимый для даты\n",
    "rides_df['date'].head(10)\n",
    "#стоит проверить, предоставлены ли данные за 1 год\n",
    "print(rides_df['date'].dt.year.unique())\n",
    "#да, за 1 год, значит просто добавим номер месяца \n",
    "rides_df['month'] = rides_df['date'].dt.month\n",
    "\n",
    "print(rides_df)\n"
   ]
  },
  {
   "cell_type": "markdown",
   "id": "2d094f13",
   "metadata": {},
   "source": [
    "Пропусков в данных не обнаружено\n",
    "Дубликаты были обнаружены в идентификаторах пользователей и удалены\n",
    "Добавили столбец month с номером месяца"
   ]
  },
  {
   "cell_type": "markdown",
   "id": "212593c7",
   "metadata": {},
   "source": [
    "#### Шаг 3. Исследовательский анализ данных"
   ]
  },
  {
   "cell_type": "code",
   "execution_count": 10,
   "id": "e3a4274c",
   "metadata": {},
   "outputs": [
    {
     "data": {
      "image/png": "[encoded data removed]",
      "text/plain": [
       "<Figure size 1080x360 with 1 Axes>"
      ]
     },
     "metadata": {
      "needs_background": "light"
     },
     "output_type": "display_data"
    }
   ],
   "source": [
    "users_df.groupby('city')['user_id'].count().sort_values()\\\n",
    "    .plot(kind = 'barh',\n",
    "         ylabel = 'Количество пользователей',\n",
    "         title = 'Количество пользователей по городам',\n",
    "         figsize = (15, 5))\n",
    "plt.xlabel('Количество пользователей')\n",
    "plt.ylabel('Город')\n",
    "plt.show()\n"
   ]
  },
  {
   "cell_type": "markdown",
   "id": "99ad77d6",
   "metadata": {},
   "source": [
    "Из графика и таблицы видим, что наиболее полпулярным городом является Пятигорск(14% или 219 значений), а наименее популярным - Москва (11% или 168 значений)\n"
   ]
  },
  {
   "cell_type": "code",
   "execution_count": 11,
   "id": "74910534",
   "metadata": {},
   "outputs": [
    {
     "name": "stdout",
     "output_type": "stream",
     "text": [
      "free     835\n",
      "ultra    699\n",
      "Name: subscription_type, dtype: int64\n"
     ]
    },
    {
     "data": {
      "image/png": "[encoded data removed]",
      "text/plain": [
       "<Figure size 504x504 with 1 Axes>"
      ]
     },
     "metadata": {},
     "output_type": "display_data"
    }
   ],
   "source": [
    "subs = users_df['subscription_type'].value_counts()\n",
    "users_df['subscription_type'].value_counts().plot(\n",
    "    kind = 'pie', \n",
    "    y = subs, \n",
    "    autopct = '%1.0f%%',\n",
    "    title = 'Процентное соотношение пользователей c подпиской и без',\n",
    "    figsize=(7,7));#график соотношения пользователей с подпиской и без \n",
    "print(subs)\n",
    "#из графика видим, что преимущественно(54% или 835 пользователей) пользуются подпиской free"
   ]
  },
  {
   "cell_type": "code",
   "execution_count": 12,
   "id": "e74a1878",
   "metadata": {},
   "outputs": [
    {
     "data": {
      "image/png": "[encoded data removed]",
      "text/plain": [
       "<Figure size 432x288 with 1 Axes>"
      ]
     },
     "metadata": {
      "needs_background": "light"
     },
     "output_type": "display_data"
    },
    {
     "name": "stdout",
     "output_type": "stream",
     "text": [
      "приложением пользуются люди в возрасте от 12 до 43 лет\n"
     ]
    }
   ],
   "source": [
    "plt.hist(users_df['age'], bins = 15)\n",
    "plt.xlabel('Возраст')\n",
    "plt.ylabel('Количество пользователей')\n",
    "plt.grid()\n",
    "plt.title('Возраст пользователей')\n",
    "plt.show()\n",
    "#график распредления возрастов \n",
    "#из графика видим, что наиболее популярно приложение среди лиц, в возрасте от 21 года до 28 лет\n",
    "#в целом, приложением пользуются люди от \n",
    "print('приложением пользуются люди в возрасте от {0} до {1} лет'.format(users_df['age'].min(), users_df['age'].max()))\n",
    "    "
   ]
  },
  {
   "cell_type": "code",
   "execution_count": 13,
   "id": "bc5a8a15",
   "metadata": {},
   "outputs": [
    {
     "data": {
      "image/png": "[encoded data removed]",
      "text/plain": [
       "<Figure size 432x288 with 1 Axes>"
      ]
     },
     "metadata": {
      "needs_background": "light"
     },
     "output_type": "display_data"
    },
    {
     "name": "stdout",
     "output_type": "stream",
     "text": [
      "дистанция поездки варьируется от 0.001 до 7.21 км\n"
     ]
    }
   ],
   "source": [
    "plt.hist(rides_df['distance'], bins = 80)\n",
    "plt.xlabel('Дистанция поездки')\n",
    "plt.ylabel('Количество поездок')\n",
    "plt.grid()\n",
    "plt.title('Расстояние, преодолеваемое за 1 поездку')\n",
    "plt.show()\n",
    "#из графика видим, что в среднем люди проезжают от 2,5 до 4 км\n",
    "print('дистанция поездки варьируется от {0} до {1} км'.format(round(rides_df['distance'].min()/1000,3), round(rides_df['distance'].max()/1000,2)))\n",
    "#видим, что наименьашя поездка была на дистанции 1м, а наибольшаяя 7,21 км"
   ]
  },
  {
   "cell_type": "code",
   "execution_count": 14,
   "id": "05f745ad",
   "metadata": {},
   "outputs": [
    {
     "data": {
      "image/png": "[encoded data removed]",
      "text/plain": [
       "<Figure size 432x288 with 1 Axes>"
      ]
     },
     "metadata": {
      "needs_background": "light"
     },
     "output_type": "display_data"
    },
    {
     "name": "stdout",
     "output_type": "stream",
     "text": [
      "длительность поездки варьируется от 0.5 до 40.82 минут\n"
     ]
    },
    {
     "data": {
      "image/png": "[encoded data removed]",
      "text/plain": [
       "<Figure size 432x288 with 1 Axes>"
      ]
     },
     "metadata": {
      "needs_background": "light"
     },
     "output_type": "display_data"
    }
   ],
   "source": [
    "plt.hist(rides_df['duration'], bins = 80)\n",
    "plt.xlabel('Длительность поездки')\n",
    "plt.ylabel('Количество поездок')\n",
    "plt.grid()\n",
    "plt.show()\n",
    "\n",
    "print('длительность поездки варьируется от {0} до {1} минут'.format(rides_df['duration'].min(), round(rides_df['duration'].max(),2)))\n",
    "plt.hist(rides_df['duration'], bins = 80, range ={0,3})\n",
    "plt.show()"
   ]
  },
  {
   "cell_type": "markdown",
   "id": "7d01e287",
   "metadata": {},
   "source": [
    "Из графика видим, что в среднем люди проезжают от 2,5 до 4 км. Самая быстрая поездка завершилась за пол минуты, а самая долая длилась почти 41 минуту.\n",
    "\n",
    "Также наблюдается небольшое количество поездок (около 100) продолжительностью в 30 сек."
   ]
  },
  {
   "cell_type": "markdown",
   "id": "32c65e58",
   "metadata": {},
   "source": [
    "Вывод\n",
    "Услугами сервиса пользуются жители 8 городов, наиболее популярно приложение в Пятгорске, в нем было совершено 219 поездок, а наименее популярно в Москве, где было совершено всего 168 поездок\n",
    "\n",
    "Большинство пользователей (54%) пользуются подпиской типа free\n",
    "\n",
    "Услугами пользуются люди в возрасте от 12 до 43 лет, а наиболее популярен серверис среди пользователей в возрасте 25 лет\n",
    "\n",
    "В среднем люди проезжают от 2,5 до 4км, наименьшей дистанцией поездки был 1 метр, а наибольшей 7,21 км\n",
    "\n",
    "Длительность поездки в среднем составляет от 13 до 23 минут, самая долгая поездка длилась 40,82 минут, а самая короткая завершилась за пол минуты. Это значение достаточно странное, тк оно встречается почти 100 раз, что может быть обусловленно либо тем, что если человек отменяет поездку, то ее продолжительность принимается за 0.5 минуты, либо какое-то количество самокатов было неисправно, от чего люди отменяли поездки в столь короткий промежуток времени\n"
   ]
  },
  {
   "cell_type": "markdown",
   "id": "4ef51331",
   "metadata": {},
   "source": [
    "#### Шаг 4. Объединение данных"
   ]
  },
  {
   "cell_type": "code",
   "execution_count": 15,
   "id": "6bf288b5",
   "metadata": {},
   "outputs": [
    {
     "name": "stdout",
     "output_type": "stream",
     "text": [
      "   user_id  name  age    city subscription_type     distance   duration  \\\n",
      "0        1  Кира   22  Тюмень             ultra  4409.919140  25.599769   \n",
      "1        1  Кира   22  Тюмень             ultra  2617.592153  15.816871   \n",
      "2        1  Кира   22  Тюмень             ultra   754.159807   6.232113   \n",
      "3        1  Кира   22  Тюмень             ultra  2694.783254  18.511000   \n",
      "4        1  Кира   22  Тюмень             ultra  4028.687306  26.265803   \n",
      "5        1  Кира   22  Тюмень             ultra  2770.890808  16.650138   \n",
      "6        1  Кира   22  Тюмень             ultra  3039.020292  14.927879   \n",
      "7        1  Кира   22  Тюмень             ultra  2842.118050  23.117468   \n",
      "8        1  Кира   22  Тюмень             ultra  3412.690668  15.238072   \n",
      "9        1  Кира   22  Тюмень             ultra   748.690645  15.041884   \n",
      "\n",
      "        date  month  minute_price  start_ride_price  subscription_fee  \n",
      "0 2021-01-01      1             6                 0               199  \n",
      "1 2021-01-18      1             6                 0               199  \n",
      "2 2021-04-20      4             6                 0               199  \n",
      "3 2021-08-11      8             6                 0               199  \n",
      "4 2021-08-28      8             6                 0               199  \n",
      "5 2021-10-09     10             6                 0               199  \n",
      "6 2021-10-19     10             6                 0               199  \n",
      "7 2021-11-06     11             6                 0               199  \n",
      "8 2021-11-14     11             6                 0               199  \n",
      "9 2021-11-22     11             6                 0               199  \n"
     ]
    }
   ],
   "source": [
    "df = users_df.merge(rides_df, on='user_id').merge(sub_df, on='subscription_type')\n",
    "print(df.head(10))\n",
    "\n"
   ]
  },
  {
   "cell_type": "code",
   "execution_count": 16,
   "id": "a690e613",
   "metadata": {},
   "outputs": [
    {
     "name": "stdout",
     "output_type": "stream",
     "text": [
      "['ultra' 'free']\n",
      "      user_id   name  age  city subscription_type     distance   duration  \\\n",
      "6500      700  Айдар   22  Омск             False  2515.690719  14.944286   \n",
      "6501      700  Айдар   22  Омск             False   846.932642  16.234663   \n",
      "6502      700  Айдар   22  Омск             False  4004.434142  20.016628   \n",
      "6503      700  Айдар   22  Омск             False  1205.911290   9.782872   \n",
      "6504      700  Айдар   22  Омск             False  3047.379435  17.427673   \n",
      "\n",
      "           date  month  minute_price  start_ride_price  subscription_fee  \n",
      "6500 2021-01-02      1             8                50                 0  \n",
      "6501 2021-02-01      2             8                50                 0  \n",
      "6502 2021-02-04      2             8                50                 0  \n",
      "6503 2021-02-10      2             8                50                 0  \n",
      "6504 2021-02-14      2             8                50                 0  \n",
      "   user_id  name  age    city subscription_type     distance   duration  \\\n",
      "0        1  Кира   22  Тюмень              True  4409.919140  25.599769   \n",
      "1        1  Кира   22  Тюмень              True  2617.592153  15.816871   \n",
      "2        1  Кира   22  Тюмень              True   754.159807   6.232113   \n",
      "3        1  Кира   22  Тюмень              True  2694.783254  18.511000   \n",
      "4        1  Кира   22  Тюмень              True  4028.687306  26.265803   \n",
      "\n",
      "        date  month  minute_price  start_ride_price  subscription_fee  \n",
      "0 2021-01-01      1             6                 0               199  \n",
      "1 2021-01-18      1             6                 0               199  \n",
      "2 2021-04-20      4             6                 0               199  \n",
      "3 2021-08-11      8             6                 0               199  \n",
      "4 2021-08-28      8             6                 0               199  \n"
     ]
    }
   ],
   "source": [
    "print(df['subscription_type'].unique())\n",
    "df.loc[df['subscription_type'] == 'free', 'subscription_type'] = False\n",
    "df.loc[df['subscription_type'] == 'ultra', 'subscription_type'] = True\n",
    "df['subscription_type'].astype(bool)#меняем формат данных\n",
    "\n",
    "free_subs = df.query('subscription_type == False')\n",
    "ultra_subs = df.query('subscription_type == True')\n",
    "\n",
    "print(free_subs.head())\n",
    "print(ultra_subs.head())"
   ]
  },
  {
   "cell_type": "code",
   "execution_count": 17,
   "id": "0ee9a082",
   "metadata": {},
   "outputs": [
    {
     "name": "stdout",
     "output_type": "stream",
     "text": [
      "<class 'pandas.core.frame.DataFrame'>\n",
      "Int64Index: 18068 entries, 0 to 18067\n",
      "Data columns (total 12 columns):\n",
      " #   Column             Non-Null Count  Dtype         \n",
      "---  ------             --------------  -----         \n",
      " 0   user_id            18068 non-null  int64         \n",
      " 1   name               18068 non-null  object        \n",
      " 2   age                18068 non-null  int64         \n",
      " 3   city               18068 non-null  object        \n",
      " 4   subscription_type  18068 non-null  object        \n",
      " 5   distance           18068 non-null  float64       \n",
      " 6   duration           18068 non-null  float64       \n",
      " 7   date               18068 non-null  datetime64[ns]\n",
      " 8   month              18068 non-null  int64         \n",
      " 9   minute_price       18068 non-null  int64         \n",
      " 10  start_ride_price   18068 non-null  int64         \n",
      " 11  subscription_fee   18068 non-null  int64         \n",
      "dtypes: datetime64[ns](1), float64(2), int64(6), object(3)\n",
      "memory usage: 1.8+ MB\n"
     ]
    },
    {
     "data": {
      "text/plain": [
       "None"
      ]
     },
     "metadata": {},
     "output_type": "display_data"
    },
    {
     "data": {
      "text/plain": [
       "user_id              0\n",
       "name                 0\n",
       "age                  0\n",
       "city                 0\n",
       "subscription_type    0\n",
       "distance             0\n",
       "duration             0\n",
       "date                 0\n",
       "month                0\n",
       "minute_price         0\n",
       "start_ride_price     0\n",
       "subscription_fee     0\n",
       "dtype: int64"
      ]
     },
     "metadata": {},
     "output_type": "display_data"
    },
    {
     "data": {
      "text/plain": [
       "18068"
      ]
     },
     "metadata": {},
     "output_type": "display_data"
    }
   ],
   "source": [
    "#проверим не потерялись ли данные при объединении таблиц\n",
    "display(df.info())\n",
    "display(df.isna().sum())\n",
    "display(len(df))"
   ]
  },
  {
   "cell_type": "code",
   "execution_count": 18,
   "id": "e792f790",
   "metadata": {},
   "outputs": [
    {
     "name": "stdout",
     "output_type": "stream",
     "text": [
      "<class 'pandas.core.frame.DataFrame'>\n",
      "Int64Index: 11568 entries, 6500 to 18067\n",
      "Data columns (total 12 columns):\n",
      " #   Column             Non-Null Count  Dtype         \n",
      "---  ------             --------------  -----         \n",
      " 0   user_id            11568 non-null  int64         \n",
      " 1   name               11568 non-null  object        \n",
      " 2   age                11568 non-null  int64         \n",
      " 3   city               11568 non-null  object        \n",
      " 4   subscription_type  11568 non-null  object        \n",
      " 5   distance           11568 non-null  float64       \n",
      " 6   duration           11568 non-null  float64       \n",
      " 7   date               11568 non-null  datetime64[ns]\n",
      " 8   month              11568 non-null  int64         \n",
      " 9   minute_price       11568 non-null  int64         \n",
      " 10  start_ride_price   11568 non-null  int64         \n",
      " 11  subscription_fee   11568 non-null  int64         \n",
      "dtypes: datetime64[ns](1), float64(2), int64(6), object(3)\n",
      "memory usage: 1.1+ MB\n"
     ]
    },
    {
     "data": {
      "text/plain": [
       "None"
      ]
     },
     "metadata": {},
     "output_type": "display_data"
    },
    {
     "data": {
      "text/plain": [
       "user_id              0\n",
       "name                 0\n",
       "age                  0\n",
       "city                 0\n",
       "subscription_type    0\n",
       "distance             0\n",
       "duration             0\n",
       "date                 0\n",
       "month                0\n",
       "minute_price         0\n",
       "start_ride_price     0\n",
       "subscription_fee     0\n",
       "dtype: int64"
      ]
     },
     "metadata": {},
     "output_type": "display_data"
    },
    {
     "data": {
      "text/plain": [
       "11568"
      ]
     },
     "metadata": {},
     "output_type": "display_data"
    }
   ],
   "source": [
    "#проверим не потерялись ли данные при разделении таблиц\n",
    "display(free_subs.info())\n",
    "display(free_subs.isna().sum())\n",
    "display(len(free_subs))\n"
   ]
  },
  {
   "cell_type": "code",
   "execution_count": 19,
   "id": "7e339b47",
   "metadata": {},
   "outputs": [
    {
     "name": "stdout",
     "output_type": "stream",
     "text": [
      "<class 'pandas.core.frame.DataFrame'>\n",
      "Int64Index: 6500 entries, 0 to 6499\n",
      "Data columns (total 12 columns):\n",
      " #   Column             Non-Null Count  Dtype         \n",
      "---  ------             --------------  -----         \n",
      " 0   user_id            6500 non-null   int64         \n",
      " 1   name               6500 non-null   object        \n",
      " 2   age                6500 non-null   int64         \n",
      " 3   city               6500 non-null   object        \n",
      " 4   subscription_type  6500 non-null   object        \n",
      " 5   distance           6500 non-null   float64       \n",
      " 6   duration           6500 non-null   float64       \n",
      " 7   date               6500 non-null   datetime64[ns]\n",
      " 8   month              6500 non-null   int64         \n",
      " 9   minute_price       6500 non-null   int64         \n",
      " 10  start_ride_price   6500 non-null   int64         \n",
      " 11  subscription_fee   6500 non-null   int64         \n",
      "dtypes: datetime64[ns](1), float64(2), int64(6), object(3)\n",
      "memory usage: 660.2+ KB\n"
     ]
    },
    {
     "data": {
      "text/plain": [
       "None"
      ]
     },
     "metadata": {},
     "output_type": "display_data"
    },
    {
     "data": {
      "text/plain": [
       "user_id              0\n",
       "name                 0\n",
       "age                  0\n",
       "city                 0\n",
       "subscription_type    0\n",
       "distance             0\n",
       "duration             0\n",
       "date                 0\n",
       "month                0\n",
       "minute_price         0\n",
       "start_ride_price     0\n",
       "subscription_fee     0\n",
       "dtype: int64"
      ]
     },
     "metadata": {},
     "output_type": "display_data"
    },
    {
     "data": {
      "text/plain": [
       "6500"
      ]
     },
     "metadata": {},
     "output_type": "display_data"
    }
   ],
   "source": [
    "display(ultra_subs.info())\n",
    "display(ultra_subs.isna().sum())\n",
    "display(len(ultra_subs))\n"
   ]
  },
  {
   "cell_type": "code",
   "execution_count": 20,
   "id": "ecb90bb5",
   "metadata": {},
   "outputs": [
    {
     "data": {
      "text/plain": [
       "True"
      ]
     },
     "metadata": {},
     "output_type": "display_data"
    }
   ],
   "source": [
    "display(len(free_subs)+len(ultra_subs) == len(df))"
   ]
  },
  {
   "cell_type": "markdown",
   "id": "e3ee717e",
   "metadata": {},
   "source": [
    "Проверили данные и убедились, что пропуски не появились, а сумма длин 2 новых датафреймов, равна длине изначального датафрейма"
   ]
  },
  {
   "cell_type": "code",
   "execution_count": 21,
   "id": "79ff5923",
   "metadata": {},
   "outputs": [
    {
     "data": {
      "image/png": "[encoded data removed]",
      "text/plain": [
       "<Figure size 432x288 with 1 Axes>"
      ]
     },
     "metadata": {
      "needs_background": "light"
     },
     "output_type": "display_data"
    },
    {
     "data": {
      "text/plain": [
       "<Figure size 2160x1440 with 0 Axes>"
      ]
     },
     "metadata": {},
     "output_type": "display_data"
    }
   ],
   "source": [
    "plt.hist(free_subs['distance'], bins=40)\n",
    "plt.xlabel('Расстояние')\n",
    "plt.ylabel('Количество поездок')\n",
    "plt.grid()\n",
    "plt.title('Расстояние, которое проехали пользователи с бесплатной подпиской')\n",
    "plt.figure(figsize=(30,20))\n",
    "plt.show()#график с расстоянием по бесплатным подпискам"
   ]
  },
  {
   "cell_type": "code",
   "execution_count": 22,
   "id": "02dcf7d6",
   "metadata": {},
   "outputs": [
    {
     "data": {
      "image/png": "[encoded data removed]",
      "text/plain": [
       "<Figure size 432x288 with 1 Axes>"
      ]
     },
     "metadata": {
      "needs_background": "light"
     },
     "output_type": "display_data"
    },
    {
     "data": {
      "text/plain": [
       "<Figure size 1440x1440 with 0 Axes>"
      ]
     },
     "metadata": {},
     "output_type": "display_data"
    }
   ],
   "source": [
    "plt.hist(free_subs['duration'], bins=40)\n",
    "plt.xlabel('Длительность')\n",
    "plt.ylabel('Количество поездок')\n",
    "plt.grid()\n",
    "plt.title('Время, в течение которого катаются пользователи с бесплатной подпиской')\n",
    "plt.figure(figsize=(20,20))\n",
    "plt.show()#график с временем по бесплатным подпискам"
   ]
  },
  {
   "cell_type": "code",
   "execution_count": 23,
   "id": "a6d98bbd",
   "metadata": {},
   "outputs": [
    {
     "data": {
      "image/png": "[encoded data removed]",
      "text/plain": [
       "<Figure size 432x288 with 1 Axes>"
      ]
     },
     "metadata": {
      "needs_background": "light"
     },
     "output_type": "display_data"
    },
    {
     "data": {
      "text/plain": [
       "<Figure size 1440x1440 with 0 Axes>"
      ]
     },
     "metadata": {},
     "output_type": "display_data"
    }
   ],
   "source": [
    "plt.hist(ultra_subs['distance'], bins=40)\n",
    "plt.xlabel('Расстояние')\n",
    "plt.ylabel('Количество поездок')\n",
    "plt.grid()\n",
    "plt.title('Расстояние, которое проехали пользователи с платной подпиской')\n",
    "plt.figure(figsize=(20,20))\n",
    "plt.show()#график с расстоянием по платным подпискам"
   ]
  },
  {
   "cell_type": "code",
   "execution_count": 24,
   "id": "d4207ddc",
   "metadata": {},
   "outputs": [
    {
     "data": {
      "image/png": "[encoded data removed]",
      "text/plain": [
       "<Figure size 432x288 with 1 Axes>"
      ]
     },
     "metadata": {
      "needs_background": "light"
     },
     "output_type": "display_data"
    },
    {
     "data": {
      "text/plain": [
       "<Figure size 1440x1440 with 0 Axes>"
      ]
     },
     "metadata": {},
     "output_type": "display_data"
    }
   ],
   "source": [
    "plt.hist(ultra_subs['duration'], bins=40)\n",
    "plt.xlabel('Длительность')\n",
    "plt.ylabel('Количество поездок')\n",
    "plt.grid()\n",
    "plt.title('Время, в течение которого катаются пользователи с платной подпиской')\n",
    "plt.figure(figsize=(20,20))\n",
    "plt.show()#график с временем по платным подпискам"
   ]
  },
  {
   "cell_type": "code",
   "execution_count": 25,
   "id": "fee5d05d",
   "metadata": {},
   "outputs": [
    {
     "name": "stdout",
     "output_type": "stream",
     "text": [
      "count    11568.000000\n",
      "mean        17.390909\n",
      "std          6.326803\n",
      "min          0.500000\n",
      "25%         12.958437\n",
      "50%         17.326890\n",
      "75%         21.594071\n",
      "max         34.948498\n",
      "Name: duration, dtype: float64\n",
      "\n",
      "count    6500.000000\n",
      "mean       18.541985\n",
      "std         5.572048\n",
      "min         3.760353\n",
      "25%        14.524654\n",
      "50%        18.178153\n",
      "75%        21.884129\n",
      "max        40.823963\n",
      "Name: duration, dtype: float64\n"
     ]
    }
   ],
   "source": [
    "print(free_subs['duration'].describe())\n",
    "print()\n",
    "print(ultra_subs['duration'].describe())"
   ]
  },
  {
   "cell_type": "markdown",
   "id": "ca69602e",
   "metadata": {},
   "source": [
    "Вывод\n",
    "Объединили данные из 3 таблиц в 1 и создали 2 новые таблицы для пользователей с платной и бесплатной подпиской\n",
    "\n",
    "Пользователи с бесплатным тарифом проезжают расстояние в основном от 2 до 4,5 км, но существуют и такие, которые катаются на 6км+. Время поездок в основном составляет от 12 до 23 минуты\n",
    "\n",
    "Пользователи с платным тарифом проезжают в основном от 2,5 до 3,5 км,с длительностью от 13 минут до 20 минут\n",
    "\n",
    "Можно сказать, что пользователи с бесплатным тарифом ездят на большее расстояние, но, судя по медиане, катаются меньше, чем пользователи с платной подпиской"
   ]
  },
  {
   "cell_type": "markdown",
   "id": "402d620f",
   "metadata": {},
   "source": [
    "#### Шаг 5. Подсчёт выручки"
   ]
  },
  {
   "cell_type": "code",
   "execution_count": 26,
   "id": "53049e0a",
   "metadata": {},
   "outputs": [
    {
     "name": "stdout",
     "output_type": "stream",
     "text": [
      "               trips      distance  duration  minute_price  start_ride_price  \\\n",
      "user_id month                                                                  \n",
      "1       1          2   7027.511294      42.0           6.0               0.0   \n",
      "        4          1    754.159807       7.0           6.0               0.0   \n",
      "        8          2   6723.470560      46.0           6.0               0.0   \n",
      "        10         2   5809.911100      32.0           6.0               0.0   \n",
      "        11         3   7003.499363      56.0           6.0               0.0   \n",
      "...              ...           ...       ...           ...               ...   \n",
      "1534    6          2   3409.468534      26.0           8.0              50.0   \n",
      "        8          2   7622.453034      48.0           8.0              50.0   \n",
      "        9          1   4928.173852      23.0           8.0              50.0   \n",
      "        11         4  13350.015305      78.0           8.0              50.0   \n",
      "        12         1   2371.711192      16.0           8.0              50.0   \n",
      "\n",
      "               subscription_fee  \n",
      "user_id month                    \n",
      "1       1                 199.0  \n",
      "        4                 199.0  \n",
      "        8                 199.0  \n",
      "        10                199.0  \n",
      "        11                199.0  \n",
      "...                         ...  \n",
      "1534    6                   0.0  \n",
      "        8                   0.0  \n",
      "        9                   0.0  \n",
      "        11                  0.0  \n",
      "        12                  0.0  \n",
      "\n",
      "[11331 rows x 6 columns]\n"
     ]
    }
   ],
   "source": [
    "df['duration'] = np.ceil(df['duration']) \n",
    "total_df = df.pivot_table(index = ('user_id', 'month'), values = (\n",
    "                           'distance', \n",
    "                           'duration', \n",
    "                           'minute_price', \n",
    "                           'start_ride_price', \n",
    "                           'subscription_fee'), aggfunc = {'count', 'sum'})\n",
    "total_df.columns = [\n",
    "    'trips', 'distance', \n",
    "    'c1', 'duration', \n",
    "    'c2', 'minute_price',\n",
    "    'c3', 'start_ride_price', \n",
    "    'c4', 'subscription_fee'] #изменил столбцы на 1-4, чтобы потом их удалить и избавиться от кривого отображения таблицы\n",
    "total_df = total_df.drop(['c1','c2','c3','c4'], axis = 1)#удалил вспомогательные столбцы\n",
    "#print(total_df)\n",
    "#в столбце стоимость начала поездки указана сумма, меняем на стоимость начала 1 поездки\n",
    "total_df['start_ride_price'] = total_df['start_ride_price']/total_df['trips']\n",
    "#аналогично поступаем со стоимостью ежемесячного платежа\n",
    "total_df['subscription_fee'] = total_df['subscription_fee']/total_df['trips']\n",
    "#и со стоимостью одной минуты поездки поступаем также\n",
    "total_df['minute_price'] = total_df['minute_price']/total_df['trips']\n",
    "\n",
    "print(total_df)"
   ]
  },
  {
   "cell_type": "code",
   "execution_count": 27,
   "id": "2316501b",
   "metadata": {},
   "outputs": [
    {
     "name": "stdout",
     "output_type": "stream",
     "text": [
      "               trips      distance  duration  minute_price  start_ride_price  \\\n",
      "user_id month                                                                  \n",
      "1       1          2   7027.511294      42.0           6.0               0.0   \n",
      "        4          1    754.159807       7.0           6.0               0.0   \n",
      "        8          2   6723.470560      46.0           6.0               0.0   \n",
      "        10         2   5809.911100      32.0           6.0               0.0   \n",
      "        11         3   7003.499363      56.0           6.0               0.0   \n",
      "...              ...           ...       ...           ...               ...   \n",
      "1534    6          2   3409.468534      26.0           8.0              50.0   \n",
      "        8          2   7622.453034      48.0           8.0              50.0   \n",
      "        9          1   4928.173852      23.0           8.0              50.0   \n",
      "        11         4  13350.015305      78.0           8.0              50.0   \n",
      "        12         1   2371.711192      16.0           8.0              50.0   \n",
      "\n",
      "               subscription_fee  revenue  \n",
      "user_id month                             \n",
      "1       1                 199.0    451.0  \n",
      "        4                 199.0    241.0  \n",
      "        8                 199.0    475.0  \n",
      "        10                199.0    391.0  \n",
      "        11                199.0    535.0  \n",
      "...                         ...      ...  \n",
      "1534    6                   0.0    308.0  \n",
      "        8                   0.0    484.0  \n",
      "        9                   0.0    234.0  \n",
      "        11                  0.0    824.0  \n",
      "        12                  0.0    178.0  \n",
      "\n",
      "[11331 rows x 7 columns]\n"
     ]
    }
   ],
   "source": [
    "#рассчитываем выручку\n",
    "total_df['revenue'] = (\n",
    "    (total_df['start_ride_price'] * total_df['trips']) \n",
    "    + (total_df['minute_price'] * total_df['duration']) \n",
    "    + total_df['subscription_fee'])\n",
    "print(total_df)\n"
   ]
  },
  {
   "cell_type": "code",
   "execution_count": 28,
   "id": "cf0dc772",
   "metadata": {},
   "outputs": [
    {
     "data": {
      "text/plain": [
       "subscription_fee\n",
       "0.0      328.641365\n",
       "199.0    362.792191\n",
       "Name: revenue, dtype: float64"
      ]
     },
     "execution_count": 28,
     "metadata": {},
     "output_type": "execute_result"
    }
   ],
   "source": [
    "# Код ревьюера\n",
    "total_df.groupby('subscription_fee')['revenue'].mean()"
   ]
  },
  {
   "cell_type": "markdown",
   "id": "41545ac0",
   "metadata": {},
   "source": [
    "#### Шаг 6. Проверка гипотез"
   ]
  },
  {
   "cell_type": "markdown",
   "id": "52722ac3",
   "metadata": {},
   "source": [
    "Важно понять, тратят ли пользователи с подпиской больше времени на поездки? Если да, то пользователи с подпиской могут быть «выгоднее» для компании. Проверьте гипотезу. Используйте исходные данные о продолжительности каждой сессии — отдельно для подписчиков и тех, у кого нет подписки.\n",
    "\n",
    "Н0 - время поездки у пользователей с подпиской (True в столбце subscription_type) равно времени поездки у пользователей без подписки\n",
    "\n",
    "Н1 - время поездки у пользователей с подпиской (True) больше времени поездки у пользователей без подписки"
   ]
  },
  {
   "cell_type": "code",
   "execution_count": 29,
   "id": "d8807e4a",
   "metadata": {},
   "outputs": [
    {
     "data": {
      "text/plain": [
       "11568"
      ]
     },
     "execution_count": 29,
     "metadata": {},
     "output_type": "execute_result"
    }
   ],
   "source": [
    "len(free_subs['duration'])"
   ]
  },
  {
   "cell_type": "code",
   "execution_count": 30,
   "id": "ab0b9623",
   "metadata": {},
   "outputs": [
    {
     "data": {
      "text/plain": [
       "6500"
      ]
     },
     "execution_count": 30,
     "metadata": {},
     "output_type": "execute_result"
    }
   ],
   "source": [
    "len(ultra_subs['duration'])"
   ]
  },
  {
   "cell_type": "code",
   "execution_count": 31,
   "id": "23ea867b",
   "metadata": {},
   "outputs": [
    {
     "name": "stdout",
     "output_type": "stream",
     "text": [
      "1.2804098316645618e-34\n",
      "Отвергаем нулевую гипотезу\n"
     ]
    }
   ],
   "source": [
    "alpha = .05\n",
    "\n",
    "results = st.ttest_ind(ultra_subs['duration'], \n",
    "                       free_subs['duration'],\n",
    "                       alternative = 'greater')\n",
    "\n",
    "print(results.pvalue)\n",
    "\n",
    "if results.pvalue < alpha:\n",
    "    print('Отвергаем нулевую гипотезу')\n",
    "else:\n",
    "    print('Не удалось отвергнуть нулевую гипотезу')"
   ]
  },
  {
   "cell_type": "markdown",
   "id": "2d52740a",
   "metadata": {},
   "source": [
    "Мы проверили гипотезу, заключающуюся в том, что время поездки у пользователей с подпиской равно времени поездки у пользователей без нее и отвергли ее"
   ]
  },
  {
   "cell_type": "code",
   "execution_count": 33,
   "id": "29e661bf",
   "metadata": {},
   "outputs": [
    {
     "name": "stdout",
     "output_type": "stream",
     "text": [
      "0.9195368847849785\n",
      "Не удалось отвергнуть нулевую гипотезу\n"
     ]
    }
   ],
   "source": [
    "#Н0 - Пользователи с подпиской проезжают расстояние равное 3130 метрам\n",
    "#Н1 - Пользователи с подпиской проезжают расстояние больше 3130 метров\n",
    "\n",
    "alpha = .05\n",
    "\n",
    "results = st.ttest_1samp(\n",
    "    ultra_subs['distance'], \n",
    "    3130,\n",
    "    alternative='greater')\n",
    "    \n",
    "print(results.pvalue)\n",
    "\n",
    "if (results.pvalue < alpha):\n",
    "    print('Отвергаем нулевую гипотезу')\n",
    "else:\n",
    "    print('Не удалось отвергнуть нулевую гипотезу')"
   ]
  },
  {
   "cell_type": "markdown",
   "id": "a191af86",
   "metadata": {},
   "source": [
    "Мы проверили гипотезу и не можем утверждать, что расстояние, которое проезжают пользователи с подпиской меньше 3130 метров. \n",
    "\n",
    "Это свидетельсвует о том, что самокат изнашивется в большей мере."
   ]
  },
  {
   "cell_type": "code",
   "execution_count": 34,
   "id": "68ab7997",
   "metadata": {},
   "outputs": [
    {
     "name": "stdout",
     "output_type": "stream",
     "text": [
      "1.8850394384715216e-31\n",
      "Отвергаем нулевую гипотезу\n"
     ]
    }
   ],
   "source": [
    "#Н0 - выручка от пользователей с подпсикой равна выручке от пользователей без подписки\n",
    "#Н1 - выручка от пользователей с подпсикой больше выручки от пользователей без подписки\n",
    "\n",
    "ultra_per_mnth = total_df.loc[total_df.subscription_fee  > 0, 'revenue'] \n",
    "\n",
    "free_per_mnth = total_df.loc[total_df.subscription_fee  == 0 , 'revenue'] \n",
    "\n",
    "\n",
    "results = st.ttest_ind(ultra_per_mnth, \n",
    "                       free_per_mnth,\n",
    "                       alternative = 'greater')\n",
    "\n",
    "alpha = .05\n",
    "\n",
    "print(results.pvalue)\n",
    "\n",
    "if results.pvalue < alpha:\n",
    "    print('Отвергаем нулевую гипотезу')\n",
    "else:\n",
    "    print('Не удалось отвергнуть нулевую гипотезу')"
   ]
  },
  {
   "cell_type": "markdown",
   "id": "bc725848",
   "metadata": {},
   "source": [
    "Проверили гипотезу и отвергли нулвеую гипотезу о том, что выручка от пользователей с подпиской равна выручке от пользователей без подписки.\n",
    "Значит, что логично, выручка от пользователей с подпиской выше, чем выручка от пользователей без нее"
   ]
  },
  {
   "cell_type": "markdown",
   "id": "273b891e",
   "metadata": {},
   "source": [
    "Для проверки гипотезы из пункта 6.4 стоит воспользоваться способом st.ttest_rel(), тк это 2 зависимых выборки.\n",
    "Гипотезы будут выглядеть так:\n",
    "\n",
    "Н0:  μ0 = μ1\n",
    "\n",
    "Н1:  μ0 != μ1"
   ]
  },
  {
   "cell_type": "markdown",
   "id": "26f0ac25",
   "metadata": {},
   "source": [
    "Общий вывод\n",
    "После загрузки данных и их изучения, изменил формат данных для даты в таблице riders_df,удалил повторяющиеся значения в таблице users_df, а также добавил столбец с номером месяца.\n",
    "\n",
    "Был проведен исследовательский анализ данных, в ходе которого было выяснено, что услугами сервиса пользуются жители 8 городов, самый популярный - Пятигорск, наименее популярный - Москва. Большинство пользователей (54%) пользуются подпиской типа free. Услугами пользуются люди в возрасте от 12 до 43 лет, а наиболее популярен серверис среди пользователей в возрасте 25 лет. В среднем люди проезжают от 2,5 до 4км, наименьшей дистанцией поездки был 1 метр, а наибольшей 7,21 км . Длительность поездки в среднем составляет от 13 до 23 минут, самая долгая поездка длилась 40,82 минут, а самая короткая завершилась за пол минуты.\n",
    "\n",
    "Объединили данные из всех таблиц в одну общую таблицу и создали еще 2 таблицы c данными о пользователях без подписки и о пользователях с подпиской, затем визуализировали информацию о расстоянии и времени поездок обеих категорией пользователей\n",
    "\n",
    "Нашли суммарное расстояние, количество поездок и суммарное время для каждого пользователя за каждый месяц, вывели это все в новую таблицу и посчитали выручку.\n",
    "\n",
    "Проверили гипотезы:\n",
    "\n",
    "Пользователи с подпиской тратят больше времени на поездки, чем пользователи на бесплатном тарифе\n",
    "Отвергли нулевую гипотезу, (Н0 - время поездки у пользователей с подпиской (True в столбце subscription_type) равно времени поездки у пользователей без подписки)\n",
    "\n",
    "Среднее расстояние, которое проезжают пользователи с подпиской за одну поездку, не превышает 3130 метров\n",
    "Не удалось отвергнуть нулевую гипотезу (Пользователи с подпиской проезжают расстояние равное 3130 метрам)\n",
    "\n",
    "Помесячная выручка от пользователей с подпиской выше, чем выручка от пользователей без подписки\n",
    "Отвергли нулевую гипотезу (выручка от пользователей с подпсикой равна выручке от пользователей без подписки)\n",
    "\n",
    "Пользователи с подпиской являются более выгодными для компании, потому что они тратят на поездки бОльшее количество времени и соответсвенно приносят больше прибыли, однако не стоит забывать, что они проезжают и большее расстояние, что способсвтует физическому износу самокатов. По моему мнению пользователи с подпиской выгоднее, но стоит рассмотреть насколько сильно изнашиваются самокаты, если СПИ самокатов не сильно большой и износ не приводит к полной неработоспособности самокатов до окончания этого срока, то подписчики, очевидно выгоднее, если все же приводит, то нужно пересматривать стоимость поездок и подписок."
   ]
  }
 ],
 "metadata": {
  "ExecuteTimeLog": [
   {
    "duration": 50,
    "start_time": "2024-02-08T18:43:41.278Z"
   },
   {
    "duration": 6,
    "start_time": "2024-02-08T18:43:43.852Z"
   },
   {
    "duration": 395,
    "start_time": "2024-02-08T18:43:56.457Z"
   },
   {
    "duration": 77,
    "start_time": "2024-02-08T18:44:26.442Z"
   },
   {
    "duration": 189,
    "start_time": "2024-02-08T18:44:40.303Z"
   },
   {
    "duration": 76,
    "start_time": "2024-02-08T18:45:04.432Z"
   },
   {
    "duration": 73,
    "start_time": "2024-02-08T18:45:42.832Z"
   },
   {
    "duration": 95,
    "start_time": "2024-02-08T18:46:14.380Z"
   },
   {
    "duration": 10,
    "start_time": "2024-02-08T18:46:54.113Z"
   },
   {
    "duration": 83,
    "start_time": "2024-02-08T18:46:59.599Z"
   },
   {
    "duration": 26,
    "start_time": "2024-02-08T18:47:17.380Z"
   },
   {
    "duration": 25,
    "start_time": "2024-02-08T18:49:55.099Z"
   },
   {
    "duration": 73,
    "start_time": "2024-02-08T18:50:16.975Z"
   },
   {
    "duration": 24,
    "start_time": "2024-02-08T18:50:18.321Z"
   },
   {
    "duration": 1337,
    "start_time": "2024-02-08T18:50:32.829Z"
   },
   {
    "duration": 807,
    "start_time": "2024-02-08T18:50:47.581Z"
   },
   {
    "duration": 53,
    "start_time": "2024-02-09T15:16:12.750Z"
   },
   {
    "duration": 416,
    "start_time": "2024-02-09T15:16:18.772Z"
   },
   {
    "duration": 312,
    "start_time": "2024-02-09T15:16:20.261Z"
   },
   {
    "duration": 1287,
    "start_time": "2024-02-09T15:16:24.430Z"
   },
   {
    "duration": 6,
    "start_time": "2024-02-09T15:16:30.584Z"
   },
   {
    "duration": 10,
    "start_time": "2024-02-09T15:17:12.054Z"
   },
   {
    "duration": 39,
    "start_time": "2024-02-09T15:20:08.271Z"
   },
   {
    "duration": 4,
    "start_time": "2024-02-09T15:28:21.060Z"
   },
   {
    "duration": 102,
    "start_time": "2024-02-09T15:28:54.274Z"
   },
   {
    "duration": 5,
    "start_time": "2024-02-09T15:29:04.107Z"
   },
   {
    "duration": 3,
    "start_time": "2024-02-09T15:29:18.944Z"
   },
   {
    "duration": 5,
    "start_time": "2024-02-09T15:32:02.828Z"
   },
   {
    "duration": 5,
    "start_time": "2024-02-09T15:35:01.110Z"
   },
   {
    "duration": 40,
    "start_time": "2024-02-09T15:38:20.380Z"
   },
   {
    "duration": 5,
    "start_time": "2024-02-09T15:40:04.971Z"
   },
   {
    "duration": 3,
    "start_time": "2024-02-09T15:40:51.589Z"
   },
   {
    "duration": 3,
    "start_time": "2024-02-09T15:41:04.658Z"
   },
   {
    "duration": 8,
    "start_time": "2024-02-09T15:45:40.259Z"
   },
   {
    "duration": 13,
    "start_time": "2024-02-09T15:48:13.571Z"
   },
   {
    "duration": 16,
    "start_time": "2024-02-09T15:48:53.170Z"
   },
   {
    "duration": 18,
    "start_time": "2024-02-09T15:49:38.456Z"
   },
   {
    "duration": 18,
    "start_time": "2024-02-09T15:49:45.487Z"
   },
   {
    "duration": 15,
    "start_time": "2024-02-09T15:50:26.213Z"
   },
   {
    "duration": 1130,
    "start_time": "2024-02-09T15:52:49.730Z"
   },
   {
    "duration": 21,
    "start_time": "2024-02-09T15:52:57.587Z"
   },
   {
    "duration": 25,
    "start_time": "2024-02-09T15:53:09.436Z"
   },
   {
    "duration": 88,
    "start_time": "2024-02-09T15:53:51.252Z"
   },
   {
    "duration": 6,
    "start_time": "2024-02-09T15:54:21.591Z"
   },
   {
    "duration": 9,
    "start_time": "2024-02-09T16:00:37.187Z"
   },
   {
    "duration": 6,
    "start_time": "2024-02-09T16:00:42.273Z"
   },
   {
    "duration": 8,
    "start_time": "2024-02-09T16:02:12.267Z"
   },
   {
    "duration": 6,
    "start_time": "2024-02-09T16:03:25.896Z"
   },
   {
    "duration": 7,
    "start_time": "2024-02-09T16:03:50.223Z"
   },
   {
    "duration": 7,
    "start_time": "2024-02-09T16:03:59.946Z"
   },
   {
    "duration": 9,
    "start_time": "2024-02-09T16:04:35.432Z"
   },
   {
    "duration": 429,
    "start_time": "2024-02-09T16:05:08.356Z"
   },
   {
    "duration": 79,
    "start_time": "2024-02-09T16:05:10.121Z"
   },
   {
    "duration": 25,
    "start_time": "2024-02-09T16:05:14.193Z"
   },
   {
    "duration": 1051,
    "start_time": "2024-02-09T16:05:15.156Z"
   },
   {
    "duration": 95,
    "start_time": "2024-02-09T16:05:19.981Z"
   },
   {
    "duration": 10,
    "start_time": "2024-02-09T16:05:23.958Z"
   },
   {
    "duration": 6,
    "start_time": "2024-02-09T16:06:00.461Z"
   },
   {
    "duration": 20,
    "start_time": "2024-02-09T16:06:10.582Z"
   },
   {
    "duration": 9,
    "start_time": "2024-02-09T16:06:46.822Z"
   },
   {
    "duration": 10,
    "start_time": "2024-02-09T16:07:02.617Z"
   },
   {
    "duration": 23,
    "start_time": "2024-02-09T16:08:57.242Z"
   },
   {
    "duration": 23,
    "start_time": "2024-02-09T16:09:02.146Z"
   },
   {
    "duration": 33,
    "start_time": "2024-02-09T16:17:39.468Z"
   },
   {
    "duration": 11,
    "start_time": "2024-02-09T16:17:50.124Z"
   },
   {
    "duration": 106,
    "start_time": "2024-02-09T16:17:57.020Z"
   },
   {
    "duration": 5,
    "start_time": "2024-02-09T16:19:12.572Z"
   },
   {
    "duration": 10,
    "start_time": "2024-02-09T16:20:13.047Z"
   },
   {
    "duration": 7,
    "start_time": "2024-02-09T16:20:27.104Z"
   },
   {
    "duration": 13,
    "start_time": "2024-02-09T16:20:47.700Z"
   },
   {
    "duration": 11,
    "start_time": "2024-02-09T16:21:41.391Z"
   },
   {
    "duration": 13,
    "start_time": "2024-02-09T16:21:49.952Z"
   },
   {
    "duration": 412,
    "start_time": "2024-02-09T16:22:01.472Z"
   },
   {
    "duration": 79,
    "start_time": "2024-02-09T16:22:03.131Z"
   },
   {
    "duration": 26,
    "start_time": "2024-02-09T16:22:03.873Z"
   },
   {
    "duration": 1053,
    "start_time": "2024-02-09T16:22:04.389Z"
   },
   {
    "duration": 94,
    "start_time": "2024-02-09T16:22:08.020Z"
   },
   {
    "duration": 11,
    "start_time": "2024-02-09T16:22:09.179Z"
   },
   {
    "duration": 4,
    "start_time": "2024-02-09T16:22:11.221Z"
   },
   {
    "duration": 18,
    "start_time": "2024-02-09T16:22:12.548Z"
   },
   {
    "duration": 23,
    "start_time": "2024-02-09T16:22:15.259Z"
   },
   {
    "duration": 12,
    "start_time": "2024-02-09T16:23:02.947Z"
   },
   {
    "duration": 13,
    "start_time": "2024-02-09T16:23:12.442Z"
   },
   {
    "duration": 416,
    "start_time": "2024-02-09T16:23:45.874Z"
   },
   {
    "duration": 78,
    "start_time": "2024-02-09T16:23:46.830Z"
   },
   {
    "duration": 26,
    "start_time": "2024-02-09T16:23:47.378Z"
   },
   {
    "duration": 1058,
    "start_time": "2024-02-09T16:23:48.018Z"
   },
   {
    "duration": 104,
    "start_time": "2024-02-09T16:23:49.078Z"
   },
   {
    "duration": 11,
    "start_time": "2024-02-09T16:23:49.299Z"
   },
   {
    "duration": 4,
    "start_time": "2024-02-09T16:23:49.720Z"
   },
   {
    "duration": 17,
    "start_time": "2024-02-09T16:23:50.419Z"
   },
   {
    "duration": 13,
    "start_time": "2024-02-09T16:23:53.709Z"
   },
   {
    "duration": 146,
    "start_time": "2024-02-09T16:27:33.900Z"
   },
   {
    "duration": 118,
    "start_time": "2024-02-09T16:27:45.340Z"
   },
   {
    "duration": 135,
    "start_time": "2024-02-09T16:27:56.108Z"
   },
   {
    "duration": 437,
    "start_time": "2024-02-09T16:32:28.430Z"
   },
   {
    "duration": 124,
    "start_time": "2024-02-09T16:32:50.599Z"
   },
   {
    "duration": 357,
    "start_time": "2024-02-09T16:32:54.872Z"
   },
   {
    "duration": 146,
    "start_time": "2024-02-09T16:34:08.294Z"
   },
   {
    "duration": 151,
    "start_time": "2024-02-09T16:37:53.869Z"
   },
   {
    "duration": 145,
    "start_time": "2024-02-09T16:38:05.221Z"
   },
   {
    "duration": 153,
    "start_time": "2024-02-09T16:38:22.347Z"
   },
   {
    "duration": 145,
    "start_time": "2024-02-09T16:42:46.538Z"
   },
   {
    "duration": 229,
    "start_time": "2024-02-09T16:42:57.993Z"
   },
   {
    "duration": 100,
    "start_time": "2024-02-09T16:48:53.710Z"
   },
   {
    "duration": 229,
    "start_time": "2024-02-09T16:49:23.615Z"
   },
   {
    "duration": 151,
    "start_time": "2024-02-09T16:49:36.524Z"
   },
   {
    "duration": 149,
    "start_time": "2024-02-09T16:49:58.402Z"
   },
   {
    "duration": 143,
    "start_time": "2024-02-09T16:50:34.944Z"
   },
   {
    "duration": 1248,
    "start_time": "2024-02-09T16:51:06.570Z"
   },
   {
    "duration": 132,
    "start_time": "2024-02-09T16:54:19.183Z"
   },
   {
    "duration": 85,
    "start_time": "2024-02-10T15:24:43.689Z"
   },
   {
    "duration": 140,
    "start_time": "2024-02-10T15:25:05.999Z"
   },
   {
    "duration": 350,
    "start_time": "2024-02-10T15:25:16.527Z"
   },
   {
    "duration": 390,
    "start_time": "2024-02-10T15:25:21.378Z"
   },
   {
    "duration": 203,
    "start_time": "2024-02-10T15:25:26.263Z"
   },
   {
    "duration": 22,
    "start_time": "2024-02-10T15:25:26.855Z"
   },
   {
    "duration": 1159,
    "start_time": "2024-02-10T15:25:27.283Z"
   },
   {
    "duration": 39,
    "start_time": "2024-02-10T15:25:28.444Z"
   },
   {
    "duration": 10,
    "start_time": "2024-02-10T15:25:28.514Z"
   },
   {
    "duration": 4,
    "start_time": "2024-02-10T15:25:29.204Z"
   },
   {
    "duration": 18,
    "start_time": "2024-02-10T15:25:29.788Z"
   },
   {
    "duration": 90,
    "start_time": "2024-02-10T15:25:31.212Z"
   },
   {
    "duration": 130,
    "start_time": "2024-02-10T15:25:50.099Z"
   },
   {
    "duration": 2,
    "start_time": "2024-02-10T15:26:47.453Z"
   },
   {
    "duration": 65,
    "start_time": "2024-02-10T15:27:16.458Z"
   },
   {
    "duration": 134,
    "start_time": "2024-02-10T15:28:30.096Z"
   },
   {
    "duration": 125,
    "start_time": "2024-02-10T15:28:36.220Z"
   },
   {
    "duration": 3,
    "start_time": "2024-02-10T15:29:18.951Z"
   },
   {
    "duration": 129,
    "start_time": "2024-02-10T15:29:25.091Z"
   },
   {
    "duration": 60,
    "start_time": "2024-02-10T15:29:31.432Z"
   },
   {
    "duration": 123,
    "start_time": "2024-02-10T15:37:09.362Z"
   },
   {
    "duration": 132,
    "start_time": "2024-02-10T15:40:27.061Z"
   },
   {
    "duration": 68,
    "start_time": "2024-02-10T15:42:03.313Z"
   },
   {
    "duration": 68,
    "start_time": "2024-02-10T15:42:08.972Z"
   },
   {
    "duration": 68,
    "start_time": "2024-02-10T15:42:23.901Z"
   },
   {
    "duration": 71,
    "start_time": "2024-02-10T15:43:59.093Z"
   },
   {
    "duration": 73,
    "start_time": "2024-02-10T15:47:06.836Z"
   },
   {
    "duration": 10,
    "start_time": "2024-02-10T15:49:35.546Z"
   },
   {
    "duration": 378,
    "start_time": "2024-02-10T15:50:16.987Z"
   },
   {
    "duration": 6,
    "start_time": "2024-02-10T15:50:54.323Z"
   },
   {
    "duration": 183,
    "start_time": "2024-02-10T15:51:06.291Z"
   },
   {
    "duration": 131,
    "start_time": "2024-02-10T15:51:33.677Z"
   },
   {
    "duration": 118,
    "start_time": "2024-02-10T15:53:22.551Z"
   },
   {
    "duration": 118,
    "start_time": "2024-02-10T15:53:31.668Z"
   },
   {
    "duration": 112,
    "start_time": "2024-02-10T15:53:58.016Z"
   },
   {
    "duration": 114,
    "start_time": "2024-02-10T15:54:14.891Z"
   },
   {
    "duration": 133,
    "start_time": "2024-02-10T15:54:20.196Z"
   },
   {
    "duration": 144,
    "start_time": "2024-02-10T15:54:33.450Z"
   },
   {
    "duration": 128,
    "start_time": "2024-02-10T15:54:43.749Z"
   },
   {
    "duration": 145,
    "start_time": "2024-02-10T15:54:49.472Z"
   },
   {
    "duration": 122,
    "start_time": "2024-02-10T15:54:52.372Z"
   },
   {
    "duration": 220,
    "start_time": "2024-02-10T15:56:48.627Z"
   },
   {
    "duration": 72,
    "start_time": "2024-02-10T16:01:18.706Z"
   },
   {
    "duration": 124,
    "start_time": "2024-02-10T16:03:02.341Z"
   },
   {
    "duration": 158,
    "start_time": "2024-02-10T16:05:34.555Z"
   },
   {
    "duration": 184,
    "start_time": "2024-02-10T16:05:44.003Z"
   },
   {
    "duration": 289,
    "start_time": "2024-02-10T16:05:46.830Z"
   },
   {
    "duration": 245,
    "start_time": "2024-02-10T16:05:50.774Z"
   },
   {
    "duration": 275,
    "start_time": "2024-02-10T16:05:57.497Z"
   },
   {
    "duration": 243,
    "start_time": "2024-02-10T16:07:26.602Z"
   },
   {
    "duration": 218,
    "start_time": "2024-02-10T16:07:48.358Z"
   },
   {
    "duration": 219,
    "start_time": "2024-02-10T16:09:01.120Z"
   },
   {
    "duration": 242,
    "start_time": "2024-02-10T16:09:08.423Z"
   },
   {
    "duration": 213,
    "start_time": "2024-02-10T16:10:23.008Z"
   },
   {
    "duration": 282,
    "start_time": "2024-02-10T16:11:21.477Z"
   },
   {
    "duration": 73,
    "start_time": "2024-02-10T16:12:12.267Z"
   },
   {
    "duration": 72,
    "start_time": "2024-02-10T16:12:17.637Z"
   },
   {
    "duration": 71,
    "start_time": "2024-02-10T16:12:41.478Z"
   },
   {
    "duration": 217,
    "start_time": "2024-02-10T16:12:48.528Z"
   },
   {
    "duration": 218,
    "start_time": "2024-02-10T16:12:53.917Z"
   },
   {
    "duration": 400,
    "start_time": "2024-02-10T16:16:13.033Z"
   },
   {
    "duration": 8,
    "start_time": "2024-02-10T16:26:40.849Z"
   },
   {
    "duration": 13,
    "start_time": "2024-02-10T16:26:49.440Z"
   },
   {
    "duration": 19,
    "start_time": "2024-02-10T16:27:01.728Z"
   },
   {
    "duration": 27,
    "start_time": "2024-02-10T16:34:45.142Z"
   },
   {
    "duration": 81,
    "start_time": "2024-02-10T16:34:56.764Z"
   },
   {
    "duration": 30,
    "start_time": "2024-02-10T16:35:09.336Z"
   },
   {
    "duration": 28,
    "start_time": "2024-02-10T16:35:47.344Z"
   },
   {
    "duration": 39,
    "start_time": "2024-02-10T16:37:58.850Z"
   },
   {
    "duration": 39,
    "start_time": "2024-02-10T16:38:42.074Z"
   },
   {
    "duration": 41,
    "start_time": "2024-02-10T16:39:02.301Z"
   },
   {
    "duration": 25,
    "start_time": "2024-02-10T16:39:37.660Z"
   },
   {
    "duration": 87,
    "start_time": "2024-02-10T16:39:58.647Z"
   },
   {
    "duration": 51,
    "start_time": "2024-02-10T16:40:27.936Z"
   },
   {
    "duration": 24,
    "start_time": "2024-02-10T16:47:42.208Z"
   },
   {
    "duration": 26,
    "start_time": "2024-02-10T16:49:12.404Z"
   },
   {
    "duration": 27,
    "start_time": "2024-02-10T16:49:24.092Z"
   },
   {
    "duration": 28,
    "start_time": "2024-02-10T16:50:17.937Z"
   },
   {
    "duration": 37,
    "start_time": "2024-02-10T16:51:55.701Z"
   },
   {
    "duration": 30,
    "start_time": "2024-02-10T16:52:07.221Z"
   },
   {
    "duration": 34,
    "start_time": "2024-02-10T16:52:13.543Z"
   },
   {
    "duration": 41,
    "start_time": "2024-02-10T16:52:36.306Z"
   },
   {
    "duration": 29,
    "start_time": "2024-02-10T16:52:59.895Z"
   },
   {
    "duration": 43,
    "start_time": "2024-02-10T16:53:19.195Z"
   },
   {
    "duration": 98,
    "start_time": "2024-02-10T16:53:30.984Z"
   },
   {
    "duration": 40,
    "start_time": "2024-02-10T16:53:53.985Z"
   },
   {
    "duration": 86,
    "start_time": "2024-02-10T17:10:30.385Z"
   },
   {
    "duration": 41,
    "start_time": "2024-02-10T17:15:47.026Z"
   },
   {
    "duration": 25,
    "start_time": "2024-02-10T17:16:16.028Z"
   },
   {
    "duration": 20,
    "start_time": "2024-02-10T17:16:17.284Z"
   },
   {
    "duration": 227,
    "start_time": "2024-02-10T17:17:55.479Z"
   },
   {
    "duration": 167,
    "start_time": "2024-02-10T17:18:09.187Z"
   },
   {
    "duration": 170,
    "start_time": "2024-02-10T17:18:15.560Z"
   },
   {
    "duration": 8,
    "start_time": "2024-02-10T17:18:55.845Z"
   },
   {
    "duration": 163,
    "start_time": "2024-02-10T17:19:01.403Z"
   },
   {
    "duration": 172,
    "start_time": "2024-02-10T17:20:30.347Z"
   },
   {
    "duration": 160,
    "start_time": "2024-02-10T17:20:32.439Z"
   },
   {
    "duration": 48,
    "start_time": "2024-02-10T17:29:47.179Z"
   },
   {
    "duration": 46,
    "start_time": "2024-02-10T17:29:57.118Z"
   },
   {
    "duration": 10,
    "start_time": "2024-02-10T17:30:21.814Z"
   },
   {
    "duration": 71,
    "start_time": "2024-02-10T17:43:12.263Z"
   },
   {
    "duration": 67,
    "start_time": "2024-02-10T17:43:19.437Z"
   },
   {
    "duration": 49,
    "start_time": "2024-02-10T17:43:33.041Z"
   },
   {
    "duration": 73,
    "start_time": "2024-02-10T17:44:01.969Z"
   },
   {
    "duration": 46,
    "start_time": "2024-02-10T17:44:08.840Z"
   },
   {
    "duration": 43,
    "start_time": "2024-02-10T17:44:34.781Z"
   },
   {
    "duration": 318,
    "start_time": "2024-02-10T17:45:23.982Z"
   },
   {
    "duration": 43,
    "start_time": "2024-02-10T17:45:48.951Z"
   },
   {
    "duration": 884,
    "start_time": "2024-02-10T17:46:38.941Z"
   },
   {
    "duration": 46,
    "start_time": "2024-02-10T17:47:02.221Z"
   },
   {
    "duration": 47,
    "start_time": "2024-02-10T17:47:10.789Z"
   },
   {
    "duration": 43,
    "start_time": "2024-02-10T17:47:31.674Z"
   },
   {
    "duration": 84,
    "start_time": "2024-02-10T17:49:53.886Z"
   },
   {
    "duration": 45,
    "start_time": "2024-02-10T17:49:59.704Z"
   },
   {
    "duration": 40,
    "start_time": "2024-02-10T17:52:12.810Z"
   },
   {
    "duration": 44,
    "start_time": "2024-02-10T17:52:26.778Z"
   },
   {
    "duration": 51,
    "start_time": "2024-02-10T17:54:23.798Z"
   },
   {
    "duration": 40,
    "start_time": "2024-02-10T17:59:43.363Z"
   },
   {
    "duration": 41,
    "start_time": "2024-02-10T17:59:53.388Z"
   },
   {
    "duration": 45,
    "start_time": "2024-02-10T17:59:59.572Z"
   },
   {
    "duration": 46,
    "start_time": "2024-02-10T18:00:10.699Z"
   },
   {
    "duration": 70,
    "start_time": "2024-02-10T18:00:45.722Z"
   },
   {
    "duration": 114,
    "start_time": "2024-02-10T18:01:30.308Z"
   },
   {
    "duration": 78,
    "start_time": "2024-02-10T18:01:36.667Z"
   },
   {
    "duration": 67,
    "start_time": "2024-02-10T18:01:40.283Z"
   },
   {
    "duration": 69,
    "start_time": "2024-02-10T18:01:48.198Z"
   },
   {
    "duration": 4,
    "start_time": "2024-02-10T18:01:56.061Z"
   },
   {
    "duration": 98,
    "start_time": "2024-02-10T18:02:03.517Z"
   },
   {
    "duration": 68,
    "start_time": "2024-02-10T18:02:18.714Z"
   },
   {
    "duration": 9,
    "start_time": "2024-02-10T18:02:22.802Z"
   },
   {
    "duration": 79,
    "start_time": "2024-02-10T18:03:20.947Z"
   },
   {
    "duration": 5,
    "start_time": "2024-02-10T18:03:27.610Z"
   },
   {
    "duration": 12,
    "start_time": "2024-02-10T18:03:46.164Z"
   },
   {
    "duration": 10,
    "start_time": "2024-02-10T19:26:51.670Z"
   },
   {
    "duration": 419,
    "start_time": "2024-02-10T19:27:28.046Z"
   },
   {
    "duration": 6,
    "start_time": "2024-02-10T19:27:36.454Z"
   },
   {
    "duration": 4,
    "start_time": "2024-02-10T19:36:50.277Z"
   },
   {
    "duration": 4,
    "start_time": "2024-02-10T19:37:32.328Z"
   },
   {
    "duration": 5,
    "start_time": "2024-02-10T19:37:52.890Z"
   },
   {
    "duration": 6,
    "start_time": "2024-02-10T19:38:42.248Z"
   },
   {
    "duration": 5,
    "start_time": "2024-02-10T19:39:06.420Z"
   },
   {
    "duration": 6,
    "start_time": "2024-02-10T19:39:21.512Z"
   },
   {
    "duration": 5,
    "start_time": "2024-02-10T19:39:43.958Z"
   },
   {
    "duration": 5,
    "start_time": "2024-02-10T19:40:12.777Z"
   },
   {
    "duration": 5,
    "start_time": "2024-02-10T19:40:15.583Z"
   },
   {
    "duration": 5,
    "start_time": "2024-02-10T19:40:20.801Z"
   },
   {
    "duration": 5,
    "start_time": "2024-02-10T19:40:27.482Z"
   },
   {
    "duration": 6,
    "start_time": "2024-02-10T19:40:29.350Z"
   },
   {
    "duration": 1025,
    "start_time": "2024-02-10T19:40:52.599Z"
   },
   {
    "duration": 84,
    "start_time": "2024-02-10T19:40:53.626Z"
   },
   {
    "duration": 27,
    "start_time": "2024-02-10T19:40:53.712Z"
   },
   {
    "duration": 738,
    "start_time": "2024-02-10T19:40:54.006Z"
   },
   {
    "duration": 39,
    "start_time": "2024-02-10T19:40:54.745Z"
   },
   {
    "duration": 9,
    "start_time": "2024-02-10T19:40:54.787Z"
   },
   {
    "duration": 4,
    "start_time": "2024-02-10T19:40:54.958Z"
   },
   {
    "duration": 19,
    "start_time": "2024-02-10T19:40:55.132Z"
   },
   {
    "duration": 127,
    "start_time": "2024-02-10T19:40:55.681Z"
   },
   {
    "duration": 102,
    "start_time": "2024-02-10T19:40:55.863Z"
   },
   {
    "duration": 127,
    "start_time": "2024-02-10T19:40:56.044Z"
   },
   {
    "duration": 219,
    "start_time": "2024-02-10T19:40:56.237Z"
   },
   {
    "duration": 491,
    "start_time": "2024-02-10T19:40:56.466Z"
   },
   {
    "duration": 18,
    "start_time": "2024-02-10T19:40:56.963Z"
   },
   {
    "duration": 25,
    "start_time": "2024-02-10T19:40:57.130Z"
   },
   {
    "duration": 166,
    "start_time": "2024-02-10T19:40:57.301Z"
   },
   {
    "duration": 169,
    "start_time": "2024-02-10T19:40:57.468Z"
   },
   {
    "duration": 189,
    "start_time": "2024-02-10T19:40:57.639Z"
   },
   {
    "duration": 187,
    "start_time": "2024-02-10T19:40:57.830Z"
   },
   {
    "duration": 9,
    "start_time": "2024-02-10T19:40:58.019Z"
   },
   {
    "duration": 50,
    "start_time": "2024-02-10T19:40:58.486Z"
   },
   {
    "duration": 12,
    "start_time": "2024-02-10T19:40:58.669Z"
   },
   {
    "duration": 5,
    "start_time": "2024-02-10T19:41:00.327Z"
   },
   {
    "duration": 5,
    "start_time": "2024-02-10T19:41:01.691Z"
   },
   {
    "duration": 8,
    "start_time": "2024-02-10T19:48:38.494Z"
   },
   {
    "duration": 8,
    "start_time": "2024-02-10T19:49:49.571Z"
   },
   {
    "duration": 98,
    "start_time": "2024-02-10T19:50:26.641Z"
   },
   {
    "duration": 1288,
    "start_time": "2024-02-10T19:51:16.478Z"
   },
   {
    "duration": 7,
    "start_time": "2024-02-10T19:51:35.724Z"
   },
   {
    "duration": 1053,
    "start_time": "2024-02-11T06:55:56.021Z"
   },
   {
    "duration": 203,
    "start_time": "2024-02-11T06:55:57.076Z"
   },
   {
    "duration": 22,
    "start_time": "2024-02-11T06:55:57.281Z"
   },
   {
    "duration": 769,
    "start_time": "2024-02-11T06:55:57.305Z"
   },
   {
    "duration": 34,
    "start_time": "2024-02-11T06:55:58.076Z"
   },
   {
    "duration": 27,
    "start_time": "2024-02-11T06:55:58.111Z"
   },
   {
    "duration": 5,
    "start_time": "2024-02-11T06:55:58.139Z"
   },
   {
    "duration": 18,
    "start_time": "2024-02-11T06:55:58.145Z"
   },
   {
    "duration": 144,
    "start_time": "2024-02-11T06:55:58.165Z"
   },
   {
    "duration": 100,
    "start_time": "2024-02-11T06:55:58.312Z"
   },
   {
    "duration": 136,
    "start_time": "2024-02-11T06:55:58.413Z"
   },
   {
    "duration": 223,
    "start_time": "2024-02-11T06:55:58.551Z"
   },
   {
    "duration": 467,
    "start_time": "2024-02-11T06:55:58.775Z"
   },
   {
    "duration": 20,
    "start_time": "2024-02-11T06:55:59.246Z"
   },
   {
    "duration": 24,
    "start_time": "2024-02-11T06:55:59.267Z"
   },
   {
    "duration": 182,
    "start_time": "2024-02-11T06:55:59.293Z"
   },
   {
    "duration": 171,
    "start_time": "2024-02-11T06:55:59.476Z"
   },
   {
    "duration": 164,
    "start_time": "2024-02-11T06:55:59.649Z"
   },
   {
    "duration": 168,
    "start_time": "2024-02-11T06:55:59.814Z"
   },
   {
    "duration": 11,
    "start_time": "2024-02-11T06:55:59.984Z"
   },
   {
    "duration": 76,
    "start_time": "2024-02-11T06:55:59.996Z"
   },
   {
    "duration": 14,
    "start_time": "2024-02-11T06:56:00.074Z"
   },
   {
    "duration": 49,
    "start_time": "2024-02-11T06:56:00.089Z"
   },
   {
    "duration": 41,
    "start_time": "2024-02-11T06:56:00.142Z"
   },
   {
    "duration": 65,
    "start_time": "2024-02-11T06:56:00.185Z"
   },
   {
    "duration": 6,
    "start_time": "2024-02-11T06:59:24.127Z"
   },
   {
    "duration": 8,
    "start_time": "2024-02-11T06:59:28.533Z"
   },
   {
    "duration": 8,
    "start_time": "2024-02-11T07:05:27.126Z"
   },
   {
    "duration": 73,
    "start_time": "2024-02-11T07:06:10.506Z"
   },
   {
    "duration": 85,
    "start_time": "2024-02-11T09:26:19.165Z"
   },
   {
    "duration": 42,
    "start_time": "2024-02-11T09:30:22.559Z"
   },
   {
    "duration": 1250,
    "start_time": "2024-02-11T09:30:26.024Z"
   },
   {
    "duration": 204,
    "start_time": "2024-02-11T09:30:28.431Z"
   },
   {
    "duration": 26,
    "start_time": "2024-02-11T09:30:49.482Z"
   },
   {
    "duration": 25,
    "start_time": "2024-02-11T09:30:53.113Z"
   },
   {
    "duration": 73,
    "start_time": "2024-02-11T09:31:04.133Z"
   },
   {
    "duration": 28,
    "start_time": "2024-02-11T09:31:20.276Z"
   },
   {
    "duration": 25,
    "start_time": "2024-02-11T09:31:29.145Z"
   },
   {
    "duration": 24,
    "start_time": "2024-02-11T09:31:31.692Z"
   },
   {
    "duration": 45,
    "start_time": "2024-02-11T09:31:56.397Z"
   },
   {
    "duration": 13,
    "start_time": "2024-02-11T09:32:48.000Z"
   },
   {
    "duration": 13,
    "start_time": "2024-02-11T09:33:32.040Z"
   },
   {
    "duration": 13,
    "start_time": "2024-02-11T09:33:55.049Z"
   },
   {
    "duration": 221,
    "start_time": "2024-02-11T09:34:12.868Z"
   },
   {
    "duration": 135,
    "start_time": "2024-02-11T09:34:33.526Z"
   },
   {
    "duration": 155,
    "start_time": "2024-02-11T09:34:54.544Z"
   },
   {
    "duration": 128,
    "start_time": "2024-02-11T09:35:02.222Z"
   },
   {
    "duration": 172,
    "start_time": "2024-02-11T09:35:15.065Z"
   },
   {
    "duration": 230,
    "start_time": "2024-02-11T09:35:21.204Z"
   },
   {
    "duration": 230,
    "start_time": "2024-02-11T09:35:52.291Z"
   },
   {
    "duration": 231,
    "start_time": "2024-02-11T09:36:00.548Z"
   },
   {
    "duration": 163,
    "start_time": "2024-02-11T09:37:02.697Z"
   },
   {
    "duration": 162,
    "start_time": "2024-02-11T09:37:48.576Z"
   },
   {
    "duration": 162,
    "start_time": "2024-02-11T09:37:54.533Z"
   },
   {
    "duration": 180,
    "start_time": "2024-02-11T09:38:07.067Z"
   },
   {
    "duration": 162,
    "start_time": "2024-02-11T09:38:16.964Z"
   },
   {
    "duration": 160,
    "start_time": "2024-02-11T09:38:36.839Z"
   },
   {
    "duration": 153,
    "start_time": "2024-02-11T09:38:42.778Z"
   },
   {
    "duration": 168,
    "start_time": "2024-02-11T09:38:49.054Z"
   },
   {
    "duration": 3,
    "start_time": "2024-02-11T09:39:46.333Z"
   },
   {
    "duration": 172,
    "start_time": "2024-02-11T09:39:58.470Z"
   },
   {
    "duration": 158,
    "start_time": "2024-02-11T09:40:04.433Z"
   },
   {
    "duration": 11,
    "start_time": "2024-02-11T09:41:37.268Z"
   },
   {
    "duration": 153,
    "start_time": "2024-02-11T09:41:42.540Z"
   },
   {
    "duration": 9,
    "start_time": "2024-02-11T09:44:03.994Z"
   },
   {
    "duration": 215,
    "start_time": "2024-02-11T09:44:14.963Z"
   },
   {
    "duration": 302,
    "start_time": "2024-02-11T09:44:34.833Z"
   },
   {
    "duration": 80,
    "start_time": "2024-02-11T09:46:09.787Z"
   },
   {
    "duration": 155,
    "start_time": "2024-02-11T09:46:38.879Z"
   },
   {
    "duration": 143,
    "start_time": "2024-02-11T09:46:48.374Z"
   },
   {
    "duration": 149,
    "start_time": "2024-02-11T09:47:13.372Z"
   },
   {
    "duration": 152,
    "start_time": "2024-02-11T09:47:46.703Z"
   },
   {
    "duration": 140,
    "start_time": "2024-02-11T09:49:01.309Z"
   },
   {
    "duration": 128,
    "start_time": "2024-02-11T09:49:14.919Z"
   },
   {
    "duration": 124,
    "start_time": "2024-02-11T09:50:06.524Z"
   },
   {
    "duration": 154,
    "start_time": "2024-02-11T09:52:01.556Z"
   },
   {
    "duration": 68,
    "start_time": "2024-02-11T09:55:23.023Z"
   },
   {
    "duration": 188,
    "start_time": "2024-02-11T09:55:37.954Z"
   },
   {
    "duration": 150,
    "start_time": "2024-02-11T09:57:50.755Z"
   },
   {
    "duration": 234,
    "start_time": "2024-02-11T10:00:05.985Z"
   },
   {
    "duration": 73,
    "start_time": "2024-02-11T10:02:02.633Z"
   },
   {
    "duration": 104,
    "start_time": "2024-02-11T10:02:15.405Z"
   },
   {
    "duration": 88,
    "start_time": "2024-02-11T10:02:31.185Z"
   },
   {
    "duration": 157,
    "start_time": "2024-02-11T10:03:02.046Z"
   },
   {
    "duration": 135,
    "start_time": "2024-02-11T10:03:05.939Z"
   },
   {
    "duration": 244,
    "start_time": "2024-02-11T10:03:35.828Z"
   },
   {
    "duration": 94,
    "start_time": "2024-02-11T10:04:34.398Z"
   },
   {
    "duration": 7,
    "start_time": "2024-02-11T10:06:05.977Z"
   },
   {
    "duration": 18,
    "start_time": "2024-02-11T10:06:09.819Z"
   },
   {
    "duration": 24,
    "start_time": "2024-02-11T10:06:11.418Z"
   },
   {
    "duration": 15,
    "start_time": "2024-02-11T10:06:12.562Z"
   },
   {
    "duration": 1015,
    "start_time": "2024-02-11T10:06:35.448Z"
   },
   {
    "duration": 81,
    "start_time": "2024-02-11T10:06:37.082Z"
   },
   {
    "duration": 27,
    "start_time": "2024-02-11T10:06:38.813Z"
   },
   {
    "duration": 750,
    "start_time": "2024-02-11T10:06:39.609Z"
   },
   {
    "duration": 54,
    "start_time": "2024-02-11T10:06:42.629Z"
   },
   {
    "duration": 13,
    "start_time": "2024-02-11T10:06:43.142Z"
   },
   {
    "duration": 6,
    "start_time": "2024-02-11T10:06:44.115Z"
   },
   {
    "duration": 3,
    "start_time": "2024-02-11T10:06:44.963Z"
   },
   {
    "duration": 16,
    "start_time": "2024-02-11T10:06:46.113Z"
   },
   {
    "duration": 147,
    "start_time": "2024-02-11T10:06:50.975Z"
   },
   {
    "duration": 88,
    "start_time": "2024-02-11T10:06:53.241Z"
   },
   {
    "duration": 128,
    "start_time": "2024-02-11T10:06:53.807Z"
   },
   {
    "duration": 220,
    "start_time": "2024-02-11T10:06:55.973Z"
   },
   {
    "duration": 456,
    "start_time": "2024-02-11T10:06:56.807Z"
   },
   {
    "duration": 18,
    "start_time": "2024-02-11T10:06:59.496Z"
   },
   {
    "duration": 27,
    "start_time": "2024-02-11T10:07:00.330Z"
   },
   {
    "duration": 13,
    "start_time": "2024-02-11T10:07:02.794Z"
   },
   {
    "duration": 101,
    "start_time": "2024-02-11T10:07:28.002Z"
   },
   {
    "duration": 18,
    "start_time": "2024-02-11T10:08:04.306Z"
   },
   {
    "duration": 19,
    "start_time": "2024-02-11T10:08:30.294Z"
   },
   {
    "duration": 23,
    "start_time": "2024-02-11T10:09:38.987Z"
   },
   {
    "duration": 18,
    "start_time": "2024-02-11T10:09:50.400Z"
   },
   {
    "duration": 25,
    "start_time": "2024-02-11T10:10:25.042Z"
   },
   {
    "duration": 4,
    "start_time": "2024-02-11T10:10:57.818Z"
   },
   {
    "duration": 184,
    "start_time": "2024-02-11T10:13:08.956Z"
   },
   {
    "duration": 176,
    "start_time": "2024-02-11T10:13:14.827Z"
   },
   {
    "duration": 180,
    "start_time": "2024-02-11T10:13:48.311Z"
   },
   {
    "duration": 179,
    "start_time": "2024-02-11T10:14:13.123Z"
   },
   {
    "duration": 167,
    "start_time": "2024-02-11T10:14:20.859Z"
   },
   {
    "duration": 169,
    "start_time": "2024-02-11T10:14:38.041Z"
   },
   {
    "duration": 49,
    "start_time": "2024-02-11T10:15:50.472Z"
   },
   {
    "duration": 52,
    "start_time": "2024-02-11T10:16:00.246Z"
   },
   {
    "duration": 1049,
    "start_time": "2024-02-11T10:16:15.816Z"
   },
   {
    "duration": 83,
    "start_time": "2024-02-11T10:16:18.940Z"
   },
   {
    "duration": 26,
    "start_time": "2024-02-11T10:16:19.395Z"
   },
   {
    "duration": 750,
    "start_time": "2024-02-11T10:16:19.533Z"
   },
   {
    "duration": 65,
    "start_time": "2024-02-11T10:16:20.284Z"
   },
   {
    "duration": 14,
    "start_time": "2024-02-11T10:16:20.351Z"
   },
   {
    "duration": 6,
    "start_time": "2024-02-11T10:16:20.535Z"
   },
   {
    "duration": 3,
    "start_time": "2024-02-11T10:16:20.676Z"
   },
   {
    "duration": 17,
    "start_time": "2024-02-11T10:16:20.841Z"
   },
   {
    "duration": 161,
    "start_time": "2024-02-11T10:16:21.495Z"
   },
   {
    "duration": 89,
    "start_time": "2024-02-11T10:16:22.195Z"
   },
   {
    "duration": 141,
    "start_time": "2024-02-11T10:16:22.360Z"
   },
   {
    "duration": 218,
    "start_time": "2024-02-11T10:16:22.921Z"
   },
   {
    "duration": 462,
    "start_time": "2024-02-11T10:16:23.141Z"
   },
   {
    "duration": 19,
    "start_time": "2024-02-11T10:16:24.048Z"
   },
   {
    "duration": 25,
    "start_time": "2024-02-11T10:16:24.690Z"
   },
   {
    "duration": 22,
    "start_time": "2024-02-11T10:16:25.165Z"
   },
   {
    "duration": 21,
    "start_time": "2024-02-11T10:16:25.789Z"
   },
   {
    "duration": 18,
    "start_time": "2024-02-11T10:16:26.408Z"
   },
   {
    "duration": 3,
    "start_time": "2024-02-11T10:16:27.965Z"
   },
   {
    "duration": 177,
    "start_time": "2024-02-11T10:16:30.870Z"
   },
   {
    "duration": 182,
    "start_time": "2024-02-11T10:16:31.297Z"
   },
   {
    "duration": 183,
    "start_time": "2024-02-11T10:16:31.842Z"
   },
   {
    "duration": 204,
    "start_time": "2024-02-11T10:16:32.534Z"
   },
   {
    "duration": 10,
    "start_time": "2024-02-11T10:16:33.813Z"
   },
   {
    "duration": 54,
    "start_time": "2024-02-11T10:16:40.471Z"
   },
   {
    "duration": 13,
    "start_time": "2024-02-11T10:16:59.777Z"
   },
   {
    "duration": 6,
    "start_time": "2024-02-11T10:17:01.907Z"
   },
   {
    "duration": 5,
    "start_time": "2024-02-11T10:17:11.259Z"
   },
   {
    "duration": 6,
    "start_time": "2024-02-11T10:17:14.418Z"
   },
   {
    "duration": 5,
    "start_time": "2024-02-11T10:17:40.058Z"
   },
   {
    "duration": 1322,
    "start_time": "2024-02-11T17:12:43.238Z"
   },
   {
    "duration": 325,
    "start_time": "2024-02-11T17:12:44.562Z"
   },
   {
    "duration": 29,
    "start_time": "2024-02-11T17:12:44.889Z"
   },
   {
    "duration": 855,
    "start_time": "2024-02-11T17:12:44.920Z"
   },
   {
    "duration": 52,
    "start_time": "2024-02-11T17:12:45.777Z"
   },
   {
    "duration": 14,
    "start_time": "2024-02-11T17:12:45.831Z"
   },
   {
    "duration": 5,
    "start_time": "2024-02-11T17:12:45.873Z"
   },
   {
    "duration": 3,
    "start_time": "2024-02-11T17:12:45.880Z"
   },
   {
    "duration": 27,
    "start_time": "2024-02-11T17:12:45.885Z"
   },
   {
    "duration": 211,
    "start_time": "2024-02-11T17:12:45.916Z"
   },
   {
    "duration": 119,
    "start_time": "2024-02-11T17:12:46.129Z"
   },
   {
    "duration": 161,
    "start_time": "2024-02-11T17:12:46.250Z"
   },
   {
    "duration": 265,
    "start_time": "2024-02-11T17:12:46.413Z"
   },
   {
    "duration": 531,
    "start_time": "2024-02-11T17:12:46.680Z"
   },
   {
    "duration": 22,
    "start_time": "2024-02-11T17:12:47.212Z"
   },
   {
    "duration": 46,
    "start_time": "2024-02-11T17:12:47.235Z"
   },
   {
    "duration": 20,
    "start_time": "2024-02-11T17:12:47.282Z"
   },
   {
    "duration": 18,
    "start_time": "2024-02-11T17:12:47.304Z"
   },
   {
    "duration": 17,
    "start_time": "2024-02-11T17:12:47.323Z"
   },
   {
    "duration": 4,
    "start_time": "2024-02-11T17:12:47.373Z"
   },
   {
    "duration": 226,
    "start_time": "2024-02-11T17:12:47.378Z"
   },
   {
    "duration": 210,
    "start_time": "2024-02-11T17:12:47.606Z"
   },
   {
    "duration": 199,
    "start_time": "2024-02-11T17:12:47.818Z"
   },
   {
    "duration": 200,
    "start_time": "2024-02-11T17:12:48.018Z"
   },
   {
    "duration": 11,
    "start_time": "2024-02-11T17:12:48.220Z"
   },
   {
    "duration": 78,
    "start_time": "2024-02-11T17:12:48.232Z"
   },
   {
    "duration": 14,
    "start_time": "2024-02-11T17:12:48.312Z"
   },
   {
    "duration": 10,
    "start_time": "2024-02-11T17:12:48.331Z"
   },
   {
    "duration": 7,
    "start_time": "2024-02-11T17:12:48.342Z"
   },
   {
    "duration": 6,
    "start_time": "2024-02-11T17:12:48.372Z"
   },
   {
    "duration": 11,
    "start_time": "2024-02-11T17:12:48.379Z"
   },
   {
    "duration": 13,
    "start_time": "2024-02-11T17:15:30.061Z"
   },
   {
    "duration": 6,
    "start_time": "2024-02-11T17:15:51.551Z"
   },
   {
    "duration": 169,
    "start_time": "2024-02-11T17:17:32.747Z"
   },
   {
    "duration": 176,
    "start_time": "2024-02-11T17:17:39.533Z"
   },
   {
    "duration": 218,
    "start_time": "2024-02-11T17:17:57.627Z"
   },
   {
    "duration": 180,
    "start_time": "2024-02-11T17:18:45.877Z"
   },
   {
    "duration": 70,
    "start_time": "2024-02-11T17:23:02.865Z"
   },
   {
    "duration": 1106,
    "start_time": "2024-03-03T16:29:46.701Z"
   },
   {
    "duration": 208,
    "start_time": "2024-03-03T16:29:47.809Z"
   },
   {
    "duration": 34,
    "start_time": "2024-03-03T16:29:48.052Z"
   },
   {
    "duration": 710,
    "start_time": "2024-03-03T16:29:48.218Z"
   },
   {
    "duration": 60,
    "start_time": "2024-03-03T16:29:48.930Z"
   },
   {
    "duration": 14,
    "start_time": "2024-03-03T16:29:48.991Z"
   },
   {
    "duration": 5,
    "start_time": "2024-03-03T16:29:49.290Z"
   },
   {
    "duration": 6,
    "start_time": "2024-03-03T16:29:49.450Z"
   },
   {
    "duration": 15,
    "start_time": "2024-03-03T16:29:49.611Z"
   },
   {
    "duration": 186,
    "start_time": "2024-03-03T16:29:50.247Z"
   },
   {
    "duration": 150,
    "start_time": "2024-03-03T16:29:51.090Z"
   },
   {
    "duration": 97,
    "start_time": "2024-03-03T16:29:51.252Z"
   },
   {
    "duration": 150,
    "start_time": "2024-03-03T16:29:51.425Z"
   },
   {
    "duration": 327,
    "start_time": "2024-03-03T16:29:51.963Z"
   },
   {
    "duration": 439,
    "start_time": "2024-03-03T16:29:52.292Z"
   },
   {
    "duration": 20,
    "start_time": "2024-03-03T16:29:53.060Z"
   },
   {
    "duration": 27,
    "start_time": "2024-03-03T16:29:53.238Z"
   },
   {
    "duration": 20,
    "start_time": "2024-03-03T16:29:53.429Z"
   },
   {
    "duration": 18,
    "start_time": "2024-03-03T16:29:53.643Z"
   },
   {
    "duration": 16,
    "start_time": "2024-03-03T16:29:53.792Z"
   },
   {
    "duration": 4,
    "start_time": "2024-03-03T16:29:53.973Z"
   },
   {
    "duration": 198,
    "start_time": "2024-03-03T16:29:54.892Z"
   },
   {
    "duration": 203,
    "start_time": "2024-03-03T16:29:55.091Z"
   },
   {
    "duration": 208,
    "start_time": "2024-03-03T16:29:55.296Z"
   },
   {
    "duration": 201,
    "start_time": "2024-03-03T16:29:55.506Z"
   },
   {
    "duration": 9,
    "start_time": "2024-03-03T16:29:55.708Z"
   },
   {
    "duration": 60,
    "start_time": "2024-03-03T16:29:56.699Z"
   },
   {
    "duration": 12,
    "start_time": "2024-03-03T16:29:56.897Z"
   },
   {
    "duration": 6,
    "start_time": "2024-03-03T16:29:57.077Z"
   },
   {
    "duration": 4,
    "start_time": "2024-03-03T16:29:58.689Z"
   },
   {
    "duration": 10,
    "start_time": "2024-03-03T16:29:59.143Z"
   },
   {
    "duration": 7,
    "start_time": "2024-03-03T16:30:00.606Z"
   },
   {
    "duration": 4,
    "start_time": "2024-03-03T16:31:33.239Z"
   },
   {
    "duration": 4,
    "start_time": "2024-03-03T16:31:34.602Z"
   },
   {
    "duration": 8,
    "start_time": "2024-03-03T16:31:36.653Z"
   },
   {
    "duration": 10,
    "start_time": "2024-03-03T16:32:25.602Z"
   },
   {
    "duration": 7,
    "start_time": "2024-03-03T16:33:26.764Z"
   },
   {
    "duration": 1120,
    "start_time": "2024-05-27T19:06:51.481Z"
   },
   {
    "duration": 245,
    "start_time": "2024-05-27T19:06:52.603Z"
   },
   {
    "duration": 34,
    "start_time": "2024-05-27T19:06:52.849Z"
   },
   {
    "duration": 809,
    "start_time": "2024-05-27T19:06:52.885Z"
   },
   {
    "duration": 52,
    "start_time": "2024-05-27T19:06:53.696Z"
   },
   {
    "duration": 18,
    "start_time": "2024-05-27T19:06:53.768Z"
   },
   {
    "duration": 6,
    "start_time": "2024-05-27T19:06:54.199Z"
   },
   {
    "duration": 4,
    "start_time": "2024-05-27T19:06:54.641Z"
   },
   {
    "duration": 19,
    "start_time": "2024-05-27T19:06:54.957Z"
   },
   {
    "duration": 170,
    "start_time": "2024-05-27T19:06:56.127Z"
   },
   {
    "duration": 100,
    "start_time": "2024-05-27T19:07:19.752Z"
   },
   {
    "duration": 144,
    "start_time": "2024-05-27T19:07:20.200Z"
   },
   {
    "duration": 264,
    "start_time": "2024-05-27T19:07:25.810Z"
   },
   {
    "duration": 567,
    "start_time": "2024-05-27T19:07:26.464Z"
   },
   {
    "duration": 17,
    "start_time": "2024-05-27T19:07:29.885Z"
   },
   {
    "duration": 33,
    "start_time": "2024-05-27T19:07:31.450Z"
   },
   {
    "duration": 32,
    "start_time": "2024-05-27T19:07:31.861Z"
   },
   {
    "duration": 19,
    "start_time": "2024-05-27T19:07:32.392Z"
   },
   {
    "duration": 17,
    "start_time": "2024-05-27T19:07:32.835Z"
   },
   {
    "duration": 4,
    "start_time": "2024-05-27T19:07:33.271Z"
   },
   {
    "duration": 219,
    "start_time": "2024-05-27T19:07:39.629Z"
   },
   {
    "duration": 182,
    "start_time": "2024-05-27T19:07:39.937Z"
   },
   {
    "duration": 186,
    "start_time": "2024-05-27T19:07:40.428Z"
   },
   {
    "duration": 185,
    "start_time": "2024-05-27T19:07:40.823Z"
   },
   {
    "duration": 9,
    "start_time": "2024-05-27T19:07:41.322Z"
   },
   {
    "duration": 49,
    "start_time": "2024-05-27T19:07:47.187Z"
   },
   {
    "duration": 18,
    "start_time": "2024-05-27T19:07:47.788Z"
   },
   {
    "duration": 6,
    "start_time": "2024-05-27T19:07:48.253Z"
   },
   {
    "duration": 3,
    "start_time": "2024-05-27T19:07:52.422Z"
   },
   {
    "duration": 4,
    "start_time": "2024-05-27T19:07:52.827Z"
   },
   {
    "duration": 5,
    "start_time": "2024-05-27T19:07:53.275Z"
   },
   {
    "duration": 5,
    "start_time": "2024-05-27T19:07:54.624Z"
   },
   {
    "duration": 7,
    "start_time": "2024-05-27T19:07:58.846Z"
   },
   {
    "duration": 8,
    "start_time": "2024-05-27T19:08:12.637Z"
   }
  ],
  "kernelspec": {
   "display_name": "Python 3 (ipykernel)",
   "language": "python",
   "name": "python3"
  },
  "language_info": {
   "codemirror_mode": {
    "name": "ipython",
    "version": 3
   },
   "file_extension": ".py",
   "mimetype": "text/x-python",
   "name": "python",
   "nbconvert_exporter": "python",
   "pygments_lexer": "ipython3",
   "version": "3.9.5"
  },
  "toc": {
   "base_numbering": 1,
   "nav_menu": {
    "height": "373px",
    "width": "369px"
   },
   "number_sections": true,
   "sideBar": true,
   "skip_h1_title": true,
   "title_cell": "Table of Contents",
   "title_sidebar": "Contents",
   "toc_cell": false,
   "toc_position": {},
   "toc_section_display": true,
   "toc_window_display": true
  }
 },
 "nbformat": 4,
 "nbformat_minor": 5
}
