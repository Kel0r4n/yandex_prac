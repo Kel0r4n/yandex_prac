{
 "cells": [
  {
   "cell_type": "markdown",
   "id": "b2b6eafe",
   "metadata": {},
   "source": [
    "# Проект: разработка решения для HR-аналитики компании «Работа с заботой» по вопросам удовлетворенности сотрудника и возможностью его увольнения"
   ]
  },
  {
   "cell_type": "markdown",
   "id": "75113464",
   "metadata": {},
   "source": [
    "HR-аналитики компании «Работа с заботой» помогают бизнесу оптимизировать управление персоналом: бизнес предоставляет данные, а аналитики предлагают, как избежать финансовых потерь и оттока сотрудников. В этом HR-аналитикам пригодится машинное обучение, с помощью которого получится быстрее и точнее отвечать на вопросы бизнеса.\n",
    "\n",
    "У нас будет несколько задач. \n",
    "\n",
    "Первая — построить модель, которая сможет предсказать уровень удовлетворённости сотрудника на основе данных заказчика. \n",
    "\n",
    "Вторая задача — построить модель, которая сможет на основе данных заказчика предсказать то, что сотрудник уволится из компании."
   ]
  },
  {
   "cell_type": "markdown",
   "id": "b94ef7c9",
   "metadata": {},
   "source": [
    "# Задача 1: предсказание уровня удовлетворённости сотрудника\n",
    "Для этой задачи заказчик предоставил данные с признаками:\n",
    "- id — уникальный идентификатор сотрудника;\n",
    "- dept — отдел, в котором работает сотрудник;\n",
    "- level — уровень занимаемой должности;\n",
    "- workload — уровень загруженности сотрудника;\n",
    "- employment_years — длительность работы в компании (в годах);\n",
    "- last_year_promo — показывает, было ли повышение за последний год;\n",
    "- last_year_violations — показывает, нарушал ли сотрудник трудовой договор за последний год;\n",
    "- supervisor_evaluation — оценка качества работы сотрудника, которую дал руководитель;\n",
    "- salary — ежемесячная зарплата сотрудника;\n",
    "- job_satisfaction_rate — уровень удовлетворённости сотрудника работой в компании, целевой признак."
   ]
  },
  {
   "cell_type": "markdown",
   "id": "cd24c140",
   "metadata": {},
   "source": [
    "# План работы\n",
    "Шаг 1 Загрузка данных\n",
    "\n",
    "Шаг 2 Предобработка данных\n",
    "\n",
    "Шаг 3 Исследовательский анализ данных\n",
    "\n",
    "Шаг 4 Подготовка данных\n",
    "\n",
    "Шаг 5 Обучение моделей\n",
    "\n",
    "Шаг 6 Оформление выводов"
   ]
  },
  {
   "cell_type": "markdown",
   "id": "be184681",
   "metadata": {},
   "source": [
    "# Задача 2: предсказание увольнения сотрудника из компании"
   ]
  },
  {
   "cell_type": "markdown",
   "id": "fea32192",
   "metadata": {},
   "source": [
    "Предоставленные данные:\n",
    "\n",
    "- train_quit.csv (Тренировочная выборка)\n",
    "\n",
    "- test_features.csv (Входные признаки тестовой выборки те же, что и в прошлой задаче)\n",
    "\n",
    "- test_target_quit.csv (Целевой признак тестовой выборки)"
   ]
  },
  {
   "cell_type": "markdown",
   "id": "003cec98",
   "metadata": {},
   "source": [
    "# План работы\n",
    "Шаг 1 Загрузка данных\n",
    "\n",
    "Шаг 2 Предобработка данных\n",
    "\n",
    "Шаг 3 Исследовательский анализ данных\n",
    "\n",
    "Шаг 4 Добавление нового входного признака \n",
    "\n",
    "Шаг 5 Подготовка данных\n",
    "\n",
    "Шаг 6 Обучение моделей\n",
    "\n",
    "Шаг 7 Оформление выводов"
   ]
  },
  {
   "cell_type": "markdown",
   "id": "255a8bbf",
   "metadata": {},
   "source": [
    "# Импорты и константы"
   ]
  },
  {
   "cell_type": "code",
   "execution_count": 1,
   "id": "70fe2d9c",
   "metadata": {},
   "outputs": [],
   "source": [
    "!pip install phik -q"
   ]
  },
  {
   "cell_type": "code",
   "execution_count": 2,
   "id": "a9d38ded",
   "metadata": {},
   "outputs": [],
   "source": [
    "!pip install scikit-learn -U -q"
   ]
  },
  {
   "cell_type": "code",
   "execution_count": 3,
   "id": "41c42274",
   "metadata": {},
   "outputs": [],
   "source": [
    "import pandas as pd\n",
    "import numpy as np\n",
    "import matplotlib.pyplot as plt\n",
    "import seaborn as sns\n",
    "import phik\n",
    "import math\n",
    "from phik.report import plot_correlation_matrix\n",
    "\n",
    "from sklearn.model_selection import train_test_split, cross_val_score, RandomizedSearchCV,GridSearchCV\n",
    "from sklearn.linear_model import LinearRegression, LogisticRegression\n",
    "from sklearn.tree import DecisionTreeClassifier,DecisionTreeRegressor\n",
    "from sklearn.neighbors import KNeighborsClassifier\n",
    "from sklearn import svm\n",
    "from sklearn.svm import SVC\n",
    "from sklearn.preprocessing import OneHotEncoder, OrdinalEncoder, StandardScaler, MinMaxScaler, RobustScaler\n",
    "from sklearn.metrics import make_scorer\n",
    "from sklearn.metrics import roc_auc_score\n",
    "\n",
    "from sklearn.pipeline import Pipeline\n",
    "from sklearn.compose import ColumnTransformer\n",
    "\n",
    "from sklearn.impute import SimpleImputer\n",
    "from sklearn.preprocessing import LabelEncoder\n",
    "\n",
    "from sklearn.feature_selection import SelectKBest, f_classif\n",
    "RANDOM_STATE=42"
   ]
  },
  {
   "cell_type": "markdown",
   "id": "df574686",
   "metadata": {},
   "source": [
    "# Задача 1"
   ]
  },
  {
   "cell_type": "markdown",
   "id": "e7fb9eb8",
   "metadata": {},
   "source": [
    "## Загрузка данных"
   ]
  },
  {
   "cell_type": "code",
   "execution_count": 4,
   "id": "2e7e1962",
   "metadata": {},
   "outputs": [],
   "source": [
    "train_job_satisfaction_rate = pd.read_csv('/datasets/train_job_satisfaction_rate.csv')\n",
    "test_features = pd.read_csv('/datasets/test_features.csv')\n",
    "test_target_job_satisfaction_rate = pd.read_csv('/datasets/test_target_job_satisfaction_rate.csv')"
   ]
  },
  {
   "cell_type": "code",
   "execution_count": 5,
   "id": "83d1e8d7",
   "metadata": {},
   "outputs": [
    {
     "data": {
      "text/html": [
       "<div>\n",
       "<style scoped>\n",
       "    .dataframe tbody tr th:only-of-type {\n",
       "        vertical-align: middle;\n",
       "    }\n",
       "\n",
       "    .dataframe tbody tr th {\n",
       "        vertical-align: top;\n",
       "    }\n",
       "\n",
       "    .dataframe thead th {\n",
       "        text-align: right;\n",
       "    }\n",
       "</style>\n",
       "<table border=\"1\" class=\"dataframe\">\n",
       "  <thead>\n",
       "    <tr style=\"text-align: right;\">\n",
       "      <th></th>\n",
       "      <th>id</th>\n",
       "      <th>dept</th>\n",
       "      <th>level</th>\n",
       "      <th>workload</th>\n",
       "      <th>employment_years</th>\n",
       "      <th>last_year_promo</th>\n",
       "      <th>last_year_violations</th>\n",
       "      <th>supervisor_evaluation</th>\n",
       "      <th>salary</th>\n",
       "      <th>job_satisfaction_rate</th>\n",
       "    </tr>\n",
       "  </thead>\n",
       "  <tbody>\n",
       "    <tr>\n",
       "      <th>0</th>\n",
       "      <td>155278</td>\n",
       "      <td>sales</td>\n",
       "      <td>junior</td>\n",
       "      <td>medium</td>\n",
       "      <td>2</td>\n",
       "      <td>no</td>\n",
       "      <td>no</td>\n",
       "      <td>1</td>\n",
       "      <td>24000</td>\n",
       "      <td>0.58</td>\n",
       "    </tr>\n",
       "    <tr>\n",
       "      <th>1</th>\n",
       "      <td>653870</td>\n",
       "      <td>hr</td>\n",
       "      <td>junior</td>\n",
       "      <td>high</td>\n",
       "      <td>2</td>\n",
       "      <td>no</td>\n",
       "      <td>no</td>\n",
       "      <td>5</td>\n",
       "      <td>38400</td>\n",
       "      <td>0.76</td>\n",
       "    </tr>\n",
       "    <tr>\n",
       "      <th>2</th>\n",
       "      <td>184592</td>\n",
       "      <td>sales</td>\n",
       "      <td>junior</td>\n",
       "      <td>low</td>\n",
       "      <td>1</td>\n",
       "      <td>no</td>\n",
       "      <td>no</td>\n",
       "      <td>2</td>\n",
       "      <td>12000</td>\n",
       "      <td>0.11</td>\n",
       "    </tr>\n",
       "    <tr>\n",
       "      <th>3</th>\n",
       "      <td>171431</td>\n",
       "      <td>technology</td>\n",
       "      <td>junior</td>\n",
       "      <td>low</td>\n",
       "      <td>4</td>\n",
       "      <td>no</td>\n",
       "      <td>no</td>\n",
       "      <td>2</td>\n",
       "      <td>18000</td>\n",
       "      <td>0.37</td>\n",
       "    </tr>\n",
       "    <tr>\n",
       "      <th>4</th>\n",
       "      <td>693419</td>\n",
       "      <td>hr</td>\n",
       "      <td>junior</td>\n",
       "      <td>medium</td>\n",
       "      <td>1</td>\n",
       "      <td>no</td>\n",
       "      <td>no</td>\n",
       "      <td>3</td>\n",
       "      <td>22800</td>\n",
       "      <td>0.20</td>\n",
       "    </tr>\n",
       "  </tbody>\n",
       "</table>\n",
       "</div>"
      ],
      "text/plain": [
       "       id        dept   level workload  employment_years last_year_promo  \\\n",
       "0  155278       sales  junior   medium                 2              no   \n",
       "1  653870          hr  junior     high                 2              no   \n",
       "2  184592       sales  junior      low                 1              no   \n",
       "3  171431  technology  junior      low                 4              no   \n",
       "4  693419          hr  junior   medium                 1              no   \n",
       "\n",
       "  last_year_violations  supervisor_evaluation  salary  job_satisfaction_rate  \n",
       "0                   no                      1   24000                   0.58  \n",
       "1                   no                      5   38400                   0.76  \n",
       "2                   no                      2   12000                   0.11  \n",
       "3                   no                      2   18000                   0.37  \n",
       "4                   no                      3   22800                   0.20  "
      ]
     },
     "metadata": {},
     "output_type": "display_data"
    },
    {
     "data": {
      "text/html": [
       "<div>\n",
       "<style scoped>\n",
       "    .dataframe tbody tr th:only-of-type {\n",
       "        vertical-align: middle;\n",
       "    }\n",
       "\n",
       "    .dataframe tbody tr th {\n",
       "        vertical-align: top;\n",
       "    }\n",
       "\n",
       "    .dataframe thead th {\n",
       "        text-align: right;\n",
       "    }\n",
       "</style>\n",
       "<table border=\"1\" class=\"dataframe\">\n",
       "  <thead>\n",
       "    <tr style=\"text-align: right;\">\n",
       "      <th></th>\n",
       "      <th>id</th>\n",
       "      <th>dept</th>\n",
       "      <th>level</th>\n",
       "      <th>workload</th>\n",
       "      <th>employment_years</th>\n",
       "      <th>last_year_promo</th>\n",
       "      <th>last_year_violations</th>\n",
       "      <th>supervisor_evaluation</th>\n",
       "      <th>salary</th>\n",
       "    </tr>\n",
       "  </thead>\n",
       "  <tbody>\n",
       "    <tr>\n",
       "      <th>0</th>\n",
       "      <td>485046</td>\n",
       "      <td>marketing</td>\n",
       "      <td>junior</td>\n",
       "      <td>medium</td>\n",
       "      <td>2</td>\n",
       "      <td>no</td>\n",
       "      <td>no</td>\n",
       "      <td>5</td>\n",
       "      <td>28800</td>\n",
       "    </tr>\n",
       "    <tr>\n",
       "      <th>1</th>\n",
       "      <td>686555</td>\n",
       "      <td>hr</td>\n",
       "      <td>junior</td>\n",
       "      <td>medium</td>\n",
       "      <td>1</td>\n",
       "      <td>no</td>\n",
       "      <td>no</td>\n",
       "      <td>4</td>\n",
       "      <td>30000</td>\n",
       "    </tr>\n",
       "    <tr>\n",
       "      <th>2</th>\n",
       "      <td>467458</td>\n",
       "      <td>sales</td>\n",
       "      <td>middle</td>\n",
       "      <td>low</td>\n",
       "      <td>5</td>\n",
       "      <td>no</td>\n",
       "      <td>no</td>\n",
       "      <td>4</td>\n",
       "      <td>19200</td>\n",
       "    </tr>\n",
       "    <tr>\n",
       "      <th>3</th>\n",
       "      <td>418655</td>\n",
       "      <td>sales</td>\n",
       "      <td>middle</td>\n",
       "      <td>low</td>\n",
       "      <td>6</td>\n",
       "      <td>no</td>\n",
       "      <td>no</td>\n",
       "      <td>4</td>\n",
       "      <td>19200</td>\n",
       "    </tr>\n",
       "    <tr>\n",
       "      <th>4</th>\n",
       "      <td>789145</td>\n",
       "      <td>hr</td>\n",
       "      <td>middle</td>\n",
       "      <td>medium</td>\n",
       "      <td>5</td>\n",
       "      <td>no</td>\n",
       "      <td>no</td>\n",
       "      <td>5</td>\n",
       "      <td>40800</td>\n",
       "    </tr>\n",
       "  </tbody>\n",
       "</table>\n",
       "</div>"
      ],
      "text/plain": [
       "       id       dept   level workload  employment_years last_year_promo  \\\n",
       "0  485046  marketing  junior   medium                 2              no   \n",
       "1  686555         hr  junior   medium                 1              no   \n",
       "2  467458      sales  middle      low                 5              no   \n",
       "3  418655      sales  middle      low                 6              no   \n",
       "4  789145         hr  middle   medium                 5              no   \n",
       "\n",
       "  last_year_violations  supervisor_evaluation  salary  \n",
       "0                   no                      5   28800  \n",
       "1                   no                      4   30000  \n",
       "2                   no                      4   19200  \n",
       "3                   no                      4   19200  \n",
       "4                   no                      5   40800  "
      ]
     },
     "metadata": {},
     "output_type": "display_data"
    },
    {
     "data": {
      "text/html": [
       "<div>\n",
       "<style scoped>\n",
       "    .dataframe tbody tr th:only-of-type {\n",
       "        vertical-align: middle;\n",
       "    }\n",
       "\n",
       "    .dataframe tbody tr th {\n",
       "        vertical-align: top;\n",
       "    }\n",
       "\n",
       "    .dataframe thead th {\n",
       "        text-align: right;\n",
       "    }\n",
       "</style>\n",
       "<table border=\"1\" class=\"dataframe\">\n",
       "  <thead>\n",
       "    <tr style=\"text-align: right;\">\n",
       "      <th></th>\n",
       "      <th>id</th>\n",
       "      <th>job_satisfaction_rate</th>\n",
       "    </tr>\n",
       "  </thead>\n",
       "  <tbody>\n",
       "    <tr>\n",
       "      <th>0</th>\n",
       "      <td>130604</td>\n",
       "      <td>0.74</td>\n",
       "    </tr>\n",
       "    <tr>\n",
       "      <th>1</th>\n",
       "      <td>825977</td>\n",
       "      <td>0.75</td>\n",
       "    </tr>\n",
       "    <tr>\n",
       "      <th>2</th>\n",
       "      <td>418490</td>\n",
       "      <td>0.60</td>\n",
       "    </tr>\n",
       "    <tr>\n",
       "      <th>3</th>\n",
       "      <td>555320</td>\n",
       "      <td>0.72</td>\n",
       "    </tr>\n",
       "    <tr>\n",
       "      <th>4</th>\n",
       "      <td>826430</td>\n",
       "      <td>0.08</td>\n",
       "    </tr>\n",
       "  </tbody>\n",
       "</table>\n",
       "</div>"
      ],
      "text/plain": [
       "       id  job_satisfaction_rate\n",
       "0  130604                   0.74\n",
       "1  825977                   0.75\n",
       "2  418490                   0.60\n",
       "3  555320                   0.72\n",
       "4  826430                   0.08"
      ]
     },
     "execution_count": 5,
     "metadata": {},
     "output_type": "execute_result"
    }
   ],
   "source": [
    "display(train_job_satisfaction_rate.head())\n",
    "display(test_features.head())\n",
    "test_target_job_satisfaction_rate.head()"
   ]
  },
  {
   "cell_type": "code",
   "execution_count": 6,
   "id": "f11c4959",
   "metadata": {},
   "outputs": [
    {
     "data": {
      "text/html": [
       "<div>\n",
       "<style scoped>\n",
       "    .dataframe tbody tr th:only-of-type {\n",
       "        vertical-align: middle;\n",
       "    }\n",
       "\n",
       "    .dataframe tbody tr th {\n",
       "        vertical-align: top;\n",
       "    }\n",
       "\n",
       "    .dataframe thead th {\n",
       "        text-align: right;\n",
       "    }\n",
       "</style>\n",
       "<table border=\"1\" class=\"dataframe\">\n",
       "  <thead>\n",
       "    <tr style=\"text-align: right;\">\n",
       "      <th></th>\n",
       "      <th>id</th>\n",
       "      <th>employment_years</th>\n",
       "      <th>supervisor_evaluation</th>\n",
       "      <th>salary</th>\n",
       "      <th>job_satisfaction_rate</th>\n",
       "    </tr>\n",
       "  </thead>\n",
       "  <tbody>\n",
       "    <tr>\n",
       "      <th>count</th>\n",
       "      <td>4000.000000</td>\n",
       "      <td>4000.000000</td>\n",
       "      <td>4000.000000</td>\n",
       "      <td>4000.000000</td>\n",
       "      <td>4000.000000</td>\n",
       "    </tr>\n",
       "    <tr>\n",
       "      <th>mean</th>\n",
       "      <td>544957.621000</td>\n",
       "      <td>3.718500</td>\n",
       "      <td>3.476500</td>\n",
       "      <td>33926.700000</td>\n",
       "      <td>0.533995</td>\n",
       "    </tr>\n",
       "    <tr>\n",
       "      <th>std</th>\n",
       "      <td>257883.104622</td>\n",
       "      <td>2.542513</td>\n",
       "      <td>1.008812</td>\n",
       "      <td>14900.703838</td>\n",
       "      <td>0.225327</td>\n",
       "    </tr>\n",
       "    <tr>\n",
       "      <th>min</th>\n",
       "      <td>100954.000000</td>\n",
       "      <td>1.000000</td>\n",
       "      <td>1.000000</td>\n",
       "      <td>12000.000000</td>\n",
       "      <td>0.030000</td>\n",
       "    </tr>\n",
       "    <tr>\n",
       "      <th>25%</th>\n",
       "      <td>322836.750000</td>\n",
       "      <td>2.000000</td>\n",
       "      <td>3.000000</td>\n",
       "      <td>22800.000000</td>\n",
       "      <td>0.360000</td>\n",
       "    </tr>\n",
       "    <tr>\n",
       "      <th>50%</th>\n",
       "      <td>534082.500000</td>\n",
       "      <td>3.000000</td>\n",
       "      <td>4.000000</td>\n",
       "      <td>30000.000000</td>\n",
       "      <td>0.560000</td>\n",
       "    </tr>\n",
       "    <tr>\n",
       "      <th>75%</th>\n",
       "      <td>771446.000000</td>\n",
       "      <td>6.000000</td>\n",
       "      <td>4.000000</td>\n",
       "      <td>43200.000000</td>\n",
       "      <td>0.710000</td>\n",
       "    </tr>\n",
       "    <tr>\n",
       "      <th>max</th>\n",
       "      <td>999521.000000</td>\n",
       "      <td>10.000000</td>\n",
       "      <td>5.000000</td>\n",
       "      <td>98400.000000</td>\n",
       "      <td>1.000000</td>\n",
       "    </tr>\n",
       "  </tbody>\n",
       "</table>\n",
       "</div>"
      ],
      "text/plain": [
       "                  id  employment_years  supervisor_evaluation        salary  \\\n",
       "count    4000.000000       4000.000000            4000.000000   4000.000000   \n",
       "mean   544957.621000          3.718500               3.476500  33926.700000   \n",
       "std    257883.104622          2.542513               1.008812  14900.703838   \n",
       "min    100954.000000          1.000000               1.000000  12000.000000   \n",
       "25%    322836.750000          2.000000               3.000000  22800.000000   \n",
       "50%    534082.500000          3.000000               4.000000  30000.000000   \n",
       "75%    771446.000000          6.000000               4.000000  43200.000000   \n",
       "max    999521.000000         10.000000               5.000000  98400.000000   \n",
       "\n",
       "       job_satisfaction_rate  \n",
       "count            4000.000000  \n",
       "mean                0.533995  \n",
       "std                 0.225327  \n",
       "min                 0.030000  \n",
       "25%                 0.360000  \n",
       "50%                 0.560000  \n",
       "75%                 0.710000  \n",
       "max                 1.000000  "
      ]
     },
     "metadata": {},
     "output_type": "display_data"
    },
    {
     "data": {
      "text/html": [
       "<div>\n",
       "<style scoped>\n",
       "    .dataframe tbody tr th:only-of-type {\n",
       "        vertical-align: middle;\n",
       "    }\n",
       "\n",
       "    .dataframe tbody tr th {\n",
       "        vertical-align: top;\n",
       "    }\n",
       "\n",
       "    .dataframe thead th {\n",
       "        text-align: right;\n",
       "    }\n",
       "</style>\n",
       "<table border=\"1\" class=\"dataframe\">\n",
       "  <thead>\n",
       "    <tr style=\"text-align: right;\">\n",
       "      <th></th>\n",
       "      <th>id</th>\n",
       "      <th>employment_years</th>\n",
       "      <th>supervisor_evaluation</th>\n",
       "      <th>salary</th>\n",
       "    </tr>\n",
       "  </thead>\n",
       "  <tbody>\n",
       "    <tr>\n",
       "      <th>count</th>\n",
       "      <td>2000.000000</td>\n",
       "      <td>2000.000000</td>\n",
       "      <td>2000.000000</td>\n",
       "      <td>2000.000000</td>\n",
       "    </tr>\n",
       "    <tr>\n",
       "      <th>mean</th>\n",
       "      <td>552765.213500</td>\n",
       "      <td>3.666500</td>\n",
       "      <td>3.526500</td>\n",
       "      <td>34066.800000</td>\n",
       "    </tr>\n",
       "    <tr>\n",
       "      <th>std</th>\n",
       "      <td>253851.326129</td>\n",
       "      <td>2.537222</td>\n",
       "      <td>0.996892</td>\n",
       "      <td>15398.436729</td>\n",
       "    </tr>\n",
       "    <tr>\n",
       "      <th>min</th>\n",
       "      <td>100298.000000</td>\n",
       "      <td>1.000000</td>\n",
       "      <td>1.000000</td>\n",
       "      <td>12000.000000</td>\n",
       "    </tr>\n",
       "    <tr>\n",
       "      <th>25%</th>\n",
       "      <td>339052.000000</td>\n",
       "      <td>1.000000</td>\n",
       "      <td>3.000000</td>\n",
       "      <td>22800.000000</td>\n",
       "    </tr>\n",
       "    <tr>\n",
       "      <th>50%</th>\n",
       "      <td>550793.000000</td>\n",
       "      <td>3.000000</td>\n",
       "      <td>4.000000</td>\n",
       "      <td>30000.000000</td>\n",
       "    </tr>\n",
       "    <tr>\n",
       "      <th>75%</th>\n",
       "      <td>765763.750000</td>\n",
       "      <td>6.000000</td>\n",
       "      <td>4.000000</td>\n",
       "      <td>43200.000000</td>\n",
       "    </tr>\n",
       "    <tr>\n",
       "      <th>max</th>\n",
       "      <td>999029.000000</td>\n",
       "      <td>10.000000</td>\n",
       "      <td>5.000000</td>\n",
       "      <td>96000.000000</td>\n",
       "    </tr>\n",
       "  </tbody>\n",
       "</table>\n",
       "</div>"
      ],
      "text/plain": [
       "                  id  employment_years  supervisor_evaluation        salary\n",
       "count    2000.000000       2000.000000            2000.000000   2000.000000\n",
       "mean   552765.213500          3.666500               3.526500  34066.800000\n",
       "std    253851.326129          2.537222               0.996892  15398.436729\n",
       "min    100298.000000          1.000000               1.000000  12000.000000\n",
       "25%    339052.000000          1.000000               3.000000  22800.000000\n",
       "50%    550793.000000          3.000000               4.000000  30000.000000\n",
       "75%    765763.750000          6.000000               4.000000  43200.000000\n",
       "max    999029.000000         10.000000               5.000000  96000.000000"
      ]
     },
     "metadata": {},
     "output_type": "display_data"
    },
    {
     "data": {
      "text/html": [
       "<div>\n",
       "<style scoped>\n",
       "    .dataframe tbody tr th:only-of-type {\n",
       "        vertical-align: middle;\n",
       "    }\n",
       "\n",
       "    .dataframe tbody tr th {\n",
       "        vertical-align: top;\n",
       "    }\n",
       "\n",
       "    .dataframe thead th {\n",
       "        text-align: right;\n",
       "    }\n",
       "</style>\n",
       "<table border=\"1\" class=\"dataframe\">\n",
       "  <thead>\n",
       "    <tr style=\"text-align: right;\">\n",
       "      <th></th>\n",
       "      <th>id</th>\n",
       "      <th>job_satisfaction_rate</th>\n",
       "    </tr>\n",
       "  </thead>\n",
       "  <tbody>\n",
       "    <tr>\n",
       "      <th>count</th>\n",
       "      <td>2000.000000</td>\n",
       "      <td>2000.00000</td>\n",
       "    </tr>\n",
       "    <tr>\n",
       "      <th>mean</th>\n",
       "      <td>552765.213500</td>\n",
       "      <td>0.54878</td>\n",
       "    </tr>\n",
       "    <tr>\n",
       "      <th>std</th>\n",
       "      <td>253851.326129</td>\n",
       "      <td>0.22011</td>\n",
       "    </tr>\n",
       "    <tr>\n",
       "      <th>min</th>\n",
       "      <td>100298.000000</td>\n",
       "      <td>0.03000</td>\n",
       "    </tr>\n",
       "    <tr>\n",
       "      <th>25%</th>\n",
       "      <td>339052.000000</td>\n",
       "      <td>0.38000</td>\n",
       "    </tr>\n",
       "    <tr>\n",
       "      <th>50%</th>\n",
       "      <td>550793.000000</td>\n",
       "      <td>0.58000</td>\n",
       "    </tr>\n",
       "    <tr>\n",
       "      <th>75%</th>\n",
       "      <td>765763.750000</td>\n",
       "      <td>0.72000</td>\n",
       "    </tr>\n",
       "    <tr>\n",
       "      <th>max</th>\n",
       "      <td>999029.000000</td>\n",
       "      <td>1.00000</td>\n",
       "    </tr>\n",
       "  </tbody>\n",
       "</table>\n",
       "</div>"
      ],
      "text/plain": [
       "                  id  job_satisfaction_rate\n",
       "count    2000.000000             2000.00000\n",
       "mean   552765.213500                0.54878\n",
       "std    253851.326129                0.22011\n",
       "min    100298.000000                0.03000\n",
       "25%    339052.000000                0.38000\n",
       "50%    550793.000000                0.58000\n",
       "75%    765763.750000                0.72000\n",
       "max    999029.000000                1.00000"
      ]
     },
     "execution_count": 6,
     "metadata": {},
     "output_type": "execute_result"
    }
   ],
   "source": [
    "display(train_job_satisfaction_rate.describe())\n",
    "display(test_features.describe())\n",
    "test_target_job_satisfaction_rate.describe()"
   ]
  },
  {
   "cell_type": "code",
   "execution_count": 7,
   "id": "f03a172b",
   "metadata": {},
   "outputs": [
    {
     "name": "stdout",
     "output_type": "stream",
     "text": [
      "<class 'pandas.core.frame.DataFrame'>\n",
      "RangeIndex: 4000 entries, 0 to 3999\n",
      "Data columns (total 10 columns):\n",
      " #   Column                 Non-Null Count  Dtype  \n",
      "---  ------                 --------------  -----  \n",
      " 0   id                     4000 non-null   int64  \n",
      " 1   dept                   3994 non-null   object \n",
      " 2   level                  3996 non-null   object \n",
      " 3   workload               4000 non-null   object \n",
      " 4   employment_years       4000 non-null   int64  \n",
      " 5   last_year_promo        4000 non-null   object \n",
      " 6   last_year_violations   4000 non-null   object \n",
      " 7   supervisor_evaluation  4000 non-null   int64  \n",
      " 8   salary                 4000 non-null   int64  \n",
      " 9   job_satisfaction_rate  4000 non-null   float64\n",
      "dtypes: float64(1), int64(4), object(5)\n",
      "memory usage: 312.6+ KB\n"
     ]
    },
    {
     "data": {
      "text/plain": [
       "None"
      ]
     },
     "metadata": {},
     "output_type": "display_data"
    },
    {
     "name": "stdout",
     "output_type": "stream",
     "text": [
      "<class 'pandas.core.frame.DataFrame'>\n",
      "RangeIndex: 2000 entries, 0 to 1999\n",
      "Data columns (total 9 columns):\n",
      " #   Column                 Non-Null Count  Dtype \n",
      "---  ------                 --------------  ----- \n",
      " 0   id                     2000 non-null   int64 \n",
      " 1   dept                   1998 non-null   object\n",
      " 2   level                  1999 non-null   object\n",
      " 3   workload               2000 non-null   object\n",
      " 4   employment_years       2000 non-null   int64 \n",
      " 5   last_year_promo        2000 non-null   object\n",
      " 6   last_year_violations   2000 non-null   object\n",
      " 7   supervisor_evaluation  2000 non-null   int64 \n",
      " 8   salary                 2000 non-null   int64 \n",
      "dtypes: int64(4), object(5)\n",
      "memory usage: 140.8+ KB\n"
     ]
    },
    {
     "data": {
      "text/plain": [
       "None"
      ]
     },
     "metadata": {},
     "output_type": "display_data"
    },
    {
     "name": "stdout",
     "output_type": "stream",
     "text": [
      "<class 'pandas.core.frame.DataFrame'>\n",
      "RangeIndex: 2000 entries, 0 to 1999\n",
      "Data columns (total 2 columns):\n",
      " #   Column                 Non-Null Count  Dtype  \n",
      "---  ------                 --------------  -----  \n",
      " 0   id                     2000 non-null   int64  \n",
      " 1   job_satisfaction_rate  2000 non-null   float64\n",
      "dtypes: float64(1), int64(1)\n",
      "memory usage: 31.4 KB\n"
     ]
    }
   ],
   "source": [
    "display(train_job_satisfaction_rate.info())\n",
    "display(test_features.info())\n",
    "test_target_job_satisfaction_rate.info()"
   ]
  },
  {
   "cell_type": "markdown",
   "id": "cb08e3a6",
   "metadata": {},
   "source": [
    "# Вывод по описательной статистике:\n",
    "Данные загружены, в предоставленных таблицах аномальных либо нулевых значений не обнаружено, видим пропуски в таблице train_job_satisfaction_rate и test_features, исправим их на этапе предобработки"
   ]
  },
  {
   "cell_type": "markdown",
   "id": "29d17e81",
   "metadata": {},
   "source": [
    "## Предобработка данных"
   ]
  },
  {
   "cell_type": "code",
   "execution_count": 8,
   "id": "e65db603",
   "metadata": {},
   "outputs": [
    {
     "name": "stdout",
     "output_type": "stream",
     "text": [
      "уникальные значения в столбце dept ['sales' 'hr' 'technology' 'purchasing' 'marketing' nan]\n",
      "уникальные значения в столбце level ['junior' 'middle' 'sinior' nan]\n",
      "уникальные значения в столбце workload ['medium' 'high' 'low']\n",
      "уникальные значения в столбце employment_years [ 2  1  4  7  9  6  3 10  8  5]\n",
      "уникальные значения в столбце last_year_promo ['no' 'yes']\n",
      "уникальные значения в столбце last_year_violations ['no' 'yes']\n",
      "уникальные значения в столбце supervisor_evaluation [1 5 2 3 4]\n"
     ]
    }
   ],
   "source": [
    "#Для начала ищем неявные дубликаты в данных\n",
    "for c in train_job_satisfaction_rate.iloc[:,1:8]:\n",
    "    print(f'уникальные значения в столбце {c} {train_job_satisfaction_rate[c].unique()}')\n",
    "    "
   ]
  },
  {
   "cell_type": "code",
   "execution_count": 9,
   "id": "11b0be9b",
   "metadata": {},
   "outputs": [
    {
     "name": "stdout",
     "output_type": "stream",
     "text": [
      "уникальные значения в столбце dept ['marketing' 'hr' 'sales' 'purchasing' 'technology' nan ' ']\n",
      "уникальные значения в столбце level ['junior' 'middle' 'sinior' nan]\n",
      "уникальные значения в столбце workload ['medium' 'low' 'high' ' ']\n",
      "уникальные значения в столбце employment_years [ 2  1  5  6  3  9  7  4  8 10]\n",
      "уникальные значения в столбце last_year_promo ['no' 'yes']\n",
      "уникальные значения в столбце last_year_violations ['no' 'yes']\n",
      "уникальные значения в столбце supervisor_evaluation [5 4 3 1 2]\n"
     ]
    }
   ],
   "source": [
    "for c in test_features.iloc[:,1:8]:\n",
    "    print(f'уникальные значения в столбце {c} {test_features[c].unique()}')"
   ]
  },
  {
   "cell_type": "code",
   "execution_count": 10,
   "id": "c094632c",
   "metadata": {},
   "outputs": [
    {
     "name": "stdout",
     "output_type": "stream",
     "text": [
      "0\n",
      "0\n",
      "0\n"
     ]
    }
   ],
   "source": [
    "#ищем янвые дубликаты\n",
    "print(train_job_satisfaction_rate.duplicated().sum())\n",
    "print(test_features.duplicated().sum())\n",
    "print(test_target_job_satisfaction_rate.duplicated().sum())"
   ]
  },
  {
   "cell_type": "code",
   "execution_count": 11,
   "id": "1c0646f6",
   "metadata": {},
   "outputs": [
    {
     "name": "stdout",
     "output_type": "stream",
     "text": [
      "id                       0\n",
      "dept                     6\n",
      "level                    4\n",
      "workload                 0\n",
      "employment_years         0\n",
      "last_year_promo          0\n",
      "last_year_violations     0\n",
      "supervisor_evaluation    0\n",
      "salary                   0\n",
      "job_satisfaction_rate    0\n",
      "dtype: int64\n",
      "\n",
      "id                       0\n",
      "dept                     2\n",
      "level                    1\n",
      "workload                 0\n",
      "employment_years         0\n",
      "last_year_promo          0\n",
      "last_year_violations     0\n",
      "supervisor_evaluation    0\n",
      "salary                   0\n",
      "dtype: int64\n",
      "\n",
      "id                       0\n",
      "job_satisfaction_rate    0\n",
      "dtype: int64\n"
     ]
    }
   ],
   "source": [
    "print(train_job_satisfaction_rate.isna().sum())\n",
    "print()\n",
    "print(test_features.isna().sum())\n",
    "print()\n",
    "print(test_target_job_satisfaction_rate.isna().sum()) #ищем пропуски"
   ]
  },
  {
   "cell_type": "markdown",
   "id": "81dffda9",
   "metadata": {},
   "source": [
    "Видим пропущенные значения в столбцах dept и level в таблицах с признаками. Также, на этапе поиска неявных дубликатов можно было заметить значения \" \"(т.е. пропуск) в столбце workload, заменим их на nan"
   ]
  },
  {
   "cell_type": "markdown",
   "id": "8d7cd11a",
   "metadata": {},
   "source": [
    "# Вывод\n",
    "Проверли предобработку, заменили пропуски на nan, дубликатов в данных не обнаружено, аномальные значения также отсутсвуют"
   ]
  },
  {
   "cell_type": "markdown",
   "id": "a48def66",
   "metadata": {},
   "source": [
    "## Исселдовательский анализ"
   ]
  },
  {
   "cell_type": "code",
   "execution_count": 12,
   "id": "24d4dc93",
   "metadata": {},
   "outputs": [],
   "source": [
    "def cat_plots(df,about): #функция для построения графиков по категориальным признакам, с аргументами:\n",
    "    #df - табл с данными, about - название графика \n",
    "    df.value_counts().plot(  \n",
    "        kind = 'barh', \n",
    "        color = 'crimson')\n",
    "    plt.xlabel('Частота'),\n",
    "    plt.ylabel(\"Значения\"),\n",
    "    plt.title('Распределение значений по признаку {0}'.format(about));\n",
    "    plt.show()"
   ]
  },
  {
   "cell_type": "code",
   "execution_count": 13,
   "id": "2e50d3f1",
   "metadata": {},
   "outputs": [],
   "source": [
    "def num_plots(df,about):#функция для построения графиков по количественным признакам \n",
    "    fig,axes = plt.subplots(1, 2,figsize = (15,5))\n",
    "    plt.subplot(1,2,1)\n",
    "    a = df.count()\n",
    "    b = round(1 + 3.322*math.log(a)) #для определения оптимального количества интервалов используется правило Стёрджеса\n",
    "    plt.hist(df,bins = b,ec='black')\n",
    "    plt.xlabel('Значения')\n",
    "    plt.ylabel(\"Частота\")\n",
    "    plt.title('Распределение значений по признаку {0}'.format(about)),\n",
    "    plt.subplot(1,2,2)\n",
    "    plt.boxplot(df, vert=False)\n",
    "    plt.title('Ящик с усами для признака {0}'.format(about))\n",
    "    plt.show();"
   ]
  },
  {
   "cell_type": "code",
   "execution_count": 14,
   "id": "6f3b74f8",
   "metadata": {},
   "outputs": [
    {
     "data": {
      "image/png": "[encoded data removed]",
      "text/plain": [
       "<Figure size 1080x360 with 2 Axes>"
      ]
     },
     "metadata": {
      "needs_background": "light"
     },
     "output_type": "display_data"
    },
    {
     "data": {
      "image/png": "[encoded data removed]",
      "text/plain": [
       "<Figure size 1080x360 with 2 Axes>"
      ]
     },
     "metadata": {
      "needs_background": "light"
     },
     "output_type": "display_data"
    },
    {
     "data": {
      "image/png": "[encoded data removed]",
      "text/plain": [
       "<Figure size 1080x360 with 2 Axes>"
      ]
     },
     "metadata": {
      "needs_background": "light"
     },
     "output_type": "display_data"
    },
    {
     "data": {
      "image/png": "[encoded data removed]",
      "text/plain": [
       "<Figure size 1080x360 with 2 Axes>"
      ]
     },
     "metadata": {
      "needs_background": "light"
     },
     "output_type": "display_data"
    }
   ],
   "source": [
    "for_num = train_job_satisfaction_rate[train_job_satisfaction_rate.select_dtypes(include='number').columns].drop(['id'], axis=1)\n",
    "for x in for_num:\n",
    "    num_plots(train_job_satisfaction_rate[x],x)\n",
    "    plt.show()"
   ]
  },
  {
   "cell_type": "code",
   "execution_count": 15,
   "id": "d9f68535",
   "metadata": {},
   "outputs": [
    {
     "data": {
      "text/html": [
       "<div>\n",
       "<style scoped>\n",
       "    .dataframe tbody tr th:only-of-type {\n",
       "        vertical-align: middle;\n",
       "    }\n",
       "\n",
       "    .dataframe tbody tr th {\n",
       "        vertical-align: top;\n",
       "    }\n",
       "\n",
       "    .dataframe thead th {\n",
       "        text-align: right;\n",
       "    }\n",
       "</style>\n",
       "<table border=\"1\" class=\"dataframe\">\n",
       "  <thead>\n",
       "    <tr style=\"text-align: right;\">\n",
       "      <th></th>\n",
       "      <th>dept</th>\n",
       "      <th>level</th>\n",
       "      <th>workload</th>\n",
       "      <th>last_year_promo</th>\n",
       "      <th>last_year_violations</th>\n",
       "    </tr>\n",
       "  </thead>\n",
       "  <tbody>\n",
       "    <tr>\n",
       "      <th>0</th>\n",
       "      <td>sales</td>\n",
       "      <td>junior</td>\n",
       "      <td>medium</td>\n",
       "      <td>no</td>\n",
       "      <td>no</td>\n",
       "    </tr>\n",
       "    <tr>\n",
       "      <th>1</th>\n",
       "      <td>hr</td>\n",
       "      <td>junior</td>\n",
       "      <td>high</td>\n",
       "      <td>no</td>\n",
       "      <td>no</td>\n",
       "    </tr>\n",
       "    <tr>\n",
       "      <th>2</th>\n",
       "      <td>sales</td>\n",
       "      <td>junior</td>\n",
       "      <td>low</td>\n",
       "      <td>no</td>\n",
       "      <td>no</td>\n",
       "    </tr>\n",
       "    <tr>\n",
       "      <th>3</th>\n",
       "      <td>technology</td>\n",
       "      <td>junior</td>\n",
       "      <td>low</td>\n",
       "      <td>no</td>\n",
       "      <td>no</td>\n",
       "    </tr>\n",
       "    <tr>\n",
       "      <th>4</th>\n",
       "      <td>hr</td>\n",
       "      <td>junior</td>\n",
       "      <td>medium</td>\n",
       "      <td>no</td>\n",
       "      <td>no</td>\n",
       "    </tr>\n",
       "    <tr>\n",
       "      <th>...</th>\n",
       "      <td>...</td>\n",
       "      <td>...</td>\n",
       "      <td>...</td>\n",
       "      <td>...</td>\n",
       "      <td>...</td>\n",
       "    </tr>\n",
       "    <tr>\n",
       "      <th>3995</th>\n",
       "      <td>technology</td>\n",
       "      <td>junior</td>\n",
       "      <td>high</td>\n",
       "      <td>no</td>\n",
       "      <td>no</td>\n",
       "    </tr>\n",
       "    <tr>\n",
       "      <th>3996</th>\n",
       "      <td>sales</td>\n",
       "      <td>junior</td>\n",
       "      <td>medium</td>\n",
       "      <td>no</td>\n",
       "      <td>no</td>\n",
       "    </tr>\n",
       "    <tr>\n",
       "      <th>3997</th>\n",
       "      <td>sales</td>\n",
       "      <td>middle</td>\n",
       "      <td>low</td>\n",
       "      <td>no</td>\n",
       "      <td>no</td>\n",
       "    </tr>\n",
       "    <tr>\n",
       "      <th>3998</th>\n",
       "      <td>sales</td>\n",
       "      <td>junior</td>\n",
       "      <td>medium</td>\n",
       "      <td>no</td>\n",
       "      <td>no</td>\n",
       "    </tr>\n",
       "    <tr>\n",
       "      <th>3999</th>\n",
       "      <td>technology</td>\n",
       "      <td>middle</td>\n",
       "      <td>medium</td>\n",
       "      <td>no</td>\n",
       "      <td>yes</td>\n",
       "    </tr>\n",
       "  </tbody>\n",
       "</table>\n",
       "<p>4000 rows × 5 columns</p>\n",
       "</div>"
      ],
      "text/plain": [
       "            dept   level workload last_year_promo last_year_violations\n",
       "0          sales  junior   medium              no                   no\n",
       "1             hr  junior     high              no                   no\n",
       "2          sales  junior      low              no                   no\n",
       "3     technology  junior      low              no                   no\n",
       "4             hr  junior   medium              no                   no\n",
       "...          ...     ...      ...             ...                  ...\n",
       "3995  technology  junior     high              no                   no\n",
       "3996       sales  junior   medium              no                   no\n",
       "3997       sales  middle      low              no                   no\n",
       "3998       sales  junior   medium              no                   no\n",
       "3999  technology  middle   medium              no                  yes\n",
       "\n",
       "[4000 rows x 5 columns]"
      ]
     },
     "execution_count": 15,
     "metadata": {},
     "output_type": "execute_result"
    }
   ],
   "source": [
    "train_job_satisfaction_rate[train_job_satisfaction_rate.select_dtypes(exclude='number').columns]"
   ]
  },
  {
   "cell_type": "code",
   "execution_count": 16,
   "id": "fa19dd44",
   "metadata": {},
   "outputs": [
    {
     "data": {
      "image/png": "[encoded data removed]",
      "text/plain": [
       "<Figure size 432x288 with 1 Axes>"
      ]
     },
     "metadata": {
      "needs_background": "light"
     },
     "output_type": "display_data"
    },
    {
     "data": {
      "image/png": "[encoded data removed]",
      "text/plain": [
       "<Figure size 432x288 with 1 Axes>"
      ]
     },
     "metadata": {
      "needs_background": "light"
     },
     "output_type": "display_data"
    },
    {
     "data": {
      "image/png": "[encoded data removed]",
      "text/plain": [
       "<Figure size 432x288 with 1 Axes>"
      ]
     },
     "metadata": {
      "needs_background": "light"
     },
     "output_type": "display_data"
    },
    {
     "data": {
      "image/png": "[encoded data removed]",
      "text/plain": [
       "<Figure size 432x288 with 1 Axes>"
      ]
     },
     "metadata": {
      "needs_background": "light"
     },
     "output_type": "display_data"
    },
    {
     "data": {
      "image/png": "[encoded data removed]",
      "text/plain": [
       "<Figure size 432x288 with 1 Axes>"
      ]
     },
     "metadata": {
      "needs_background": "light"
     },
     "output_type": "display_data"
    }
   ],
   "source": [
    "cat_train = train_job_satisfaction_rate[train_job_satisfaction_rate.select_dtypes(exclude='number').columns]\n",
    "for x in cat_train:\n",
    "    cat_plots(train_job_satisfaction_rate[x],x)"
   ]
  },
  {
   "cell_type": "code",
   "execution_count": 17,
   "id": "d71dee35",
   "metadata": {},
   "outputs": [
    {
     "data": {
      "image/png": "[encoded data removed]",
      "text/plain": [
       "<Figure size 1080x360 with 2 Axes>"
      ]
     },
     "metadata": {
      "needs_background": "light"
     },
     "output_type": "display_data"
    },
    {
     "data": {
      "image/png": "[encoded data removed]",
      "text/plain": [
       "<Figure size 1080x360 with 2 Axes>"
      ]
     },
     "metadata": {
      "needs_background": "light"
     },
     "output_type": "display_data"
    },
    {
     "data": {
      "image/png": "[encoded data removed]",
      "text/plain": [
       "<Figure size 1080x360 with 2 Axes>"
      ]
     },
     "metadata": {
      "needs_background": "light"
     },
     "output_type": "display_data"
    }
   ],
   "source": [
    "for_num_test = test_features[test_features.select_dtypes(include='number').columns].drop(['id'], axis=1)\n",
    "for x in for_num_test:\n",
    "    num_plots(test_features[x],x)\n",
    "    plt.show()"
   ]
  },
  {
   "cell_type": "code",
   "execution_count": 18,
   "id": "e69ddb39",
   "metadata": {},
   "outputs": [
    {
     "data": {
      "image/png": "[encoded data removed]",
      "text/plain": [
       "<Figure size 432x288 with 1 Axes>"
      ]
     },
     "metadata": {
      "needs_background": "light"
     },
     "output_type": "display_data"
    },
    {
     "data": {
      "image/png": "[encoded data removed]",
      "text/plain": [
       "<Figure size 432x288 with 1 Axes>"
      ]
     },
     "metadata": {
      "needs_background": "light"
     },
     "output_type": "display_data"
    },
    {
     "data": {
      "image/png": "[encoded data removed]",
      "text/plain": [
       "<Figure size 432x288 with 1 Axes>"
      ]
     },
     "metadata": {
      "needs_background": "light"
     },
     "output_type": "display_data"
    },
    {
     "data": {
      "image/png": "[encoded data removed]",
      "text/plain": [
       "<Figure size 432x288 with 1 Axes>"
      ]
     },
     "metadata": {
      "needs_background": "light"
     },
     "output_type": "display_data"
    },
    {
     "data": {
      "image/png": "[encoded data removed]",
      "text/plain": [
       "<Figure size 432x288 with 1 Axes>"
      ]
     },
     "metadata": {
      "needs_background": "light"
     },
     "output_type": "display_data"
    }
   ],
   "source": [
    "cat_test = test_features[test_features.select_dtypes(exclude='number').columns]\n",
    "for x in cat_test:\n",
    "    cat_plots(test_features[x],x)"
   ]
  },
  {
   "cell_type": "code",
   "execution_count": 19,
   "id": "535b4e1e",
   "metadata": {},
   "outputs": [
    {
     "data": {
      "image/png": "[encoded data removed]",
      "text/plain": [
       "<Figure size 1080x360 with 2 Axes>"
      ]
     },
     "metadata": {
      "needs_background": "light"
     },
     "output_type": "display_data"
    }
   ],
   "source": [
    "num_plots(test_target_job_satisfaction_rate.drop('id',axis=1),'job_satisfaction_rate')"
   ]
  },
  {
   "cell_type": "markdown",
   "id": "d4dc0e4c",
   "metadata": {},
   "source": [
    "# Вывод\n",
    "По результатам исследовательского анализа можно сказать,что:\n",
    "\n",
    "- dept: большинство работников находится в отделе продаж, меньше всего в отделе HR\n",
    "- level: меньше всего в компании работает сеньеров, примерно поровну работников ранга джун и мидл\n",
    "- workload: достаточно мало работников имеют сильную загруженность, большинство сотрудников загружены средне\n",
    "- last_year_promo: за последний год практически не было повышений\n",
    "- last_year_violations: порядка 12% сотрудников нарушали условие трудового договора, остальные сотрудники не нарушали\n",
    "- employment_years: Мультимодальное распределение, большинство работников устроились в компанию недавно, чем больше опыт работы в компании, тем меньше таких работников(с большим опытом)\n",
    "- supervisor_evaluation: Мультимодальное распределение, почти все работники получили оценку 4 на втором месте по популярности оценка 3, самая редкая оценка - 1\n",
    "- salary: Нормальное распределение со смещением влево, в основном работники получают от 20 до 30 тысяч, также в данных есть достаточно большие значения, но я бы не сказал, что эти данные могут навредить модели, а также не думаю, что их стоит удалять, тк сеньеры получают высокие зп и наличие в данных таких значений, поможет правильно классифицировать удовлетвроенность работника уровня сеньер\n",
    "- целевой признак job_satisfaction_rate:Нормальное распределение со смещением вправо, в среднем работники удовлетворены на 70%, также большое количество работников удовлетворены на 80%\n",
    "\n",
    "Все признаки изучили, по поводу выбросов описано в пункте salary, исправлять данные не нужно"
   ]
  },
  {
   "cell_type": "markdown",
   "id": "dc7b97b8",
   "metadata": {},
   "source": [
    "## Подготовка данных"
   ]
  },
  {
   "cell_type": "markdown",
   "id": "25f01aec",
   "metadata": {},
   "source": [
    "Признаки level и workload выстраиваются по рангу, поэтому кодируем их OrdinalEncoder\n",
    "\n",
    "Остальные категориальные признаки кодируем OHE\n",
    "\n",
    "Количественные признаки масштабируем"
   ]
  },
  {
   "cell_type": "code",
   "execution_count": 20,
   "id": "f62960c7",
   "metadata": {},
   "outputs": [],
   "source": [
    "df = test_features.merge(test_target_job_satisfaction_rate, on='id', how='left') #объеденим оба теста в 1 таблицу"
   ]
  },
  {
   "cell_type": "code",
   "execution_count": 21,
   "id": "bb98fff0",
   "metadata": {},
   "outputs": [
    {
     "data": {
      "image/png": "[encoded data removed]",
      "text/plain": [
       "<Figure size 1440x1080 with 2 Axes>"
      ]
     },
     "metadata": {
      "needs_background": "light"
     },
     "output_type": "display_data"
    }
   ],
   "source": [
    "phik_overview=df.drop('id', axis=1).phik_matrix(verbose=False)\n",
    "\n",
    "plot_correlation_matrix(\n",
    "    phik_overview.values,\n",
    "    x_labels=phik_overview.columns,\n",
    "    y_labels=phik_overview.index,\n",
    "    vmin=0, vmax=1, color_map='Greens',\n",
    "    title=r'Корреляция $\\phi_K$',\n",
    "    fontsize_factor=1.5,\n",
    "    figsize=(20, 15)\n",
    ")"
   ]
  },
  {
   "cell_type": "code",
   "execution_count": 22,
   "id": "2d64596e",
   "metadata": {},
   "outputs": [
    {
     "name": "stdout",
     "output_type": "stream",
     "text": [
      "245\n"
     ]
    }
   ],
   "source": [
    "X0_train = train_job_satisfaction_rate.drop(['id'], axis=1) #переменная в которой хранится трейн выборка с целевым\n",
    "print(X0_train.duplicated().sum())\n",
    "X0_train.drop_duplicates(inplace=True)#после удаления id появляются дубликаты"
   ]
  },
  {
   "cell_type": "code",
   "execution_count": 23,
   "id": "984784ed",
   "metadata": {},
   "outputs": [],
   "source": [
    "X_train = X0_train.drop('job_satisfaction_rate', axis=1) #трейн выборка\n",
    "y_train = X0_train['job_satisfaction_rate'] #целевой\n",
    "X_test = df.drop(['job_satisfaction_rate','id'], axis=1) #тест выборка\n",
    "y_test = df['job_satisfaction_rate'] #целевой"
   ]
  },
  {
   "cell_type": "markdown",
   "id": "9eec9e50",
   "metadata": {},
   "source": [
    "## Обучение моделей"
   ]
  },
  {
   "cell_type": "code",
   "execution_count": 24,
   "id": "c25efae7",
   "metadata": {},
   "outputs": [
    {
     "data": {
      "text/html": [
       "<style>#sk-container-id-1 {\n",
       "  /* Definition of color scheme common for light and dark mode */\n",
       "  --sklearn-color-text: black;\n",
       "  --sklearn-color-line: gray;\n",
       "  /* Definition of color scheme for unfitted estimators */\n",
       "  --sklearn-color-unfitted-level-0: #fff5e6;\n",
       "  --sklearn-color-unfitted-level-1: #f6e4d2;\n",
       "  --sklearn-color-unfitted-level-2: #ffe0b3;\n",
       "  --sklearn-color-unfitted-level-3: chocolate;\n",
       "  /* Definition of color scheme for fitted estimators */\n",
       "  --sklearn-color-fitted-level-0: #f0f8ff;\n",
       "  --sklearn-color-fitted-level-1: #d4ebff;\n",
       "  --sklearn-color-fitted-level-2: #b3dbfd;\n",
       "  --sklearn-color-fitted-level-3: cornflowerblue;\n",
       "\n",
       "  /* Specific color for light theme */\n",
       "  --sklearn-color-text-on-default-background: var(--sg-text-color, var(--theme-code-foreground, var(--jp-content-font-color1, black)));\n",
       "  --sklearn-color-background: var(--sg-background-color, var(--theme-background, var(--jp-layout-color0, white)));\n",
       "  --sklearn-color-border-box: var(--sg-text-color, var(--theme-code-foreground, var(--jp-content-font-color1, black)));\n",
       "  --sklearn-color-icon: #696969;\n",
       "\n",
       "  @media (prefers-color-scheme: dark) {\n",
       "    /* Redefinition of color scheme for dark theme */\n",
       "    --sklearn-color-text-on-default-background: var(--sg-text-color, var(--theme-code-foreground, var(--jp-content-font-color1, white)));\n",
       "    --sklearn-color-background: var(--sg-background-color, var(--theme-background, var(--jp-layout-color0, #111)));\n",
       "    --sklearn-color-border-box: var(--sg-text-color, var(--theme-code-foreground, var(--jp-content-font-color1, white)));\n",
       "    --sklearn-color-icon: #878787;\n",
       "  }\n",
       "}\n",
       "\n",
       "#sk-container-id-1 {\n",
       "  color: var(--sklearn-color-text);\n",
       "}\n",
       "\n",
       "#sk-container-id-1 pre {\n",
       "  padding: 0;\n",
       "}\n",
       "\n",
       "#sk-container-id-1 input.sk-hidden--visually {\n",
       "  border: 0;\n",
       "  clip: rect(1px 1px 1px 1px);\n",
       "  clip: rect(1px, 1px, 1px, 1px);\n",
       "  height: 1px;\n",
       "  margin: -1px;\n",
       "  overflow: hidden;\n",
       "  padding: 0;\n",
       "  position: absolute;\n",
       "  width: 1px;\n",
       "}\n",
       "\n",
       "#sk-container-id-1 div.sk-dashed-wrapped {\n",
       "  border: 1px dashed var(--sklearn-color-line);\n",
       "  margin: 0 0.4em 0.5em 0.4em;\n",
       "  box-sizing: border-box;\n",
       "  padding-bottom: 0.4em;\n",
       "  background-color: var(--sklearn-color-background);\n",
       "}\n",
       "\n",
       "#sk-container-id-1 div.sk-container {\n",
       "  /* jupyter's `normalize.less` sets `[hidden] { display: none; }`\n",
       "     but bootstrap.min.css set `[hidden] { display: none !important; }`\n",
       "     so we also need the `!important` here to be able to override the\n",
       "     default hidden behavior on the sphinx rendered scikit-learn.org.\n",
       "     See: https://github.com/scikit-learn/scikit-learn/issues/21755 */\n",
       "  display: inline-block !important;\n",
       "  position: relative;\n",
       "}\n",
       "\n",
       "#sk-container-id-1 div.sk-text-repr-fallback {\n",
       "  display: none;\n",
       "}\n",
       "\n",
       "div.sk-parallel-item,\n",
       "div.sk-serial,\n",
       "div.sk-item {\n",
       "  /* draw centered vertical line to link estimators */\n",
       "  background-image: linear-gradient(var(--sklearn-color-text-on-default-background), var(--sklearn-color-text-on-default-background));\n",
       "  background-size: 2px 100%;\n",
       "  background-repeat: no-repeat;\n",
       "  background-position: center center;\n",
       "}\n",
       "\n",
       "/* Parallel-specific style estimator block */\n",
       "\n",
       "#sk-container-id-1 div.sk-parallel-item::after {\n",
       "  content: \"\";\n",
       "  width: 100%;\n",
       "  border-bottom: 2px solid var(--sklearn-color-text-on-default-background);\n",
       "  flex-grow: 1;\n",
       "}\n",
       "\n",
       "#sk-container-id-1 div.sk-parallel {\n",
       "  display: flex;\n",
       "  align-items: stretch;\n",
       "  justify-content: center;\n",
       "  background-color: var(--sklearn-color-background);\n",
       "  position: relative;\n",
       "}\n",
       "\n",
       "#sk-container-id-1 div.sk-parallel-item {\n",
       "  display: flex;\n",
       "  flex-direction: column;\n",
       "}\n",
       "\n",
       "#sk-container-id-1 div.sk-parallel-item:first-child::after {\n",
       "  align-self: flex-end;\n",
       "  width: 50%;\n",
       "}\n",
       "\n",
       "#sk-container-id-1 div.sk-parallel-item:last-child::after {\n",
       "  align-self: flex-start;\n",
       "  width: 50%;\n",
       "}\n",
       "\n",
       "#sk-container-id-1 div.sk-parallel-item:only-child::after {\n",
       "  width: 0;\n",
       "}\n",
       "\n",
       "/* Serial-specific style estimator block */\n",
       "\n",
       "#sk-container-id-1 div.sk-serial {\n",
       "  display: flex;\n",
       "  flex-direction: column;\n",
       "  align-items: center;\n",
       "  background-color: var(--sklearn-color-background);\n",
       "  padding-right: 1em;\n",
       "  padding-left: 1em;\n",
       "}\n",
       "\n",
       "\n",
       "/* Toggleable style: style used for estimator/Pipeline/ColumnTransformer box that is\n",
       "clickable and can be expanded/collapsed.\n",
       "- Pipeline and ColumnTransformer use this feature and define the default style\n",
       "- Estimators will overwrite some part of the style using the `sk-estimator` class\n",
       "*/\n",
       "\n",
       "/* Pipeline and ColumnTransformer style (default) */\n",
       "\n",
       "#sk-container-id-1 div.sk-toggleable {\n",
       "  /* Default theme specific background. It is overwritten whether we have a\n",
       "  specific estimator or a Pipeline/ColumnTransformer */\n",
       "  background-color: var(--sklearn-color-background);\n",
       "}\n",
       "\n",
       "/* Toggleable label */\n",
       "#sk-container-id-1 label.sk-toggleable__label {\n",
       "  cursor: pointer;\n",
       "  display: block;\n",
       "  width: 100%;\n",
       "  margin-bottom: 0;\n",
       "  padding: 0.5em;\n",
       "  box-sizing: border-box;\n",
       "  text-align: center;\n",
       "}\n",
       "\n",
       "#sk-container-id-1 label.sk-toggleable__label-arrow:before {\n",
       "  /* Arrow on the left of the label */\n",
       "  content: \"▸\";\n",
       "  float: left;\n",
       "  margin-right: 0.25em;\n",
       "  color: var(--sklearn-color-icon);\n",
       "}\n",
       "\n",
       "#sk-container-id-1 label.sk-toggleable__label-arrow:hover:before {\n",
       "  color: var(--sklearn-color-text);\n",
       "}\n",
       "\n",
       "/* Toggleable content - dropdown */\n",
       "\n",
       "#sk-container-id-1 div.sk-toggleable__content {\n",
       "  max-height: 0;\n",
       "  max-width: 0;\n",
       "  overflow: hidden;\n",
       "  text-align: left;\n",
       "  /* unfitted */\n",
       "  background-color: var(--sklearn-color-unfitted-level-0);\n",
       "}\n",
       "\n",
       "#sk-container-id-1 div.sk-toggleable__content.fitted {\n",
       "  /* fitted */\n",
       "  background-color: var(--sklearn-color-fitted-level-0);\n",
       "}\n",
       "\n",
       "#sk-container-id-1 div.sk-toggleable__content pre {\n",
       "  margin: 0.2em;\n",
       "  border-radius: 0.25em;\n",
       "  color: var(--sklearn-color-text);\n",
       "  /* unfitted */\n",
       "  background-color: var(--sklearn-color-unfitted-level-0);\n",
       "}\n",
       "\n",
       "#sk-container-id-1 div.sk-toggleable__content.fitted pre {\n",
       "  /* unfitted */\n",
       "  background-color: var(--sklearn-color-fitted-level-0);\n",
       "}\n",
       "\n",
       "#sk-container-id-1 input.sk-toggleable__control:checked~div.sk-toggleable__content {\n",
       "  /* Expand drop-down */\n",
       "  max-height: 200px;\n",
       "  max-width: 100%;\n",
       "  overflow: auto;\n",
       "}\n",
       "\n",
       "#sk-container-id-1 input.sk-toggleable__control:checked~label.sk-toggleable__label-arrow:before {\n",
       "  content: \"▾\";\n",
       "}\n",
       "\n",
       "/* Pipeline/ColumnTransformer-specific style */\n",
       "\n",
       "#sk-container-id-1 div.sk-label input.sk-toggleable__control:checked~label.sk-toggleable__label {\n",
       "  color: var(--sklearn-color-text);\n",
       "  background-color: var(--sklearn-color-unfitted-level-2);\n",
       "}\n",
       "\n",
       "#sk-container-id-1 div.sk-label.fitted input.sk-toggleable__control:checked~label.sk-toggleable__label {\n",
       "  background-color: var(--sklearn-color-fitted-level-2);\n",
       "}\n",
       "\n",
       "/* Estimator-specific style */\n",
       "\n",
       "/* Colorize estimator box */\n",
       "#sk-container-id-1 div.sk-estimator input.sk-toggleable__control:checked~label.sk-toggleable__label {\n",
       "  /* unfitted */\n",
       "  background-color: var(--sklearn-color-unfitted-level-2);\n",
       "}\n",
       "\n",
       "#sk-container-id-1 div.sk-estimator.fitted input.sk-toggleable__control:checked~label.sk-toggleable__label {\n",
       "  /* fitted */\n",
       "  background-color: var(--sklearn-color-fitted-level-2);\n",
       "}\n",
       "\n",
       "#sk-container-id-1 div.sk-label label.sk-toggleable__label,\n",
       "#sk-container-id-1 div.sk-label label {\n",
       "  /* The background is the default theme color */\n",
       "  color: var(--sklearn-color-text-on-default-background);\n",
       "}\n",
       "\n",
       "/* On hover, darken the color of the background */\n",
       "#sk-container-id-1 div.sk-label:hover label.sk-toggleable__label {\n",
       "  color: var(--sklearn-color-text);\n",
       "  background-color: var(--sklearn-color-unfitted-level-2);\n",
       "}\n",
       "\n",
       "/* Label box, darken color on hover, fitted */\n",
       "#sk-container-id-1 div.sk-label.fitted:hover label.sk-toggleable__label.fitted {\n",
       "  color: var(--sklearn-color-text);\n",
       "  background-color: var(--sklearn-color-fitted-level-2);\n",
       "}\n",
       "\n",
       "/* Estimator label */\n",
       "\n",
       "#sk-container-id-1 div.sk-label label {\n",
       "  font-family: monospace;\n",
       "  font-weight: bold;\n",
       "  display: inline-block;\n",
       "  line-height: 1.2em;\n",
       "}\n",
       "\n",
       "#sk-container-id-1 div.sk-label-container {\n",
       "  text-align: center;\n",
       "}\n",
       "\n",
       "/* Estimator-specific */\n",
       "#sk-container-id-1 div.sk-estimator {\n",
       "  font-family: monospace;\n",
       "  border: 1px dotted var(--sklearn-color-border-box);\n",
       "  border-radius: 0.25em;\n",
       "  box-sizing: border-box;\n",
       "  margin-bottom: 0.5em;\n",
       "  /* unfitted */\n",
       "  background-color: var(--sklearn-color-unfitted-level-0);\n",
       "}\n",
       "\n",
       "#sk-container-id-1 div.sk-estimator.fitted {\n",
       "  /* fitted */\n",
       "  background-color: var(--sklearn-color-fitted-level-0);\n",
       "}\n",
       "\n",
       "/* on hover */\n",
       "#sk-container-id-1 div.sk-estimator:hover {\n",
       "  /* unfitted */\n",
       "  background-color: var(--sklearn-color-unfitted-level-2);\n",
       "}\n",
       "\n",
       "#sk-container-id-1 div.sk-estimator.fitted:hover {\n",
       "  /* fitted */\n",
       "  background-color: var(--sklearn-color-fitted-level-2);\n",
       "}\n",
       "\n",
       "/* Specification for estimator info (e.g. \"i\" and \"?\") */\n",
       "\n",
       "/* Common style for \"i\" and \"?\" */\n",
       "\n",
       ".sk-estimator-doc-link,\n",
       "a:link.sk-estimator-doc-link,\n",
       "a:visited.sk-estimator-doc-link {\n",
       "  float: right;\n",
       "  font-size: smaller;\n",
       "  line-height: 1em;\n",
       "  font-family: monospace;\n",
       "  background-color: var(--sklearn-color-background);\n",
       "  border-radius: 1em;\n",
       "  height: 1em;\n",
       "  width: 1em;\n",
       "  text-decoration: none !important;\n",
       "  margin-left: 1ex;\n",
       "  /* unfitted */\n",
       "  border: var(--sklearn-color-unfitted-level-1) 1pt solid;\n",
       "  color: var(--sklearn-color-unfitted-level-1);\n",
       "}\n",
       "\n",
       ".sk-estimator-doc-link.fitted,\n",
       "a:link.sk-estimator-doc-link.fitted,\n",
       "a:visited.sk-estimator-doc-link.fitted {\n",
       "  /* fitted */\n",
       "  border: var(--sklearn-color-fitted-level-1) 1pt solid;\n",
       "  color: var(--sklearn-color-fitted-level-1);\n",
       "}\n",
       "\n",
       "/* On hover */\n",
       "div.sk-estimator:hover .sk-estimator-doc-link:hover,\n",
       ".sk-estimator-doc-link:hover,\n",
       "div.sk-label-container:hover .sk-estimator-doc-link:hover,\n",
       ".sk-estimator-doc-link:hover {\n",
       "  /* unfitted */\n",
       "  background-color: var(--sklearn-color-unfitted-level-3);\n",
       "  color: var(--sklearn-color-background);\n",
       "  text-decoration: none;\n",
       "}\n",
       "\n",
       "div.sk-estimator.fitted:hover .sk-estimator-doc-link.fitted:hover,\n",
       ".sk-estimator-doc-link.fitted:hover,\n",
       "div.sk-label-container:hover .sk-estimator-doc-link.fitted:hover,\n",
       ".sk-estimator-doc-link.fitted:hover {\n",
       "  /* fitted */\n",
       "  background-color: var(--sklearn-color-fitted-level-3);\n",
       "  color: var(--sklearn-color-background);\n",
       "  text-decoration: none;\n",
       "}\n",
       "\n",
       "/* Span, style for the box shown on hovering the info icon */\n",
       ".sk-estimator-doc-link span {\n",
       "  display: none;\n",
       "  z-index: 9999;\n",
       "  position: relative;\n",
       "  font-weight: normal;\n",
       "  right: .2ex;\n",
       "  padding: .5ex;\n",
       "  margin: .5ex;\n",
       "  width: min-content;\n",
       "  min-width: 20ex;\n",
       "  max-width: 50ex;\n",
       "  color: var(--sklearn-color-text);\n",
       "  box-shadow: 2pt 2pt 4pt #999;\n",
       "  /* unfitted */\n",
       "  background: var(--sklearn-color-unfitted-level-0);\n",
       "  border: .5pt solid var(--sklearn-color-unfitted-level-3);\n",
       "}\n",
       "\n",
       ".sk-estimator-doc-link.fitted span {\n",
       "  /* fitted */\n",
       "  background: var(--sklearn-color-fitted-level-0);\n",
       "  border: var(--sklearn-color-fitted-level-3);\n",
       "}\n",
       "\n",
       ".sk-estimator-doc-link:hover span {\n",
       "  display: block;\n",
       "}\n",
       "\n",
       "/* \"?\"-specific style due to the `<a>` HTML tag */\n",
       "\n",
       "#sk-container-id-1 a.estimator_doc_link {\n",
       "  float: right;\n",
       "  font-size: 1rem;\n",
       "  line-height: 1em;\n",
       "  font-family: monospace;\n",
       "  background-color: var(--sklearn-color-background);\n",
       "  border-radius: 1rem;\n",
       "  height: 1rem;\n",
       "  width: 1rem;\n",
       "  text-decoration: none;\n",
       "  /* unfitted */\n",
       "  color: var(--sklearn-color-unfitted-level-1);\n",
       "  border: var(--sklearn-color-unfitted-level-1) 1pt solid;\n",
       "}\n",
       "\n",
       "#sk-container-id-1 a.estimator_doc_link.fitted {\n",
       "  /* fitted */\n",
       "  border: var(--sklearn-color-fitted-level-1) 1pt solid;\n",
       "  color: var(--sklearn-color-fitted-level-1);\n",
       "}\n",
       "\n",
       "/* On hover */\n",
       "#sk-container-id-1 a.estimator_doc_link:hover {\n",
       "  /* unfitted */\n",
       "  background-color: var(--sklearn-color-unfitted-level-3);\n",
       "  color: var(--sklearn-color-background);\n",
       "  text-decoration: none;\n",
       "}\n",
       "\n",
       "#sk-container-id-1 a.estimator_doc_link.fitted:hover {\n",
       "  /* fitted */\n",
       "  background-color: var(--sklearn-color-fitted-level-3);\n",
       "}\n",
       "</style><div id=\"sk-container-id-1\" class=\"sk-top-container\"><div class=\"sk-text-repr-fallback\"><pre>RandomizedSearchCV(cv=10,\n",
       "                   estimator=Pipeline(steps=[(&#x27;preprocessor&#x27;,\n",
       "                                              ColumnTransformer(remainder=&#x27;passthrough&#x27;,\n",
       "                                                                transformers=[(&#x27;ohe&#x27;,\n",
       "                                                                               Pipeline(steps=[(&#x27;simpleImputer_ohe&#x27;,\n",
       "                                                                                                SimpleImputer(strategy=&#x27;most_frequent&#x27;)),\n",
       "                                                                                               (&#x27;ohe&#x27;,\n",
       "                                                                                                OneHotEncoder(drop=&#x27;first&#x27;,\n",
       "                                                                                                              handle_unknown=&#x27;ignore&#x27;,\n",
       "                                                                                                              sparse_output=False))]),\n",
       "                                                                               [&#x27;dept&#x27;,\n",
       "                                                                                &#x27;last_year_promo&#x27;,\n",
       "                                                                                &#x27;last_year_violations&#x27;]),\n",
       "                                                                              (&#x27;ord&#x27;,\n",
       "                                                                               Pi...\n",
       "                                         &#x27;preprocessor__num&#x27;: [StandardScaler(),\n",
       "                                                               MinMaxScaler(),\n",
       "                                                               &#x27;passthrough&#x27;]},\n",
       "                                        {&#x27;models&#x27;: [DecisionTreeRegressor(random_state=42)],\n",
       "                                         &#x27;models__max_depth&#x27;: range(2, 20),\n",
       "                                         &#x27;models__max_features&#x27;: range(2, 20),\n",
       "                                         &#x27;preprocessor__num&#x27;: [StandardScaler(),\n",
       "                                                               MinMaxScaler(),\n",
       "                                                               &#x27;passthrough&#x27;]}],\n",
       "                   random_state=42,\n",
       "                   scoring=make_scorer(smape, greater_is_better=False, response_method=&#x27;predict&#x27;))</pre><b>In a Jupyter environment, please rerun this cell to show the HTML representation or trust the notebook. <br />On GitHub, the HTML representation is unable to render, please try loading this page with nbviewer.org.</b></div><div class=\"sk-container\" hidden><div class=\"sk-item sk-dashed-wrapped\"><div class=\"sk-label-container\"><div class=\"sk-label fitted sk-toggleable\"><input class=\"sk-toggleable__control sk-hidden--visually\" id=\"sk-estimator-id-1\" type=\"checkbox\" ><label for=\"sk-estimator-id-1\" class=\"sk-toggleable__label fitted sk-toggleable__label-arrow fitted\">&nbsp;&nbsp;RandomizedSearchCV<a class=\"sk-estimator-doc-link fitted\" rel=\"noreferrer\" target=\"_blank\" href=\"https://scikit-learn.org/1.5/modules/generated/sklearn.model_selection.RandomizedSearchCV.html\">?<span>Documentation for RandomizedSearchCV</span></a><span class=\"sk-estimator-doc-link fitted\">i<span>Fitted</span></span></label><div class=\"sk-toggleable__content fitted\"><pre>RandomizedSearchCV(cv=10,\n",
       "                   estimator=Pipeline(steps=[(&#x27;preprocessor&#x27;,\n",
       "                                              ColumnTransformer(remainder=&#x27;passthrough&#x27;,\n",
       "                                                                transformers=[(&#x27;ohe&#x27;,\n",
       "                                                                               Pipeline(steps=[(&#x27;simpleImputer_ohe&#x27;,\n",
       "                                                                                                SimpleImputer(strategy=&#x27;most_frequent&#x27;)),\n",
       "                                                                                               (&#x27;ohe&#x27;,\n",
       "                                                                                                OneHotEncoder(drop=&#x27;first&#x27;,\n",
       "                                                                                                              handle_unknown=&#x27;ignore&#x27;,\n",
       "                                                                                                              sparse_output=False))]),\n",
       "                                                                               [&#x27;dept&#x27;,\n",
       "                                                                                &#x27;last_year_promo&#x27;,\n",
       "                                                                                &#x27;last_year_violations&#x27;]),\n",
       "                                                                              (&#x27;ord&#x27;,\n",
       "                                                                               Pi...\n",
       "                                         &#x27;preprocessor__num&#x27;: [StandardScaler(),\n",
       "                                                               MinMaxScaler(),\n",
       "                                                               &#x27;passthrough&#x27;]},\n",
       "                                        {&#x27;models&#x27;: [DecisionTreeRegressor(random_state=42)],\n",
       "                                         &#x27;models__max_depth&#x27;: range(2, 20),\n",
       "                                         &#x27;models__max_features&#x27;: range(2, 20),\n",
       "                                         &#x27;preprocessor__num&#x27;: [StandardScaler(),\n",
       "                                                               MinMaxScaler(),\n",
       "                                                               &#x27;passthrough&#x27;]}],\n",
       "                   random_state=42,\n",
       "                   scoring=make_scorer(smape, greater_is_better=False, response_method=&#x27;predict&#x27;))</pre></div> </div></div><div class=\"sk-parallel\"><div class=\"sk-parallel-item\"><div class=\"sk-item\"><div class=\"sk-label-container\"><div class=\"sk-label fitted sk-toggleable\"><input class=\"sk-toggleable__control sk-hidden--visually\" id=\"sk-estimator-id-2\" type=\"checkbox\" ><label for=\"sk-estimator-id-2\" class=\"sk-toggleable__label fitted sk-toggleable__label-arrow fitted\">best_estimator_: Pipeline</label><div class=\"sk-toggleable__content fitted\"><pre>Pipeline(steps=[(&#x27;preprocessor&#x27;,\n",
       "                 ColumnTransformer(remainder=&#x27;passthrough&#x27;,\n",
       "                                   transformers=[(&#x27;ohe&#x27;,\n",
       "                                                  Pipeline(steps=[(&#x27;simpleImputer_ohe&#x27;,\n",
       "                                                                   SimpleImputer(strategy=&#x27;most_frequent&#x27;)),\n",
       "                                                                  (&#x27;ohe&#x27;,\n",
       "                                                                   OneHotEncoder(drop=&#x27;first&#x27;,\n",
       "                                                                                 handle_unknown=&#x27;ignore&#x27;,\n",
       "                                                                                 sparse_output=False))]),\n",
       "                                                  [&#x27;dept&#x27;, &#x27;last_year_promo&#x27;,\n",
       "                                                   &#x27;last_year_violations&#x27;]),\n",
       "                                                 (&#x27;ord&#x27;,\n",
       "                                                  Pipeline(steps=[(&#x27;simpleImputer_befor...\n",
       "                                                                                               &#x27;middle&#x27;,\n",
       "                                                                                               &#x27;sinior&#x27;],\n",
       "                                                                                              [&#x27;low&#x27;,\n",
       "                                                                                               &#x27;medium&#x27;,\n",
       "                                                                                               &#x27;high&#x27;]],\n",
       "                                                                                  handle_unknown=&#x27;use_encoded_value&#x27;,\n",
       "                                                                                  unknown_value=nan)),\n",
       "                                                                  (&#x27;simpleImputer_after_ord&#x27;,\n",
       "                                                                   SimpleImputer(strategy=&#x27;most_frequent&#x27;))]),\n",
       "                                                  [&#x27;level&#x27;, &#x27;workload&#x27;]),\n",
       "                                                 (&#x27;num&#x27;, StandardScaler(),\n",
       "                                                  [&#x27;employment_years&#x27;,\n",
       "                                                   &#x27;supervisor_evaluation&#x27;,\n",
       "                                                   &#x27;salary&#x27;])])),\n",
       "                (&#x27;models&#x27;,\n",
       "                 DecisionTreeRegressor(max_depth=13, max_features=14,\n",
       "                                       random_state=42))])</pre></div> </div></div><div class=\"sk-serial\"><div class=\"sk-item\"><div class=\"sk-serial\"><div class=\"sk-item sk-dashed-wrapped\"><div class=\"sk-label-container\"><div class=\"sk-label fitted sk-toggleable\"><input class=\"sk-toggleable__control sk-hidden--visually\" id=\"sk-estimator-id-3\" type=\"checkbox\" ><label for=\"sk-estimator-id-3\" class=\"sk-toggleable__label fitted sk-toggleable__label-arrow fitted\">&nbsp;preprocessor: ColumnTransformer<a class=\"sk-estimator-doc-link fitted\" rel=\"noreferrer\" target=\"_blank\" href=\"https://scikit-learn.org/1.5/modules/generated/sklearn.compose.ColumnTransformer.html\">?<span>Documentation for preprocessor: ColumnTransformer</span></a></label><div class=\"sk-toggleable__content fitted\"><pre>ColumnTransformer(remainder=&#x27;passthrough&#x27;,\n",
       "                  transformers=[(&#x27;ohe&#x27;,\n",
       "                                 Pipeline(steps=[(&#x27;simpleImputer_ohe&#x27;,\n",
       "                                                  SimpleImputer(strategy=&#x27;most_frequent&#x27;)),\n",
       "                                                 (&#x27;ohe&#x27;,\n",
       "                                                  OneHotEncoder(drop=&#x27;first&#x27;,\n",
       "                                                                handle_unknown=&#x27;ignore&#x27;,\n",
       "                                                                sparse_output=False))]),\n",
       "                                 [&#x27;dept&#x27;, &#x27;last_year_promo&#x27;,\n",
       "                                  &#x27;last_year_violations&#x27;]),\n",
       "                                (&#x27;ord&#x27;,\n",
       "                                 Pipeline(steps=[(&#x27;simpleImputer_before_ord&#x27;,\n",
       "                                                  SimpleImputer(strategy=&#x27;most_frequent&#x27;)),\n",
       "                                                 (&#x27;ord&#x27;,\n",
       "                                                  OrdinalEncoder(categories=[[&#x27;junior&#x27;,\n",
       "                                                                              &#x27;middle&#x27;,\n",
       "                                                                              &#x27;sinior&#x27;],\n",
       "                                                                             [&#x27;low&#x27;,\n",
       "                                                                              &#x27;medium&#x27;,\n",
       "                                                                              &#x27;high&#x27;]],\n",
       "                                                                 handle_unknown=&#x27;use_encoded_value&#x27;,\n",
       "                                                                 unknown_value=nan)),\n",
       "                                                 (&#x27;simpleImputer_after_ord&#x27;,\n",
       "                                                  SimpleImputer(strategy=&#x27;most_frequent&#x27;))]),\n",
       "                                 [&#x27;level&#x27;, &#x27;workload&#x27;]),\n",
       "                                (&#x27;num&#x27;, StandardScaler(),\n",
       "                                 [&#x27;employment_years&#x27;, &#x27;supervisor_evaluation&#x27;,\n",
       "                                  &#x27;salary&#x27;])])</pre></div> </div></div><div class=\"sk-parallel\"><div class=\"sk-parallel-item\"><div class=\"sk-item\"><div class=\"sk-label-container\"><div class=\"sk-label fitted sk-toggleable\"><input class=\"sk-toggleable__control sk-hidden--visually\" id=\"sk-estimator-id-4\" type=\"checkbox\" ><label for=\"sk-estimator-id-4\" class=\"sk-toggleable__label fitted sk-toggleable__label-arrow fitted\">ohe</label><div class=\"sk-toggleable__content fitted\"><pre>[&#x27;dept&#x27;, &#x27;last_year_promo&#x27;, &#x27;last_year_violations&#x27;]</pre></div> </div></div><div class=\"sk-serial\"><div class=\"sk-item\"><div class=\"sk-serial\"><div class=\"sk-item\"><div class=\"sk-estimator fitted sk-toggleable\"><input class=\"sk-toggleable__control sk-hidden--visually\" id=\"sk-estimator-id-5\" type=\"checkbox\" ><label for=\"sk-estimator-id-5\" class=\"sk-toggleable__label fitted sk-toggleable__label-arrow fitted\">&nbsp;SimpleImputer<a class=\"sk-estimator-doc-link fitted\" rel=\"noreferrer\" target=\"_blank\" href=\"https://scikit-learn.org/1.5/modules/generated/sklearn.impute.SimpleImputer.html\">?<span>Documentation for SimpleImputer</span></a></label><div class=\"sk-toggleable__content fitted\"><pre>SimpleImputer(strategy=&#x27;most_frequent&#x27;)</pre></div> </div></div><div class=\"sk-item\"><div class=\"sk-estimator fitted sk-toggleable\"><input class=\"sk-toggleable__control sk-hidden--visually\" id=\"sk-estimator-id-6\" type=\"checkbox\" ><label for=\"sk-estimator-id-6\" class=\"sk-toggleable__label fitted sk-toggleable__label-arrow fitted\">&nbsp;OneHotEncoder<a class=\"sk-estimator-doc-link fitted\" rel=\"noreferrer\" target=\"_blank\" href=\"https://scikit-learn.org/1.5/modules/generated/sklearn.preprocessing.OneHotEncoder.html\">?<span>Documentation for OneHotEncoder</span></a></label><div class=\"sk-toggleable__content fitted\"><pre>OneHotEncoder(drop=&#x27;first&#x27;, handle_unknown=&#x27;ignore&#x27;, sparse_output=False)</pre></div> </div></div></div></div></div></div></div><div class=\"sk-parallel-item\"><div class=\"sk-item\"><div class=\"sk-label-container\"><div class=\"sk-label fitted sk-toggleable\"><input class=\"sk-toggleable__control sk-hidden--visually\" id=\"sk-estimator-id-7\" type=\"checkbox\" ><label for=\"sk-estimator-id-7\" class=\"sk-toggleable__label fitted sk-toggleable__label-arrow fitted\">ord</label><div class=\"sk-toggleable__content fitted\"><pre>[&#x27;level&#x27;, &#x27;workload&#x27;]</pre></div> </div></div><div class=\"sk-serial\"><div class=\"sk-item\"><div class=\"sk-serial\"><div class=\"sk-item\"><div class=\"sk-estimator fitted sk-toggleable\"><input class=\"sk-toggleable__control sk-hidden--visually\" id=\"sk-estimator-id-8\" type=\"checkbox\" ><label for=\"sk-estimator-id-8\" class=\"sk-toggleable__label fitted sk-toggleable__label-arrow fitted\">&nbsp;SimpleImputer<a class=\"sk-estimator-doc-link fitted\" rel=\"noreferrer\" target=\"_blank\" href=\"https://scikit-learn.org/1.5/modules/generated/sklearn.impute.SimpleImputer.html\">?<span>Documentation for SimpleImputer</span></a></label><div class=\"sk-toggleable__content fitted\"><pre>SimpleImputer(strategy=&#x27;most_frequent&#x27;)</pre></div> </div></div><div class=\"sk-item\"><div class=\"sk-estimator fitted sk-toggleable\"><input class=\"sk-toggleable__control sk-hidden--visually\" id=\"sk-estimator-id-9\" type=\"checkbox\" ><label for=\"sk-estimator-id-9\" class=\"sk-toggleable__label fitted sk-toggleable__label-arrow fitted\">&nbsp;OrdinalEncoder<a class=\"sk-estimator-doc-link fitted\" rel=\"noreferrer\" target=\"_blank\" href=\"https://scikit-learn.org/1.5/modules/generated/sklearn.preprocessing.OrdinalEncoder.html\">?<span>Documentation for OrdinalEncoder</span></a></label><div class=\"sk-toggleable__content fitted\"><pre>OrdinalEncoder(categories=[[&#x27;junior&#x27;, &#x27;middle&#x27;, &#x27;sinior&#x27;],\n",
       "                           [&#x27;low&#x27;, &#x27;medium&#x27;, &#x27;high&#x27;]],\n",
       "               handle_unknown=&#x27;use_encoded_value&#x27;, unknown_value=nan)</pre></div> </div></div><div class=\"sk-item\"><div class=\"sk-estimator fitted sk-toggleable\"><input class=\"sk-toggleable__control sk-hidden--visually\" id=\"sk-estimator-id-10\" type=\"checkbox\" ><label for=\"sk-estimator-id-10\" class=\"sk-toggleable__label fitted sk-toggleable__label-arrow fitted\">&nbsp;SimpleImputer<a class=\"sk-estimator-doc-link fitted\" rel=\"noreferrer\" target=\"_blank\" href=\"https://scikit-learn.org/1.5/modules/generated/sklearn.impute.SimpleImputer.html\">?<span>Documentation for SimpleImputer</span></a></label><div class=\"sk-toggleable__content fitted\"><pre>SimpleImputer(strategy=&#x27;most_frequent&#x27;)</pre></div> </div></div></div></div></div></div></div><div class=\"sk-parallel-item\"><div class=\"sk-item\"><div class=\"sk-label-container\"><div class=\"sk-label fitted sk-toggleable\"><input class=\"sk-toggleable__control sk-hidden--visually\" id=\"sk-estimator-id-11\" type=\"checkbox\" ><label for=\"sk-estimator-id-11\" class=\"sk-toggleable__label fitted sk-toggleable__label-arrow fitted\">num</label><div class=\"sk-toggleable__content fitted\"><pre>[&#x27;employment_years&#x27;, &#x27;supervisor_evaluation&#x27;, &#x27;salary&#x27;]</pre></div> </div></div><div class=\"sk-serial\"><div class=\"sk-item\"><div class=\"sk-estimator fitted sk-toggleable\"><input class=\"sk-toggleable__control sk-hidden--visually\" id=\"sk-estimator-id-12\" type=\"checkbox\" ><label for=\"sk-estimator-id-12\" class=\"sk-toggleable__label fitted sk-toggleable__label-arrow fitted\">&nbsp;StandardScaler<a class=\"sk-estimator-doc-link fitted\" rel=\"noreferrer\" target=\"_blank\" href=\"https://scikit-learn.org/1.5/modules/generated/sklearn.preprocessing.StandardScaler.html\">?<span>Documentation for StandardScaler</span></a></label><div class=\"sk-toggleable__content fitted\"><pre>StandardScaler()</pre></div> </div></div></div></div></div><div class=\"sk-parallel-item\"><div class=\"sk-item\"><div class=\"sk-label-container\"><div class=\"sk-label fitted sk-toggleable\"><input class=\"sk-toggleable__control sk-hidden--visually\" id=\"sk-estimator-id-13\" type=\"checkbox\" ><label for=\"sk-estimator-id-13\" class=\"sk-toggleable__label fitted sk-toggleable__label-arrow fitted\">remainder</label><div class=\"sk-toggleable__content fitted\"><pre>[]</pre></div> </div></div><div class=\"sk-serial\"><div class=\"sk-item\"><div class=\"sk-estimator fitted sk-toggleable\"><input class=\"sk-toggleable__control sk-hidden--visually\" id=\"sk-estimator-id-14\" type=\"checkbox\" ><label for=\"sk-estimator-id-14\" class=\"sk-toggleable__label fitted sk-toggleable__label-arrow fitted\">passthrough</label><div class=\"sk-toggleable__content fitted\"><pre>passthrough</pre></div> </div></div></div></div></div></div></div><div class=\"sk-item\"><div class=\"sk-estimator fitted sk-toggleable\"><input class=\"sk-toggleable__control sk-hidden--visually\" id=\"sk-estimator-id-15\" type=\"checkbox\" ><label for=\"sk-estimator-id-15\" class=\"sk-toggleable__label fitted sk-toggleable__label-arrow fitted\">&nbsp;DecisionTreeRegressor<a class=\"sk-estimator-doc-link fitted\" rel=\"noreferrer\" target=\"_blank\" href=\"https://scikit-learn.org/1.5/modules/generated/sklearn.tree.DecisionTreeRegressor.html\">?<span>Documentation for DecisionTreeRegressor</span></a></label><div class=\"sk-toggleable__content fitted\"><pre>DecisionTreeRegressor(max_depth=13, max_features=14, random_state=42)</pre></div> </div></div></div></div></div></div></div></div></div></div></div>"
      ],
      "text/plain": [
       "RandomizedSearchCV(cv=10,\n",
       "                   estimator=Pipeline(steps=[('preprocessor',\n",
       "                                              ColumnTransformer(remainder='passthrough',\n",
       "                                                                transformers=[('ohe',\n",
       "                                                                               Pipeline(steps=[('simpleImputer_ohe',\n",
       "                                                                                                SimpleImputer(strategy='most_frequent')),\n",
       "                                                                                               ('ohe',\n",
       "                                                                                                OneHotEncoder(drop='first',\n",
       "                                                                                                              handle_unknown='ignore',\n",
       "                                                                                                              sparse_output=False))]),\n",
       "                                                                               ['dept',\n",
       "                                                                                'last_year_promo',\n",
       "                                                                                'last_year_violations']),\n",
       "                                                                              ('ord',\n",
       "                                                                               Pi...\n",
       "                                         'preprocessor__num': [StandardScaler(),\n",
       "                                                               MinMaxScaler(),\n",
       "                                                               'passthrough']},\n",
       "                                        {'models': [DecisionTreeRegressor(random_state=42)],\n",
       "                                         'models__max_depth': range(2, 20),\n",
       "                                         'models__max_features': range(2, 20),\n",
       "                                         'preprocessor__num': [StandardScaler(),\n",
       "                                                               MinMaxScaler(),\n",
       "                                                               'passthrough']}],\n",
       "                   random_state=42,\n",
       "                   scoring=make_scorer(smape, greater_is_better=False, response_method='predict'))"
      ]
     },
     "execution_count": 24,
     "metadata": {},
     "output_type": "execute_result"
    }
   ],
   "source": [
    "ohe_columns = ['dept', 'last_year_promo', 'last_year_violations'] \n",
    "ord_columns = ['level', 'workload']\n",
    "num_columns = ['employment_years', 'supervisor_evaluation', 'salary']\n",
    "\n",
    "\n",
    "ohe_pipe = Pipeline(\n",
    "    [('simpleImputer_ohe', SimpleImputer(missing_values=np.nan, strategy='most_frequent')),\n",
    "     ('ohe', OneHotEncoder(drop='first', handle_unknown='ignore', sparse_output=False))\n",
    "    ]\n",
    ")\n",
    "\n",
    "ord_pipe = Pipeline(\n",
    "    [('simpleImputer_before_ord', SimpleImputer(missing_values=np.nan, strategy='most_frequent')),\n",
    "     ('ord',  OrdinalEncoder(\n",
    "                categories=[\n",
    "                    ['junior', 'middle', 'sinior'], \n",
    "                    ['low', 'medium', 'high']\n",
    "                ], \n",
    "                handle_unknown='use_encoded_value', unknown_value=np.nan\n",
    "            )\n",
    "        ),\n",
    "     ('simpleImputer_after_ord', SimpleImputer(missing_values=np.nan, strategy='most_frequent')),\n",
    "\n",
    "    ]\n",
    ")\n",
    "\n",
    "data_preprocessor = ColumnTransformer(\n",
    "    [('ohe', ohe_pipe, ohe_columns),\n",
    "     ('ord', ord_pipe, ord_columns),\n",
    "     ('num', StandardScaler(), num_columns)\n",
    "    ], \n",
    "    remainder='passthrough'\n",
    ")\n",
    "\n",
    "pipe_final = Pipeline([\n",
    "    ('preprocessor', data_preprocessor),\n",
    "    ('models', LinearRegression())\n",
    "])\n",
    " \n",
    "param_grid = [\n",
    "\n",
    "    {\n",
    "        'models': [LinearRegression()],\n",
    "        'preprocessor__num': [StandardScaler(), MinMaxScaler(), 'passthrough']   \n",
    "    },\n",
    "\n",
    "    {\n",
    "        'models': [DecisionTreeRegressor(random_state=RANDOM_STATE)],\n",
    "        'models__max_depth': range(2, 20),\n",
    "        'models__max_features': range(2, 20),\n",
    "        'preprocessor__num': [StandardScaler(), MinMaxScaler(), 'passthrough']  \n",
    "    }\n",
    "]\n",
    "def smape(y_true, y_pred):\n",
    "    return 100/len(y_true) * sum(2 * abs(y_pred - y_true) / (abs(y_true) + abs(y_pred)))\n",
    "   \n",
    "smape_scorer = make_scorer(score_func=smape, greater_is_better=False)\n",
    " \n",
    "randomized_search = RandomizedSearchCV(\n",
    "    pipe_final,\n",
    "    param_grid,\n",
    "    n_jobs=-1,\n",
    "    cv=10,\n",
    "    random_state=RANDOM_STATE,\n",
    "    n_iter=10,\n",
    "    scoring=smape_scorer\n",
    ")\n",
    "randomized_search.fit(X_train, y_train)"
   ]
  },
  {
   "cell_type": "code",
   "execution_count": 25,
   "id": "b9373c55",
   "metadata": {},
   "outputs": [
    {
     "name": "stdout",
     "output_type": "stream",
     "text": [
      "Лучшая модель и её параметры:\n",
      "\n",
      " Pipeline(steps=[('preprocessor',\n",
      "                 ColumnTransformer(remainder='passthrough',\n",
      "                                   transformers=[('ohe',\n",
      "                                                  Pipeline(steps=[('simpleImputer_ohe',\n",
      "                                                                   SimpleImputer(strategy='most_frequent')),\n",
      "                                                                  ('ohe',\n",
      "                                                                   OneHotEncoder(drop='first',\n",
      "                                                                                 handle_unknown='ignore',\n",
      "                                                                                 sparse_output=False))]),\n",
      "                                                  ['dept', 'last_year_promo',\n",
      "                                                   'last_year_violations']),\n",
      "                                                 ('ord',\n",
      "                                                  Pipeline(steps=[('simpleImputer_befor...\n",
      "                                                                                               'middle',\n",
      "                                                                                               'sinior'],\n",
      "                                                                                              ['low',\n",
      "                                                                                               'medium',\n",
      "                                                                                               'high']],\n",
      "                                                                                  handle_unknown='use_encoded_value',\n",
      "                                                                                  unknown_value=nan)),\n",
      "                                                                  ('simpleImputer_after_ord',\n",
      "                                                                   SimpleImputer(strategy='most_frequent'))]),\n",
      "                                                  ['level', 'workload']),\n",
      "                                                 ('num', StandardScaler(),\n",
      "                                                  ['employment_years',\n",
      "                                                   'supervisor_evaluation',\n",
      "                                                   'salary'])])),\n",
      "                ('models',\n",
      "                 DecisionTreeRegressor(max_depth=13, max_features=14,\n",
      "                                       random_state=42))])\n",
      "Параметры лучшей модели:\n",
      "{'preprocessor__num': StandardScaler(), 'models__max_features': 14, 'models__max_depth': 13, 'models': DecisionTreeRegressor(random_state=42)}\n",
      "Метрика лучшей модели 15.508834338167159\n"
     ]
    }
   ],
   "source": [
    "print('Лучшая модель и её параметры:\\n\\n', randomized_search.best_estimator_)\n",
    "print(f'Параметры лучшей модели:\\n{randomized_search.best_params_}')\n",
    "print ('Метрика лучшей модели', -randomized_search.best_score_)"
   ]
  },
  {
   "cell_type": "code",
   "execution_count": 26,
   "id": "cec26887",
   "metadata": {},
   "outputs": [
    {
     "data": {
      "text/html": [
       "<div>\n",
       "<style scoped>\n",
       "    .dataframe tbody tr th:only-of-type {\n",
       "        vertical-align: middle;\n",
       "    }\n",
       "\n",
       "    .dataframe tbody tr th {\n",
       "        vertical-align: top;\n",
       "    }\n",
       "\n",
       "    .dataframe thead th {\n",
       "        text-align: right;\n",
       "    }\n",
       "</style>\n",
       "<table border=\"1\" class=\"dataframe\">\n",
       "  <thead>\n",
       "    <tr style=\"text-align: right;\">\n",
       "      <th></th>\n",
       "      <th>rank_test_score</th>\n",
       "      <th>param_models</th>\n",
       "      <th>mean_test_score</th>\n",
       "      <th>params</th>\n",
       "    </tr>\n",
       "  </thead>\n",
       "  <tbody>\n",
       "    <tr>\n",
       "      <th>6</th>\n",
       "      <td>1</td>\n",
       "      <td>DecisionTreeRegressor(random_state=42)</td>\n",
       "      <td>-15.508834</td>\n",
       "      <td>{'preprocessor__num': StandardScaler(), 'model...</td>\n",
       "    </tr>\n",
       "    <tr>\n",
       "      <th>1</th>\n",
       "      <td>2</td>\n",
       "      <td>DecisionTreeRegressor(random_state=42)</td>\n",
       "      <td>-15.746724</td>\n",
       "      <td>{'preprocessor__num': StandardScaler(), 'model...</td>\n",
       "    </tr>\n",
       "    <tr>\n",
       "      <th>5</th>\n",
       "      <td>3</td>\n",
       "      <td>DecisionTreeRegressor(random_state=42)</td>\n",
       "      <td>-15.896564</td>\n",
       "      <td>{'preprocessor__num': StandardScaler(), 'model...</td>\n",
       "    </tr>\n",
       "    <tr>\n",
       "      <th>3</th>\n",
       "      <td>4</td>\n",
       "      <td>DecisionTreeRegressor(random_state=42)</td>\n",
       "      <td>-16.205082</td>\n",
       "      <td>{'preprocessor__num': 'passthrough', 'models__...</td>\n",
       "    </tr>\n",
       "    <tr>\n",
       "      <th>8</th>\n",
       "      <td>5</td>\n",
       "      <td>DecisionTreeRegressor(random_state=42)</td>\n",
       "      <td>-16.412366</td>\n",
       "      <td>{'preprocessor__num': 'passthrough', 'models__...</td>\n",
       "    </tr>\n",
       "    <tr>\n",
       "      <th>7</th>\n",
       "      <td>6</td>\n",
       "      <td>DecisionTreeRegressor(random_state=42)</td>\n",
       "      <td>-18.566537</td>\n",
       "      <td>{'preprocessor__num': MinMaxScaler(), 'models_...</td>\n",
       "    </tr>\n",
       "    <tr>\n",
       "      <th>0</th>\n",
       "      <td>7</td>\n",
       "      <td>DecisionTreeRegressor(random_state=42)</td>\n",
       "      <td>-20.187338</td>\n",
       "      <td>{'preprocessor__num': MinMaxScaler(), 'models_...</td>\n",
       "    </tr>\n",
       "    <tr>\n",
       "      <th>2</th>\n",
       "      <td>8</td>\n",
       "      <td>DecisionTreeRegressor(random_state=42)</td>\n",
       "      <td>-20.900398</td>\n",
       "      <td>{'preprocessor__num': StandardScaler(), 'model...</td>\n",
       "    </tr>\n",
       "    <tr>\n",
       "      <th>9</th>\n",
       "      <td>9</td>\n",
       "      <td>DecisionTreeRegressor(random_state=42)</td>\n",
       "      <td>-21.572837</td>\n",
       "      <td>{'preprocessor__num': 'passthrough', 'models__...</td>\n",
       "    </tr>\n",
       "    <tr>\n",
       "      <th>4</th>\n",
       "      <td>10</td>\n",
       "      <td>DecisionTreeRegressor(random_state=42)</td>\n",
       "      <td>-23.556211</td>\n",
       "      <td>{'preprocessor__num': StandardScaler(), 'model...</td>\n",
       "    </tr>\n",
       "  </tbody>\n",
       "</table>\n",
       "</div>"
      ],
      "text/plain": [
       "   rank_test_score                            param_models  mean_test_score  \\\n",
       "6                1  DecisionTreeRegressor(random_state=42)       -15.508834   \n",
       "1                2  DecisionTreeRegressor(random_state=42)       -15.746724   \n",
       "5                3  DecisionTreeRegressor(random_state=42)       -15.896564   \n",
       "3                4  DecisionTreeRegressor(random_state=42)       -16.205082   \n",
       "8                5  DecisionTreeRegressor(random_state=42)       -16.412366   \n",
       "7                6  DecisionTreeRegressor(random_state=42)       -18.566537   \n",
       "0                7  DecisionTreeRegressor(random_state=42)       -20.187338   \n",
       "2                8  DecisionTreeRegressor(random_state=42)       -20.900398   \n",
       "9                9  DecisionTreeRegressor(random_state=42)       -21.572837   \n",
       "4               10  DecisionTreeRegressor(random_state=42)       -23.556211   \n",
       "\n",
       "                                              params  \n",
       "6  {'preprocessor__num': StandardScaler(), 'model...  \n",
       "1  {'preprocessor__num': StandardScaler(), 'model...  \n",
       "5  {'preprocessor__num': StandardScaler(), 'model...  \n",
       "3  {'preprocessor__num': 'passthrough', 'models__...  \n",
       "8  {'preprocessor__num': 'passthrough', 'models__...  \n",
       "7  {'preprocessor__num': MinMaxScaler(), 'models_...  \n",
       "0  {'preprocessor__num': MinMaxScaler(), 'models_...  \n",
       "2  {'preprocessor__num': StandardScaler(), 'model...  \n",
       "9  {'preprocessor__num': 'passthrough', 'models__...  \n",
       "4  {'preprocessor__num': StandardScaler(), 'model...  "
      ]
     },
     "metadata": {},
     "output_type": "display_data"
    }
   ],
   "source": [
    "result = pd.DataFrame(randomized_search.cv_results_)\n",
    "display(result[\n",
    "    ['rank_test_score', 'param_models', 'mean_test_score','params']\n",
    "].sort_values('rank_test_score')) "
   ]
  },
  {
   "cell_type": "code",
   "execution_count": 27,
   "id": "f808239d",
   "metadata": {},
   "outputs": [
    {
     "name": "stdout",
     "output_type": "stream",
     "text": [
      "Метрика SMAPE на тестовой выборке: 14.38\n"
     ]
    },
    {
     "name": "stderr",
     "output_type": "stream",
     "text": [
      "/opt/conda/lib/python3.9/site-packages/sklearn/preprocessing/_encoders.py:242: UserWarning: Found unknown categories in columns [0] during transform. These unknown categories will be encoded as all zeros\n",
      "  warnings.warn(\n"
     ]
    }
   ],
   "source": [
    "print(f'Метрика SMAPE на тестовой выборке: {round(smape(y_test, randomized_search.predict(X_test)),2)}')"
   ]
  },
  {
   "cell_type": "markdown",
   "id": "5ff4b4e6",
   "metadata": {},
   "source": [
    "## Вывод\n",
    "Лучше всего с задачей справилась модель DecisionTreeRegressor с параметрами StandardScaler(), 'models__max_features': 14, 'models__max_depth': 13. \n",
    "\n",
    "Она справилась лучше, потому что для линейной регрессии необходима линейная зависимость между данными, а в нашем случае такой, веротяно нет, поэтому дерево решений справилось лучше. (В следующих словах я не уверен, но возможно это тоже повлияло: В наших данных много категориальных признаков, а дерево решений формиует листья, и как бы получает ответ да/нет на вопрос относится ли человек к определнной категории, которая влияет на удовлетворенность работой)"
   ]
  },
  {
   "cell_type": "markdown",
   "id": "ba88a280",
   "metadata": {},
   "source": [
    "# Задача 2"
   ]
  },
  {
   "cell_type": "markdown",
   "id": "f086e455",
   "metadata": {},
   "source": [
    "Необходимо построить модель, которая сможет на основе данных заказчика предсказать то, что сотрудник уволится из компании."
   ]
  },
  {
   "cell_type": "markdown",
   "id": "0373b5ce",
   "metadata": {},
   "source": [
    "## Загрузка данных"
   ]
  },
  {
   "cell_type": "code",
   "execution_count": 28,
   "id": "d6caa630",
   "metadata": {},
   "outputs": [],
   "source": [
    "train_quit = pd.read_csv('/datasets/train_quit.csv')\n",
    "test_quit = pd.read_csv('/datasets/test_target_quit.csv')"
   ]
  },
  {
   "cell_type": "code",
   "execution_count": 29,
   "id": "e8c44869",
   "metadata": {},
   "outputs": [
    {
     "data": {
      "text/html": [
       "<div>\n",
       "<style scoped>\n",
       "    .dataframe tbody tr th:only-of-type {\n",
       "        vertical-align: middle;\n",
       "    }\n",
       "\n",
       "    .dataframe tbody tr th {\n",
       "        vertical-align: top;\n",
       "    }\n",
       "\n",
       "    .dataframe thead th {\n",
       "        text-align: right;\n",
       "    }\n",
       "</style>\n",
       "<table border=\"1\" class=\"dataframe\">\n",
       "  <thead>\n",
       "    <tr style=\"text-align: right;\">\n",
       "      <th></th>\n",
       "      <th>id</th>\n",
       "      <th>dept</th>\n",
       "      <th>level</th>\n",
       "      <th>workload</th>\n",
       "      <th>employment_years</th>\n",
       "      <th>last_year_promo</th>\n",
       "      <th>last_year_violations</th>\n",
       "      <th>supervisor_evaluation</th>\n",
       "      <th>salary</th>\n",
       "      <th>quit</th>\n",
       "    </tr>\n",
       "  </thead>\n",
       "  <tbody>\n",
       "    <tr>\n",
       "      <th>0</th>\n",
       "      <td>723290</td>\n",
       "      <td>sales</td>\n",
       "      <td>middle</td>\n",
       "      <td>high</td>\n",
       "      <td>2</td>\n",
       "      <td>no</td>\n",
       "      <td>no</td>\n",
       "      <td>4</td>\n",
       "      <td>54000</td>\n",
       "      <td>no</td>\n",
       "    </tr>\n",
       "    <tr>\n",
       "      <th>1</th>\n",
       "      <td>814010</td>\n",
       "      <td>sales</td>\n",
       "      <td>junior</td>\n",
       "      <td>medium</td>\n",
       "      <td>2</td>\n",
       "      <td>no</td>\n",
       "      <td>no</td>\n",
       "      <td>4</td>\n",
       "      <td>27600</td>\n",
       "      <td>no</td>\n",
       "    </tr>\n",
       "    <tr>\n",
       "      <th>2</th>\n",
       "      <td>155091</td>\n",
       "      <td>purchasing</td>\n",
       "      <td>middle</td>\n",
       "      <td>medium</td>\n",
       "      <td>5</td>\n",
       "      <td>no</td>\n",
       "      <td>no</td>\n",
       "      <td>1</td>\n",
       "      <td>37200</td>\n",
       "      <td>no</td>\n",
       "    </tr>\n",
       "    <tr>\n",
       "      <th>3</th>\n",
       "      <td>257132</td>\n",
       "      <td>sales</td>\n",
       "      <td>junior</td>\n",
       "      <td>medium</td>\n",
       "      <td>2</td>\n",
       "      <td>no</td>\n",
       "      <td>yes</td>\n",
       "      <td>3</td>\n",
       "      <td>24000</td>\n",
       "      <td>yes</td>\n",
       "    </tr>\n",
       "    <tr>\n",
       "      <th>4</th>\n",
       "      <td>910140</td>\n",
       "      <td>marketing</td>\n",
       "      <td>junior</td>\n",
       "      <td>medium</td>\n",
       "      <td>2</td>\n",
       "      <td>no</td>\n",
       "      <td>no</td>\n",
       "      <td>5</td>\n",
       "      <td>25200</td>\n",
       "      <td>no</td>\n",
       "    </tr>\n",
       "  </tbody>\n",
       "</table>\n",
       "</div>"
      ],
      "text/plain": [
       "       id        dept   level workload  employment_years last_year_promo  \\\n",
       "0  723290       sales  middle     high                 2              no   \n",
       "1  814010       sales  junior   medium                 2              no   \n",
       "2  155091  purchasing  middle   medium                 5              no   \n",
       "3  257132       sales  junior   medium                 2              no   \n",
       "4  910140   marketing  junior   medium                 2              no   \n",
       "\n",
       "  last_year_violations  supervisor_evaluation  salary quit  \n",
       "0                   no                      4   54000   no  \n",
       "1                   no                      4   27600   no  \n",
       "2                   no                      1   37200   no  \n",
       "3                  yes                      3   24000  yes  \n",
       "4                   no                      5   25200   no  "
      ]
     },
     "metadata": {},
     "output_type": "display_data"
    },
    {
     "data": {
      "text/html": [
       "<div>\n",
       "<style scoped>\n",
       "    .dataframe tbody tr th:only-of-type {\n",
       "        vertical-align: middle;\n",
       "    }\n",
       "\n",
       "    .dataframe tbody tr th {\n",
       "        vertical-align: top;\n",
       "    }\n",
       "\n",
       "    .dataframe thead th {\n",
       "        text-align: right;\n",
       "    }\n",
       "</style>\n",
       "<table border=\"1\" class=\"dataframe\">\n",
       "  <thead>\n",
       "    <tr style=\"text-align: right;\">\n",
       "      <th></th>\n",
       "      <th>id</th>\n",
       "      <th>quit</th>\n",
       "    </tr>\n",
       "  </thead>\n",
       "  <tbody>\n",
       "    <tr>\n",
       "      <th>0</th>\n",
       "      <td>999029</td>\n",
       "      <td>yes</td>\n",
       "    </tr>\n",
       "    <tr>\n",
       "      <th>1</th>\n",
       "      <td>372846</td>\n",
       "      <td>no</td>\n",
       "    </tr>\n",
       "    <tr>\n",
       "      <th>2</th>\n",
       "      <td>726767</td>\n",
       "      <td>no</td>\n",
       "    </tr>\n",
       "    <tr>\n",
       "      <th>3</th>\n",
       "      <td>490105</td>\n",
       "      <td>no</td>\n",
       "    </tr>\n",
       "    <tr>\n",
       "      <th>4</th>\n",
       "      <td>416898</td>\n",
       "      <td>yes</td>\n",
       "    </tr>\n",
       "  </tbody>\n",
       "</table>\n",
       "</div>"
      ],
      "text/plain": [
       "       id quit\n",
       "0  999029  yes\n",
       "1  372846   no\n",
       "2  726767   no\n",
       "3  490105   no\n",
       "4  416898  yes"
      ]
     },
     "execution_count": 29,
     "metadata": {},
     "output_type": "execute_result"
    }
   ],
   "source": [
    "display(train_quit.head())\n",
    "test_quit.head()"
   ]
  },
  {
   "cell_type": "code",
   "execution_count": 30,
   "id": "bf564331",
   "metadata": {},
   "outputs": [
    {
     "name": "stdout",
     "output_type": "stream",
     "text": [
      "<class 'pandas.core.frame.DataFrame'>\n",
      "RangeIndex: 4000 entries, 0 to 3999\n",
      "Data columns (total 10 columns):\n",
      " #   Column                 Non-Null Count  Dtype \n",
      "---  ------                 --------------  ----- \n",
      " 0   id                     4000 non-null   int64 \n",
      " 1   dept                   4000 non-null   object\n",
      " 2   level                  4000 non-null   object\n",
      " 3   workload               4000 non-null   object\n",
      " 4   employment_years       4000 non-null   int64 \n",
      " 5   last_year_promo        4000 non-null   object\n",
      " 6   last_year_violations   4000 non-null   object\n",
      " 7   supervisor_evaluation  4000 non-null   int64 \n",
      " 8   salary                 4000 non-null   int64 \n",
      " 9   quit                   4000 non-null   object\n",
      "dtypes: int64(4), object(6)\n",
      "memory usage: 312.6+ KB\n"
     ]
    },
    {
     "data": {
      "text/plain": [
       "None"
      ]
     },
     "metadata": {},
     "output_type": "display_data"
    },
    {
     "name": "stdout",
     "output_type": "stream",
     "text": [
      "<class 'pandas.core.frame.DataFrame'>\n",
      "RangeIndex: 2000 entries, 0 to 1999\n",
      "Data columns (total 2 columns):\n",
      " #   Column  Non-Null Count  Dtype \n",
      "---  ------  --------------  ----- \n",
      " 0   id      2000 non-null   int64 \n",
      " 1   quit    2000 non-null   object\n",
      "dtypes: int64(1), object(1)\n",
      "memory usage: 31.4+ KB\n"
     ]
    }
   ],
   "source": [
    "display(train_quit.info())\n",
    "test_quit.info()"
   ]
  },
  {
   "cell_type": "code",
   "execution_count": 31,
   "id": "2e16acd5",
   "metadata": {},
   "outputs": [
    {
     "data": {
      "text/html": [
       "<div>\n",
       "<style scoped>\n",
       "    .dataframe tbody tr th:only-of-type {\n",
       "        vertical-align: middle;\n",
       "    }\n",
       "\n",
       "    .dataframe tbody tr th {\n",
       "        vertical-align: top;\n",
       "    }\n",
       "\n",
       "    .dataframe thead th {\n",
       "        text-align: right;\n",
       "    }\n",
       "</style>\n",
       "<table border=\"1\" class=\"dataframe\">\n",
       "  <thead>\n",
       "    <tr style=\"text-align: right;\">\n",
       "      <th></th>\n",
       "      <th>id</th>\n",
       "      <th>employment_years</th>\n",
       "      <th>supervisor_evaluation</th>\n",
       "      <th>salary</th>\n",
       "    </tr>\n",
       "  </thead>\n",
       "  <tbody>\n",
       "    <tr>\n",
       "      <th>count</th>\n",
       "      <td>4000.000000</td>\n",
       "      <td>4000.000000</td>\n",
       "      <td>4000.000000</td>\n",
       "      <td>4000.000000</td>\n",
       "    </tr>\n",
       "    <tr>\n",
       "      <th>mean</th>\n",
       "      <td>552099.283750</td>\n",
       "      <td>3.701500</td>\n",
       "      <td>3.474750</td>\n",
       "      <td>33805.800000</td>\n",
       "    </tr>\n",
       "    <tr>\n",
       "      <th>std</th>\n",
       "      <td>260158.031387</td>\n",
       "      <td>2.541852</td>\n",
       "      <td>1.004049</td>\n",
       "      <td>15152.415163</td>\n",
       "    </tr>\n",
       "    <tr>\n",
       "      <th>min</th>\n",
       "      <td>100222.000000</td>\n",
       "      <td>1.000000</td>\n",
       "      <td>1.000000</td>\n",
       "      <td>12000.000000</td>\n",
       "    </tr>\n",
       "    <tr>\n",
       "      <th>25%</th>\n",
       "      <td>327785.750000</td>\n",
       "      <td>2.000000</td>\n",
       "      <td>3.000000</td>\n",
       "      <td>22800.000000</td>\n",
       "    </tr>\n",
       "    <tr>\n",
       "      <th>50%</th>\n",
       "      <td>546673.000000</td>\n",
       "      <td>3.000000</td>\n",
       "      <td>4.000000</td>\n",
       "      <td>30000.000000</td>\n",
       "    </tr>\n",
       "    <tr>\n",
       "      <th>75%</th>\n",
       "      <td>781497.750000</td>\n",
       "      <td>6.000000</td>\n",
       "      <td>4.000000</td>\n",
       "      <td>43200.000000</td>\n",
       "    </tr>\n",
       "    <tr>\n",
       "      <th>max</th>\n",
       "      <td>999915.000000</td>\n",
       "      <td>10.000000</td>\n",
       "      <td>5.000000</td>\n",
       "      <td>96000.000000</td>\n",
       "    </tr>\n",
       "  </tbody>\n",
       "</table>\n",
       "</div>"
      ],
      "text/plain": [
       "                  id  employment_years  supervisor_evaluation        salary\n",
       "count    4000.000000       4000.000000            4000.000000   4000.000000\n",
       "mean   552099.283750          3.701500               3.474750  33805.800000\n",
       "std    260158.031387          2.541852               1.004049  15152.415163\n",
       "min    100222.000000          1.000000               1.000000  12000.000000\n",
       "25%    327785.750000          2.000000               3.000000  22800.000000\n",
       "50%    546673.000000          3.000000               4.000000  30000.000000\n",
       "75%    781497.750000          6.000000               4.000000  43200.000000\n",
       "max    999915.000000         10.000000               5.000000  96000.000000"
      ]
     },
     "execution_count": 31,
     "metadata": {},
     "output_type": "execute_result"
    }
   ],
   "source": [
    "train_quit.describe()"
   ]
  },
  {
   "cell_type": "markdown",
   "id": "bb12b991",
   "metadata": {},
   "source": [
    "# Вывод\n",
    "Загрузили данные, провели описательную статистику, пропсуков в данных не обнаружено, аномальных значений тоже. Датасет test_features.csv не загружали и не изучали, тк это те же самые данные, что и в первой задаче"
   ]
  },
  {
   "cell_type": "markdown",
   "id": "66866485",
   "metadata": {},
   "source": [
    "## Предобработка данных"
   ]
  },
  {
   "cell_type": "code",
   "execution_count": 32,
   "id": "2e7cd9ed",
   "metadata": {},
   "outputs": [
    {
     "name": "stdout",
     "output_type": "stream",
     "text": [
      "уникальные значения в столбце dept ['sales' 'hr' 'technology' 'purchasing' 'marketing' nan]\n",
      "уникальные значения в столбце level ['junior' 'middle' 'sinior' nan]\n",
      "уникальные значения в столбце workload ['medium' 'high' 'low']\n",
      "уникальные значения в столбце employment_years [ 2  1  4  7  9  6  3 10  8  5]\n",
      "уникальные значения в столбце last_year_promo ['no' 'yes']\n",
      "уникальные значения в столбце last_year_violations ['no' 'yes']\n",
      "уникальные значения в столбце supervisor_evaluation [1 5 2 3 4]\n"
     ]
    }
   ],
   "source": [
    "for c in train_quit.iloc[:,1:8]:\n",
    "    print(f'уникальные значения в столбце {c} {train_job_satisfaction_rate[c].unique()}')"
   ]
  },
  {
   "cell_type": "code",
   "execution_count": 33,
   "id": "e14bde8a",
   "metadata": {},
   "outputs": [
    {
     "name": "stdout",
     "output_type": "stream",
     "text": [
      "уникальные значения в столбце dept ['sales' 'hr' 'technology' 'purchasing' 'marketing' nan]\n",
      "уникальные значения в столбце level ['junior' 'middle' 'sinior' nan]\n",
      "уникальные значения в столбце workload ['medium' 'high' 'low']\n",
      "уникальные значения в столбце employment_years [ 2  1  4  7  9  6  3 10  8  5]\n",
      "уникальные значения в столбце last_year_promo ['no' 'yes']\n",
      "уникальные значения в столбце last_year_violations ['no' 'yes']\n",
      "уникальные значения в столбце supervisor_evaluation [1 5 2 3 4]\n"
     ]
    }
   ],
   "source": [
    "for c in test_features.iloc[:,1:8]:\n",
    "    print(f'уникальные значения в столбце {c} {train_job_satisfaction_rate[c].unique()}')"
   ]
  },
  {
   "cell_type": "code",
   "execution_count": 34,
   "id": "2f6e143d",
   "metadata": {},
   "outputs": [
    {
     "name": "stdout",
     "output_type": "stream",
     "text": [
      "0\n",
      "0\n"
     ]
    }
   ],
   "source": [
    "print(train_quit.duplicated().sum())\n",
    "print(test_quit.duplicated().sum())"
   ]
  },
  {
   "cell_type": "markdown",
   "id": "3bce4e7e",
   "metadata": {},
   "source": [
    "# Вывод\n",
    "Проверли предобработку, дубликатов в данных не обнаружено, аномальные значения также отсутсвуют, датасет test_features не требует обработки, тк мы сделали ее еще в первой задаче."
   ]
  },
  {
   "cell_type": "markdown",
   "id": "2d2ec9c1",
   "metadata": {},
   "source": [
    "## Исследовательский анализ"
   ]
  },
  {
   "cell_type": "code",
   "execution_count": 35,
   "id": "86b4637c",
   "metadata": {},
   "outputs": [
    {
     "data": {
      "image/png": "[encoded data removed]",
      "text/plain": [
       "<Figure size 1080x360 with 2 Axes>"
      ]
     },
     "metadata": {
      "needs_background": "light"
     },
     "output_type": "display_data"
    },
    {
     "data": {
      "image/png": "[encoded data removed]",
      "text/plain": [
       "<Figure size 1080x360 with 2 Axes>"
      ]
     },
     "metadata": {
      "needs_background": "light"
     },
     "output_type": "display_data"
    },
    {
     "data": {
      "image/png": "[encoded data removed]",
      "text/plain": [
       "<Figure size 1080x360 with 2 Axes>"
      ]
     },
     "metadata": {
      "needs_background": "light"
     },
     "output_type": "display_data"
    }
   ],
   "source": [
    "for_num1 = train_quit[train_quit.select_dtypes(include='number').columns].drop(['id'], axis=1)\n",
    "for x in for_num1:\n",
    "    num_plots(train_quit[x],x)\n",
    "    plt.show()"
   ]
  },
  {
   "cell_type": "code",
   "execution_count": 36,
   "id": "86b2ed52",
   "metadata": {},
   "outputs": [
    {
     "data": {
      "image/png": "[encoded data removed]",
      "text/plain": [
       "<Figure size 432x288 with 1 Axes>"
      ]
     },
     "metadata": {
      "needs_background": "light"
     },
     "output_type": "display_data"
    },
    {
     "data": {
      "image/png": "[encoded data removed]",
      "text/plain": [
       "<Figure size 432x288 with 1 Axes>"
      ]
     },
     "metadata": {
      "needs_background": "light"
     },
     "output_type": "display_data"
    },
    {
     "data": {
      "image/png": "[encoded data removed]",
      "text/plain": [
       "<Figure size 432x288 with 1 Axes>"
      ]
     },
     "metadata": {
      "needs_background": "light"
     },
     "output_type": "display_data"
    },
    {
     "data": {
      "image/png": "[encoded data removed]",
      "text/plain": [
       "<Figure size 432x288 with 1 Axes>"
      ]
     },
     "metadata": {
      "needs_background": "light"
     },
     "output_type": "display_data"
    },
    {
     "data": {
      "image/png": "[encoded data removed]",
      "text/plain": [
       "<Figure size 432x288 with 1 Axes>"
      ]
     },
     "metadata": {
      "needs_background": "light"
     },
     "output_type": "display_data"
    },
    {
     "data": {
      "image/png": "[encoded data removed]",
      "text/plain": [
       "<Figure size 432x288 with 1 Axes>"
      ]
     },
     "metadata": {
      "needs_background": "light"
     },
     "output_type": "display_data"
    }
   ],
   "source": [
    "for_cat1 = train_quit[train_quit.select_dtypes(exclude='number').columns]\n",
    "for x in for_cat1:\n",
    "    cat_plots(train_quit[x],x)"
   ]
  },
  {
   "cell_type": "code",
   "execution_count": 37,
   "id": "4c8d7247",
   "metadata": {},
   "outputs": [
    {
     "data": {
      "image/png": "[encoded data removed]",
      "text/plain": [
       "<Figure size 432x288 with 1 Axes>"
      ]
     },
     "metadata": {
      "needs_background": "light"
     },
     "output_type": "display_data"
    }
   ],
   "source": [
    "cat_plots(test_quit.drop('id',axis=1),'quit')"
   ]
  },
  {
   "cell_type": "code",
   "execution_count": 38,
   "id": "28eee5ac",
   "metadata": {},
   "outputs": [
    {
     "data": {
      "image/png": "[encoded data removed]",
      "text/plain": [
       "<Figure size 720x720 with 1 Axes>"
      ]
     },
     "metadata": {
      "needs_background": "light"
     },
     "output_type": "display_data"
    }
   ],
   "source": [
    "dept_quit=train_quit.groupby(['dept'])['quit'].value_counts(normalize=True)\n",
    "dept_quit.unstack().plot(kind='barh', figsize=(10,10), color=['black', 'red'])\n",
    "plt.title('Уволившиеся сотрудники в каждом отделе')\n",
    "plt.xlabel('Доля сотрудников')\n",
    "plt.ylabel('Отдел');"
   ]
  },
  {
   "cell_type": "markdown",
   "id": "c9d5a960",
   "metadata": {},
   "source": [
    "Больше всего увольняется из отдела продаж (35% от работавших), меньше всего из HR(25% от работавших)"
   ]
  },
  {
   "cell_type": "code",
   "execution_count": 39,
   "id": "680db479",
   "metadata": {},
   "outputs": [
    {
     "data": {
      "image/png": "[encoded data removed]",
      "text/plain": [
       "<Figure size 720x720 with 1 Axes>"
      ]
     },
     "metadata": {
      "needs_background": "light"
     },
     "output_type": "display_data"
    }
   ],
   "source": [
    "workload_quit = train_quit.groupby(['workload'])['quit'].value_counts(normalize=True)\n",
    "workload_quit.unstack().plot(kind='barh', figsize=(10,10), color=['black', 'red'])\n",
    "plt.title('Уволившиеся сотрудники в каждом отделе')\n",
    "plt.xlabel('Доля сотрудников')\n",
    "plt.ylabel('Загруженность');"
   ]
  },
  {
   "cell_type": "markdown",
   "id": "78917466",
   "metadata": {},
   "source": [
    "Чаще всего увольняются сотрудники со средней и слабой нагрузкой, а в процентном соотношении, больше всего увольянется работников со слабой загрузкой. Вероятно, это обусловлено тем, что большая нагрузка и сеньеров, а они получают большую зп, поэтому редко увольняются"
   ]
  },
  {
   "cell_type": "code",
   "execution_count": 40,
   "id": "af9ceadf",
   "metadata": {},
   "outputs": [],
   "source": [
    "final = test_quit.merge(test_target_job_satisfaction_rate, on='id',how='left') #объединяем таблицы с целевым и тестовой выборкой"
   ]
  },
  {
   "cell_type": "code",
   "execution_count": 41,
   "id": "9eb6520f",
   "metadata": {},
   "outputs": [
    {
     "data": {
      "image/png": "[encoded data removed]",
      "text/plain": [
       "<Figure size 1080x720 with 1 Axes>"
      ]
     },
     "metadata": {
      "needs_background": "light"
     },
     "output_type": "display_data"
    }
   ],
   "source": [
    "satisfaction_quit = final[['job_satisfaction_rate','quit']].query('quit==\"yes\"')\n",
    "quit_yes = satisfaction_quit.pivot_table(index='job_satisfaction_rate', values='quit', aggfunc='count')\n",
    "quit_yes.plot(kind='bar',figsize=(15,10),xlabel='Удовлетворенность',ylabel='Увольнения');"
   ]
  },
  {
   "cell_type": "markdown",
   "id": "16641f96",
   "metadata": {},
   "source": [
    "Как видим люди, которые удовлетворены работой на 75%+ практически не увольняются, в то время как работники с удовлетворенностью 27%-50% увольняются очень часто, также часто уходят работники с удовлетворенность от 62% до 69%\n",
    "\n",
    "Можно сказать, что если челвовек удовлетворен своей работой выше 70%, то вероятность его увольнения достаточно мала. Больше количество увольнений с удовлетворенность в 69% может быть обсуловлено тем, что этим работникам предложили более высокий оклад"
   ]
  },
  {
   "cell_type": "code",
   "execution_count": 42,
   "id": "2a7e98d0",
   "metadata": {},
   "outputs": [
    {
     "name": "stdout",
     "output_type": "stream",
     "text": [
      "Средняя зарплата уволившихся сотрудников: 23885.106382978724\n",
      "Средняя зарплата работающих сотрудников: 37702.22841225627\n"
     ]
    }
   ],
   "source": [
    "print('Средняя зарплата уволившихся сотрудников:',train_quit['salary'][train_quit['quit'] == 'yes'].mean())\n",
    "print('Средняя зарплата работающих сотрудников:',train_quit['salary'][train_quit['quit'] == 'no'].mean())"
   ]
  },
  {
   "cell_type": "markdown",
   "id": "4a1629f8",
   "metadata": {},
   "source": [
    "Как видим, скорее всего мое суждение верно, тк зарплата неуволившихся сотрудников выше"
   ]
  },
  {
   "cell_type": "markdown",
   "id": "37a6fccb",
   "metadata": {},
   "source": [
    "# Вывод"
   ]
  },
  {
   "cell_type": "markdown",
   "id": "2ad181fe",
   "metadata": {},
   "source": [
    "По результатам исследовательского анализа можно сказать,что:\n",
    "\n",
    "- dept: большинство работников находится в отделе продаж, меньше всего в отделе HR\n",
    "- level: меньше всего в компании работает сеньеров, примерно поровну работников ранга джун и мидл\n",
    "- workload: достаточно мало работников имеют сильную загруженность, большинство сотрудников загружены средне\n",
    "- last_year_promo: за последний год практически не было повышений\n",
    "- last_year_violations: порядка 12% сотрудников нарушали условие трудового договора, остальные сотрудники не нарушали\n",
    "- employment_years: Мультимодальное распределение, большинство работников устроились в компанию недавно, чем больше опыт работы в компании, тем меньше таких работников(с большим опытом)\n",
    "- supervisor_evaluation: Мультимодальное распределение, почти все работники получили оценку 4 на втором месте по популярности оценка 3, самая редкая оценка - 1\n",
    "- salary: Нормальное распределение со смещением влево, в основном работники получают от 20 до 30 тысяч, также в данных есть достаточно большие значения, но я бы не сказал, что эти данные могут навредить модели, а также не думаю, что их стоит удалять, тк сеньеры получают высокие зп и наличие в данных таких значений, поможет правильно классифицировать удовлетвроенность работника уровня сеньер\n",
    "- целевой признак job_satisfaction_rate:Нормальное распределение со смещением вправо, в среднем работники удовлетворены на 70%, также большое количество работников удовлетворены на 80%\n",
    "\n",
    "Все признаки изучили, по поводу выбросов описано в пункте salary, исправлять данные не нужно\n",
    "\n",
    "Чаще всего увольняюся сотрудники из отдела продаж со среденей или слабой нагрузкой"
   ]
  },
  {
   "cell_type": "markdown",
   "id": "279080b3",
   "metadata": {},
   "source": [
    "## Добавление нового признака"
   ]
  },
  {
   "cell_type": "code",
   "execution_count": 43,
   "id": "a006cd1c",
   "metadata": {},
   "outputs": [
    {
     "name": "stderr",
     "output_type": "stream",
     "text": [
      "/opt/conda/lib/python3.9/site-packages/sklearn/preprocessing/_encoders.py:242: UserWarning: Found unknown categories in columns [0] during transform. These unknown categories will be encoded as all zeros\n",
      "  warnings.warn(\n"
     ]
    },
    {
     "data": {
      "text/html": [
       "<div>\n",
       "<style scoped>\n",
       "    .dataframe tbody tr th:only-of-type {\n",
       "        vertical-align: middle;\n",
       "    }\n",
       "\n",
       "    .dataframe tbody tr th {\n",
       "        vertical-align: top;\n",
       "    }\n",
       "\n",
       "    .dataframe thead th {\n",
       "        text-align: right;\n",
       "    }\n",
       "</style>\n",
       "<table border=\"1\" class=\"dataframe\">\n",
       "  <thead>\n",
       "    <tr style=\"text-align: right;\">\n",
       "      <th></th>\n",
       "      <th>id</th>\n",
       "      <th>dept</th>\n",
       "      <th>level</th>\n",
       "      <th>workload</th>\n",
       "      <th>employment_years</th>\n",
       "      <th>last_year_promo</th>\n",
       "      <th>last_year_violations</th>\n",
       "      <th>supervisor_evaluation</th>\n",
       "      <th>salary</th>\n",
       "      <th>job_satisfaction_rate</th>\n",
       "    </tr>\n",
       "  </thead>\n",
       "  <tbody>\n",
       "    <tr>\n",
       "      <th>0</th>\n",
       "      <td>485046</td>\n",
       "      <td>marketing</td>\n",
       "      <td>junior</td>\n",
       "      <td>medium</td>\n",
       "      <td>2</td>\n",
       "      <td>no</td>\n",
       "      <td>no</td>\n",
       "      <td>5</td>\n",
       "      <td>28800</td>\n",
       "      <td>0.863333</td>\n",
       "    </tr>\n",
       "    <tr>\n",
       "      <th>1</th>\n",
       "      <td>686555</td>\n",
       "      <td>hr</td>\n",
       "      <td>junior</td>\n",
       "      <td>medium</td>\n",
       "      <td>1</td>\n",
       "      <td>no</td>\n",
       "      <td>no</td>\n",
       "      <td>4</td>\n",
       "      <td>30000</td>\n",
       "      <td>0.670417</td>\n",
       "    </tr>\n",
       "    <tr>\n",
       "      <th>2</th>\n",
       "      <td>467458</td>\n",
       "      <td>sales</td>\n",
       "      <td>middle</td>\n",
       "      <td>low</td>\n",
       "      <td>5</td>\n",
       "      <td>no</td>\n",
       "      <td>no</td>\n",
       "      <td>4</td>\n",
       "      <td>19200</td>\n",
       "      <td>0.654000</td>\n",
       "    </tr>\n",
       "    <tr>\n",
       "      <th>3</th>\n",
       "      <td>418655</td>\n",
       "      <td>sales</td>\n",
       "      <td>middle</td>\n",
       "      <td>low</td>\n",
       "      <td>6</td>\n",
       "      <td>no</td>\n",
       "      <td>no</td>\n",
       "      <td>4</td>\n",
       "      <td>19200</td>\n",
       "      <td>0.655000</td>\n",
       "    </tr>\n",
       "    <tr>\n",
       "      <th>4</th>\n",
       "      <td>789145</td>\n",
       "      <td>hr</td>\n",
       "      <td>middle</td>\n",
       "      <td>medium</td>\n",
       "      <td>5</td>\n",
       "      <td>no</td>\n",
       "      <td>no</td>\n",
       "      <td>5</td>\n",
       "      <td>40800</td>\n",
       "      <td>0.824643</td>\n",
       "    </tr>\n",
       "    <tr>\n",
       "      <th>...</th>\n",
       "      <td>...</td>\n",
       "      <td>...</td>\n",
       "      <td>...</td>\n",
       "      <td>...</td>\n",
       "      <td>...</td>\n",
       "      <td>...</td>\n",
       "      <td>...</td>\n",
       "      <td>...</td>\n",
       "      <td>...</td>\n",
       "      <td>...</td>\n",
       "    </tr>\n",
       "    <tr>\n",
       "      <th>1995</th>\n",
       "      <td>393147</td>\n",
       "      <td>marketing</td>\n",
       "      <td>junior</td>\n",
       "      <td>low</td>\n",
       "      <td>3</td>\n",
       "      <td>no</td>\n",
       "      <td>no</td>\n",
       "      <td>3</td>\n",
       "      <td>20400</td>\n",
       "      <td>0.494000</td>\n",
       "    </tr>\n",
       "    <tr>\n",
       "      <th>1996</th>\n",
       "      <td>109582</td>\n",
       "      <td>technology</td>\n",
       "      <td>middle</td>\n",
       "      <td>low</td>\n",
       "      <td>3</td>\n",
       "      <td>no</td>\n",
       "      <td>no</td>\n",
       "      <td>2</td>\n",
       "      <td>21600</td>\n",
       "      <td>0.170000</td>\n",
       "    </tr>\n",
       "    <tr>\n",
       "      <th>1997</th>\n",
       "      <td>305653</td>\n",
       "      <td>technology</td>\n",
       "      <td>junior</td>\n",
       "      <td>low</td>\n",
       "      <td>1</td>\n",
       "      <td>no</td>\n",
       "      <td>no</td>\n",
       "      <td>3</td>\n",
       "      <td>14400</td>\n",
       "      <td>0.240000</td>\n",
       "    </tr>\n",
       "    <tr>\n",
       "      <th>1998</th>\n",
       "      <td>160233</td>\n",
       "      <td>technology</td>\n",
       "      <td>middle</td>\n",
       "      <td>low</td>\n",
       "      <td>8</td>\n",
       "      <td>no</td>\n",
       "      <td>no</td>\n",
       "      <td>1</td>\n",
       "      <td>32400</td>\n",
       "      <td>0.550000</td>\n",
       "    </tr>\n",
       "    <tr>\n",
       "      <th>1999</th>\n",
       "      <td>771859</td>\n",
       "      <td>purchasing</td>\n",
       "      <td>middle</td>\n",
       "      <td>medium</td>\n",
       "      <td>1</td>\n",
       "      <td>no</td>\n",
       "      <td>no</td>\n",
       "      <td>4</td>\n",
       "      <td>38400</td>\n",
       "      <td>0.565000</td>\n",
       "    </tr>\n",
       "  </tbody>\n",
       "</table>\n",
       "<p>2000 rows × 10 columns</p>\n",
       "</div>"
      ],
      "text/plain": [
       "          id        dept   level workload  employment_years last_year_promo  \\\n",
       "0     485046   marketing  junior   medium                 2              no   \n",
       "1     686555          hr  junior   medium                 1              no   \n",
       "2     467458       sales  middle      low                 5              no   \n",
       "3     418655       sales  middle      low                 6              no   \n",
       "4     789145          hr  middle   medium                 5              no   \n",
       "...      ...         ...     ...      ...               ...             ...   \n",
       "1995  393147   marketing  junior      low                 3              no   \n",
       "1996  109582  technology  middle      low                 3              no   \n",
       "1997  305653  technology  junior      low                 1              no   \n",
       "1998  160233  technology  middle      low                 8              no   \n",
       "1999  771859  purchasing  middle   medium                 1              no   \n",
       "\n",
       "     last_year_violations  supervisor_evaluation  salary  \\\n",
       "0                      no                      5   28800   \n",
       "1                      no                      4   30000   \n",
       "2                      no                      4   19200   \n",
       "3                      no                      4   19200   \n",
       "4                      no                      5   40800   \n",
       "...                   ...                    ...     ...   \n",
       "1995                   no                      3   20400   \n",
       "1996                   no                      2   21600   \n",
       "1997                   no                      3   14400   \n",
       "1998                   no                      1   32400   \n",
       "1999                   no                      4   38400   \n",
       "\n",
       "      job_satisfaction_rate  \n",
       "0                  0.863333  \n",
       "1                  0.670417  \n",
       "2                  0.654000  \n",
       "3                  0.655000  \n",
       "4                  0.824643  \n",
       "...                     ...  \n",
       "1995               0.494000  \n",
       "1996               0.170000  \n",
       "1997               0.240000  \n",
       "1998               0.550000  \n",
       "1999               0.565000  \n",
       "\n",
       "[2000 rows x 10 columns]"
      ]
     },
     "execution_count": 43,
     "metadata": {},
     "output_type": "execute_result"
    }
   ],
   "source": [
    "test_features['job_satisfaction_rate'] = randomized_search.predict(X_test)\n",
    "test_features"
   ]
  },
  {
   "cell_type": "code",
   "execution_count": 44,
   "id": "2d95ef38",
   "metadata": {},
   "outputs": [
    {
     "data": {
      "text/html": [
       "<div>\n",
       "<style scoped>\n",
       "    .dataframe tbody tr th:only-of-type {\n",
       "        vertical-align: middle;\n",
       "    }\n",
       "\n",
       "    .dataframe tbody tr th {\n",
       "        vertical-align: top;\n",
       "    }\n",
       "\n",
       "    .dataframe thead th {\n",
       "        text-align: right;\n",
       "    }\n",
       "</style>\n",
       "<table border=\"1\" class=\"dataframe\">\n",
       "  <thead>\n",
       "    <tr style=\"text-align: right;\">\n",
       "      <th></th>\n",
       "      <th>id</th>\n",
       "      <th>dept</th>\n",
       "      <th>level</th>\n",
       "      <th>workload</th>\n",
       "      <th>employment_years</th>\n",
       "      <th>last_year_promo</th>\n",
       "      <th>last_year_violations</th>\n",
       "      <th>supervisor_evaluation</th>\n",
       "      <th>salary</th>\n",
       "      <th>quit</th>\n",
       "      <th>job_satisfaction_rate</th>\n",
       "    </tr>\n",
       "  </thead>\n",
       "  <tbody>\n",
       "    <tr>\n",
       "      <th>0</th>\n",
       "      <td>723290</td>\n",
       "      <td>sales</td>\n",
       "      <td>middle</td>\n",
       "      <td>high</td>\n",
       "      <td>2</td>\n",
       "      <td>no</td>\n",
       "      <td>no</td>\n",
       "      <td>4</td>\n",
       "      <td>54000</td>\n",
       "      <td>no</td>\n",
       "      <td>0.660000</td>\n",
       "    </tr>\n",
       "    <tr>\n",
       "      <th>1</th>\n",
       "      <td>814010</td>\n",
       "      <td>sales</td>\n",
       "      <td>junior</td>\n",
       "      <td>medium</td>\n",
       "      <td>2</td>\n",
       "      <td>no</td>\n",
       "      <td>no</td>\n",
       "      <td>4</td>\n",
       "      <td>27600</td>\n",
       "      <td>no</td>\n",
       "      <td>0.853529</td>\n",
       "    </tr>\n",
       "    <tr>\n",
       "      <th>2</th>\n",
       "      <td>155091</td>\n",
       "      <td>purchasing</td>\n",
       "      <td>middle</td>\n",
       "      <td>medium</td>\n",
       "      <td>5</td>\n",
       "      <td>no</td>\n",
       "      <td>no</td>\n",
       "      <td>1</td>\n",
       "      <td>37200</td>\n",
       "      <td>no</td>\n",
       "      <td>0.364091</td>\n",
       "    </tr>\n",
       "    <tr>\n",
       "      <th>3</th>\n",
       "      <td>257132</td>\n",
       "      <td>sales</td>\n",
       "      <td>junior</td>\n",
       "      <td>medium</td>\n",
       "      <td>2</td>\n",
       "      <td>no</td>\n",
       "      <td>yes</td>\n",
       "      <td>3</td>\n",
       "      <td>24000</td>\n",
       "      <td>yes</td>\n",
       "      <td>0.380000</td>\n",
       "    </tr>\n",
       "    <tr>\n",
       "      <th>4</th>\n",
       "      <td>910140</td>\n",
       "      <td>marketing</td>\n",
       "      <td>junior</td>\n",
       "      <td>medium</td>\n",
       "      <td>2</td>\n",
       "      <td>no</td>\n",
       "      <td>no</td>\n",
       "      <td>5</td>\n",
       "      <td>25200</td>\n",
       "      <td>no</td>\n",
       "      <td>0.690000</td>\n",
       "    </tr>\n",
       "    <tr>\n",
       "      <th>...</th>\n",
       "      <td>...</td>\n",
       "      <td>...</td>\n",
       "      <td>...</td>\n",
       "      <td>...</td>\n",
       "      <td>...</td>\n",
       "      <td>...</td>\n",
       "      <td>...</td>\n",
       "      <td>...</td>\n",
       "      <td>...</td>\n",
       "      <td>...</td>\n",
       "      <td>...</td>\n",
       "    </tr>\n",
       "    <tr>\n",
       "      <th>3995</th>\n",
       "      <td>588809</td>\n",
       "      <td>sales</td>\n",
       "      <td>junior</td>\n",
       "      <td>medium</td>\n",
       "      <td>4</td>\n",
       "      <td>no</td>\n",
       "      <td>no</td>\n",
       "      <td>3</td>\n",
       "      <td>26400</td>\n",
       "      <td>no</td>\n",
       "      <td>0.528571</td>\n",
       "    </tr>\n",
       "    <tr>\n",
       "      <th>3996</th>\n",
       "      <td>672059</td>\n",
       "      <td>sales</td>\n",
       "      <td>middle</td>\n",
       "      <td>high</td>\n",
       "      <td>9</td>\n",
       "      <td>no</td>\n",
       "      <td>no</td>\n",
       "      <td>4</td>\n",
       "      <td>52800</td>\n",
       "      <td>no</td>\n",
       "      <td>0.848889</td>\n",
       "    </tr>\n",
       "    <tr>\n",
       "      <th>3997</th>\n",
       "      <td>536432</td>\n",
       "      <td>purchasing</td>\n",
       "      <td>junior</td>\n",
       "      <td>low</td>\n",
       "      <td>2</td>\n",
       "      <td>no</td>\n",
       "      <td>yes</td>\n",
       "      <td>4</td>\n",
       "      <td>12000</td>\n",
       "      <td>yes</td>\n",
       "      <td>0.560000</td>\n",
       "    </tr>\n",
       "    <tr>\n",
       "      <th>3998</th>\n",
       "      <td>692133</td>\n",
       "      <td>purchasing</td>\n",
       "      <td>middle</td>\n",
       "      <td>medium</td>\n",
       "      <td>2</td>\n",
       "      <td>no</td>\n",
       "      <td>no</td>\n",
       "      <td>4</td>\n",
       "      <td>33600</td>\n",
       "      <td>no</td>\n",
       "      <td>0.553333</td>\n",
       "    </tr>\n",
       "    <tr>\n",
       "      <th>3999</th>\n",
       "      <td>853842</td>\n",
       "      <td>sales</td>\n",
       "      <td>junior</td>\n",
       "      <td>medium</td>\n",
       "      <td>2</td>\n",
       "      <td>no</td>\n",
       "      <td>no</td>\n",
       "      <td>3</td>\n",
       "      <td>27600</td>\n",
       "      <td>yes</td>\n",
       "      <td>0.522500</td>\n",
       "    </tr>\n",
       "  </tbody>\n",
       "</table>\n",
       "<p>4000 rows × 11 columns</p>\n",
       "</div>"
      ],
      "text/plain": [
       "          id        dept   level workload  employment_years last_year_promo  \\\n",
       "0     723290       sales  middle     high                 2              no   \n",
       "1     814010       sales  junior   medium                 2              no   \n",
       "2     155091  purchasing  middle   medium                 5              no   \n",
       "3     257132       sales  junior   medium                 2              no   \n",
       "4     910140   marketing  junior   medium                 2              no   \n",
       "...      ...         ...     ...      ...               ...             ...   \n",
       "3995  588809       sales  junior   medium                 4              no   \n",
       "3996  672059       sales  middle     high                 9              no   \n",
       "3997  536432  purchasing  junior      low                 2              no   \n",
       "3998  692133  purchasing  middle   medium                 2              no   \n",
       "3999  853842       sales  junior   medium                 2              no   \n",
       "\n",
       "     last_year_violations  supervisor_evaluation  salary quit  \\\n",
       "0                      no                      4   54000   no   \n",
       "1                      no                      4   27600   no   \n",
       "2                      no                      1   37200   no   \n",
       "3                     yes                      3   24000  yes   \n",
       "4                      no                      5   25200   no   \n",
       "...                   ...                    ...     ...  ...   \n",
       "3995                   no                      3   26400   no   \n",
       "3996                   no                      4   52800   no   \n",
       "3997                  yes                      4   12000  yes   \n",
       "3998                   no                      4   33600   no   \n",
       "3999                   no                      3   27600  yes   \n",
       "\n",
       "      job_satisfaction_rate  \n",
       "0                  0.660000  \n",
       "1                  0.853529  \n",
       "2                  0.364091  \n",
       "3                  0.380000  \n",
       "4                  0.690000  \n",
       "...                     ...  \n",
       "3995               0.528571  \n",
       "3996               0.848889  \n",
       "3997               0.560000  \n",
       "3998               0.553333  \n",
       "3999               0.522500  \n",
       "\n",
       "[4000 rows x 11 columns]"
      ]
     },
     "execution_count": 44,
     "metadata": {},
     "output_type": "execute_result"
    }
   ],
   "source": [
    "train_quit['job_satisfaction_rate'] = randomized_search.predict(train_quit)\n",
    "train_quit"
   ]
  },
  {
   "cell_type": "markdown",
   "id": "54a4e024",
   "metadata": {},
   "source": [
    "## Подготовка данных"
   ]
  },
  {
   "cell_type": "code",
   "execution_count": 45,
   "id": "d38f4752",
   "metadata": {},
   "outputs": [],
   "source": [
    "new_df = test_features.merge(test_quit, on='id', how='left') #объеденим оба теста в 1 таблицу"
   ]
  },
  {
   "cell_type": "code",
   "execution_count": 46,
   "id": "6e8f2e38",
   "metadata": {},
   "outputs": [
    {
     "data": {
      "image/png": "[encoded data removed]",
      "text/plain": [
       "<Figure size 1440x1080 with 2 Axes>"
      ]
     },
     "metadata": {
      "needs_background": "light"
     },
     "output_type": "display_data"
    }
   ],
   "source": [
    "phik_overview=new_df.drop('id', axis=1).phik_matrix(verbose=False)\n",
    "\n",
    "plot_correlation_matrix(\n",
    "    phik_overview.values,\n",
    "    x_labels=phik_overview.columns,\n",
    "    y_labels=phik_overview.index,\n",
    "    vmin=0, vmax=1, color_map='Greens',\n",
    "    title=r'Корреляция $\\phi_K$',\n",
    "    fontsize_factor=1.5,\n",
    "    figsize=(20, 15)\n",
    ")"
   ]
  },
  {
   "cell_type": "code",
   "execution_count": 47,
   "id": "44d419f0",
   "metadata": {},
   "outputs": [
    {
     "name": "stdout",
     "output_type": "stream",
     "text": [
      "1413\n"
     ]
    }
   ],
   "source": [
    "train_quit1=train_quit.drop('id',axis=1)\n",
    "print(train_quit1.duplicated().sum())\n",
    "train_quit1.drop_duplicates(inplace=True)#после удаления id появляются дубликаты"
   ]
  },
  {
   "cell_type": "code",
   "execution_count": 48,
   "id": "7ed9e482",
   "metadata": {},
   "outputs": [],
   "source": [
    "X1_train = train_quit1.drop('quit', axis=1)\n",
    "y1_train = train_quit1['quit'] \n",
    "X1_test = new_df.drop(['quit','id'], axis=1)\n",
    "y1_test = new_df['quit'] "
   ]
  },
  {
   "cell_type": "code",
   "execution_count": 49,
   "id": "a471901d",
   "metadata": {},
   "outputs": [],
   "source": [
    "le = LabelEncoder()\n",
    "y1_train=le.fit_transform(y1_train) \n",
    "le.classes_\n",
    "y1_test=le.transform(y1_test)"
   ]
  },
  {
   "cell_type": "markdown",
   "id": "32b3f266",
   "metadata": {},
   "source": [
    "## Обучение моделей"
   ]
  },
  {
   "cell_type": "code",
   "execution_count": 50,
   "id": "a46ffdb2",
   "metadata": {},
   "outputs": [
    {
     "data": {
      "text/html": [
       "<style>#sk-container-id-2 {\n",
       "  /* Definition of color scheme common for light and dark mode */\n",
       "  --sklearn-color-text: black;\n",
       "  --sklearn-color-line: gray;\n",
       "  /* Definition of color scheme for unfitted estimators */\n",
       "  --sklearn-color-unfitted-level-0: #fff5e6;\n",
       "  --sklearn-color-unfitted-level-1: #f6e4d2;\n",
       "  --sklearn-color-unfitted-level-2: #ffe0b3;\n",
       "  --sklearn-color-unfitted-level-3: chocolate;\n",
       "  /* Definition of color scheme for fitted estimators */\n",
       "  --sklearn-color-fitted-level-0: #f0f8ff;\n",
       "  --sklearn-color-fitted-level-1: #d4ebff;\n",
       "  --sklearn-color-fitted-level-2: #b3dbfd;\n",
       "  --sklearn-color-fitted-level-3: cornflowerblue;\n",
       "\n",
       "  /* Specific color for light theme */\n",
       "  --sklearn-color-text-on-default-background: var(--sg-text-color, var(--theme-code-foreground, var(--jp-content-font-color1, black)));\n",
       "  --sklearn-color-background: var(--sg-background-color, var(--theme-background, var(--jp-layout-color0, white)));\n",
       "  --sklearn-color-border-box: var(--sg-text-color, var(--theme-code-foreground, var(--jp-content-font-color1, black)));\n",
       "  --sklearn-color-icon: #696969;\n",
       "\n",
       "  @media (prefers-color-scheme: dark) {\n",
       "    /* Redefinition of color scheme for dark theme */\n",
       "    --sklearn-color-text-on-default-background: var(--sg-text-color, var(--theme-code-foreground, var(--jp-content-font-color1, white)));\n",
       "    --sklearn-color-background: var(--sg-background-color, var(--theme-background, var(--jp-layout-color0, #111)));\n",
       "    --sklearn-color-border-box: var(--sg-text-color, var(--theme-code-foreground, var(--jp-content-font-color1, white)));\n",
       "    --sklearn-color-icon: #878787;\n",
       "  }\n",
       "}\n",
       "\n",
       "#sk-container-id-2 {\n",
       "  color: var(--sklearn-color-text);\n",
       "}\n",
       "\n",
       "#sk-container-id-2 pre {\n",
       "  padding: 0;\n",
       "}\n",
       "\n",
       "#sk-container-id-2 input.sk-hidden--visually {\n",
       "  border: 0;\n",
       "  clip: rect(1px 1px 1px 1px);\n",
       "  clip: rect(1px, 1px, 1px, 1px);\n",
       "  height: 1px;\n",
       "  margin: -1px;\n",
       "  overflow: hidden;\n",
       "  padding: 0;\n",
       "  position: absolute;\n",
       "  width: 1px;\n",
       "}\n",
       "\n",
       "#sk-container-id-2 div.sk-dashed-wrapped {\n",
       "  border: 1px dashed var(--sklearn-color-line);\n",
       "  margin: 0 0.4em 0.5em 0.4em;\n",
       "  box-sizing: border-box;\n",
       "  padding-bottom: 0.4em;\n",
       "  background-color: var(--sklearn-color-background);\n",
       "}\n",
       "\n",
       "#sk-container-id-2 div.sk-container {\n",
       "  /* jupyter's `normalize.less` sets `[hidden] { display: none; }`\n",
       "     but bootstrap.min.css set `[hidden] { display: none !important; }`\n",
       "     so we also need the `!important` here to be able to override the\n",
       "     default hidden behavior on the sphinx rendered scikit-learn.org.\n",
       "     See: https://github.com/scikit-learn/scikit-learn/issues/21755 */\n",
       "  display: inline-block !important;\n",
       "  position: relative;\n",
       "}\n",
       "\n",
       "#sk-container-id-2 div.sk-text-repr-fallback {\n",
       "  display: none;\n",
       "}\n",
       "\n",
       "div.sk-parallel-item,\n",
       "div.sk-serial,\n",
       "div.sk-item {\n",
       "  /* draw centered vertical line to link estimators */\n",
       "  background-image: linear-gradient(var(--sklearn-color-text-on-default-background), var(--sklearn-color-text-on-default-background));\n",
       "  background-size: 2px 100%;\n",
       "  background-repeat: no-repeat;\n",
       "  background-position: center center;\n",
       "}\n",
       "\n",
       "/* Parallel-specific style estimator block */\n",
       "\n",
       "#sk-container-id-2 div.sk-parallel-item::after {\n",
       "  content: \"\";\n",
       "  width: 100%;\n",
       "  border-bottom: 2px solid var(--sklearn-color-text-on-default-background);\n",
       "  flex-grow: 1;\n",
       "}\n",
       "\n",
       "#sk-container-id-2 div.sk-parallel {\n",
       "  display: flex;\n",
       "  align-items: stretch;\n",
       "  justify-content: center;\n",
       "  background-color: var(--sklearn-color-background);\n",
       "  position: relative;\n",
       "}\n",
       "\n",
       "#sk-container-id-2 div.sk-parallel-item {\n",
       "  display: flex;\n",
       "  flex-direction: column;\n",
       "}\n",
       "\n",
       "#sk-container-id-2 div.sk-parallel-item:first-child::after {\n",
       "  align-self: flex-end;\n",
       "  width: 50%;\n",
       "}\n",
       "\n",
       "#sk-container-id-2 div.sk-parallel-item:last-child::after {\n",
       "  align-self: flex-start;\n",
       "  width: 50%;\n",
       "}\n",
       "\n",
       "#sk-container-id-2 div.sk-parallel-item:only-child::after {\n",
       "  width: 0;\n",
       "}\n",
       "\n",
       "/* Serial-specific style estimator block */\n",
       "\n",
       "#sk-container-id-2 div.sk-serial {\n",
       "  display: flex;\n",
       "  flex-direction: column;\n",
       "  align-items: center;\n",
       "  background-color: var(--sklearn-color-background);\n",
       "  padding-right: 1em;\n",
       "  padding-left: 1em;\n",
       "}\n",
       "\n",
       "\n",
       "/* Toggleable style: style used for estimator/Pipeline/ColumnTransformer box that is\n",
       "clickable and can be expanded/collapsed.\n",
       "- Pipeline and ColumnTransformer use this feature and define the default style\n",
       "- Estimators will overwrite some part of the style using the `sk-estimator` class\n",
       "*/\n",
       "\n",
       "/* Pipeline and ColumnTransformer style (default) */\n",
       "\n",
       "#sk-container-id-2 div.sk-toggleable {\n",
       "  /* Default theme specific background. It is overwritten whether we have a\n",
       "  specific estimator or a Pipeline/ColumnTransformer */\n",
       "  background-color: var(--sklearn-color-background);\n",
       "}\n",
       "\n",
       "/* Toggleable label */\n",
       "#sk-container-id-2 label.sk-toggleable__label {\n",
       "  cursor: pointer;\n",
       "  display: block;\n",
       "  width: 100%;\n",
       "  margin-bottom: 0;\n",
       "  padding: 0.5em;\n",
       "  box-sizing: border-box;\n",
       "  text-align: center;\n",
       "}\n",
       "\n",
       "#sk-container-id-2 label.sk-toggleable__label-arrow:before {\n",
       "  /* Arrow on the left of the label */\n",
       "  content: \"▸\";\n",
       "  float: left;\n",
       "  margin-right: 0.25em;\n",
       "  color: var(--sklearn-color-icon);\n",
       "}\n",
       "\n",
       "#sk-container-id-2 label.sk-toggleable__label-arrow:hover:before {\n",
       "  color: var(--sklearn-color-text);\n",
       "}\n",
       "\n",
       "/* Toggleable content - dropdown */\n",
       "\n",
       "#sk-container-id-2 div.sk-toggleable__content {\n",
       "  max-height: 0;\n",
       "  max-width: 0;\n",
       "  overflow: hidden;\n",
       "  text-align: left;\n",
       "  /* unfitted */\n",
       "  background-color: var(--sklearn-color-unfitted-level-0);\n",
       "}\n",
       "\n",
       "#sk-container-id-2 div.sk-toggleable__content.fitted {\n",
       "  /* fitted */\n",
       "  background-color: var(--sklearn-color-fitted-level-0);\n",
       "}\n",
       "\n",
       "#sk-container-id-2 div.sk-toggleable__content pre {\n",
       "  margin: 0.2em;\n",
       "  border-radius: 0.25em;\n",
       "  color: var(--sklearn-color-text);\n",
       "  /* unfitted */\n",
       "  background-color: var(--sklearn-color-unfitted-level-0);\n",
       "}\n",
       "\n",
       "#sk-container-id-2 div.sk-toggleable__content.fitted pre {\n",
       "  /* unfitted */\n",
       "  background-color: var(--sklearn-color-fitted-level-0);\n",
       "}\n",
       "\n",
       "#sk-container-id-2 input.sk-toggleable__control:checked~div.sk-toggleable__content {\n",
       "  /* Expand drop-down */\n",
       "  max-height: 200px;\n",
       "  max-width: 100%;\n",
       "  overflow: auto;\n",
       "}\n",
       "\n",
       "#sk-container-id-2 input.sk-toggleable__control:checked~label.sk-toggleable__label-arrow:before {\n",
       "  content: \"▾\";\n",
       "}\n",
       "\n",
       "/* Pipeline/ColumnTransformer-specific style */\n",
       "\n",
       "#sk-container-id-2 div.sk-label input.sk-toggleable__control:checked~label.sk-toggleable__label {\n",
       "  color: var(--sklearn-color-text);\n",
       "  background-color: var(--sklearn-color-unfitted-level-2);\n",
       "}\n",
       "\n",
       "#sk-container-id-2 div.sk-label.fitted input.sk-toggleable__control:checked~label.sk-toggleable__label {\n",
       "  background-color: var(--sklearn-color-fitted-level-2);\n",
       "}\n",
       "\n",
       "/* Estimator-specific style */\n",
       "\n",
       "/* Colorize estimator box */\n",
       "#sk-container-id-2 div.sk-estimator input.sk-toggleable__control:checked~label.sk-toggleable__label {\n",
       "  /* unfitted */\n",
       "  background-color: var(--sklearn-color-unfitted-level-2);\n",
       "}\n",
       "\n",
       "#sk-container-id-2 div.sk-estimator.fitted input.sk-toggleable__control:checked~label.sk-toggleable__label {\n",
       "  /* fitted */\n",
       "  background-color: var(--sklearn-color-fitted-level-2);\n",
       "}\n",
       "\n",
       "#sk-container-id-2 div.sk-label label.sk-toggleable__label,\n",
       "#sk-container-id-2 div.sk-label label {\n",
       "  /* The background is the default theme color */\n",
       "  color: var(--sklearn-color-text-on-default-background);\n",
       "}\n",
       "\n",
       "/* On hover, darken the color of the background */\n",
       "#sk-container-id-2 div.sk-label:hover label.sk-toggleable__label {\n",
       "  color: var(--sklearn-color-text);\n",
       "  background-color: var(--sklearn-color-unfitted-level-2);\n",
       "}\n",
       "\n",
       "/* Label box, darken color on hover, fitted */\n",
       "#sk-container-id-2 div.sk-label.fitted:hover label.sk-toggleable__label.fitted {\n",
       "  color: var(--sklearn-color-text);\n",
       "  background-color: var(--sklearn-color-fitted-level-2);\n",
       "}\n",
       "\n",
       "/* Estimator label */\n",
       "\n",
       "#sk-container-id-2 div.sk-label label {\n",
       "  font-family: monospace;\n",
       "  font-weight: bold;\n",
       "  display: inline-block;\n",
       "  line-height: 1.2em;\n",
       "}\n",
       "\n",
       "#sk-container-id-2 div.sk-label-container {\n",
       "  text-align: center;\n",
       "}\n",
       "\n",
       "/* Estimator-specific */\n",
       "#sk-container-id-2 div.sk-estimator {\n",
       "  font-family: monospace;\n",
       "  border: 1px dotted var(--sklearn-color-border-box);\n",
       "  border-radius: 0.25em;\n",
       "  box-sizing: border-box;\n",
       "  margin-bottom: 0.5em;\n",
       "  /* unfitted */\n",
       "  background-color: var(--sklearn-color-unfitted-level-0);\n",
       "}\n",
       "\n",
       "#sk-container-id-2 div.sk-estimator.fitted {\n",
       "  /* fitted */\n",
       "  background-color: var(--sklearn-color-fitted-level-0);\n",
       "}\n",
       "\n",
       "/* on hover */\n",
       "#sk-container-id-2 div.sk-estimator:hover {\n",
       "  /* unfitted */\n",
       "  background-color: var(--sklearn-color-unfitted-level-2);\n",
       "}\n",
       "\n",
       "#sk-container-id-2 div.sk-estimator.fitted:hover {\n",
       "  /* fitted */\n",
       "  background-color: var(--sklearn-color-fitted-level-2);\n",
       "}\n",
       "\n",
       "/* Specification for estimator info (e.g. \"i\" and \"?\") */\n",
       "\n",
       "/* Common style for \"i\" and \"?\" */\n",
       "\n",
       ".sk-estimator-doc-link,\n",
       "a:link.sk-estimator-doc-link,\n",
       "a:visited.sk-estimator-doc-link {\n",
       "  float: right;\n",
       "  font-size: smaller;\n",
       "  line-height: 1em;\n",
       "  font-family: monospace;\n",
       "  background-color: var(--sklearn-color-background);\n",
       "  border-radius: 1em;\n",
       "  height: 1em;\n",
       "  width: 1em;\n",
       "  text-decoration: none !important;\n",
       "  margin-left: 1ex;\n",
       "  /* unfitted */\n",
       "  border: var(--sklearn-color-unfitted-level-1) 1pt solid;\n",
       "  color: var(--sklearn-color-unfitted-level-1);\n",
       "}\n",
       "\n",
       ".sk-estimator-doc-link.fitted,\n",
       "a:link.sk-estimator-doc-link.fitted,\n",
       "a:visited.sk-estimator-doc-link.fitted {\n",
       "  /* fitted */\n",
       "  border: var(--sklearn-color-fitted-level-1) 1pt solid;\n",
       "  color: var(--sklearn-color-fitted-level-1);\n",
       "}\n",
       "\n",
       "/* On hover */\n",
       "div.sk-estimator:hover .sk-estimator-doc-link:hover,\n",
       ".sk-estimator-doc-link:hover,\n",
       "div.sk-label-container:hover .sk-estimator-doc-link:hover,\n",
       ".sk-estimator-doc-link:hover {\n",
       "  /* unfitted */\n",
       "  background-color: var(--sklearn-color-unfitted-level-3);\n",
       "  color: var(--sklearn-color-background);\n",
       "  text-decoration: none;\n",
       "}\n",
       "\n",
       "div.sk-estimator.fitted:hover .sk-estimator-doc-link.fitted:hover,\n",
       ".sk-estimator-doc-link.fitted:hover,\n",
       "div.sk-label-container:hover .sk-estimator-doc-link.fitted:hover,\n",
       ".sk-estimator-doc-link.fitted:hover {\n",
       "  /* fitted */\n",
       "  background-color: var(--sklearn-color-fitted-level-3);\n",
       "  color: var(--sklearn-color-background);\n",
       "  text-decoration: none;\n",
       "}\n",
       "\n",
       "/* Span, style for the box shown on hovering the info icon */\n",
       ".sk-estimator-doc-link span {\n",
       "  display: none;\n",
       "  z-index: 9999;\n",
       "  position: relative;\n",
       "  font-weight: normal;\n",
       "  right: .2ex;\n",
       "  padding: .5ex;\n",
       "  margin: .5ex;\n",
       "  width: min-content;\n",
       "  min-width: 20ex;\n",
       "  max-width: 50ex;\n",
       "  color: var(--sklearn-color-text);\n",
       "  box-shadow: 2pt 2pt 4pt #999;\n",
       "  /* unfitted */\n",
       "  background: var(--sklearn-color-unfitted-level-0);\n",
       "  border: .5pt solid var(--sklearn-color-unfitted-level-3);\n",
       "}\n",
       "\n",
       ".sk-estimator-doc-link.fitted span {\n",
       "  /* fitted */\n",
       "  background: var(--sklearn-color-fitted-level-0);\n",
       "  border: var(--sklearn-color-fitted-level-3);\n",
       "}\n",
       "\n",
       ".sk-estimator-doc-link:hover span {\n",
       "  display: block;\n",
       "}\n",
       "\n",
       "/* \"?\"-specific style due to the `<a>` HTML tag */\n",
       "\n",
       "#sk-container-id-2 a.estimator_doc_link {\n",
       "  float: right;\n",
       "  font-size: 1rem;\n",
       "  line-height: 1em;\n",
       "  font-family: monospace;\n",
       "  background-color: var(--sklearn-color-background);\n",
       "  border-radius: 1rem;\n",
       "  height: 1rem;\n",
       "  width: 1rem;\n",
       "  text-decoration: none;\n",
       "  /* unfitted */\n",
       "  color: var(--sklearn-color-unfitted-level-1);\n",
       "  border: var(--sklearn-color-unfitted-level-1) 1pt solid;\n",
       "}\n",
       "\n",
       "#sk-container-id-2 a.estimator_doc_link.fitted {\n",
       "  /* fitted */\n",
       "  border: var(--sklearn-color-fitted-level-1) 1pt solid;\n",
       "  color: var(--sklearn-color-fitted-level-1);\n",
       "}\n",
       "\n",
       "/* On hover */\n",
       "#sk-container-id-2 a.estimator_doc_link:hover {\n",
       "  /* unfitted */\n",
       "  background-color: var(--sklearn-color-unfitted-level-3);\n",
       "  color: var(--sklearn-color-background);\n",
       "  text-decoration: none;\n",
       "}\n",
       "\n",
       "#sk-container-id-2 a.estimator_doc_link.fitted:hover {\n",
       "  /* fitted */\n",
       "  background-color: var(--sklearn-color-fitted-level-3);\n",
       "}\n",
       "</style><div id=\"sk-container-id-2\" class=\"sk-top-container\"><div class=\"sk-text-repr-fallback\"><pre>RandomizedSearchCV(cv=10,\n",
       "                   estimator=Pipeline(steps=[(&#x27;preprocessor&#x27;,\n",
       "                                              ColumnTransformer(remainder=&#x27;passthrough&#x27;,\n",
       "                                                                transformers=[(&#x27;ohe&#x27;,\n",
       "                                                                               Pipeline(steps=[(&#x27;simpleImputer_ohe&#x27;,\n",
       "                                                                                                SimpleImputer(strategy=&#x27;most_frequent&#x27;)),\n",
       "                                                                                               (&#x27;ohe&#x27;,\n",
       "                                                                                                OneHotEncoder(drop=&#x27;first&#x27;,\n",
       "                                                                                                              handle_unknown=&#x27;ignore&#x27;,\n",
       "                                                                                                              sparse_output=False))]),\n",
       "                                                                               [&#x27;dept&#x27;,\n",
       "                                                                                &#x27;last_year_promo&#x27;,\n",
       "                                                                                &#x27;last_year_violations&#x27;]),\n",
       "                                                                              (&#x27;ord&#x27;,\n",
       "                                                                               Pi...\n",
       "                                        {&#x27;models&#x27;: [DecisionTreeClassifier(random_state=42)],\n",
       "                                         &#x27;models__max_depth&#x27;: range(2, 15),\n",
       "                                         &#x27;models__max_features&#x27;: range(2, 15),\n",
       "                                         &#x27;preprocessor__num&#x27;: [StandardScaler(),\n",
       "                                                               MinMaxScaler(),\n",
       "                                                               &#x27;passthrough&#x27;]},\n",
       "                                        {&#x27;models&#x27;: [KNeighborsClassifier()],\n",
       "                                         &#x27;models__n_neighbors&#x27;: range(2, 30),\n",
       "                                         &#x27;preprocessor__num&#x27;: [StandardScaler(),\n",
       "                                                               MinMaxScaler(),\n",
       "                                                               &#x27;passthrough&#x27;]}],\n",
       "                   random_state=42, scoring=&#x27;roc_auc&#x27;)</pre><b>In a Jupyter environment, please rerun this cell to show the HTML representation or trust the notebook. <br />On GitHub, the HTML representation is unable to render, please try loading this page with nbviewer.org.</b></div><div class=\"sk-container\" hidden><div class=\"sk-item sk-dashed-wrapped\"><div class=\"sk-label-container\"><div class=\"sk-label fitted sk-toggleable\"><input class=\"sk-toggleable__control sk-hidden--visually\" id=\"sk-estimator-id-16\" type=\"checkbox\" ><label for=\"sk-estimator-id-16\" class=\"sk-toggleable__label fitted sk-toggleable__label-arrow fitted\">&nbsp;&nbsp;RandomizedSearchCV<a class=\"sk-estimator-doc-link fitted\" rel=\"noreferrer\" target=\"_blank\" href=\"https://scikit-learn.org/1.5/modules/generated/sklearn.model_selection.RandomizedSearchCV.html\">?<span>Documentation for RandomizedSearchCV</span></a><span class=\"sk-estimator-doc-link fitted\">i<span>Fitted</span></span></label><div class=\"sk-toggleable__content fitted\"><pre>RandomizedSearchCV(cv=10,\n",
       "                   estimator=Pipeline(steps=[(&#x27;preprocessor&#x27;,\n",
       "                                              ColumnTransformer(remainder=&#x27;passthrough&#x27;,\n",
       "                                                                transformers=[(&#x27;ohe&#x27;,\n",
       "                                                                               Pipeline(steps=[(&#x27;simpleImputer_ohe&#x27;,\n",
       "                                                                                                SimpleImputer(strategy=&#x27;most_frequent&#x27;)),\n",
       "                                                                                               (&#x27;ohe&#x27;,\n",
       "                                                                                                OneHotEncoder(drop=&#x27;first&#x27;,\n",
       "                                                                                                              handle_unknown=&#x27;ignore&#x27;,\n",
       "                                                                                                              sparse_output=False))]),\n",
       "                                                                               [&#x27;dept&#x27;,\n",
       "                                                                                &#x27;last_year_promo&#x27;,\n",
       "                                                                                &#x27;last_year_violations&#x27;]),\n",
       "                                                                              (&#x27;ord&#x27;,\n",
       "                                                                               Pi...\n",
       "                                        {&#x27;models&#x27;: [DecisionTreeClassifier(random_state=42)],\n",
       "                                         &#x27;models__max_depth&#x27;: range(2, 15),\n",
       "                                         &#x27;models__max_features&#x27;: range(2, 15),\n",
       "                                         &#x27;preprocessor__num&#x27;: [StandardScaler(),\n",
       "                                                               MinMaxScaler(),\n",
       "                                                               &#x27;passthrough&#x27;]},\n",
       "                                        {&#x27;models&#x27;: [KNeighborsClassifier()],\n",
       "                                         &#x27;models__n_neighbors&#x27;: range(2, 30),\n",
       "                                         &#x27;preprocessor__num&#x27;: [StandardScaler(),\n",
       "                                                               MinMaxScaler(),\n",
       "                                                               &#x27;passthrough&#x27;]}],\n",
       "                   random_state=42, scoring=&#x27;roc_auc&#x27;)</pre></div> </div></div><div class=\"sk-parallel\"><div class=\"sk-parallel-item\"><div class=\"sk-item\"><div class=\"sk-label-container\"><div class=\"sk-label fitted sk-toggleable\"><input class=\"sk-toggleable__control sk-hidden--visually\" id=\"sk-estimator-id-17\" type=\"checkbox\" ><label for=\"sk-estimator-id-17\" class=\"sk-toggleable__label fitted sk-toggleable__label-arrow fitted\">best_estimator_: Pipeline</label><div class=\"sk-toggleable__content fitted\"><pre>Pipeline(steps=[(&#x27;preprocessor&#x27;,\n",
       "                 ColumnTransformer(remainder=&#x27;passthrough&#x27;,\n",
       "                                   transformers=[(&#x27;ohe&#x27;,\n",
       "                                                  Pipeline(steps=[(&#x27;simpleImputer_ohe&#x27;,\n",
       "                                                                   SimpleImputer(strategy=&#x27;most_frequent&#x27;)),\n",
       "                                                                  (&#x27;ohe&#x27;,\n",
       "                                                                   OneHotEncoder(drop=&#x27;first&#x27;,\n",
       "                                                                                 handle_unknown=&#x27;ignore&#x27;,\n",
       "                                                                                 sparse_output=False))]),\n",
       "                                                  [&#x27;dept&#x27;, &#x27;last_year_promo&#x27;,\n",
       "                                                   &#x27;last_year_violations&#x27;]),\n",
       "                                                 (&#x27;ord&#x27;,\n",
       "                                                  Pipeline(steps=[(&#x27;simpleImputer_befor...\n",
       "                                                                                               &#x27;medium&#x27;,\n",
       "                                                                                               &#x27;high&#x27;]],\n",
       "                                                                                  handle_unknown=&#x27;use_encoded_value&#x27;,\n",
       "                                                                                  unknown_value=nan)),\n",
       "                                                                  (&#x27;simpleImputer_after_ord&#x27;,\n",
       "                                                                   SimpleImputer(strategy=&#x27;most_frequent&#x27;))]),\n",
       "                                                  [&#x27;level&#x27;, &#x27;workload&#x27;]),\n",
       "                                                 (&#x27;num&#x27;, StandardScaler(),\n",
       "                                                  [&#x27;employment_years&#x27;,\n",
       "                                                   &#x27;supervisor_evaluation&#x27;,\n",
       "                                                   &#x27;salary&#x27;,\n",
       "                                                   &#x27;job_satisfaction_rate&#x27;])])),\n",
       "                (&#x27;models&#x27;,\n",
       "                 DecisionTreeClassifier(max_depth=6, max_features=8,\n",
       "                                        random_state=42))])</pre></div> </div></div><div class=\"sk-serial\"><div class=\"sk-item\"><div class=\"sk-serial\"><div class=\"sk-item sk-dashed-wrapped\"><div class=\"sk-label-container\"><div class=\"sk-label fitted sk-toggleable\"><input class=\"sk-toggleable__control sk-hidden--visually\" id=\"sk-estimator-id-18\" type=\"checkbox\" ><label for=\"sk-estimator-id-18\" class=\"sk-toggleable__label fitted sk-toggleable__label-arrow fitted\">&nbsp;preprocessor: ColumnTransformer<a class=\"sk-estimator-doc-link fitted\" rel=\"noreferrer\" target=\"_blank\" href=\"https://scikit-learn.org/1.5/modules/generated/sklearn.compose.ColumnTransformer.html\">?<span>Documentation for preprocessor: ColumnTransformer</span></a></label><div class=\"sk-toggleable__content fitted\"><pre>ColumnTransformer(remainder=&#x27;passthrough&#x27;,\n",
       "                  transformers=[(&#x27;ohe&#x27;,\n",
       "                                 Pipeline(steps=[(&#x27;simpleImputer_ohe&#x27;,\n",
       "                                                  SimpleImputer(strategy=&#x27;most_frequent&#x27;)),\n",
       "                                                 (&#x27;ohe&#x27;,\n",
       "                                                  OneHotEncoder(drop=&#x27;first&#x27;,\n",
       "                                                                handle_unknown=&#x27;ignore&#x27;,\n",
       "                                                                sparse_output=False))]),\n",
       "                                 [&#x27;dept&#x27;, &#x27;last_year_promo&#x27;,\n",
       "                                  &#x27;last_year_violations&#x27;]),\n",
       "                                (&#x27;ord&#x27;,\n",
       "                                 Pipeline(steps=[(&#x27;simpleImputer_before_ord&#x27;,\n",
       "                                                  SimpleImputer(strategy=&#x27;m...requent&#x27;)),\n",
       "                                                 (&#x27;ord&#x27;,\n",
       "                                                  OrdinalEncoder(categories=[[&#x27;junior&#x27;,\n",
       "                                                                              &#x27;middle&#x27;,\n",
       "                                                                              &#x27;sinior&#x27;],\n",
       "                                                                             [&#x27;low&#x27;,\n",
       "                                                                              &#x27;medium&#x27;,\n",
       "                                                                              &#x27;high&#x27;]],\n",
       "                                                                 handle_unknown=&#x27;use_encoded_value&#x27;,\n",
       "                                                                 unknown_value=nan)),\n",
       "                                                 (&#x27;simpleImputer_after_ord&#x27;,\n",
       "                                                  SimpleImputer(strategy=&#x27;most_frequent&#x27;))]),\n",
       "                                 [&#x27;level&#x27;, &#x27;workload&#x27;]),\n",
       "                                (&#x27;num&#x27;, StandardScaler(),\n",
       "                                 [&#x27;employment_years&#x27;, &#x27;supervisor_evaluation&#x27;,\n",
       "                                  &#x27;salary&#x27;, &#x27;job_satisfaction_rate&#x27;])])</pre></div> </div></div><div class=\"sk-parallel\"><div class=\"sk-parallel-item\"><div class=\"sk-item\"><div class=\"sk-label-container\"><div class=\"sk-label fitted sk-toggleable\"><input class=\"sk-toggleable__control sk-hidden--visually\" id=\"sk-estimator-id-19\" type=\"checkbox\" ><label for=\"sk-estimator-id-19\" class=\"sk-toggleable__label fitted sk-toggleable__label-arrow fitted\">ohe</label><div class=\"sk-toggleable__content fitted\"><pre>[&#x27;dept&#x27;, &#x27;last_year_promo&#x27;, &#x27;last_year_violations&#x27;]</pre></div> </div></div><div class=\"sk-serial\"><div class=\"sk-item\"><div class=\"sk-serial\"><div class=\"sk-item\"><div class=\"sk-estimator fitted sk-toggleable\"><input class=\"sk-toggleable__control sk-hidden--visually\" id=\"sk-estimator-id-20\" type=\"checkbox\" ><label for=\"sk-estimator-id-20\" class=\"sk-toggleable__label fitted sk-toggleable__label-arrow fitted\">&nbsp;SimpleImputer<a class=\"sk-estimator-doc-link fitted\" rel=\"noreferrer\" target=\"_blank\" href=\"https://scikit-learn.org/1.5/modules/generated/sklearn.impute.SimpleImputer.html\">?<span>Documentation for SimpleImputer</span></a></label><div class=\"sk-toggleable__content fitted\"><pre>SimpleImputer(strategy=&#x27;most_frequent&#x27;)</pre></div> </div></div><div class=\"sk-item\"><div class=\"sk-estimator fitted sk-toggleable\"><input class=\"sk-toggleable__control sk-hidden--visually\" id=\"sk-estimator-id-21\" type=\"checkbox\" ><label for=\"sk-estimator-id-21\" class=\"sk-toggleable__label fitted sk-toggleable__label-arrow fitted\">&nbsp;OneHotEncoder<a class=\"sk-estimator-doc-link fitted\" rel=\"noreferrer\" target=\"_blank\" href=\"https://scikit-learn.org/1.5/modules/generated/sklearn.preprocessing.OneHotEncoder.html\">?<span>Documentation for OneHotEncoder</span></a></label><div class=\"sk-toggleable__content fitted\"><pre>OneHotEncoder(drop=&#x27;first&#x27;, handle_unknown=&#x27;ignore&#x27;, sparse_output=False)</pre></div> </div></div></div></div></div></div></div><div class=\"sk-parallel-item\"><div class=\"sk-item\"><div class=\"sk-label-container\"><div class=\"sk-label fitted sk-toggleable\"><input class=\"sk-toggleable__control sk-hidden--visually\" id=\"sk-estimator-id-22\" type=\"checkbox\" ><label for=\"sk-estimator-id-22\" class=\"sk-toggleable__label fitted sk-toggleable__label-arrow fitted\">ord</label><div class=\"sk-toggleable__content fitted\"><pre>[&#x27;level&#x27;, &#x27;workload&#x27;]</pre></div> </div></div><div class=\"sk-serial\"><div class=\"sk-item\"><div class=\"sk-serial\"><div class=\"sk-item\"><div class=\"sk-estimator fitted sk-toggleable\"><input class=\"sk-toggleable__control sk-hidden--visually\" id=\"sk-estimator-id-23\" type=\"checkbox\" ><label for=\"sk-estimator-id-23\" class=\"sk-toggleable__label fitted sk-toggleable__label-arrow fitted\">&nbsp;SimpleImputer<a class=\"sk-estimator-doc-link fitted\" rel=\"noreferrer\" target=\"_blank\" href=\"https://scikit-learn.org/1.5/modules/generated/sklearn.impute.SimpleImputer.html\">?<span>Documentation for SimpleImputer</span></a></label><div class=\"sk-toggleable__content fitted\"><pre>SimpleImputer(strategy=&#x27;most_frequent&#x27;)</pre></div> </div></div><div class=\"sk-item\"><div class=\"sk-estimator fitted sk-toggleable\"><input class=\"sk-toggleable__control sk-hidden--visually\" id=\"sk-estimator-id-24\" type=\"checkbox\" ><label for=\"sk-estimator-id-24\" class=\"sk-toggleable__label fitted sk-toggleable__label-arrow fitted\">&nbsp;OrdinalEncoder<a class=\"sk-estimator-doc-link fitted\" rel=\"noreferrer\" target=\"_blank\" href=\"https://scikit-learn.org/1.5/modules/generated/sklearn.preprocessing.OrdinalEncoder.html\">?<span>Documentation for OrdinalEncoder</span></a></label><div class=\"sk-toggleable__content fitted\"><pre>OrdinalEncoder(categories=[[&#x27;junior&#x27;, &#x27;middle&#x27;, &#x27;sinior&#x27;],\n",
       "                           [&#x27;low&#x27;, &#x27;medium&#x27;, &#x27;high&#x27;]],\n",
       "               handle_unknown=&#x27;use_encoded_value&#x27;, unknown_value=nan)</pre></div> </div></div><div class=\"sk-item\"><div class=\"sk-estimator fitted sk-toggleable\"><input class=\"sk-toggleable__control sk-hidden--visually\" id=\"sk-estimator-id-25\" type=\"checkbox\" ><label for=\"sk-estimator-id-25\" class=\"sk-toggleable__label fitted sk-toggleable__label-arrow fitted\">&nbsp;SimpleImputer<a class=\"sk-estimator-doc-link fitted\" rel=\"noreferrer\" target=\"_blank\" href=\"https://scikit-learn.org/1.5/modules/generated/sklearn.impute.SimpleImputer.html\">?<span>Documentation for SimpleImputer</span></a></label><div class=\"sk-toggleable__content fitted\"><pre>SimpleImputer(strategy=&#x27;most_frequent&#x27;)</pre></div> </div></div></div></div></div></div></div><div class=\"sk-parallel-item\"><div class=\"sk-item\"><div class=\"sk-label-container\"><div class=\"sk-label fitted sk-toggleable\"><input class=\"sk-toggleable__control sk-hidden--visually\" id=\"sk-estimator-id-26\" type=\"checkbox\" ><label for=\"sk-estimator-id-26\" class=\"sk-toggleable__label fitted sk-toggleable__label-arrow fitted\">num</label><div class=\"sk-toggleable__content fitted\"><pre>[&#x27;employment_years&#x27;, &#x27;supervisor_evaluation&#x27;, &#x27;salary&#x27;, &#x27;job_satisfaction_rate&#x27;]</pre></div> </div></div><div class=\"sk-serial\"><div class=\"sk-item\"><div class=\"sk-estimator fitted sk-toggleable\"><input class=\"sk-toggleable__control sk-hidden--visually\" id=\"sk-estimator-id-27\" type=\"checkbox\" ><label for=\"sk-estimator-id-27\" class=\"sk-toggleable__label fitted sk-toggleable__label-arrow fitted\">&nbsp;StandardScaler<a class=\"sk-estimator-doc-link fitted\" rel=\"noreferrer\" target=\"_blank\" href=\"https://scikit-learn.org/1.5/modules/generated/sklearn.preprocessing.StandardScaler.html\">?<span>Documentation for StandardScaler</span></a></label><div class=\"sk-toggleable__content fitted\"><pre>StandardScaler()</pre></div> </div></div></div></div></div><div class=\"sk-parallel-item\"><div class=\"sk-item\"><div class=\"sk-label-container\"><div class=\"sk-label fitted sk-toggleable\"><input class=\"sk-toggleable__control sk-hidden--visually\" id=\"sk-estimator-id-28\" type=\"checkbox\" ><label for=\"sk-estimator-id-28\" class=\"sk-toggleable__label fitted sk-toggleable__label-arrow fitted\">remainder</label><div class=\"sk-toggleable__content fitted\"><pre>[]</pre></div> </div></div><div class=\"sk-serial\"><div class=\"sk-item\"><div class=\"sk-estimator fitted sk-toggleable\"><input class=\"sk-toggleable__control sk-hidden--visually\" id=\"sk-estimator-id-29\" type=\"checkbox\" ><label for=\"sk-estimator-id-29\" class=\"sk-toggleable__label fitted sk-toggleable__label-arrow fitted\">passthrough</label><div class=\"sk-toggleable__content fitted\"><pre>passthrough</pre></div> </div></div></div></div></div></div></div><div class=\"sk-item\"><div class=\"sk-estimator fitted sk-toggleable\"><input class=\"sk-toggleable__control sk-hidden--visually\" id=\"sk-estimator-id-30\" type=\"checkbox\" ><label for=\"sk-estimator-id-30\" class=\"sk-toggleable__label fitted sk-toggleable__label-arrow fitted\">&nbsp;DecisionTreeClassifier<a class=\"sk-estimator-doc-link fitted\" rel=\"noreferrer\" target=\"_blank\" href=\"https://scikit-learn.org/1.5/modules/generated/sklearn.tree.DecisionTreeClassifier.html\">?<span>Documentation for DecisionTreeClassifier</span></a></label><div class=\"sk-toggleable__content fitted\"><pre>DecisionTreeClassifier(max_depth=6, max_features=8, random_state=42)</pre></div> </div></div></div></div></div></div></div></div></div></div></div>"
      ],
      "text/plain": [
       "RandomizedSearchCV(cv=10,\n",
       "                   estimator=Pipeline(steps=[('preprocessor',\n",
       "                                              ColumnTransformer(remainder='passthrough',\n",
       "                                                                transformers=[('ohe',\n",
       "                                                                               Pipeline(steps=[('simpleImputer_ohe',\n",
       "                                                                                                SimpleImputer(strategy='most_frequent')),\n",
       "                                                                                               ('ohe',\n",
       "                                                                                                OneHotEncoder(drop='first',\n",
       "                                                                                                              handle_unknown='ignore',\n",
       "                                                                                                              sparse_output=False))]),\n",
       "                                                                               ['dept',\n",
       "                                                                                'last_year_promo',\n",
       "                                                                                'last_year_violations']),\n",
       "                                                                              ('ord',\n",
       "                                                                               Pi...\n",
       "                                        {'models': [DecisionTreeClassifier(random_state=42)],\n",
       "                                         'models__max_depth': range(2, 15),\n",
       "                                         'models__max_features': range(2, 15),\n",
       "                                         'preprocessor__num': [StandardScaler(),\n",
       "                                                               MinMaxScaler(),\n",
       "                                                               'passthrough']},\n",
       "                                        {'models': [KNeighborsClassifier()],\n",
       "                                         'models__n_neighbors': range(2, 30),\n",
       "                                         'preprocessor__num': [StandardScaler(),\n",
       "                                                               MinMaxScaler(),\n",
       "                                                               'passthrough']}],\n",
       "                   random_state=42, scoring='roc_auc')"
      ]
     },
     "execution_count": 50,
     "metadata": {},
     "output_type": "execute_result"
    }
   ],
   "source": [
    "ohe_columns = ['dept', 'last_year_promo', 'last_year_violations']\n",
    "ord_columns = ['level', 'workload']\n",
    "num_columns = ['employment_years', 'supervisor_evaluation', 'salary', 'job_satisfaction_rate']\n",
    " \n",
    "    \n",
    "ohe_pipe = Pipeline(\n",
    "    [('simpleImputer_ohe', SimpleImputer(missing_values=np.nan, strategy='most_frequent')),\n",
    "     ('ohe', OneHotEncoder(drop='first', handle_unknown='ignore', sparse_output=False))\n",
    "    ]\n",
    ")\n",
    "\n",
    "ord_pipe = Pipeline(\n",
    "    [('simpleImputer_before_ord', SimpleImputer(missing_values=np.nan, strategy='most_frequent')),\n",
    "     ('ord',  OrdinalEncoder(\n",
    "                categories=[\n",
    "                    ['junior', 'middle', 'sinior'], \n",
    "                    ['low', 'medium', 'high']\n",
    "                ], \n",
    "                handle_unknown='use_encoded_value', unknown_value=np.nan\n",
    "            )\n",
    "        ),\n",
    "     ('simpleImputer_after_ord', SimpleImputer(missing_values=np.nan, strategy='most_frequent'))\n",
    "     \n",
    "    ]\n",
    ")\n",
    "\n",
    "data_preprocessor = ColumnTransformer(\n",
    "    [('ohe', ohe_pipe, ohe_columns),\n",
    "     ('ord', ord_pipe, ord_columns),\n",
    "     ('num', StandardScaler(), num_columns)\n",
    "    ], \n",
    "    remainder='passthrough'\n",
    ")\n",
    "\n",
    "pipe_final = Pipeline([\n",
    "    ('preprocessor', data_preprocessor),\n",
    "    ('models', DecisionTreeClassifier())\n",
    "])\n",
    " \n",
    "param_grid = [\n",
    "\n",
    "    {\n",
    "        'models': [LogisticRegression()],\n",
    "        'preprocessor__num': [StandardScaler(), MinMaxScaler(), 'passthrough']   \n",
    "    },\n",
    "\n",
    "    {\n",
    "        'models': [DecisionTreeClassifier(random_state=RANDOM_STATE)],\n",
    "        'models__max_depth': range(2, 15),\n",
    "        'models__max_features': range(2, 15),\n",
    "        'preprocessor__num': [StandardScaler(), MinMaxScaler(), 'passthrough']  \n",
    "    },\n",
    "    {\n",
    "        'models': [KNeighborsClassifier()],\n",
    "        'models__n_neighbors': range(2, 30),\n",
    "        'preprocessor__num': [StandardScaler(), MinMaxScaler(), 'passthrough']   \n",
    "    }\n",
    "]\n",
    "\n",
    "randomized_search = RandomizedSearchCV(\n",
    "    pipe_final,\n",
    "    param_grid,\n",
    "    n_jobs=-1,\n",
    "    cv=10,\n",
    "    random_state=RANDOM_STATE,\n",
    "    n_iter=10,\n",
    "    scoring='roc_auc'\n",
    ")\n",
    "randomized_search.fit(X1_train, y1_train)"
   ]
  },
  {
   "cell_type": "code",
   "execution_count": 51,
   "id": "ae28d965",
   "metadata": {},
   "outputs": [
    {
     "name": "stdout",
     "output_type": "stream",
     "text": [
      "Лучшая модель и её параметры:\n",
      "\n",
      " Pipeline(steps=[('preprocessor',\n",
      "                 ColumnTransformer(remainder='passthrough',\n",
      "                                   transformers=[('ohe',\n",
      "                                                  Pipeline(steps=[('simpleImputer_ohe',\n",
      "                                                                   SimpleImputer(strategy='most_frequent')),\n",
      "                                                                  ('ohe',\n",
      "                                                                   OneHotEncoder(drop='first',\n",
      "                                                                                 handle_unknown='ignore',\n",
      "                                                                                 sparse_output=False))]),\n",
      "                                                  ['dept', 'last_year_promo',\n",
      "                                                   'last_year_violations']),\n",
      "                                                 ('ord',\n",
      "                                                  Pipeline(steps=[('simpleImputer_befor...\n",
      "                                                                                               'medium',\n",
      "                                                                                               'high']],\n",
      "                                                                                  handle_unknown='use_encoded_value',\n",
      "                                                                                  unknown_value=nan)),\n",
      "                                                                  ('simpleImputer_after_ord',\n",
      "                                                                   SimpleImputer(strategy='most_frequent'))]),\n",
      "                                                  ['level', 'workload']),\n",
      "                                                 ('num', StandardScaler(),\n",
      "                                                  ['employment_years',\n",
      "                                                   'supervisor_evaluation',\n",
      "                                                   'salary',\n",
      "                                                   'job_satisfaction_rate'])])),\n",
      "                ('models',\n",
      "                 DecisionTreeClassifier(max_depth=6, max_features=8,\n",
      "                                        random_state=42))])\n",
      "Параметры лучшей модели:\n",
      "{'preprocessor__num': StandardScaler(), 'models__max_features': 8, 'models__max_depth': 6, 'models': DecisionTreeClassifier(random_state=42)}\n",
      "Метрика лучшей модели: 0.8899259877810703\n"
     ]
    }
   ],
   "source": [
    "print('Лучшая модель и её параметры:\\n\\n', randomized_search.best_estimator_)\n",
    "print(f'Параметры лучшей модели:\\n{randomized_search.best_params_}')\n",
    "print ('Метрика лучшей модели:', randomized_search.best_score_)"
   ]
  },
  {
   "cell_type": "code",
   "execution_count": 52,
   "id": "0adb927f",
   "metadata": {},
   "outputs": [
    {
     "data": {
      "text/html": [
       "<div>\n",
       "<style scoped>\n",
       "    .dataframe tbody tr th:only-of-type {\n",
       "        vertical-align: middle;\n",
       "    }\n",
       "\n",
       "    .dataframe tbody tr th {\n",
       "        vertical-align: top;\n",
       "    }\n",
       "\n",
       "    .dataframe thead th {\n",
       "        text-align: right;\n",
       "    }\n",
       "</style>\n",
       "<table border=\"1\" class=\"dataframe\">\n",
       "  <thead>\n",
       "    <tr style=\"text-align: right;\">\n",
       "      <th></th>\n",
       "      <th>rank_test_score</th>\n",
       "      <th>param_models</th>\n",
       "      <th>mean_test_score</th>\n",
       "      <th>params</th>\n",
       "    </tr>\n",
       "  </thead>\n",
       "  <tbody>\n",
       "    <tr>\n",
       "      <th>2</th>\n",
       "      <td>1</td>\n",
       "      <td>DecisionTreeClassifier(random_state=42)</td>\n",
       "      <td>0.889926</td>\n",
       "      <td>{'preprocessor__num': StandardScaler(), 'model...</td>\n",
       "    </tr>\n",
       "    <tr>\n",
       "      <th>9</th>\n",
       "      <td>2</td>\n",
       "      <td>DecisionTreeClassifier(random_state=42)</td>\n",
       "      <td>0.889287</td>\n",
       "      <td>{'preprocessor__num': MinMaxScaler(), 'models_...</td>\n",
       "    </tr>\n",
       "    <tr>\n",
       "      <th>7</th>\n",
       "      <td>3</td>\n",
       "      <td>KNeighborsClassifier()</td>\n",
       "      <td>0.885030</td>\n",
       "      <td>{'preprocessor__num': 'passthrough', 'models__...</td>\n",
       "    </tr>\n",
       "    <tr>\n",
       "      <th>0</th>\n",
       "      <td>4</td>\n",
       "      <td>DecisionTreeClassifier(random_state=42)</td>\n",
       "      <td>0.875619</td>\n",
       "      <td>{'preprocessor__num': StandardScaler(), 'model...</td>\n",
       "    </tr>\n",
       "    <tr>\n",
       "      <th>8</th>\n",
       "      <td>5</td>\n",
       "      <td>DecisionTreeClassifier(random_state=42)</td>\n",
       "      <td>0.868925</td>\n",
       "      <td>{'preprocessor__num': MinMaxScaler(), 'models_...</td>\n",
       "    </tr>\n",
       "    <tr>\n",
       "      <th>3</th>\n",
       "      <td>6</td>\n",
       "      <td>DecisionTreeClassifier(random_state=42)</td>\n",
       "      <td>0.867140</td>\n",
       "      <td>{'preprocessor__num': StandardScaler(), 'model...</td>\n",
       "    </tr>\n",
       "    <tr>\n",
       "      <th>5</th>\n",
       "      <td>7</td>\n",
       "      <td>DecisionTreeClassifier(random_state=42)</td>\n",
       "      <td>0.862006</td>\n",
       "      <td>{'preprocessor__num': MinMaxScaler(), 'models_...</td>\n",
       "    </tr>\n",
       "    <tr>\n",
       "      <th>1</th>\n",
       "      <td>8</td>\n",
       "      <td>DecisionTreeClassifier(random_state=42)</td>\n",
       "      <td>0.840475</td>\n",
       "      <td>{'preprocessor__num': 'passthrough', 'models__...</td>\n",
       "    </tr>\n",
       "    <tr>\n",
       "      <th>4</th>\n",
       "      <td>9</td>\n",
       "      <td>DecisionTreeClassifier(random_state=42)</td>\n",
       "      <td>0.810344</td>\n",
       "      <td>{'preprocessor__num': StandardScaler(), 'model...</td>\n",
       "    </tr>\n",
       "    <tr>\n",
       "      <th>6</th>\n",
       "      <td>10</td>\n",
       "      <td>DecisionTreeClassifier(random_state=42)</td>\n",
       "      <td>0.787807</td>\n",
       "      <td>{'preprocessor__num': 'passthrough', 'models__...</td>\n",
       "    </tr>\n",
       "  </tbody>\n",
       "</table>\n",
       "</div>"
      ],
      "text/plain": [
       "   rank_test_score                             param_models  mean_test_score  \\\n",
       "2                1  DecisionTreeClassifier(random_state=42)         0.889926   \n",
       "9                2  DecisionTreeClassifier(random_state=42)         0.889287   \n",
       "7                3                   KNeighborsClassifier()         0.885030   \n",
       "0                4  DecisionTreeClassifier(random_state=42)         0.875619   \n",
       "8                5  DecisionTreeClassifier(random_state=42)         0.868925   \n",
       "3                6  DecisionTreeClassifier(random_state=42)         0.867140   \n",
       "5                7  DecisionTreeClassifier(random_state=42)         0.862006   \n",
       "1                8  DecisionTreeClassifier(random_state=42)         0.840475   \n",
       "4                9  DecisionTreeClassifier(random_state=42)         0.810344   \n",
       "6               10  DecisionTreeClassifier(random_state=42)         0.787807   \n",
       "\n",
       "                                              params  \n",
       "2  {'preprocessor__num': StandardScaler(), 'model...  \n",
       "9  {'preprocessor__num': MinMaxScaler(), 'models_...  \n",
       "7  {'preprocessor__num': 'passthrough', 'models__...  \n",
       "0  {'preprocessor__num': StandardScaler(), 'model...  \n",
       "8  {'preprocessor__num': MinMaxScaler(), 'models_...  \n",
       "3  {'preprocessor__num': StandardScaler(), 'model...  \n",
       "5  {'preprocessor__num': MinMaxScaler(), 'models_...  \n",
       "1  {'preprocessor__num': 'passthrough', 'models__...  \n",
       "4  {'preprocessor__num': StandardScaler(), 'model...  \n",
       "6  {'preprocessor__num': 'passthrough', 'models__...  "
      ]
     },
     "metadata": {},
     "output_type": "display_data"
    }
   ],
   "source": [
    "results = pd.DataFrame(randomized_search.cv_results_)\n",
    "display(results[\n",
    "    ['rank_test_score', 'param_models', 'mean_test_score','params']\n",
    "].sort_values('rank_test_score')) "
   ]
  },
  {
   "cell_type": "code",
   "execution_count": 53,
   "id": "a07d1bd8",
   "metadata": {},
   "outputs": [
    {
     "name": "stdout",
     "output_type": "stream",
     "text": [
      "Метрика ROC_AUC на тестовой выборке: 0.92\n"
     ]
    },
    {
     "name": "stderr",
     "output_type": "stream",
     "text": [
      "/opt/conda/lib/python3.9/site-packages/sklearn/preprocessing/_encoders.py:242: UserWarning: Found unknown categories in columns [0] during transform. These unknown categories will be encoded as all zeros\n",
      "  warnings.warn(\n"
     ]
    }
   ],
   "source": [
    "print(f'Метрика ROC_AUC на тестовой выборке: {round(roc_auc_score(y1_test, randomized_search.predict_proba(X1_test)[:,1]),2)}')"
   ]
  },
  {
   "cell_type": "markdown",
   "id": "cdee18ec",
   "metadata": {},
   "source": [
    "## Вывод\n",
    "Лучше всего справилась модель DecisionTreeClassifier с параметрами: StandardScaler(), 'models__max_features': 8, 'models__max_depth': 6\n",
    "\n",
    "Метрика на тестовой выборке равняется 0.92"
   ]
  },
  {
   "cell_type": "markdown",
   "id": "d5f59e02",
   "metadata": {},
   "source": [
    "## Общий вывод"
   ]
  },
  {
   "cell_type": "markdown",
   "id": "75e37d61",
   "metadata": {},
   "source": [
    "Нам необходимо было разработать 2 модели: для определения удовлетворенности работников и предсказание,что сотрудник уволится из компании\n",
    "\n",
    "*Для поиска моделей для определения удовлетворенности работников:*\n",
    "\n",
    "Мы предобработали данные, ошибок в них не обнаружено\n",
    "\n",
    "Провели исследовательский анализ и выявили, что в принаках:\n",
    "\n",
    "- dept: большинство работников находится в отделе продаж, меньше всего в отделе HR\n",
    "\n",
    "- level: меньше всего в компании работает сеньеров, примерно поровну работников ранга джун и мидл\n",
    "\n",
    "- workload: достаточно мало работников имеют сильную загруженность, большинство сотрудников загружены средне\n",
    "\n",
    "- last_year_promo: за последний год практически не было повышений\n",
    "\n",
    "- last_year_violations: порядка 12% сотрудников нарушали условие трудового договора, остальные сотрудники не нарушали\n",
    "\n",
    "- employment_years: Мультимодальное распределение, большинство работников устроились в компанию недавно, чем больше опыт работы в компании, тем меньше таких работников(с большим опытом)\n",
    "\n",
    "- supervisor_evaluation: Мультимодальное распределение, почти все работники получили оценку 4 на втором месте по популярности оценка 3, самая редкая оценка - 1\n",
    "\n",
    "- salary: Нормальное распределение со смещением влево, в основном работники получают от 20 до 30 тысяч, также в данных есть достаточно большие значения, но я бы не сказал, что эти данные могут навредить модели, а также не думаю, что их стоит удалять, тк сеньеры получают высокие зп и наличие в данных таких значений, поможет правильно классифицировать удовлетвроенность работника уровня сеньер\n",
    "\n",
    "- целевой признак job_satisfaction_rate:Нормальное распределение со смещением вправо, в среднем работники удовлетворены на 70%, также большое количество работников удовлетворены на 80%\n",
    "\n",
    "Мы обучили 2 модели: LinearRegression и DecisionTreeRegressor. Наилучшей оказалась модель DecisionTreeRegressor с параметрами StandardScaler(), 'models__max_features': 14, 'models__max_depth': 13 \n",
    "\n",
    "Поиск моделей проводился при помощи пайплайнов\n",
    "\n",
    "Модель считалась удачной, если метрика SMAPE была меньше 15, в нашем случае метрика равнялась 14.38.\n",
    "\n",
    "*Для поиска лучшей модели, которая сможет предсказать на основе данных заказчика, что сотрудник уволится из компании предприняты шаги:*\n",
    "\n",
    "Провели предобработку, выявили, что в данных нет ошибок\n",
    "\n",
    "Провели исследовтельский анализ, распределние признаков осталось неизменным по сравнению с 1 моедлью\n",
    "\n",
    "Мы обучили 3 модели: DecisionTreeClassifier, LogisticRegression и KNeighborsClassifier. Наилучшей оказалась:  DecisionTreeClassifier с параметрами: StandardScaler(), 'models__max_features': 8, 'models__max_depth': 6\n",
    "\n",
    "Ее метрика roc_auc на тестовой выборке равняется 0.92 \n",
    "\n",
    "Бизнесу можно посоветовать постаратсья поднять зарплаты как новым специалистам, так и уже работающим. В основном более высокая зарплата является главным стимулом к смене места работы. Также стоит давать больше повышений для своих работников, тк это тоже удверживает сотрудников в компании."
   ]
  }
 ],
 "metadata": {
  "ExecuteTimeLog": [
   {
    "duration": 3153,
    "start_time": "2024-04-06T13:12:25.463Z"
   },
   {
    "duration": 6397,
    "start_time": "2024-04-06T13:12:50.354Z"
   },
   {
    "duration": 1430,
    "start_time": "2024-04-06T13:15:57.300Z"
   },
   {
    "duration": 128,
    "start_time": "2024-04-06T13:19:06.165Z"
   },
   {
    "duration": 184,
    "start_time": "2024-04-06T13:20:35.297Z"
   },
   {
    "duration": 28,
    "start_time": "2024-04-06T13:21:14.092Z"
   },
   {
    "duration": 59,
    "start_time": "2024-04-06T13:21:36.153Z"
   },
   {
    "duration": 27,
    "start_time": "2024-04-06T13:21:50.756Z"
   },
   {
    "duration": 121,
    "start_time": "2024-04-06T13:26:23.341Z"
   },
   {
    "duration": 5,
    "start_time": "2024-04-06T13:26:29.344Z"
   },
   {
    "duration": 20,
    "start_time": "2024-04-06T13:26:44.455Z"
   },
   {
    "duration": 9,
    "start_time": "2024-04-06T13:27:06.776Z"
   },
   {
    "duration": 4,
    "start_time": "2024-04-06T13:29:19.820Z"
   },
   {
    "duration": 10,
    "start_time": "2024-04-06T13:30:13.306Z"
   },
   {
    "duration": 7,
    "start_time": "2024-04-06T13:30:30.569Z"
   },
   {
    "duration": 8,
    "start_time": "2024-04-06T13:30:56.181Z"
   },
   {
    "duration": 6,
    "start_time": "2024-04-06T13:31:02.852Z"
   },
   {
    "duration": 6,
    "start_time": "2024-04-06T13:31:29.734Z"
   },
   {
    "duration": 8,
    "start_time": "2024-04-06T13:33:37.910Z"
   },
   {
    "duration": 7,
    "start_time": "2024-04-06T13:34:55.803Z"
   },
   {
    "duration": 7,
    "start_time": "2024-04-06T13:35:12.836Z"
   },
   {
    "duration": 7,
    "start_time": "2024-04-06T13:37:03.161Z"
   },
   {
    "duration": 7,
    "start_time": "2024-04-06T13:37:09.497Z"
   },
   {
    "duration": 9,
    "start_time": "2024-04-06T13:37:35.661Z"
   },
   {
    "duration": 12,
    "start_time": "2024-04-06T13:38:21.816Z"
   },
   {
    "duration": 13,
    "start_time": "2024-04-06T13:38:46.655Z"
   },
   {
    "duration": 32,
    "start_time": "2024-04-06T13:41:47.654Z"
   },
   {
    "duration": 10,
    "start_time": "2024-04-06T13:41:54.861Z"
   },
   {
    "duration": 8,
    "start_time": "2024-04-06T13:41:59.436Z"
   },
   {
    "duration": 8,
    "start_time": "2024-04-06T13:42:01.476Z"
   },
   {
    "duration": 28,
    "start_time": "2024-04-06T13:42:23.197Z"
   },
   {
    "duration": 13,
    "start_time": "2024-04-06T13:42:32.841Z"
   },
   {
    "duration": 11,
    "start_time": "2024-04-06T13:42:48.385Z"
   },
   {
    "duration": 5,
    "start_time": "2024-04-06T13:43:56.094Z"
   },
   {
    "duration": 5,
    "start_time": "2024-04-06T13:44:16.804Z"
   },
   {
    "duration": 6,
    "start_time": "2024-04-06T13:45:10.910Z"
   },
   {
    "duration": 5,
    "start_time": "2024-04-06T13:45:11.126Z"
   },
   {
    "duration": 7,
    "start_time": "2024-04-06T13:45:11.450Z"
   },
   {
    "duration": 6,
    "start_time": "2024-04-06T13:45:11.913Z"
   },
   {
    "duration": 3,
    "start_time": "2024-04-06T13:48:50.377Z"
   },
   {
    "duration": 5,
    "start_time": "2024-04-06T13:48:52.058Z"
   },
   {
    "duration": 744,
    "start_time": "2024-04-06T13:49:30.675Z"
   },
   {
    "duration": 14,
    "start_time": "2024-04-06T13:51:18.127Z"
   },
   {
    "duration": 16,
    "start_time": "2024-04-06T13:51:43.615Z"
   },
   {
    "duration": 8,
    "start_time": "2024-04-06T13:52:09.155Z"
   },
   {
    "duration": 8,
    "start_time": "2024-04-06T13:52:20.845Z"
   },
   {
    "duration": 8,
    "start_time": "2024-04-06T13:52:25.756Z"
   },
   {
    "duration": 8,
    "start_time": "2024-04-06T13:52:56.796Z"
   },
   {
    "duration": 8,
    "start_time": "2024-04-06T13:53:05.583Z"
   },
   {
    "duration": 192,
    "start_time": "2024-04-06T13:53:24.886Z"
   },
   {
    "duration": 4,
    "start_time": "2024-04-06T13:53:46.800Z"
   },
   {
    "duration": 5,
    "start_time": "2024-04-06T13:53:51.672Z"
   },
   {
    "duration": 1019,
    "start_time": "2024-04-06T13:53:52.186Z"
   },
   {
    "duration": 717,
    "start_time": "2024-04-06T13:54:18.297Z"
   },
   {
    "duration": 12,
    "start_time": "2024-04-06T13:54:31.811Z"
   },
   {
    "duration": 580,
    "start_time": "2024-04-06T13:55:08.991Z"
   },
   {
    "duration": 877,
    "start_time": "2024-04-06T13:59:33.874Z"
   },
   {
    "duration": 1063,
    "start_time": "2024-04-06T14:00:44.377Z"
   },
   {
    "duration": 891,
    "start_time": "2024-04-06T14:01:31.174Z"
   },
   {
    "duration": 567,
    "start_time": "2024-04-06T14:02:24.202Z"
   },
   {
    "duration": 282,
    "start_time": "2024-04-06T14:04:57.335Z"
   },
   {
    "duration": 257,
    "start_time": "2024-04-06T14:05:16.906Z"
   },
   {
    "duration": 292,
    "start_time": "2024-04-06T14:05:55.763Z"
   },
   {
    "duration": 9,
    "start_time": "2024-04-06T14:06:26.020Z"
   },
   {
    "duration": 266,
    "start_time": "2024-04-06T14:06:31.179Z"
   },
   {
    "duration": 11,
    "start_time": "2024-04-06T14:47:50.607Z"
   },
   {
    "duration": 12,
    "start_time": "2024-04-06T14:48:15.591Z"
   },
   {
    "duration": 7,
    "start_time": "2024-04-06T14:48:37.076Z"
   },
   {
    "duration": 11,
    "start_time": "2024-04-06T14:48:45.144Z"
   },
   {
    "duration": 12,
    "start_time": "2024-04-06T14:48:54.672Z"
   },
   {
    "duration": 12,
    "start_time": "2024-04-06T14:49:41.518Z"
   },
   {
    "duration": 10,
    "start_time": "2024-04-06T14:49:47.775Z"
   },
   {
    "duration": 9,
    "start_time": "2024-04-06T14:49:58.403Z"
   },
   {
    "duration": 11,
    "start_time": "2024-04-06T14:50:14.548Z"
   },
   {
    "duration": 12,
    "start_time": "2024-04-06T14:50:18.604Z"
   },
   {
    "duration": 4,
    "start_time": "2024-04-06T14:51:22.425Z"
   },
   {
    "duration": 11,
    "start_time": "2024-04-06T14:52:00.974Z"
   },
   {
    "duration": 12,
    "start_time": "2024-04-06T14:52:03.611Z"
   },
   {
    "duration": 10,
    "start_time": "2024-04-06T14:52:06.610Z"
   },
   {
    "duration": 10,
    "start_time": "2024-04-06T14:52:12.258Z"
   },
   {
    "duration": 12,
    "start_time": "2024-04-06T14:52:29.128Z"
   },
   {
    "duration": 20,
    "start_time": "2024-04-06T14:52:31.305Z"
   },
   {
    "duration": 19,
    "start_time": "2024-04-06T14:54:17.939Z"
   },
   {
    "duration": 61,
    "start_time": "2024-04-06T14:54:43.426Z"
   },
   {
    "duration": 48,
    "start_time": "2024-04-06T14:54:47.850Z"
   },
   {
    "duration": 19,
    "start_time": "2024-04-06T14:54:58.948Z"
   },
   {
    "duration": 12,
    "start_time": "2024-04-06T14:55:40.144Z"
   },
   {
    "duration": 18,
    "start_time": "2024-04-06T14:55:46.388Z"
   },
   {
    "duration": 15,
    "start_time": "2024-04-06T15:00:45.666Z"
   },
   {
    "duration": 10,
    "start_time": "2024-04-06T15:24:18.219Z"
   },
   {
    "duration": 10,
    "start_time": "2024-04-06T15:24:31.643Z"
   },
   {
    "duration": 3,
    "start_time": "2024-04-06T16:05:15.968Z"
   },
   {
    "duration": 19,
    "start_time": "2024-04-06T16:05:19.574Z"
   },
   {
    "duration": 3,
    "start_time": "2024-04-06T16:05:24.763Z"
   },
   {
    "duration": 11,
    "start_time": "2024-04-06T16:05:25.102Z"
   },
   {
    "duration": 3,
    "start_time": "2024-04-06T16:06:38.221Z"
   },
   {
    "duration": 5,
    "start_time": "2024-04-06T16:06:39.270Z"
   },
   {
    "duration": 3,
    "start_time": "2024-04-06T16:06:46.994Z"
   },
   {
    "duration": 12,
    "start_time": "2024-04-06T16:06:48.015Z"
   },
   {
    "duration": 3,
    "start_time": "2024-04-06T16:06:52.849Z"
   },
   {
    "duration": 10,
    "start_time": "2024-04-06T16:06:54.006Z"
   },
   {
    "duration": 10,
    "start_time": "2024-04-06T16:08:53.592Z"
   },
   {
    "duration": 2,
    "start_time": "2024-04-06T16:08:57.759Z"
   },
   {
    "duration": 66,
    "start_time": "2024-04-06T16:08:59.028Z"
   },
   {
    "duration": 6,
    "start_time": "2024-04-06T16:09:03.010Z"
   },
   {
    "duration": 13,
    "start_time": "2024-04-06T16:10:02.606Z"
   },
   {
    "duration": 4,
    "start_time": "2024-04-06T16:10:15.773Z"
   },
   {
    "duration": 5,
    "start_time": "2024-04-06T16:10:16.616Z"
   },
   {
    "duration": 7,
    "start_time": "2024-04-06T16:10:20.897Z"
   },
   {
    "duration": 74,
    "start_time": "2024-04-06T16:10:45.180Z"
   },
   {
    "duration": 6,
    "start_time": "2024-04-06T16:10:45.523Z"
   },
   {
    "duration": 7,
    "start_time": "2024-04-06T16:10:46.303Z"
   },
   {
    "duration": 12,
    "start_time": "2024-04-06T16:12:19.697Z"
   },
   {
    "duration": 4,
    "start_time": "2024-04-06T16:12:25.893Z"
   },
   {
    "duration": 6,
    "start_time": "2024-04-06T16:12:26.716Z"
   },
   {
    "duration": 14,
    "start_time": "2024-04-06T16:12:27.185Z"
   },
   {
    "duration": 12,
    "start_time": "2024-04-06T20:35:47.013Z"
   },
   {
    "duration": 4,
    "start_time": "2024-04-06T20:35:56.296Z"
   },
   {
    "duration": 3,
    "start_time": "2024-04-06T20:36:17.119Z"
   },
   {
    "duration": 6,
    "start_time": "2024-04-06T20:36:17.687Z"
   },
   {
    "duration": 15,
    "start_time": "2024-04-06T20:36:18.168Z"
   },
   {
    "duration": 20,
    "start_time": "2024-04-06T20:44:06.222Z"
   },
   {
    "duration": 14,
    "start_time": "2024-04-06T20:44:23.839Z"
   },
   {
    "duration": 4,
    "start_time": "2024-04-06T20:44:36.021Z"
   },
   {
    "duration": 4,
    "start_time": "2024-04-06T20:44:56.603Z"
   },
   {
    "duration": 14,
    "start_time": "2024-04-06T20:44:59.881Z"
   },
   {
    "duration": 6,
    "start_time": "2024-04-06T20:45:14.710Z"
   },
   {
    "duration": 20,
    "start_time": "2024-04-06T20:45:17.743Z"
   },
   {
    "duration": 4,
    "start_time": "2024-04-06T20:46:14.802Z"
   },
   {
    "duration": 18,
    "start_time": "2024-04-06T20:46:17.771Z"
   },
   {
    "duration": 607,
    "start_time": "2024-04-06T20:47:53.965Z"
   },
   {
    "duration": 4,
    "start_time": "2024-04-06T20:48:51.594Z"
   },
   {
    "duration": 79,
    "start_time": "2024-04-06T20:49:40.772Z"
   },
   {
    "duration": 76,
    "start_time": "2024-04-06T20:50:12.277Z"
   },
   {
    "duration": 84,
    "start_time": "2024-04-06T20:50:32.766Z"
   },
   {
    "duration": 78,
    "start_time": "2024-04-06T20:50:52.310Z"
   },
   {
    "duration": 78,
    "start_time": "2024-04-06T20:50:57.751Z"
   },
   {
    "duration": 88,
    "start_time": "2024-04-06T20:51:02.169Z"
   },
   {
    "duration": 97,
    "start_time": "2024-04-06T20:51:13.414Z"
   },
   {
    "duration": 7,
    "start_time": "2024-04-06T20:51:24.646Z"
   },
   {
    "duration": 51519,
    "start_time": "2024-04-06T20:51:36.291Z"
   },
   {
    "duration": 0,
    "start_time": "2024-04-06T20:53:21.992Z"
   },
   {
    "duration": 0,
    "start_time": "2024-04-06T20:53:21.994Z"
   },
   {
    "duration": 82,
    "start_time": "2024-04-06T20:53:35.521Z"
   },
   {
    "duration": 574,
    "start_time": "2024-04-06T20:53:40.134Z"
   },
   {
    "duration": 1071,
    "start_time": "2024-04-06T20:53:48.471Z"
   },
   {
    "duration": 54397,
    "start_time": "2024-04-06T20:54:09.152Z"
   },
   {
    "duration": 0,
    "start_time": "2024-04-06T20:55:03.550Z"
   },
   {
    "duration": 49715,
    "start_time": "2024-04-06T21:18:59.246Z"
   },
   {
    "duration": 53626,
    "start_time": "2024-04-06T21:21:31.978Z"
   },
   {
    "duration": 31996,
    "start_time": "2024-04-06T21:23:44.712Z"
   },
   {
    "duration": 51317,
    "start_time": "2024-04-06T21:24:25.337Z"
   },
   {
    "duration": 100,
    "start_time": "2024-04-06T21:26:09.120Z"
   },
   {
    "duration": 1038,
    "start_time": "2024-04-06T21:26:22.773Z"
   },
   {
    "duration": 1027,
    "start_time": "2024-04-06T21:26:42.700Z"
   },
   {
    "duration": 10,
    "start_time": "2024-04-06T21:28:00.244Z"
   },
   {
    "duration": 35,
    "start_time": "2024-04-06T21:28:24.890Z"
   },
   {
    "duration": 1013,
    "start_time": "2024-04-06T21:28:41.658Z"
   },
   {
    "duration": 33,
    "start_time": "2024-04-06T21:28:45.754Z"
   },
   {
    "duration": 20,
    "start_time": "2024-04-06T21:32:07.513Z"
   },
   {
    "duration": 1024,
    "start_time": "2024-04-06T21:32:31.965Z"
   },
   {
    "duration": 29,
    "start_time": "2024-04-06T21:32:34.718Z"
   },
   {
    "duration": 16,
    "start_time": "2024-04-06T21:32:38.589Z"
   },
   {
    "duration": 1037,
    "start_time": "2024-04-06T21:32:44.570Z"
   },
   {
    "duration": 32,
    "start_time": "2024-04-06T21:32:46.823Z"
   },
   {
    "duration": 1006,
    "start_time": "2024-04-06T21:33:52.938Z"
   },
   {
    "duration": 31,
    "start_time": "2024-04-06T21:33:54.862Z"
   },
   {
    "duration": 15,
    "start_time": "2024-04-06T21:33:57.954Z"
   },
   {
    "duration": 1054,
    "start_time": "2024-04-06T21:34:09.171Z"
   },
   {
    "duration": 32,
    "start_time": "2024-04-06T21:34:11.114Z"
   },
   {
    "duration": 15,
    "start_time": "2024-04-06T21:34:13.831Z"
   },
   {
    "duration": 1297,
    "start_time": "2024-04-06T21:34:29.696Z"
   },
   {
    "duration": 32,
    "start_time": "2024-04-06T21:34:31.799Z"
   },
   {
    "duration": 1894,
    "start_time": "2024-04-06T21:34:39.894Z"
   },
   {
    "duration": 30,
    "start_time": "2024-04-06T21:34:41.790Z"
   },
   {
    "duration": 16,
    "start_time": "2024-04-06T21:34:45.633Z"
   },
   {
    "duration": 3531,
    "start_time": "2024-04-06T21:36:38.191Z"
   },
   {
    "duration": 34,
    "start_time": "2024-04-06T21:36:55.205Z"
   },
   {
    "duration": 21,
    "start_time": "2024-04-06T21:37:02.452Z"
   },
   {
    "duration": 10,
    "start_time": "2024-04-06T21:37:54.055Z"
   },
   {
    "duration": 3,
    "start_time": "2024-04-06T21:38:25.623Z"
   },
   {
    "duration": 9,
    "start_time": "2024-04-06T21:38:30.312Z"
   },
   {
    "duration": 9,
    "start_time": "2024-04-06T21:38:56.609Z"
   },
   {
    "duration": 3,
    "start_time": "2024-04-06T21:39:26.969Z"
   },
   {
    "duration": 411,
    "start_time": "2024-04-06T21:39:29.961Z"
   },
   {
    "duration": 458,
    "start_time": "2024-04-06T21:39:49.271Z"
   },
   {
    "duration": 3,
    "start_time": "2024-04-06T21:40:06.677Z"
   },
   {
    "duration": 15,
    "start_time": "2024-04-06T21:40:09.799Z"
   },
   {
    "duration": 385,
    "start_time": "2024-04-06T21:40:47.595Z"
   },
   {
    "duration": 3596,
    "start_time": "2024-04-06T21:41:18.520Z"
   },
   {
    "duration": 368,
    "start_time": "2024-04-06T21:41:23.526Z"
   },
   {
    "duration": 8,
    "start_time": "2024-04-06T21:41:49.651Z"
   },
   {
    "duration": 11,
    "start_time": "2024-04-06T21:42:12.909Z"
   },
   {
    "duration": 3,
    "start_time": "2024-04-06T21:43:25.484Z"
   },
   {
    "duration": 8,
    "start_time": "2024-04-06T21:43:27.462Z"
   },
   {
    "duration": 10,
    "start_time": "2024-04-06T21:43:31.961Z"
   },
   {
    "duration": 13,
    "start_time": "2024-04-06T21:43:40.078Z"
   },
   {
    "duration": 9,
    "start_time": "2024-04-06T21:43:52.313Z"
   },
   {
    "duration": 14,
    "start_time": "2024-04-06T21:44:15.449Z"
   },
   {
    "duration": 8,
    "start_time": "2024-04-06T21:45:30.898Z"
   },
   {
    "duration": 6,
    "start_time": "2024-04-06T21:45:34.695Z"
   },
   {
    "duration": 79,
    "start_time": "2024-04-06T21:46:04.580Z"
   },
   {
    "duration": 16,
    "start_time": "2024-04-06T21:47:02.820Z"
   },
   {
    "duration": 9,
    "start_time": "2024-04-06T21:47:58.815Z"
   },
   {
    "duration": 15,
    "start_time": "2024-04-06T21:48:39.671Z"
   },
   {
    "duration": 8,
    "start_time": "2024-04-06T21:48:47.360Z"
   },
   {
    "duration": 128,
    "start_time": "2024-04-06T21:49:01.163Z"
   },
   {
    "duration": 79,
    "start_time": "2024-04-06T21:49:49.911Z"
   },
   {
    "duration": 14,
    "start_time": "2024-04-06T21:51:45.818Z"
   },
   {
    "duration": 3,
    "start_time": "2024-04-06T21:51:49.345Z"
   },
   {
    "duration": 5,
    "start_time": "2024-04-06T21:52:04.274Z"
   },
   {
    "duration": 1152,
    "start_time": "2024-04-06T21:52:49.089Z"
   },
   {
    "duration": 34,
    "start_time": "2024-04-06T21:52:51.503Z"
   },
   {
    "duration": 14,
    "start_time": "2024-04-06T21:52:55.599Z"
   },
   {
    "duration": 13,
    "start_time": "2024-04-06T21:52:58.296Z"
   },
   {
    "duration": 4,
    "start_time": "2024-04-06T21:52:58.659Z"
   },
   {
    "duration": 5,
    "start_time": "2024-04-06T21:52:59.545Z"
   },
   {
    "duration": 3,
    "start_time": "2024-04-06T21:54:26.396Z"
   },
   {
    "duration": 2,
    "start_time": "2024-04-06T21:54:26.680Z"
   },
   {
    "duration": 3,
    "start_time": "2024-04-06T21:54:26.868Z"
   },
   {
    "duration": 3,
    "start_time": "2024-04-06T21:54:27.144Z"
   },
   {
    "duration": 31,
    "start_time": "2024-04-06T21:54:32.473Z"
   },
   {
    "duration": 9,
    "start_time": "2024-04-06T21:54:44.294Z"
   },
   {
    "duration": 4,
    "start_time": "2024-04-06T21:54:55.378Z"
   },
   {
    "duration": 1099,
    "start_time": "2024-04-06T21:55:01.014Z"
   },
   {
    "duration": 35,
    "start_time": "2024-04-06T21:55:06.235Z"
   },
   {
    "duration": 16,
    "start_time": "2024-04-06T21:55:12.860Z"
   },
   {
    "duration": 14,
    "start_time": "2024-04-06T21:55:16.607Z"
   },
   {
    "duration": 4,
    "start_time": "2024-04-06T21:55:21.032Z"
   },
   {
    "duration": 4,
    "start_time": "2024-04-06T21:55:22.603Z"
   },
   {
    "duration": 7,
    "start_time": "2024-04-06T21:58:11.983Z"
   },
   {
    "duration": 17,
    "start_time": "2024-04-06T21:59:02.175Z"
   },
   {
    "duration": 15,
    "start_time": "2024-04-06T21:59:15.146Z"
   },
   {
    "duration": 15,
    "start_time": "2024-04-06T21:59:20.703Z"
   },
   {
    "duration": 18,
    "start_time": "2024-04-06T21:59:25.413Z"
   },
   {
    "duration": 15,
    "start_time": "2024-04-06T21:59:26.191Z"
   },
   {
    "duration": 13,
    "start_time": "2024-04-06T21:59:31.207Z"
   },
   {
    "duration": 13,
    "start_time": "2024-04-06T21:59:41.484Z"
   },
   {
    "duration": 14,
    "start_time": "2024-04-06T21:59:46.988Z"
   },
   {
    "duration": 4,
    "start_time": "2024-04-06T22:00:07.649Z"
   },
   {
    "duration": 16,
    "start_time": "2024-04-06T22:00:11.584Z"
   },
   {
    "duration": 11,
    "start_time": "2024-04-06T22:00:48.266Z"
   },
   {
    "duration": 2313,
    "start_time": "2024-04-06T22:01:04.038Z"
   },
   {
    "duration": 2853,
    "start_time": "2024-04-06T22:01:06.353Z"
   },
   {
    "duration": 1199,
    "start_time": "2024-04-06T22:01:09.208Z"
   },
   {
    "duration": 73,
    "start_time": "2024-04-06T22:01:10.409Z"
   },
   {
    "duration": 28,
    "start_time": "2024-04-06T22:01:10.484Z"
   },
   {
    "duration": 45,
    "start_time": "2024-04-06T22:01:10.513Z"
   },
   {
    "duration": 34,
    "start_time": "2024-04-06T22:01:10.559Z"
   },
   {
    "duration": 6,
    "start_time": "2024-04-06T22:01:10.594Z"
   },
   {
    "duration": 18,
    "start_time": "2024-04-06T22:01:10.602Z"
   },
   {
    "duration": 10,
    "start_time": "2024-04-06T22:01:10.622Z"
   },
   {
    "duration": 12,
    "start_time": "2024-04-06T22:01:10.633Z"
   },
   {
    "duration": 25,
    "start_time": "2024-04-06T22:01:10.647Z"
   },
   {
    "duration": 7,
    "start_time": "2024-04-06T22:01:10.674Z"
   },
   {
    "duration": 14,
    "start_time": "2024-04-06T22:01:10.682Z"
   },
   {
    "duration": 5,
    "start_time": "2024-04-06T22:01:10.698Z"
   },
   {
    "duration": 4,
    "start_time": "2024-04-06T22:01:10.704Z"
   },
   {
    "duration": 4,
    "start_time": "2024-04-06T22:01:10.710Z"
   },
   {
    "duration": 1126,
    "start_time": "2024-04-06T22:01:10.716Z"
   },
   {
    "duration": 12,
    "start_time": "2024-04-06T22:01:11.844Z"
   },
   {
    "duration": 589,
    "start_time": "2024-04-06T22:01:11.857Z"
   },
   {
    "duration": 830,
    "start_time": "2024-04-06T22:01:12.448Z"
   },
   {
    "duration": 571,
    "start_time": "2024-04-06T22:01:13.279Z"
   },
   {
    "duration": 278,
    "start_time": "2024-04-06T22:01:13.851Z"
   },
   {
    "duration": 5,
    "start_time": "2024-04-06T22:01:14.131Z"
   },
   {
    "duration": 4,
    "start_time": "2024-04-06T22:01:15.091Z"
   },
   {
    "duration": 7,
    "start_time": "2024-04-06T22:01:24.878Z"
   },
   {
    "duration": 6,
    "start_time": "2024-04-06T22:01:35.385Z"
   },
   {
    "duration": 5,
    "start_time": "2024-04-06T22:01:45.168Z"
   },
   {
    "duration": 4,
    "start_time": "2024-04-06T22:01:50.075Z"
   },
   {
    "duration": 200,
    "start_time": "2024-04-06T22:01:55.414Z"
   },
   {
    "duration": 5,
    "start_time": "2024-04-06T22:02:50.014Z"
   },
   {
    "duration": 22,
    "start_time": "2024-04-06T22:02:59.161Z"
   },
   {
    "duration": 21,
    "start_time": "2024-04-06T22:03:09.320Z"
   },
   {
    "duration": 9,
    "start_time": "2024-04-06T22:03:36.474Z"
   },
   {
    "duration": 2,
    "start_time": "2024-04-06T22:03:42.770Z"
   },
   {
    "duration": 4,
    "start_time": "2024-04-06T22:03:54.324Z"
   },
   {
    "duration": 3,
    "start_time": "2024-04-06T22:04:05.870Z"
   },
   {
    "duration": 2,
    "start_time": "2024-04-06T22:04:06.042Z"
   },
   {
    "duration": 2,
    "start_time": "2024-04-06T22:04:06.220Z"
   },
   {
    "duration": 4,
    "start_time": "2024-04-06T22:04:06.388Z"
   },
   {
    "duration": 13,
    "start_time": "2024-04-06T22:04:11.445Z"
   },
   {
    "duration": 6,
    "start_time": "2024-04-06T22:04:13.902Z"
   },
   {
    "duration": 13,
    "start_time": "2024-04-06T22:04:19.269Z"
   },
   {
    "duration": 7,
    "start_time": "2024-04-06T22:04:53.236Z"
   },
   {
    "duration": 6,
    "start_time": "2024-04-06T22:04:53.536Z"
   },
   {
    "duration": 3,
    "start_time": "2024-04-06T22:04:53.909Z"
   },
   {
    "duration": 5,
    "start_time": "2024-04-06T22:04:54.418Z"
   },
   {
    "duration": 16,
    "start_time": "2024-04-06T22:04:59.219Z"
   },
   {
    "duration": 4,
    "start_time": "2024-04-06T22:05:16.730Z"
   },
   {
    "duration": 4,
    "start_time": "2024-04-06T22:05:27.754Z"
   },
   {
    "duration": 6,
    "start_time": "2024-04-06T22:05:33.218Z"
   },
   {
    "duration": 12,
    "start_time": "2024-04-06T22:05:38.470Z"
   },
   {
    "duration": 5,
    "start_time": "2024-04-06T22:05:45.574Z"
   },
   {
    "duration": 3,
    "start_time": "2024-04-06T22:05:53.404Z"
   },
   {
    "duration": 5,
    "start_time": "2024-04-06T22:05:53.858Z"
   },
   {
    "duration": 4,
    "start_time": "2024-04-06T22:06:00.049Z"
   },
   {
    "duration": 18,
    "start_time": "2024-04-06T22:06:00.585Z"
   },
   {
    "duration": 14,
    "start_time": "2024-04-06T22:06:10.892Z"
   },
   {
    "duration": 4,
    "start_time": "2024-04-06T22:06:13.666Z"
   },
   {
    "duration": 14,
    "start_time": "2024-04-06T22:06:20.450Z"
   },
   {
    "duration": 16,
    "start_time": "2024-04-06T22:08:58.657Z"
   },
   {
    "duration": 2429,
    "start_time": "2024-04-06T22:09:06.475Z"
   },
   {
    "duration": 2884,
    "start_time": "2024-04-06T22:09:08.906Z"
   },
   {
    "duration": 1223,
    "start_time": "2024-04-06T22:09:11.792Z"
   },
   {
    "duration": 72,
    "start_time": "2024-04-06T22:09:13.017Z"
   },
   {
    "duration": 23,
    "start_time": "2024-04-06T22:09:13.090Z"
   },
   {
    "duration": 58,
    "start_time": "2024-04-06T22:09:13.115Z"
   },
   {
    "duration": 27,
    "start_time": "2024-04-06T22:09:13.175Z"
   },
   {
    "duration": 8,
    "start_time": "2024-04-06T22:09:13.204Z"
   },
   {
    "duration": 29,
    "start_time": "2024-04-06T22:09:13.213Z"
   },
   {
    "duration": 16,
    "start_time": "2024-04-06T22:09:13.245Z"
   },
   {
    "duration": 9,
    "start_time": "2024-04-06T22:09:13.269Z"
   },
   {
    "duration": 10,
    "start_time": "2024-04-06T22:09:13.279Z"
   },
   {
    "duration": 13,
    "start_time": "2024-04-06T22:09:13.290Z"
   },
   {
    "duration": 20,
    "start_time": "2024-04-06T22:09:13.304Z"
   },
   {
    "duration": 16,
    "start_time": "2024-04-06T22:09:13.326Z"
   },
   {
    "duration": 22,
    "start_time": "2024-04-06T22:09:13.343Z"
   },
   {
    "duration": 14,
    "start_time": "2024-04-06T22:09:13.366Z"
   },
   {
    "duration": 1167,
    "start_time": "2024-04-06T22:09:13.382Z"
   },
   {
    "duration": 20,
    "start_time": "2024-04-06T22:09:14.551Z"
   },
   {
    "duration": 613,
    "start_time": "2024-04-06T22:09:14.572Z"
   },
   {
    "duration": 864,
    "start_time": "2024-04-06T22:09:15.186Z"
   },
   {
    "duration": 566,
    "start_time": "2024-04-06T22:09:16.052Z"
   },
   {
    "duration": 266,
    "start_time": "2024-04-06T22:09:16.620Z"
   },
   {
    "duration": 9,
    "start_time": "2024-04-06T22:09:16.887Z"
   },
   {
    "duration": 22,
    "start_time": "2024-04-06T22:09:21.612Z"
   },
   {
    "duration": 9,
    "start_time": "2024-04-06T22:09:37.463Z"
   },
   {
    "duration": 128,
    "start_time": "2024-04-06T22:10:28.967Z"
   },
   {
    "duration": 19,
    "start_time": "2024-04-06T22:10:57.685Z"
   },
   {
    "duration": 11,
    "start_time": "2024-04-06T22:11:17.084Z"
   },
   {
    "duration": 19,
    "start_time": "2024-04-06T22:11:31.514Z"
   },
   {
    "duration": 11,
    "start_time": "2024-04-06T22:11:41.602Z"
   },
   {
    "duration": 18,
    "start_time": "2024-04-06T22:12:45.512Z"
   },
   {
    "duration": 9,
    "start_time": "2024-04-06T22:12:56.281Z"
   },
   {
    "duration": 111,
    "start_time": "2024-04-06T22:13:17.887Z"
   },
   {
    "duration": 9,
    "start_time": "2024-04-06T22:13:27.483Z"
   },
   {
    "duration": 4,
    "start_time": "2024-04-06T22:13:43.045Z"
   },
   {
    "duration": 15,
    "start_time": "2024-04-06T22:13:45.901Z"
   },
   {
    "duration": 9,
    "start_time": "2024-04-06T22:13:59.243Z"
   },
   {
    "duration": 7,
    "start_time": "2024-04-06T22:14:04.443Z"
   },
   {
    "duration": 8,
    "start_time": "2024-04-06T22:14:20.607Z"
   },
   {
    "duration": 6,
    "start_time": "2024-04-06T22:14:24.722Z"
   },
   {
    "duration": 3,
    "start_time": "2024-04-06T22:14:56.486Z"
   },
   {
    "duration": 3,
    "start_time": "2024-04-06T22:15:02.006Z"
   },
   {
    "duration": 3,
    "start_time": "2024-04-06T22:15:09.310Z"
   },
   {
    "duration": 3,
    "start_time": "2024-04-06T22:15:21.525Z"
   },
   {
    "duration": 3,
    "start_time": "2024-04-06T22:15:26.461Z"
   },
   {
    "duration": 4,
    "start_time": "2024-04-06T22:15:56.037Z"
   },
   {
    "duration": 12,
    "start_time": "2024-04-06T22:16:04.292Z"
   },
   {
    "duration": 13,
    "start_time": "2024-04-06T22:16:15.917Z"
   },
   {
    "duration": 7,
    "start_time": "2024-04-06T22:16:22.935Z"
   },
   {
    "duration": 6,
    "start_time": "2024-04-06T22:16:32.632Z"
   },
   {
    "duration": 13,
    "start_time": "2024-04-06T22:16:37.106Z"
   },
   {
    "duration": 4,
    "start_time": "2024-04-06T22:16:40.479Z"
   },
   {
    "duration": 3,
    "start_time": "2024-04-06T22:16:40.866Z"
   },
   {
    "duration": 13,
    "start_time": "2024-04-06T22:16:45.449Z"
   },
   {
    "duration": 3,
    "start_time": "2024-04-06T22:16:49.300Z"
   },
   {
    "duration": 4,
    "start_time": "2024-04-06T22:16:49.610Z"
   },
   {
    "duration": 3551,
    "start_time": "2024-04-06T22:16:50.247Z"
   },
   {
    "duration": 33,
    "start_time": "2024-04-06T22:16:56.863Z"
   },
   {
    "duration": 20,
    "start_time": "2024-04-06T22:17:05.369Z"
   },
   {
    "duration": 15,
    "start_time": "2024-04-06T22:17:09.916Z"
   },
   {
    "duration": 5,
    "start_time": "2024-04-06T22:17:10.289Z"
   },
   {
    "duration": 369,
    "start_time": "2024-04-06T22:17:11.628Z"
   },
   {
    "duration": 8,
    "start_time": "2024-04-06T22:17:24.868Z"
   },
   {
    "duration": 3,
    "start_time": "2024-04-06T22:17:50.948Z"
   },
   {
    "duration": 8,
    "start_time": "2024-04-06T22:17:55.603Z"
   },
   {
    "duration": 21,
    "start_time": "2024-04-06T22:17:58.599Z"
   },
   {
    "duration": 11,
    "start_time": "2024-04-06T22:18:22.183Z"
   },
   {
    "duration": 9,
    "start_time": "2024-04-06T22:19:00.572Z"
   },
   {
    "duration": 2,
    "start_time": "2024-04-06T22:19:20.426Z"
   },
   {
    "duration": 430,
    "start_time": "2024-04-06T22:19:20.873Z"
   },
   {
    "duration": 2358,
    "start_time": "2024-04-06T22:19:37.762Z"
   },
   {
    "duration": 2783,
    "start_time": "2024-04-06T22:19:40.122Z"
   },
   {
    "duration": 1233,
    "start_time": "2024-04-06T22:19:42.908Z"
   },
   {
    "duration": 70,
    "start_time": "2024-04-06T22:19:44.144Z"
   },
   {
    "duration": 24,
    "start_time": "2024-04-06T22:19:44.215Z"
   },
   {
    "duration": 44,
    "start_time": "2024-04-06T22:19:44.241Z"
   },
   {
    "duration": 24,
    "start_time": "2024-04-06T22:19:44.286Z"
   },
   {
    "duration": 5,
    "start_time": "2024-04-06T22:19:44.312Z"
   },
   {
    "duration": 10,
    "start_time": "2024-04-06T22:19:44.319Z"
   },
   {
    "duration": 10,
    "start_time": "2024-04-06T22:19:44.331Z"
   },
   {
    "duration": 34,
    "start_time": "2024-04-06T22:19:44.343Z"
   },
   {
    "duration": 7,
    "start_time": "2024-04-06T22:19:44.379Z"
   },
   {
    "duration": 7,
    "start_time": "2024-04-06T22:19:44.387Z"
   },
   {
    "duration": 7,
    "start_time": "2024-04-06T22:19:44.396Z"
   },
   {
    "duration": 7,
    "start_time": "2024-04-06T22:19:44.405Z"
   },
   {
    "duration": 4,
    "start_time": "2024-04-06T22:19:44.413Z"
   },
   {
    "duration": 5,
    "start_time": "2024-04-06T22:19:44.419Z"
   },
   {
    "duration": 1131,
    "start_time": "2024-04-06T22:19:44.425Z"
   },
   {
    "duration": 15,
    "start_time": "2024-04-06T22:19:45.558Z"
   },
   {
    "duration": 594,
    "start_time": "2024-04-06T22:19:45.575Z"
   },
   {
    "duration": 846,
    "start_time": "2024-04-06T22:19:46.171Z"
   },
   {
    "duration": 554,
    "start_time": "2024-04-06T22:19:47.018Z"
   },
   {
    "duration": 259,
    "start_time": "2024-04-06T22:19:47.574Z"
   },
   {
    "duration": 12,
    "start_time": "2024-04-06T22:20:18.368Z"
   },
   {
    "duration": 20,
    "start_time": "2024-04-06T22:20:22.332Z"
   },
   {
    "duration": 20,
    "start_time": "2024-04-06T22:20:28.572Z"
   },
   {
    "duration": 18,
    "start_time": "2024-04-06T22:20:46.741Z"
   },
   {
    "duration": 19,
    "start_time": "2024-04-06T22:21:20.351Z"
   },
   {
    "duration": 115,
    "start_time": "2024-04-06T22:22:37.624Z"
   },
   {
    "duration": 87,
    "start_time": "2024-04-06T22:22:42.532Z"
   },
   {
    "duration": 8,
    "start_time": "2024-04-06T22:23:15.990Z"
   },
   {
    "duration": 6,
    "start_time": "2024-04-06T22:23:21.205Z"
   },
   {
    "duration": 18,
    "start_time": "2024-04-06T22:23:25.239Z"
   },
   {
    "duration": 4,
    "start_time": "2024-04-06T22:23:41.159Z"
   },
   {
    "duration": 6,
    "start_time": "2024-04-06T22:23:46.381Z"
   },
   {
    "duration": 8,
    "start_time": "2024-04-06T22:23:54.936Z"
   },
   {
    "duration": 3,
    "start_time": "2024-04-06T22:23:55.539Z"
   },
   {
    "duration": 13,
    "start_time": "2024-04-06T22:24:22.050Z"
   },
   {
    "duration": 9,
    "start_time": "2024-04-06T22:24:34.209Z"
   },
   {
    "duration": 4,
    "start_time": "2024-04-06T22:24:42.670Z"
   },
   {
    "duration": 3,
    "start_time": "2024-04-06T22:24:44.242Z"
   },
   {
    "duration": 4,
    "start_time": "2024-04-06T22:24:50.013Z"
   },
   {
    "duration": 11,
    "start_time": "2024-04-06T22:26:24.962Z"
   },
   {
    "duration": 3,
    "start_time": "2024-04-06T22:26:25.528Z"
   },
   {
    "duration": 4,
    "start_time": "2024-04-06T22:26:30.436Z"
   },
   {
    "duration": 4,
    "start_time": "2024-04-06T22:26:50.023Z"
   },
   {
    "duration": 7,
    "start_time": "2024-04-06T22:29:20.256Z"
   },
   {
    "duration": 5,
    "start_time": "2024-04-06T22:29:20.681Z"
   },
   {
    "duration": 3,
    "start_time": "2024-04-06T22:29:21.214Z"
   },
   {
    "duration": 3,
    "start_time": "2024-04-06T22:29:29.248Z"
   },
   {
    "duration": 4,
    "start_time": "2024-04-06T22:29:32.481Z"
   },
   {
    "duration": 3484,
    "start_time": "2024-04-06T22:29:35.942Z"
   },
   {
    "duration": 30,
    "start_time": "2024-04-06T22:29:41.391Z"
   },
   {
    "duration": 21,
    "start_time": "2024-04-06T22:29:44.279Z"
   },
   {
    "duration": 2,
    "start_time": "2024-04-06T22:29:45.574Z"
   },
   {
    "duration": 17,
    "start_time": "2024-04-06T22:29:46.144Z"
   },
   {
    "duration": 15,
    "start_time": "2024-04-06T22:31:03.599Z"
   },
   {
    "duration": 6,
    "start_time": "2024-04-06T22:32:00.598Z"
   },
   {
    "duration": 2289,
    "start_time": "2024-04-06T22:35:59.769Z"
   },
   {
    "duration": 3453,
    "start_time": "2024-04-06T22:36:23.296Z"
   },
   {
    "duration": 33,
    "start_time": "2024-04-06T22:42:31.266Z"
   },
   {
    "duration": 2,
    "start_time": "2024-04-06T22:47:00.298Z"
   },
   {
    "duration": 75,
    "start_time": "2024-04-06T22:47:29.806Z"
   },
   {
    "duration": 3223,
    "start_time": "2024-04-07T12:48:11.731Z"
   },
   {
    "duration": 50714,
    "start_time": "2024-04-07T12:48:14.956Z"
   },
   {
    "duration": 1325,
    "start_time": "2024-04-07T12:49:05.672Z"
   },
   {
    "duration": 220,
    "start_time": "2024-04-07T12:49:06.999Z"
   },
   {
    "duration": 24,
    "start_time": "2024-04-07T12:49:07.221Z"
   },
   {
    "duration": 36,
    "start_time": "2024-04-07T12:49:07.246Z"
   },
   {
    "duration": 27,
    "start_time": "2024-04-07T12:49:07.283Z"
   },
   {
    "duration": 5,
    "start_time": "2024-04-07T12:49:07.312Z"
   },
   {
    "duration": 5,
    "start_time": "2024-04-07T12:49:07.318Z"
   },
   {
    "duration": 13,
    "start_time": "2024-04-07T12:49:07.324Z"
   },
   {
    "duration": 7,
    "start_time": "2024-04-07T12:49:07.338Z"
   },
   {
    "duration": 4,
    "start_time": "2024-04-07T12:49:07.346Z"
   },
   {
    "duration": 4,
    "start_time": "2024-04-07T12:49:07.351Z"
   },
   {
    "duration": 8,
    "start_time": "2024-04-07T12:49:07.356Z"
   },
   {
    "duration": 4,
    "start_time": "2024-04-07T12:49:07.365Z"
   },
   {
    "duration": 32,
    "start_time": "2024-04-07T12:49:07.370Z"
   },
   {
    "duration": 5,
    "start_time": "2024-04-07T12:49:07.403Z"
   },
   {
    "duration": 910,
    "start_time": "2024-04-07T12:49:07.409Z"
   },
   {
    "duration": 10,
    "start_time": "2024-04-07T12:49:08.320Z"
   },
   {
    "duration": 498,
    "start_time": "2024-04-07T12:49:08.332Z"
   },
   {
    "duration": 712,
    "start_time": "2024-04-07T12:49:08.831Z"
   },
   {
    "duration": 487,
    "start_time": "2024-04-07T12:49:09.544Z"
   },
   {
    "duration": 290,
    "start_time": "2024-04-07T12:49:10.032Z"
   },
   {
    "duration": 8,
    "start_time": "2024-04-07T12:49:10.323Z"
   },
   {
    "duration": 120,
    "start_time": "2024-04-07T12:49:10.332Z"
   },
   {
    "duration": 0,
    "start_time": "2024-04-07T12:49:10.453Z"
   },
   {
    "duration": 0,
    "start_time": "2024-04-07T12:49:10.454Z"
   },
   {
    "duration": 0,
    "start_time": "2024-04-07T12:49:10.455Z"
   },
   {
    "duration": 0,
    "start_time": "2024-04-07T12:49:10.455Z"
   },
   {
    "duration": 0,
    "start_time": "2024-04-07T12:49:10.456Z"
   },
   {
    "duration": 6,
    "start_time": "2024-04-07T12:49:22.318Z"
   },
   {
    "duration": 5,
    "start_time": "2024-04-07T12:49:23.188Z"
   },
   {
    "duration": 3042,
    "start_time": "2024-04-07T12:49:24.229Z"
   },
   {
    "duration": 36,
    "start_time": "2024-04-07T12:49:27.273Z"
   },
   {
    "duration": 32,
    "start_time": "2024-04-07T12:49:27.310Z"
   },
   {
    "duration": 25,
    "start_time": "2024-04-07T12:49:27.344Z"
   },
   {
    "duration": 76,
    "start_time": "2024-04-07T12:55:19.298Z"
   },
   {
    "duration": 104,
    "start_time": "2024-04-07T12:55:29.627Z"
   },
   {
    "duration": 12,
    "start_time": "2024-04-07T12:56:06.062Z"
   },
   {
    "duration": 15,
    "start_time": "2024-04-07T12:57:29.887Z"
   },
   {
    "duration": 21,
    "start_time": "2024-04-07T12:57:48.440Z"
   },
   {
    "duration": 14,
    "start_time": "2024-04-07T12:57:55.695Z"
   },
   {
    "duration": 55,
    "start_time": "2024-04-07T13:00:59.710Z"
   },
   {
    "duration": 12,
    "start_time": "2024-04-07T13:01:00.078Z"
   },
   {
    "duration": 18,
    "start_time": "2024-04-07T13:01:05.526Z"
   },
   {
    "duration": 15,
    "start_time": "2024-04-07T13:01:08.107Z"
   },
   {
    "duration": 7,
    "start_time": "2024-04-07T13:01:31.897Z"
   },
   {
    "duration": 51,
    "start_time": "2024-04-07T13:02:21.719Z"
   },
   {
    "duration": 9,
    "start_time": "2024-04-07T13:02:25.417Z"
   },
   {
    "duration": 7,
    "start_time": "2024-04-07T13:02:29.311Z"
   },
   {
    "duration": 6,
    "start_time": "2024-04-07T13:04:24.540Z"
   },
   {
    "duration": 628,
    "start_time": "2024-04-07T13:08:01.290Z"
   },
   {
    "duration": 543,
    "start_time": "2024-04-07T13:11:36.510Z"
   },
   {
    "duration": 562,
    "start_time": "2024-04-07T13:13:00.387Z"
   },
   {
    "duration": 163,
    "start_time": "2024-04-07T13:19:01.062Z"
   },
   {
    "duration": 351,
    "start_time": "2024-04-07T13:19:25.195Z"
   },
   {
    "duration": 8,
    "start_time": "2024-04-07T13:19:47.075Z"
   },
   {
    "duration": 272,
    "start_time": "2024-04-07T13:19:58.100Z"
   },
   {
    "duration": 90,
    "start_time": "2024-04-07T13:20:39.644Z"
   },
   {
    "duration": 94,
    "start_time": "2024-04-07T13:20:44.759Z"
   },
   {
    "duration": 4,
    "start_time": "2024-04-07T13:34:13.505Z"
   },
   {
    "duration": 3,
    "start_time": "2024-04-07T13:34:25.685Z"
   },
   {
    "duration": 4,
    "start_time": "2024-04-07T13:34:29.151Z"
   },
   {
    "duration": 4,
    "start_time": "2024-04-07T13:34:37.482Z"
   },
   {
    "duration": 5,
    "start_time": "2024-04-07T13:34:40.341Z"
   },
   {
    "duration": 91,
    "start_time": "2024-04-07T13:34:52.260Z"
   },
   {
    "duration": 171,
    "start_time": "2024-04-07T13:35:31.246Z"
   },
   {
    "duration": 155,
    "start_time": "2024-04-07T13:35:44.897Z"
   },
   {
    "duration": 146,
    "start_time": "2024-04-07T13:36:05.654Z"
   },
   {
    "duration": 5,
    "start_time": "2024-04-07T13:36:41.154Z"
   },
   {
    "duration": 152,
    "start_time": "2024-04-07T13:36:42.103Z"
   },
   {
    "duration": 146,
    "start_time": "2024-04-07T13:37:10.581Z"
   },
   {
    "duration": 158,
    "start_time": "2024-04-07T13:39:27.719Z"
   },
   {
    "duration": 211,
    "start_time": "2024-04-07T13:39:32.376Z"
   },
   {
    "duration": 147,
    "start_time": "2024-04-07T13:39:46.265Z"
   },
   {
    "duration": 143,
    "start_time": "2024-04-07T13:44:31.393Z"
   },
   {
    "duration": 44,
    "start_time": "2024-04-07T13:45:21.424Z"
   },
   {
    "duration": 143,
    "start_time": "2024-04-07T13:45:28.281Z"
   },
   {
    "duration": 140,
    "start_time": "2024-04-07T13:47:05.764Z"
   },
   {
    "duration": 132,
    "start_time": "2024-04-07T13:47:17.911Z"
   },
   {
    "duration": 207,
    "start_time": "2024-04-07T13:47:26.078Z"
   },
   {
    "duration": 217,
    "start_time": "2024-04-07T13:47:36.571Z"
   },
   {
    "duration": 235,
    "start_time": "2024-04-07T13:47:42.433Z"
   },
   {
    "duration": 152,
    "start_time": "2024-04-07T13:48:13.420Z"
   },
   {
    "duration": 7,
    "start_time": "2024-04-07T14:03:35.214Z"
   },
   {
    "duration": 7,
    "start_time": "2024-04-07T14:03:39.444Z"
   },
   {
    "duration": 4,
    "start_time": "2024-04-07T14:03:45.597Z"
   },
   {
    "duration": 115,
    "start_time": "2024-04-07T14:04:25.296Z"
   },
   {
    "duration": 10,
    "start_time": "2024-04-07T14:07:04.548Z"
   },
   {
    "duration": 24,
    "start_time": "2024-04-07T14:08:15.098Z"
   },
   {
    "duration": 6,
    "start_time": "2024-04-07T14:08:29.588Z"
   },
   {
    "duration": 14,
    "start_time": "2024-04-07T14:08:35.087Z"
   },
   {
    "duration": 5,
    "start_time": "2024-04-07T14:09:19.709Z"
   },
   {
    "duration": 4,
    "start_time": "2024-04-07T14:09:34.972Z"
   },
   {
    "duration": 13,
    "start_time": "2024-04-07T14:09:40.827Z"
   },
   {
    "duration": 13,
    "start_time": "2024-04-07T14:20:07.727Z"
   },
   {
    "duration": 6,
    "start_time": "2024-04-07T14:20:13.092Z"
   },
   {
    "duration": 14,
    "start_time": "2024-04-07T14:20:16.472Z"
   },
   {
    "duration": 21,
    "start_time": "2024-04-07T14:21:18.285Z"
   },
   {
    "duration": 12,
    "start_time": "2024-04-07T14:21:18.442Z"
   },
   {
    "duration": 7,
    "start_time": "2024-04-07T14:21:24.070Z"
   },
   {
    "duration": 103,
    "start_time": "2024-04-07T14:21:24.361Z"
   },
   {
    "duration": 7,
    "start_time": "2024-04-07T14:22:19.425Z"
   },
   {
    "duration": 100,
    "start_time": "2024-04-07T14:22:22.569Z"
   },
   {
    "duration": 9,
    "start_time": "2024-04-07T14:22:49.502Z"
   },
   {
    "duration": 264,
    "start_time": "2024-04-07T14:23:01.716Z"
   },
   {
    "duration": 10,
    "start_time": "2024-04-07T14:23:10.191Z"
   },
   {
    "duration": 1007,
    "start_time": "2024-04-07T14:24:15.227Z"
   },
   {
    "duration": 9,
    "start_time": "2024-04-07T14:24:42.554Z"
   },
   {
    "duration": 16,
    "start_time": "2024-04-07T14:24:51.840Z"
   },
   {
    "duration": 8,
    "start_time": "2024-04-07T14:25:02.552Z"
   },
   {
    "duration": 8,
    "start_time": "2024-04-07T14:25:05.948Z"
   },
   {
    "duration": 5,
    "start_time": "2024-04-07T14:25:34.928Z"
   },
   {
    "duration": 10,
    "start_time": "2024-04-07T14:25:42.098Z"
   },
   {
    "duration": 6,
    "start_time": "2024-04-07T14:26:00.800Z"
   },
   {
    "duration": 106,
    "start_time": "2024-04-07T14:26:04.520Z"
   },
   {
    "duration": 190,
    "start_time": "2024-04-07T14:27:21.702Z"
   },
   {
    "duration": 41,
    "start_time": "2024-04-07T14:27:47.384Z"
   },
   {
    "duration": 166,
    "start_time": "2024-04-07T14:27:58.457Z"
   },
   {
    "duration": 142,
    "start_time": "2024-04-07T14:28:08.153Z"
   },
   {
    "duration": 246,
    "start_time": "2024-04-07T14:28:11.866Z"
   },
   {
    "duration": 159,
    "start_time": "2024-04-07T14:30:26.974Z"
   },
   {
    "duration": 15,
    "start_time": "2024-04-07T14:30:44.105Z"
   },
   {
    "duration": 865,
    "start_time": "2024-04-07T14:31:02.250Z"
   },
   {
    "duration": 842,
    "start_time": "2024-04-07T14:31:21.190Z"
   },
   {
    "duration": 838,
    "start_time": "2024-04-07T14:31:28.378Z"
   },
   {
    "duration": 14,
    "start_time": "2024-04-07T14:35:30.018Z"
   },
   {
    "duration": 27,
    "start_time": "2024-04-07T14:35:39.246Z"
   },
   {
    "duration": 9,
    "start_time": "2024-04-07T14:35:56.577Z"
   },
   {
    "duration": 4,
    "start_time": "2024-04-07T14:36:06.451Z"
   },
   {
    "duration": 16,
    "start_time": "2024-04-07T14:36:07.844Z"
   },
   {
    "duration": 5,
    "start_time": "2024-04-07T14:36:19.755Z"
   },
   {
    "duration": 19,
    "start_time": "2024-04-07T14:37:31.770Z"
   },
   {
    "duration": 8,
    "start_time": "2024-04-07T14:38:21.015Z"
   },
   {
    "duration": 4,
    "start_time": "2024-04-07T14:38:28.956Z"
   },
   {
    "duration": 16,
    "start_time": "2024-04-07T14:38:33.233Z"
   },
   {
    "duration": 90,
    "start_time": "2024-04-07T14:38:40.965Z"
   },
   {
    "duration": 13,
    "start_time": "2024-04-07T14:39:06.974Z"
   },
   {
    "duration": 7,
    "start_time": "2024-04-07T14:39:14.027Z"
   },
   {
    "duration": 7,
    "start_time": "2024-04-07T14:39:21.501Z"
   },
   {
    "duration": 6,
    "start_time": "2024-04-07T14:39:44.197Z"
   },
   {
    "duration": 6,
    "start_time": "2024-04-07T14:39:53.548Z"
   },
   {
    "duration": 10,
    "start_time": "2024-04-07T14:40:25.152Z"
   },
   {
    "duration": 50,
    "start_time": "2024-04-07T14:43:13.033Z"
   },
   {
    "duration": 44,
    "start_time": "2024-04-07T14:44:04.442Z"
   },
   {
    "duration": 7,
    "start_time": "2024-04-07T14:44:12.402Z"
   },
   {
    "duration": 40,
    "start_time": "2024-04-07T14:44:57.766Z"
   },
   {
    "duration": 49,
    "start_time": "2024-04-07T14:45:15.130Z"
   },
   {
    "duration": 6,
    "start_time": "2024-04-07T14:45:24.068Z"
   },
   {
    "duration": 46,
    "start_time": "2024-04-07T14:47:02.614Z"
   },
   {
    "duration": 15,
    "start_time": "2024-04-07T15:44:09.718Z"
   },
   {
    "duration": 15,
    "start_time": "2024-04-07T15:44:37.423Z"
   },
   {
    "duration": 12,
    "start_time": "2024-04-07T15:46:03.590Z"
   },
   {
    "duration": 12,
    "start_time": "2024-04-07T15:47:11.161Z"
   },
   {
    "duration": 21,
    "start_time": "2024-04-07T15:47:17.656Z"
   },
   {
    "duration": 22,
    "start_time": "2024-04-07T15:47:30.130Z"
   },
   {
    "duration": 21,
    "start_time": "2024-04-07T15:47:37.711Z"
   },
   {
    "duration": 23,
    "start_time": "2024-04-07T15:48:10.898Z"
   },
   {
    "duration": 22,
    "start_time": "2024-04-07T15:48:47.960Z"
   },
   {
    "duration": 6,
    "start_time": "2024-04-07T15:49:35.960Z"
   },
   {
    "duration": 10,
    "start_time": "2024-04-07T15:49:36.440Z"
   },
   {
    "duration": 15,
    "start_time": "2024-04-07T15:49:45.499Z"
   },
   {
    "duration": 8,
    "start_time": "2024-04-07T15:50:19.942Z"
   },
   {
    "duration": 21,
    "start_time": "2024-04-07T15:50:20.404Z"
   },
   {
    "duration": 12,
    "start_time": "2024-04-07T15:51:25.508Z"
   },
   {
    "duration": 2,
    "start_time": "2024-04-07T15:52:15.796Z"
   },
   {
    "duration": 11,
    "start_time": "2024-04-07T15:52:16.373Z"
   },
   {
    "duration": 15,
    "start_time": "2024-04-07T15:52:20.057Z"
   },
   {
    "duration": 4,
    "start_time": "2024-04-07T15:56:25.652Z"
   },
   {
    "duration": 11,
    "start_time": "2024-04-07T15:56:30.552Z"
   },
   {
    "duration": 867,
    "start_time": "2024-04-07T15:56:37.343Z"
   },
   {
    "duration": 30,
    "start_time": "2024-04-07T15:58:35.422Z"
   },
   {
    "duration": 27,
    "start_time": "2024-04-07T15:58:44.129Z"
   },
   {
    "duration": 11,
    "start_time": "2024-04-07T15:59:05.982Z"
   },
   {
    "duration": 10,
    "start_time": "2024-04-07T15:59:14.592Z"
   },
   {
    "duration": 24,
    "start_time": "2024-04-07T15:59:19.510Z"
   },
   {
    "duration": 7,
    "start_time": "2024-04-07T15:59:33.749Z"
   },
   {
    "duration": 900,
    "start_time": "2024-04-07T15:59:42.495Z"
   },
   {
    "duration": 4,
    "start_time": "2024-04-07T15:59:43.619Z"
   },
   {
    "duration": 875,
    "start_time": "2024-04-07T15:59:43.961Z"
   },
   {
    "duration": 1073,
    "start_time": "2024-04-07T16:00:28.528Z"
   },
   {
    "duration": 14,
    "start_time": "2024-04-07T16:00:34.621Z"
   },
   {
    "duration": 1584,
    "start_time": "2024-04-07T16:00:52.762Z"
   },
   {
    "duration": 15,
    "start_time": "2024-04-07T16:00:54.348Z"
   },
   {
    "duration": 1944,
    "start_time": "2024-04-07T16:01:37.333Z"
   },
   {
    "duration": 56,
    "start_time": "2024-04-07T16:01:48.547Z"
   },
   {
    "duration": 24,
    "start_time": "2024-04-07T16:01:50.151Z"
   },
   {
    "duration": 8,
    "start_time": "2024-04-07T16:02:49.658Z"
   },
   {
    "duration": 1616,
    "start_time": "2024-04-07T16:02:58.958Z"
   },
   {
    "duration": 1996,
    "start_time": "2024-04-07T16:03:00.575Z"
   },
   {
    "duration": 75,
    "start_time": "2024-04-07T16:03:02.573Z"
   },
   {
    "duration": 8,
    "start_time": "2024-04-07T16:03:32.543Z"
   },
   {
    "duration": 8,
    "start_time": "2024-04-07T16:03:42.265Z"
   },
   {
    "duration": 23,
    "start_time": "2024-04-07T16:03:48.340Z"
   },
   {
    "duration": 18,
    "start_time": "2024-04-07T16:04:07.929Z"
   },
   {
    "duration": 21,
    "start_time": "2024-04-07T16:04:39.839Z"
   },
   {
    "duration": 28,
    "start_time": "2024-04-07T16:05:27.242Z"
   },
   {
    "duration": 7,
    "start_time": "2024-04-07T16:05:42.017Z"
   },
   {
    "duration": 18,
    "start_time": "2024-04-07T16:05:50.314Z"
   },
   {
    "duration": 38,
    "start_time": "2024-04-07T16:05:57.013Z"
   },
   {
    "duration": 23,
    "start_time": "2024-04-07T16:06:09.688Z"
   },
   {
    "duration": 3,
    "start_time": "2024-04-07T16:09:01.531Z"
   },
   {
    "duration": 8,
    "start_time": "2024-04-07T16:09:17.473Z"
   },
   {
    "duration": 7,
    "start_time": "2024-04-07T16:09:21.421Z"
   },
   {
    "duration": 8,
    "start_time": "2024-04-07T16:09:29.935Z"
   },
   {
    "duration": 7,
    "start_time": "2024-04-07T16:10:09.443Z"
   },
   {
    "duration": 7,
    "start_time": "2024-04-07T16:12:35.728Z"
   },
   {
    "duration": 6,
    "start_time": "2024-04-07T16:12:53.992Z"
   },
   {
    "duration": 14,
    "start_time": "2024-04-07T16:12:54.412Z"
   },
   {
    "duration": 8,
    "start_time": "2024-04-07T16:13:11.246Z"
   },
   {
    "duration": 21,
    "start_time": "2024-04-07T16:13:20.766Z"
   },
   {
    "duration": 5,
    "start_time": "2024-04-07T16:13:44.548Z"
   },
   {
    "duration": 13,
    "start_time": "2024-04-07T16:13:44.978Z"
   },
   {
    "duration": 7,
    "start_time": "2024-04-07T16:14:12.711Z"
   },
   {
    "duration": 5,
    "start_time": "2024-04-07T16:14:21.281Z"
   },
   {
    "duration": 4,
    "start_time": "2024-04-07T16:14:28.510Z"
   },
   {
    "duration": 4,
    "start_time": "2024-04-07T16:14:31.081Z"
   },
   {
    "duration": 10,
    "start_time": "2024-04-07T16:14:34.597Z"
   },
   {
    "duration": 3,
    "start_time": "2024-04-07T16:14:37.815Z"
   },
   {
    "duration": 3,
    "start_time": "2024-04-07T16:14:42.529Z"
   },
   {
    "duration": 3,
    "start_time": "2024-04-07T16:14:53.899Z"
   },
   {
    "duration": 3,
    "start_time": "2024-04-07T16:14:57.699Z"
   },
   {
    "duration": 4,
    "start_time": "2024-04-07T16:15:02.150Z"
   },
   {
    "duration": 8,
    "start_time": "2024-04-07T16:15:56.142Z"
   },
   {
    "duration": 25,
    "start_time": "2024-04-07T16:16:02.931Z"
   },
   {
    "duration": 10,
    "start_time": "2024-04-07T16:16:10.425Z"
   },
   {
    "duration": 3,
    "start_time": "2024-04-07T16:16:29.410Z"
   },
   {
    "duration": 3,
    "start_time": "2024-04-07T16:16:36.013Z"
   },
   {
    "duration": 4,
    "start_time": "2024-04-07T16:16:38.935Z"
   },
   {
    "duration": 4,
    "start_time": "2024-04-07T16:16:46.088Z"
   },
   {
    "duration": 5,
    "start_time": "2024-04-07T16:17:59.521Z"
   },
   {
    "duration": 3,
    "start_time": "2024-04-07T16:17:59.910Z"
   },
   {
    "duration": 3,
    "start_time": "2024-04-07T16:18:04.155Z"
   },
   {
    "duration": 4,
    "start_time": "2024-04-07T16:18:06.760Z"
   },
   {
    "duration": 12,
    "start_time": "2024-04-07T16:18:40.752Z"
   },
   {
    "duration": 5,
    "start_time": "2024-04-07T16:18:44.846Z"
   },
   {
    "duration": 5,
    "start_time": "2024-04-07T16:18:51.350Z"
   },
   {
    "duration": 13,
    "start_time": "2024-04-07T16:18:54.436Z"
   },
   {
    "duration": 11460,
    "start_time": "2024-04-07T16:22:14.814Z"
   },
   {
    "duration": 11,
    "start_time": "2024-04-07T16:23:46.253Z"
   },
   {
    "duration": 102541,
    "start_time": "2024-04-07T16:24:15.139Z"
   },
   {
    "duration": 0,
    "start_time": "2024-04-07T16:27:27.010Z"
   },
   {
    "duration": 3120,
    "start_time": "2024-04-07T16:27:30.026Z"
   },
   {
    "duration": 29,
    "start_time": "2024-04-07T16:27:54.838Z"
   },
   {
    "duration": 29,
    "start_time": "2024-04-07T16:28:25.361Z"
   },
   {
    "duration": 3095,
    "start_time": "2024-04-07T16:28:54.065Z"
   },
   {
    "duration": 29,
    "start_time": "2024-04-07T16:28:57.875Z"
   },
   {
    "duration": 16,
    "start_time": "2024-04-07T16:29:31.714Z"
   },
   {
    "duration": 21,
    "start_time": "2024-04-07T16:30:35.755Z"
   },
   {
    "duration": 8,
    "start_time": "2024-04-07T16:30:53.074Z"
   },
   {
    "duration": 4,
    "start_time": "2024-04-07T16:31:39.321Z"
   },
   {
    "duration": 3,
    "start_time": "2024-04-07T16:32:17.275Z"
   },
   {
    "duration": 2912,
    "start_time": "2024-04-07T16:32:19.244Z"
   },
   {
    "duration": 30,
    "start_time": "2024-04-07T16:32:24.092Z"
   },
   {
    "duration": 16,
    "start_time": "2024-04-07T16:32:26.673Z"
   },
   {
    "duration": 14,
    "start_time": "2024-04-07T16:32:27.320Z"
   },
   {
    "duration": 22,
    "start_time": "2024-04-07T16:33:01.919Z"
   },
   {
    "duration": 13,
    "start_time": "2024-04-07T16:33:36.190Z"
   },
   {
    "duration": 2800,
    "start_time": "2024-04-07T16:33:49.273Z"
   },
   {
    "duration": 28,
    "start_time": "2024-04-07T16:33:54.044Z"
   },
   {
    "duration": 18,
    "start_time": "2024-04-07T16:33:59.049Z"
   },
   {
    "duration": 14,
    "start_time": "2024-04-07T16:34:03.909Z"
   },
   {
    "duration": 2517,
    "start_time": "2024-04-07T17:18:11.091Z"
   },
   {
    "duration": 3786,
    "start_time": "2024-04-07T17:18:13.609Z"
   },
   {
    "duration": 1152,
    "start_time": "2024-04-07T17:18:17.397Z"
   },
   {
    "duration": 71,
    "start_time": "2024-04-07T17:18:18.551Z"
   },
   {
    "duration": 20,
    "start_time": "2024-04-07T17:18:18.623Z"
   },
   {
    "duration": 37,
    "start_time": "2024-04-07T17:18:18.644Z"
   },
   {
    "duration": 24,
    "start_time": "2024-04-07T17:18:18.682Z"
   },
   {
    "duration": 5,
    "start_time": "2024-04-07T17:18:18.707Z"
   },
   {
    "duration": 12,
    "start_time": "2024-04-07T17:18:18.714Z"
   },
   {
    "duration": 8,
    "start_time": "2024-04-07T17:18:18.728Z"
   },
   {
    "duration": 8,
    "start_time": "2024-04-07T17:18:18.737Z"
   },
   {
    "duration": 4,
    "start_time": "2024-04-07T17:18:18.747Z"
   },
   {
    "duration": 5,
    "start_time": "2024-04-07T17:18:18.751Z"
   },
   {
    "duration": 6,
    "start_time": "2024-04-07T17:18:18.757Z"
   },
   {
    "duration": 5,
    "start_time": "2024-04-07T17:18:18.764Z"
   },
   {
    "duration": 3,
    "start_time": "2024-04-07T17:18:18.770Z"
   },
   {
    "duration": 4,
    "start_time": "2024-04-07T17:18:18.802Z"
   },
   {
    "duration": 922,
    "start_time": "2024-04-07T17:18:18.807Z"
   },
   {
    "duration": 10,
    "start_time": "2024-04-07T17:18:19.730Z"
   },
   {
    "duration": 504,
    "start_time": "2024-04-07T17:18:19.742Z"
   },
   {
    "duration": 697,
    "start_time": "2024-04-07T17:18:20.247Z"
   },
   {
    "duration": 471,
    "start_time": "2024-04-07T17:18:20.946Z"
   },
   {
    "duration": 409,
    "start_time": "2024-04-07T17:18:21.419Z"
   },
   {
    "duration": 6,
    "start_time": "2024-04-07T17:18:21.829Z"
   },
   {
    "duration": 7,
    "start_time": "2024-04-07T17:18:21.836Z"
   },
   {
    "duration": 59,
    "start_time": "2024-04-07T17:18:21.844Z"
   },
   {
    "duration": 3412,
    "start_time": "2024-04-07T17:18:21.904Z"
   },
   {
    "duration": 29,
    "start_time": "2024-04-07T17:18:25.320Z"
   },
   {
    "duration": 21,
    "start_time": "2024-04-07T17:18:25.350Z"
   },
   {
    "duration": 13,
    "start_time": "2024-04-07T17:18:25.372Z"
   },
   {
    "duration": 56,
    "start_time": "2024-04-07T17:18:25.386Z"
   },
   {
    "duration": 10,
    "start_time": "2024-04-07T17:18:25.443Z"
   },
   {
    "duration": 16,
    "start_time": "2024-04-07T17:18:25.454Z"
   },
   {
    "duration": 15,
    "start_time": "2024-04-07T17:18:25.472Z"
   },
   {
    "duration": 6,
    "start_time": "2024-04-07T17:18:25.488Z"
   },
   {
    "duration": 9,
    "start_time": "2024-04-07T17:18:25.496Z"
   },
   {
    "duration": 7,
    "start_time": "2024-04-07T17:18:25.506Z"
   },
   {
    "duration": 628,
    "start_time": "2024-04-07T17:18:25.514Z"
   },
   {
    "duration": 675,
    "start_time": "2024-04-07T17:18:26.144Z"
   },
   {
    "duration": 108,
    "start_time": "2024-04-07T17:18:26.820Z"
   },
   {
    "duration": 154,
    "start_time": "2024-04-07T17:18:26.929Z"
   },
   {
    "duration": 160,
    "start_time": "2024-04-07T17:18:27.085Z"
   },
   {
    "duration": 1632,
    "start_time": "2024-04-07T17:18:27.247Z"
   },
   {
    "duration": 1925,
    "start_time": "2024-04-07T17:18:28.880Z"
   },
   {
    "duration": 69,
    "start_time": "2024-04-07T17:18:30.807Z"
   },
   {
    "duration": 36,
    "start_time": "2024-04-07T17:18:30.877Z"
   },
   {
    "duration": 101,
    "start_time": "2024-04-07T17:18:30.914Z"
   },
   {
    "duration": 42,
    "start_time": "2024-04-07T17:18:31.017Z"
   },
   {
    "duration": 50,
    "start_time": "2024-04-07T17:18:31.060Z"
   },
   {
    "duration": 100,
    "start_time": "2024-04-07T17:18:31.112Z"
   },
   {
    "duration": 97,
    "start_time": "2024-04-07T17:18:31.213Z"
   },
   {
    "duration": 3438,
    "start_time": "2024-04-07T17:18:31.311Z"
   },
   {
    "duration": 29,
    "start_time": "2024-04-07T17:18:34.750Z"
   },
   {
    "duration": 32,
    "start_time": "2024-04-07T17:18:34.780Z"
   },
   {
    "duration": 22,
    "start_time": "2024-04-07T17:18:34.813Z"
   },
   {
    "duration": 143,
    "start_time": "2024-04-07T17:33:37.725Z"
   },
   {
    "duration": 88,
    "start_time": "2024-04-07T17:36:37.214Z"
   },
   {
    "duration": 12,
    "start_time": "2024-04-07T17:36:56.910Z"
   },
   {
    "duration": 2413,
    "start_time": "2024-04-07T18:02:39.806Z"
   },
   {
    "duration": 2842,
    "start_time": "2024-04-07T18:02:42.221Z"
   },
   {
    "duration": 1331,
    "start_time": "2024-04-07T18:02:45.065Z"
   },
   {
    "duration": 70,
    "start_time": "2024-04-07T18:02:46.398Z"
   },
   {
    "duration": 34,
    "start_time": "2024-04-07T18:02:46.470Z"
   },
   {
    "duration": 52,
    "start_time": "2024-04-07T18:02:46.505Z"
   },
   {
    "duration": 28,
    "start_time": "2024-04-07T18:02:46.558Z"
   },
   {
    "duration": 35,
    "start_time": "2024-04-07T18:02:46.588Z"
   },
   {
    "duration": 7,
    "start_time": "2024-04-07T18:02:46.624Z"
   },
   {
    "duration": 10,
    "start_time": "2024-04-07T18:02:46.633Z"
   },
   {
    "duration": 12,
    "start_time": "2024-04-07T18:02:46.645Z"
   },
   {
    "duration": 22,
    "start_time": "2024-04-07T18:02:46.659Z"
   },
   {
    "duration": 11,
    "start_time": "2024-04-07T18:02:46.683Z"
   },
   {
    "duration": 24,
    "start_time": "2024-04-07T18:02:46.696Z"
   },
   {
    "duration": 7,
    "start_time": "2024-04-07T18:02:46.722Z"
   },
   {
    "duration": 4,
    "start_time": "2024-04-07T18:02:46.731Z"
   },
   {
    "duration": 15,
    "start_time": "2024-04-07T18:02:46.736Z"
   },
   {
    "duration": 1144,
    "start_time": "2024-04-07T18:02:46.752Z"
   },
   {
    "duration": 25,
    "start_time": "2024-04-07T18:02:47.897Z"
   },
   {
    "duration": 588,
    "start_time": "2024-04-07T18:02:47.924Z"
   },
   {
    "duration": 888,
    "start_time": "2024-04-07T18:02:48.518Z"
   },
   {
    "duration": 588,
    "start_time": "2024-04-07T18:02:49.408Z"
   },
   {
    "duration": 297,
    "start_time": "2024-04-07T18:02:49.998Z"
   },
   {
    "duration": 6,
    "start_time": "2024-04-07T18:02:50.297Z"
   },
   {
    "duration": 17,
    "start_time": "2024-04-07T18:02:50.304Z"
   },
   {
    "duration": 22,
    "start_time": "2024-04-07T18:02:50.322Z"
   },
   {
    "duration": 3731,
    "start_time": "2024-04-07T18:02:50.346Z"
   },
   {
    "duration": 42,
    "start_time": "2024-04-07T18:02:54.080Z"
   },
   {
    "duration": 34,
    "start_time": "2024-04-07T18:02:54.124Z"
   },
   {
    "duration": 21,
    "start_time": "2024-04-07T18:02:54.159Z"
   },
   {
    "duration": 54,
    "start_time": "2024-04-07T18:02:54.183Z"
   },
   {
    "duration": 21,
    "start_time": "2024-04-07T18:02:54.239Z"
   },
   {
    "duration": 28,
    "start_time": "2024-04-07T18:02:54.262Z"
   },
   {
    "duration": 28,
    "start_time": "2024-04-07T18:02:54.292Z"
   },
   {
    "duration": 9,
    "start_time": "2024-04-07T18:02:54.321Z"
   },
   {
    "duration": 7,
    "start_time": "2024-04-07T18:02:54.331Z"
   },
   {
    "duration": 8,
    "start_time": "2024-04-07T18:02:54.340Z"
   },
   {
    "duration": 823,
    "start_time": "2024-04-07T18:02:54.349Z"
   },
   {
    "duration": 837,
    "start_time": "2024-04-07T18:02:55.174Z"
   },
   {
    "duration": 161,
    "start_time": "2024-04-07T18:02:56.013Z"
   },
   {
    "duration": 227,
    "start_time": "2024-04-07T18:02:56.176Z"
   },
   {
    "duration": 210,
    "start_time": "2024-04-07T18:02:56.405Z"
   },
   {
    "duration": 1572,
    "start_time": "2024-04-07T18:02:56.618Z"
   },
   {
    "duration": 2345,
    "start_time": "2024-04-07T18:02:58.192Z"
   },
   {
    "duration": 113,
    "start_time": "2024-04-07T18:03:00.539Z"
   },
   {
    "duration": 28,
    "start_time": "2024-04-07T18:03:00.654Z"
   },
   {
    "duration": 67,
    "start_time": "2024-04-07T18:03:00.684Z"
   },
   {
    "duration": 9,
    "start_time": "2024-04-07T18:03:00.752Z"
   },
   {
    "duration": 55,
    "start_time": "2024-04-07T18:03:00.763Z"
   },
   {
    "duration": 34,
    "start_time": "2024-04-07T18:03:00.820Z"
   },
   {
    "duration": 44,
    "start_time": "2024-04-07T18:03:00.856Z"
   },
   {
    "duration": 3555,
    "start_time": "2024-04-07T18:03:00.901Z"
   },
   {
    "duration": 34,
    "start_time": "2024-04-07T18:03:04.457Z"
   },
   {
    "duration": 34,
    "start_time": "2024-04-07T18:03:04.493Z"
   },
   {
    "duration": 19,
    "start_time": "2024-04-07T18:03:04.528Z"
   },
   {
    "duration": 3400,
    "start_time": "2024-04-08T09:03:39.296Z"
   },
   {
    "duration": 6232,
    "start_time": "2024-04-08T09:03:42.699Z"
   },
   {
    "duration": 1518,
    "start_time": "2024-04-08T09:03:48.933Z"
   },
   {
    "duration": 245,
    "start_time": "2024-04-08T09:03:50.453Z"
   },
   {
    "duration": 26,
    "start_time": "2024-04-08T09:03:50.699Z"
   },
   {
    "duration": 46,
    "start_time": "2024-04-08T09:03:50.727Z"
   },
   {
    "duration": 26,
    "start_time": "2024-04-08T09:03:50.774Z"
   },
   {
    "duration": 8,
    "start_time": "2024-04-08T09:04:36.030Z"
   },
   {
    "duration": 6,
    "start_time": "2024-04-08T09:04:36.366Z"
   },
   {
    "duration": 9,
    "start_time": "2024-04-08T09:04:38.737Z"
   },
   {
    "duration": 11,
    "start_time": "2024-04-08T09:04:43.458Z"
   },
   {
    "duration": 3,
    "start_time": "2024-04-08T09:06:04.925Z"
   },
   {
    "duration": 5,
    "start_time": "2024-04-08T09:06:05.587Z"
   },
   {
    "duration": 1129,
    "start_time": "2024-04-08T09:06:06.631Z"
   },
   {
    "duration": 13,
    "start_time": "2024-04-08T09:06:11.839Z"
   },
   {
    "duration": 560,
    "start_time": "2024-04-08T09:06:12.248Z"
   },
   {
    "duration": 839,
    "start_time": "2024-04-08T09:06:13.097Z"
   },
   {
    "duration": 584,
    "start_time": "2024-04-08T09:06:14.621Z"
   },
   {
    "duration": 242,
    "start_time": "2024-04-08T09:06:15.275Z"
   },
   {
    "duration": 2023,
    "start_time": "2024-04-08T09:07:32.464Z"
   },
   {
    "duration": 1395,
    "start_time": "2024-04-08T09:08:45.916Z"
   },
   {
    "duration": 121,
    "start_time": "2024-04-08T09:10:52.009Z"
   },
   {
    "duration": 7,
    "start_time": "2024-04-08T09:10:55.694Z"
   },
   {
    "duration": 1147,
    "start_time": "2024-04-08T09:10:58.022Z"
   },
   {
    "duration": 1050,
    "start_time": "2024-04-08T09:11:40.881Z"
   },
   {
    "duration": 1251,
    "start_time": "2024-04-08T09:12:20.595Z"
   },
   {
    "duration": 189,
    "start_time": "2024-04-08T09:13:29.711Z"
   },
   {
    "duration": 68,
    "start_time": "2024-04-08T09:13:37.248Z"
   },
   {
    "duration": 3,
    "start_time": "2024-04-08T09:13:43.956Z"
   },
   {
    "duration": 256,
    "start_time": "2024-04-08T09:13:46.606Z"
   },
   {
    "duration": 1371,
    "start_time": "2024-04-08T09:14:16.212Z"
   },
   {
    "duration": 1190,
    "start_time": "2024-04-08T09:14:52.995Z"
   },
   {
    "duration": 13,
    "start_time": "2024-04-08T09:16:13.130Z"
   },
   {
    "duration": 14,
    "start_time": "2024-04-08T09:16:21.892Z"
   },
   {
    "duration": 10,
    "start_time": "2024-04-08T09:16:30.459Z"
   },
   {
    "duration": 6,
    "start_time": "2024-04-08T09:16:47.835Z"
   },
   {
    "duration": 3440,
    "start_time": "2024-04-08T09:16:49.165Z"
   },
   {
    "duration": 37,
    "start_time": "2024-04-08T09:17:16.557Z"
   },
   {
    "duration": 19,
    "start_time": "2024-04-08T09:17:24.980Z"
   },
   {
    "duration": 17,
    "start_time": "2024-04-08T09:17:25.941Z"
   },
   {
    "duration": 184,
    "start_time": "2024-04-08T09:18:06.171Z"
   },
   {
    "duration": 13,
    "start_time": "2024-04-08T09:18:06.529Z"
   },
   {
    "duration": 18,
    "start_time": "2024-04-08T09:18:10.466Z"
   },
   {
    "duration": 18,
    "start_time": "2024-04-08T09:18:10.644Z"
   },
   {
    "duration": 8,
    "start_time": "2024-04-08T09:18:11.714Z"
   },
   {
    "duration": 6,
    "start_time": "2024-04-08T09:18:12.311Z"
   },
   {
    "duration": 8,
    "start_time": "2024-04-08T09:18:17.932Z"
   },
   {
    "duration": 949,
    "start_time": "2024-04-08T09:18:19.127Z"
   },
   {
    "duration": 681,
    "start_time": "2024-04-08T09:18:20.078Z"
   },
   {
    "duration": 202,
    "start_time": "2024-04-08T09:18:20.760Z"
   },
   {
    "duration": 189,
    "start_time": "2024-04-08T09:18:20.964Z"
   },
   {
    "duration": 175,
    "start_time": "2024-04-08T09:18:46.470Z"
   },
   {
    "duration": 177,
    "start_time": "2024-04-08T09:19:09.121Z"
   },
   {
    "duration": 9,
    "start_time": "2024-04-08T09:20:46.465Z"
   },
   {
    "duration": 1477,
    "start_time": "2024-04-08T09:20:56.967Z"
   },
   {
    "duration": 4,
    "start_time": "2024-04-08T09:21:00.049Z"
   },
   {
    "duration": 18,
    "start_time": "2024-04-08T09:21:11.642Z"
   },
   {
    "duration": 18,
    "start_time": "2024-04-08T09:21:50.453Z"
   },
   {
    "duration": 12,
    "start_time": "2024-04-08T09:22:09.455Z"
   },
   {
    "duration": 11,
    "start_time": "2024-04-08T09:22:33.100Z"
   },
   {
    "duration": 17,
    "start_time": "2024-04-08T09:22:40.137Z"
   },
   {
    "duration": 12,
    "start_time": "2024-04-08T09:22:51.155Z"
   },
   {
    "duration": 18,
    "start_time": "2024-04-08T09:23:01.319Z"
   },
   {
    "duration": 15,
    "start_time": "2024-04-08T09:23:14.075Z"
   },
   {
    "duration": 10,
    "start_time": "2024-04-08T09:24:13.386Z"
   },
   {
    "duration": 16,
    "start_time": "2024-04-08T09:24:50.146Z"
   },
   {
    "duration": 10,
    "start_time": "2024-04-08T09:25:09.300Z"
   },
   {
    "duration": 11,
    "start_time": "2024-04-08T09:25:23.457Z"
   },
   {
    "duration": 15,
    "start_time": "2024-04-08T09:25:38.995Z"
   },
   {
    "duration": 16,
    "start_time": "2024-04-08T09:26:53.872Z"
   },
   {
    "duration": 9,
    "start_time": "2024-04-08T09:27:01.982Z"
   },
   {
    "duration": 18,
    "start_time": "2024-04-08T09:27:16.362Z"
   },
   {
    "duration": 1107,
    "start_time": "2024-04-08T09:27:58.152Z"
   },
   {
    "duration": 6,
    "start_time": "2024-04-08T09:28:20.914Z"
   },
   {
    "duration": 1031,
    "start_time": "2024-04-08T09:28:27.953Z"
   },
   {
    "duration": 1478,
    "start_time": "2024-04-08T09:30:00.658Z"
   },
   {
    "duration": 17,
    "start_time": "2024-04-08T09:30:14.247Z"
   },
   {
    "duration": 6,
    "start_time": "2024-04-08T09:30:47.233Z"
   },
   {
    "duration": 71,
    "start_time": "2024-04-08T09:31:04.145Z"
   },
   {
    "duration": 10,
    "start_time": "2024-04-08T09:31:11.379Z"
   },
   {
    "duration": 6,
    "start_time": "2024-04-08T09:31:48.222Z"
   },
   {
    "duration": 11,
    "start_time": "2024-04-08T09:32:05.302Z"
   },
   {
    "duration": 1514,
    "start_time": "2024-04-08T09:32:35.899Z"
   },
   {
    "duration": 9,
    "start_time": "2024-04-08T09:32:52.333Z"
   },
   {
    "duration": 30,
    "start_time": "2024-04-08T09:35:02.022Z"
   },
   {
    "duration": 31,
    "start_time": "2024-04-08T09:35:04.705Z"
   },
   {
    "duration": 6,
    "start_time": "2024-04-08T09:35:06.962Z"
   },
   {
    "duration": 1456,
    "start_time": "2024-04-08T09:35:17.307Z"
   },
   {
    "duration": 8,
    "start_time": "2024-04-08T09:35:25.743Z"
   },
   {
    "duration": 11,
    "start_time": "2024-04-08T09:36:08.345Z"
   },
   {
    "duration": 11,
    "start_time": "2024-04-08T09:36:15.739Z"
   },
   {
    "duration": 5,
    "start_time": "2024-04-08T09:36:21.915Z"
   },
   {
    "duration": 5,
    "start_time": "2024-04-08T09:36:22.229Z"
   },
   {
    "duration": 3342,
    "start_time": "2024-04-08T09:36:28.354Z"
   },
   {
    "duration": 31,
    "start_time": "2024-04-08T09:36:31.698Z"
   },
   {
    "duration": 33,
    "start_time": "2024-04-08T09:36:42.685Z"
   },
   {
    "duration": 20,
    "start_time": "2024-04-08T09:36:46.900Z"
   },
   {
    "duration": 18,
    "start_time": "2024-04-08T09:36:47.337Z"
   },
   {
    "duration": 32,
    "start_time": "2024-04-08T09:41:23.582Z"
   },
   {
    "duration": 21,
    "start_time": "2024-04-08T09:41:28.651Z"
   },
   {
    "duration": 13,
    "start_time": "2024-04-08T09:41:28.938Z"
   },
   {
    "duration": 2301,
    "start_time": "2024-04-08T09:41:41.332Z"
   },
   {
    "duration": 2899,
    "start_time": "2024-04-08T09:41:43.636Z"
   },
   {
    "duration": 1276,
    "start_time": "2024-04-08T09:41:46.537Z"
   },
   {
    "duration": 67,
    "start_time": "2024-04-08T09:41:47.815Z"
   },
   {
    "duration": 24,
    "start_time": "2024-04-08T09:41:47.884Z"
   },
   {
    "duration": 45,
    "start_time": "2024-04-08T09:41:47.909Z"
   },
   {
    "duration": 24,
    "start_time": "2024-04-08T09:41:47.956Z"
   },
   {
    "duration": 6,
    "start_time": "2024-04-08T09:41:47.981Z"
   },
   {
    "duration": 11,
    "start_time": "2024-04-08T09:41:47.988Z"
   },
   {
    "duration": 15,
    "start_time": "2024-04-08T09:41:48.001Z"
   },
   {
    "duration": 8,
    "start_time": "2024-04-08T09:41:48.018Z"
   },
   {
    "duration": 2,
    "start_time": "2024-04-08T09:41:48.027Z"
   },
   {
    "duration": 5,
    "start_time": "2024-04-08T09:41:48.030Z"
   },
   {
    "duration": 3,
    "start_time": "2024-04-08T09:42:14.833Z"
   },
   {
    "duration": 5,
    "start_time": "2024-04-08T09:42:15.265Z"
   },
   {
    "duration": 1073,
    "start_time": "2024-04-08T09:42:16.110Z"
   },
   {
    "duration": 16,
    "start_time": "2024-04-08T09:42:17.476Z"
   },
   {
    "duration": 585,
    "start_time": "2024-04-08T09:42:17.980Z"
   },
   {
    "duration": 861,
    "start_time": "2024-04-08T09:42:18.567Z"
   },
   {
    "duration": 540,
    "start_time": "2024-04-08T09:42:20.453Z"
   },
   {
    "duration": 246,
    "start_time": "2024-04-08T09:42:21.267Z"
   },
   {
    "duration": 7,
    "start_time": "2024-04-08T09:42:26.711Z"
   },
   {
    "duration": 1344,
    "start_time": "2024-04-08T09:42:27.271Z"
   },
   {
    "duration": 11,
    "start_time": "2024-04-08T09:42:30.448Z"
   },
   {
    "duration": 7,
    "start_time": "2024-04-08T09:42:31.598Z"
   },
   {
    "duration": 3472,
    "start_time": "2024-04-08T09:42:32.375Z"
   },
   {
    "duration": 32,
    "start_time": "2024-04-08T09:42:36.091Z"
   },
   {
    "duration": 20,
    "start_time": "2024-04-08T09:42:38.448Z"
   },
   {
    "duration": 16,
    "start_time": "2024-04-08T09:42:39.223Z"
   },
   {
    "duration": 50,
    "start_time": "2024-04-08T09:42:44.060Z"
   },
   {
    "duration": 13,
    "start_time": "2024-04-08T09:42:44.305Z"
   },
   {
    "duration": 18,
    "start_time": "2024-04-08T09:42:44.511Z"
   },
   {
    "duration": 17,
    "start_time": "2024-04-08T09:42:44.716Z"
   },
   {
    "duration": 7,
    "start_time": "2024-04-08T09:42:45.472Z"
   },
   {
    "duration": 6,
    "start_time": "2024-04-08T09:42:45.671Z"
   },
   {
    "duration": 9,
    "start_time": "2024-04-08T09:42:45.895Z"
   },
   {
    "duration": 745,
    "start_time": "2024-04-08T09:42:46.514Z"
   },
   {
    "duration": 739,
    "start_time": "2024-04-08T09:42:47.260Z"
   },
   {
    "duration": 114,
    "start_time": "2024-04-08T09:42:48.001Z"
   },
   {
    "duration": 171,
    "start_time": "2024-04-08T09:42:48.116Z"
   },
   {
    "duration": 78,
    "start_time": "2024-04-08T09:42:55.703Z"
   },
   {
    "duration": 169,
    "start_time": "2024-04-08T09:43:00.087Z"
   },
   {
    "duration": 6,
    "start_time": "2024-04-08T09:43:03.236Z"
   },
   {
    "duration": 1121,
    "start_time": "2024-04-08T09:43:03.586Z"
   },
   {
    "duration": 7,
    "start_time": "2024-04-08T09:43:49.659Z"
   },
   {
    "duration": 27,
    "start_time": "2024-04-08T09:44:13.196Z"
   },
   {
    "duration": 31,
    "start_time": "2024-04-08T09:44:13.715Z"
   },
   {
    "duration": 8,
    "start_time": "2024-04-08T09:44:23.676Z"
   },
   {
    "duration": 1349,
    "start_time": "2024-04-08T09:44:32.514Z"
   },
   {
    "duration": 12,
    "start_time": "2024-04-08T09:44:33.864Z"
   },
   {
    "duration": 76,
    "start_time": "2024-04-08T09:44:41.255Z"
   },
   {
    "duration": 5,
    "start_time": "2024-04-08T09:44:46.531Z"
   },
   {
    "duration": 3,
    "start_time": "2024-04-08T09:44:46.869Z"
   },
   {
    "duration": 3283,
    "start_time": "2024-04-08T09:44:48.203Z"
   },
   {
    "duration": 33,
    "start_time": "2024-04-08T09:44:51.488Z"
   },
   {
    "duration": 23,
    "start_time": "2024-04-08T09:44:56.689Z"
   },
   {
    "duration": 19,
    "start_time": "2024-04-08T09:44:57.146Z"
   },
   {
    "duration": 2379,
    "start_time": "2024-05-27T20:24:33.277Z"
   },
   {
    "duration": 2867,
    "start_time": "2024-05-27T20:24:35.658Z"
   },
   {
    "duration": 1332,
    "start_time": "2024-05-27T20:24:38.527Z"
   },
   {
    "duration": 231,
    "start_time": "2024-05-27T20:24:39.861Z"
   },
   {
    "duration": 24,
    "start_time": "2024-05-27T20:24:40.094Z"
   },
   {
    "duration": 43,
    "start_time": "2024-05-27T20:24:40.120Z"
   },
   {
    "duration": 34,
    "start_time": "2024-05-27T20:24:40.166Z"
   },
   {
    "duration": 6,
    "start_time": "2024-05-27T20:24:40.201Z"
   },
   {
    "duration": 6,
    "start_time": "2024-05-27T20:24:40.208Z"
   },
   {
    "duration": 10,
    "start_time": "2024-05-27T20:24:40.215Z"
   },
   {
    "duration": 9,
    "start_time": "2024-05-27T20:24:40.226Z"
   },
   {
    "duration": 36,
    "start_time": "2024-05-27T20:24:40.237Z"
   },
   {
    "duration": 5,
    "start_time": "2024-05-27T20:24:40.275Z"
   },
   {
    "duration": 1222,
    "start_time": "2024-05-27T20:24:40.283Z"
   },
   {
    "duration": 14,
    "start_time": "2024-05-27T20:24:41.506Z"
   },
   {
    "duration": 627,
    "start_time": "2024-05-27T20:24:41.522Z"
   },
   {
    "duration": 883,
    "start_time": "2024-05-27T20:24:42.151Z"
   },
   {
    "duration": 574,
    "start_time": "2024-05-27T20:24:43.036Z"
   },
   {
    "duration": 317,
    "start_time": "2024-05-27T20:24:43.611Z"
   },
   {
    "duration": 8,
    "start_time": "2024-05-27T20:24:43.929Z"
   },
   {
    "duration": 1446,
    "start_time": "2024-05-27T20:24:43.938Z"
   },
   {
    "duration": 12,
    "start_time": "2024-05-27T20:24:45.386Z"
   },
   {
    "duration": 6,
    "start_time": "2024-05-27T20:24:45.399Z"
   },
   {
    "duration": 3892,
    "start_time": "2024-05-27T20:24:45.406Z"
   },
   {
    "duration": 30,
    "start_time": "2024-05-27T20:24:49.299Z"
   },
   {
    "duration": 25,
    "start_time": "2024-05-27T20:24:49.330Z"
   },
   {
    "duration": 24,
    "start_time": "2024-05-27T20:24:49.365Z"
   },
   {
    "duration": 154,
    "start_time": "2024-05-27T20:24:49.391Z"
   },
   {
    "duration": 14,
    "start_time": "2024-05-27T20:24:49.546Z"
   },
   {
    "duration": 27,
    "start_time": "2024-05-27T20:24:49.561Z"
   },
   {
    "duration": 24,
    "start_time": "2024-05-27T20:24:49.589Z"
   },
   {
    "duration": 7,
    "start_time": "2024-05-27T20:24:49.614Z"
   },
   {
    "duration": 6,
    "start_time": "2024-05-27T20:24:49.622Z"
   },
   {
    "duration": 7,
    "start_time": "2024-05-27T20:24:49.630Z"
   },
   {
    "duration": 773,
    "start_time": "2024-05-27T20:24:49.638Z"
   },
   {
    "duration": 808,
    "start_time": "2024-05-27T20:24:50.413Z"
   },
   {
    "duration": 123,
    "start_time": "2024-05-27T20:24:51.222Z"
   },
   {
    "duration": 189,
    "start_time": "2024-05-27T20:24:51.346Z"
   },
   {
    "duration": 188,
    "start_time": "2024-05-27T20:24:51.536Z"
   },
   {
    "duration": 6,
    "start_time": "2024-05-27T20:24:51.725Z"
   },
   {
    "duration": 1232,
    "start_time": "2024-05-27T20:24:51.734Z"
   },
   {
    "duration": 15,
    "start_time": "2024-05-27T20:24:52.968Z"
   },
   {
    "duration": 48,
    "start_time": "2024-05-27T20:24:52.984Z"
   },
   {
    "duration": 27,
    "start_time": "2024-05-27T20:24:53.034Z"
   },
   {
    "duration": 10,
    "start_time": "2024-05-27T20:24:53.063Z"
   },
   {
    "duration": 1437,
    "start_time": "2024-05-27T20:24:53.075Z"
   },
   {
    "duration": 11,
    "start_time": "2024-05-27T20:24:54.514Z"
   },
   {
    "duration": 19,
    "start_time": "2024-05-27T20:24:54.527Z"
   },
   {
    "duration": 14,
    "start_time": "2024-05-27T20:24:54.548Z"
   },
   {
    "duration": 3476,
    "start_time": "2024-05-27T20:24:54.563Z"
   },
   {
    "duration": 48,
    "start_time": "2024-05-27T20:24:58.040Z"
   },
   {
    "duration": 32,
    "start_time": "2024-05-27T20:24:58.090Z"
   },
   {
    "duration": 17,
    "start_time": "2024-05-27T20:24:58.124Z"
   }
  ],
  "kernelspec": {
   "display_name": "Python 3 (ipykernel)",
   "language": "python",
   "name": "python3"
  },
  "language_info": {
   "codemirror_mode": {
    "name": "ipython",
    "version": 3
   },
   "file_extension": ".py",
   "mimetype": "text/x-python",
   "name": "python",
   "nbconvert_exporter": "python",
   "pygments_lexer": "ipython3",
   "version": "3.9.5"
  },
  "toc": {
   "base_numbering": 1,
   "nav_menu": {},
   "number_sections": true,
   "sideBar": true,
   "skip_h1_title": true,
   "title_cell": "Table of Contents",
   "title_sidebar": "Contents",
   "toc_cell": false,
   "toc_position": {
    "height": "calc(100% - 180px)",
    "left": "10px",
    "top": "150px",
    "width": "384px"
   },
   "toc_section_display": true,
   "toc_window_display": true
  }
 },
 "nbformat": 4,
 "nbformat_minor": 5
}
