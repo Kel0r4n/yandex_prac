{
 "cells": [
  {
   "cell_type": "markdown",
   "metadata": {},
   "source": [
    "# Выбор локации для скважины"
   ]
  },
  {
   "cell_type": "markdown",
   "metadata": {},
   "source": [
    "Допустим, вы работаете в добывающей компании «ГлавРосГосНефть». Нужно решить, где бурить новую скважину.\n",
    "\n",
    "Вам предоставлены пробы нефти в трёх регионах: в каждом 10 000 месторождений, где измерили качество нефти и объём её запасов. Постройте модель машинного обучения, которая поможет определить регион, где добыча принесёт наибольшую прибыль. Проанализируйте возможную прибыль и риски техникой *Bootstrap.*\n",
    "\n",
    "Шаги для выбора локации:\n",
    "\n",
    "- В избранном регионе ищут месторождения, для каждого определяют значения признаков;\n",
    "- Строят модель и оценивают объём запасов;\n",
    "- Выбирают месторождения с самым высокими оценками значений. Количество месторождений зависит от бюджета компании и стоимости разработки одной скважины;\n",
    "- Прибыль равна суммарной прибыли отобранных месторождений."
   ]
  },
  {
   "cell_type": "markdown",
   "metadata": {},
   "source": [
    "# Задачи проекта\n",
    "\n",
    "1. Загрузить и подготовить данные.\n",
    "2. Обучить и проверить модель для каждого региона:\n",
    "- Разбить данные на обучающую и валидационную выборки в соотношении 75:25.\n",
    "- Обучить модель и сделать предсказания на валидационной выборке.\n",
    "- Сохранить предсказания и правильные ответы на валидационной выборке.\n",
    "- Напечатать на экране средний запас предсказанного сырья и RMSE модели.\n",
    "- Проанализировать результаты.\n",
    "3. Расчет прибылт:\n",
    "- Все ключевые значения для расчётов сохранить в отдельных переменных.\n",
    "- Рассчитайть достаточный объём сырья для безубыточной разработки новой скважины. Сравнить полученный объём сырья со средним запасом в каждом регионе. \n",
    "- Напишсать выводы по этапу подготовки расчёта прибыли.\n",
    "4. Написать функцию для расчёта прибыли по выбранным скважинам и предсказаниям модели:\n",
    "- Выберать скважины с максимальными значениями предсказаний. \n",
    "- Просуммировать целевое значение объёма сырья, соответствующее этим предсказаниям.\n",
    "- Рассчитать прибыль для полученного объёма сырья.\n",
    "5. Расчет рисков и прибыли для каждого региона:\n",
    "- Применить технику Bootstrap с 1000 выборок, чтобы найти распределение прибыли.\n",
    "- Найти среднюю прибыль, 95%-й доверительный интервал и риск убытков.\n",
    "- Написать выводы: предложить регион для разработки скважин и обосновать выбор."
   ]
  },
  {
   "cell_type": "markdown",
   "metadata": {},
   "source": [
    "# Описание данных\n",
    "\n",
    "- id — уникальный идентификатор скважины;\n",
    "\n",
    "- f0, f1, f2 — три признака точек (неважно, что они означают, но сами признаки значимы);\n",
    "\n",
    "- product — объём запасов в скважине (тыс. баррелей)."
   ]
  },
  {
   "cell_type": "markdown",
   "metadata": {},
   "source": [
    "## Импорты"
   ]
  },
  {
   "cell_type": "code",
   "execution_count": 1,
   "metadata": {},
   "outputs": [],
   "source": [
    "import pandas as pd\n",
    "import numpy as np\n",
    "from scipy import stats as st\n",
    "import matplotlib.pyplot as plt\n",
    "import seaborn as sns\n",
    "import math\n",
    "\n",
    "from sklearn.model_selection import train_test_split\n",
    "from sklearn.linear_model import LinearRegression\n",
    "from sklearn.preprocessing import StandardScaler, OrdinalEncoder, OneHotEncoder, MinMaxScaler\n",
    "from sklearn.metrics import accuracy_score, mean_squared_error, r2_score\n",
    "RANDOM_STATE=12345"
   ]
  },
  {
   "cell_type": "markdown",
   "metadata": {},
   "source": [
    "## Загрузка и подготовка данных"
   ]
  },
  {
   "cell_type": "code",
   "execution_count": 2,
   "metadata": {},
   "outputs": [],
   "source": [
    "df1 = pd.read_csv('/datasets/geo_data_0.csv')\n",
    "df2 = pd.read_csv('/datasets/geo_data_1.csv')\n",
    "df3 = pd.read_csv('/datasets/geo_data_2.csv')"
   ]
  },
  {
   "cell_type": "code",
   "execution_count": 3,
   "metadata": {},
   "outputs": [
    {
     "data": {
      "text/html": [
       "<div>\n",
       "<style scoped>\n",
       "    .dataframe tbody tr th:only-of-type {\n",
       "        vertical-align: middle;\n",
       "    }\n",
       "\n",
       "    .dataframe tbody tr th {\n",
       "        vertical-align: top;\n",
       "    }\n",
       "\n",
       "    .dataframe thead th {\n",
       "        text-align: right;\n",
       "    }\n",
       "</style>\n",
       "<table border=\"1\" class=\"dataframe\">\n",
       "  <thead>\n",
       "    <tr style=\"text-align: right;\">\n",
       "      <th></th>\n",
       "      <th>id</th>\n",
       "      <th>f0</th>\n",
       "      <th>f1</th>\n",
       "      <th>f2</th>\n",
       "      <th>product</th>\n",
       "    </tr>\n",
       "  </thead>\n",
       "  <tbody>\n",
       "    <tr>\n",
       "      <th>0</th>\n",
       "      <td>txEyH</td>\n",
       "      <td>0.705745</td>\n",
       "      <td>-0.497823</td>\n",
       "      <td>1.221170</td>\n",
       "      <td>105.280062</td>\n",
       "    </tr>\n",
       "    <tr>\n",
       "      <th>1</th>\n",
       "      <td>2acmU</td>\n",
       "      <td>1.334711</td>\n",
       "      <td>-0.340164</td>\n",
       "      <td>4.365080</td>\n",
       "      <td>73.037750</td>\n",
       "    </tr>\n",
       "    <tr>\n",
       "      <th>2</th>\n",
       "      <td>409Wp</td>\n",
       "      <td>1.022732</td>\n",
       "      <td>0.151990</td>\n",
       "      <td>1.419926</td>\n",
       "      <td>85.265647</td>\n",
       "    </tr>\n",
       "    <tr>\n",
       "      <th>3</th>\n",
       "      <td>iJLyR</td>\n",
       "      <td>-0.032172</td>\n",
       "      <td>0.139033</td>\n",
       "      <td>2.978566</td>\n",
       "      <td>168.620776</td>\n",
       "    </tr>\n",
       "    <tr>\n",
       "      <th>4</th>\n",
       "      <td>Xdl7t</td>\n",
       "      <td>1.988431</td>\n",
       "      <td>0.155413</td>\n",
       "      <td>4.751769</td>\n",
       "      <td>154.036647</td>\n",
       "    </tr>\n",
       "    <tr>\n",
       "      <th>...</th>\n",
       "      <td>...</td>\n",
       "      <td>...</td>\n",
       "      <td>...</td>\n",
       "      <td>...</td>\n",
       "      <td>...</td>\n",
       "    </tr>\n",
       "    <tr>\n",
       "      <th>99995</th>\n",
       "      <td>DLsed</td>\n",
       "      <td>0.971957</td>\n",
       "      <td>0.370953</td>\n",
       "      <td>6.075346</td>\n",
       "      <td>110.744026</td>\n",
       "    </tr>\n",
       "    <tr>\n",
       "      <th>99996</th>\n",
       "      <td>QKivN</td>\n",
       "      <td>1.392429</td>\n",
       "      <td>-0.382606</td>\n",
       "      <td>1.273912</td>\n",
       "      <td>122.346843</td>\n",
       "    </tr>\n",
       "    <tr>\n",
       "      <th>99997</th>\n",
       "      <td>3rnvd</td>\n",
       "      <td>1.029585</td>\n",
       "      <td>0.018787</td>\n",
       "      <td>-1.348308</td>\n",
       "      <td>64.375443</td>\n",
       "    </tr>\n",
       "    <tr>\n",
       "      <th>99998</th>\n",
       "      <td>7kl59</td>\n",
       "      <td>0.998163</td>\n",
       "      <td>-0.528582</td>\n",
       "      <td>1.583869</td>\n",
       "      <td>74.040764</td>\n",
       "    </tr>\n",
       "    <tr>\n",
       "      <th>99999</th>\n",
       "      <td>1CWhH</td>\n",
       "      <td>1.764754</td>\n",
       "      <td>-0.266417</td>\n",
       "      <td>5.722849</td>\n",
       "      <td>149.633246</td>\n",
       "    </tr>\n",
       "  </tbody>\n",
       "</table>\n",
       "<p>100000 rows × 5 columns</p>\n",
       "</div>"
      ],
      "text/plain": [
       "          id        f0        f1        f2     product\n",
       "0      txEyH  0.705745 -0.497823  1.221170  105.280062\n",
       "1      2acmU  1.334711 -0.340164  4.365080   73.037750\n",
       "2      409Wp  1.022732  0.151990  1.419926   85.265647\n",
       "3      iJLyR -0.032172  0.139033  2.978566  168.620776\n",
       "4      Xdl7t  1.988431  0.155413  4.751769  154.036647\n",
       "...      ...       ...       ...       ...         ...\n",
       "99995  DLsed  0.971957  0.370953  6.075346  110.744026\n",
       "99996  QKivN  1.392429 -0.382606  1.273912  122.346843\n",
       "99997  3rnvd  1.029585  0.018787 -1.348308   64.375443\n",
       "99998  7kl59  0.998163 -0.528582  1.583869   74.040764\n",
       "99999  1CWhH  1.764754 -0.266417  5.722849  149.633246\n",
       "\n",
       "[100000 rows x 5 columns]"
      ]
     },
     "metadata": {},
     "output_type": "display_data"
    },
    {
     "data": {
      "text/html": [
       "<div>\n",
       "<style scoped>\n",
       "    .dataframe tbody tr th:only-of-type {\n",
       "        vertical-align: middle;\n",
       "    }\n",
       "\n",
       "    .dataframe tbody tr th {\n",
       "        vertical-align: top;\n",
       "    }\n",
       "\n",
       "    .dataframe thead th {\n",
       "        text-align: right;\n",
       "    }\n",
       "</style>\n",
       "<table border=\"1\" class=\"dataframe\">\n",
       "  <thead>\n",
       "    <tr style=\"text-align: right;\">\n",
       "      <th></th>\n",
       "      <th>id</th>\n",
       "      <th>f0</th>\n",
       "      <th>f1</th>\n",
       "      <th>f2</th>\n",
       "      <th>product</th>\n",
       "    </tr>\n",
       "  </thead>\n",
       "  <tbody>\n",
       "    <tr>\n",
       "      <th>0</th>\n",
       "      <td>kBEdx</td>\n",
       "      <td>-15.001348</td>\n",
       "      <td>-8.276000</td>\n",
       "      <td>-0.005876</td>\n",
       "      <td>3.179103</td>\n",
       "    </tr>\n",
       "    <tr>\n",
       "      <th>1</th>\n",
       "      <td>62mP7</td>\n",
       "      <td>14.272088</td>\n",
       "      <td>-3.475083</td>\n",
       "      <td>0.999183</td>\n",
       "      <td>26.953261</td>\n",
       "    </tr>\n",
       "    <tr>\n",
       "      <th>2</th>\n",
       "      <td>vyE1P</td>\n",
       "      <td>6.263187</td>\n",
       "      <td>-5.948386</td>\n",
       "      <td>5.001160</td>\n",
       "      <td>134.766305</td>\n",
       "    </tr>\n",
       "    <tr>\n",
       "      <th>3</th>\n",
       "      <td>KcrkZ</td>\n",
       "      <td>-13.081196</td>\n",
       "      <td>-11.506057</td>\n",
       "      <td>4.999415</td>\n",
       "      <td>137.945408</td>\n",
       "    </tr>\n",
       "    <tr>\n",
       "      <th>4</th>\n",
       "      <td>AHL4O</td>\n",
       "      <td>12.702195</td>\n",
       "      <td>-8.147433</td>\n",
       "      <td>5.004363</td>\n",
       "      <td>134.766305</td>\n",
       "    </tr>\n",
       "    <tr>\n",
       "      <th>...</th>\n",
       "      <td>...</td>\n",
       "      <td>...</td>\n",
       "      <td>...</td>\n",
       "      <td>...</td>\n",
       "      <td>...</td>\n",
       "    </tr>\n",
       "    <tr>\n",
       "      <th>99995</th>\n",
       "      <td>QywKC</td>\n",
       "      <td>9.535637</td>\n",
       "      <td>-6.878139</td>\n",
       "      <td>1.998296</td>\n",
       "      <td>53.906522</td>\n",
       "    </tr>\n",
       "    <tr>\n",
       "      <th>99996</th>\n",
       "      <td>ptvty</td>\n",
       "      <td>-10.160631</td>\n",
       "      <td>-12.558096</td>\n",
       "      <td>5.005581</td>\n",
       "      <td>137.945408</td>\n",
       "    </tr>\n",
       "    <tr>\n",
       "      <th>99997</th>\n",
       "      <td>09gWa</td>\n",
       "      <td>-7.378891</td>\n",
       "      <td>-3.084104</td>\n",
       "      <td>4.998651</td>\n",
       "      <td>137.945408</td>\n",
       "    </tr>\n",
       "    <tr>\n",
       "      <th>99998</th>\n",
       "      <td>rqwUm</td>\n",
       "      <td>0.665714</td>\n",
       "      <td>-6.152593</td>\n",
       "      <td>1.000146</td>\n",
       "      <td>30.132364</td>\n",
       "    </tr>\n",
       "    <tr>\n",
       "      <th>99999</th>\n",
       "      <td>relB0</td>\n",
       "      <td>-3.426139</td>\n",
       "      <td>-7.794274</td>\n",
       "      <td>-0.003299</td>\n",
       "      <td>3.179103</td>\n",
       "    </tr>\n",
       "  </tbody>\n",
       "</table>\n",
       "<p>100000 rows × 5 columns</p>\n",
       "</div>"
      ],
      "text/plain": [
       "          id         f0         f1        f2     product\n",
       "0      kBEdx -15.001348  -8.276000 -0.005876    3.179103\n",
       "1      62mP7  14.272088  -3.475083  0.999183   26.953261\n",
       "2      vyE1P   6.263187  -5.948386  5.001160  134.766305\n",
       "3      KcrkZ -13.081196 -11.506057  4.999415  137.945408\n",
       "4      AHL4O  12.702195  -8.147433  5.004363  134.766305\n",
       "...      ...        ...        ...       ...         ...\n",
       "99995  QywKC   9.535637  -6.878139  1.998296   53.906522\n",
       "99996  ptvty -10.160631 -12.558096  5.005581  137.945408\n",
       "99997  09gWa  -7.378891  -3.084104  4.998651  137.945408\n",
       "99998  rqwUm   0.665714  -6.152593  1.000146   30.132364\n",
       "99999  relB0  -3.426139  -7.794274 -0.003299    3.179103\n",
       "\n",
       "[100000 rows x 5 columns]"
      ]
     },
     "metadata": {},
     "output_type": "display_data"
    },
    {
     "data": {
      "text/html": [
       "<div>\n",
       "<style scoped>\n",
       "    .dataframe tbody tr th:only-of-type {\n",
       "        vertical-align: middle;\n",
       "    }\n",
       "\n",
       "    .dataframe tbody tr th {\n",
       "        vertical-align: top;\n",
       "    }\n",
       "\n",
       "    .dataframe thead th {\n",
       "        text-align: right;\n",
       "    }\n",
       "</style>\n",
       "<table border=\"1\" class=\"dataframe\">\n",
       "  <thead>\n",
       "    <tr style=\"text-align: right;\">\n",
       "      <th></th>\n",
       "      <th>id</th>\n",
       "      <th>f0</th>\n",
       "      <th>f1</th>\n",
       "      <th>f2</th>\n",
       "      <th>product</th>\n",
       "    </tr>\n",
       "  </thead>\n",
       "  <tbody>\n",
       "    <tr>\n",
       "      <th>0</th>\n",
       "      <td>fwXo0</td>\n",
       "      <td>-1.146987</td>\n",
       "      <td>0.963328</td>\n",
       "      <td>-0.828965</td>\n",
       "      <td>27.758673</td>\n",
       "    </tr>\n",
       "    <tr>\n",
       "      <th>1</th>\n",
       "      <td>WJtFt</td>\n",
       "      <td>0.262778</td>\n",
       "      <td>0.269839</td>\n",
       "      <td>-2.530187</td>\n",
       "      <td>56.069697</td>\n",
       "    </tr>\n",
       "    <tr>\n",
       "      <th>2</th>\n",
       "      <td>ovLUW</td>\n",
       "      <td>0.194587</td>\n",
       "      <td>0.289035</td>\n",
       "      <td>-5.586433</td>\n",
       "      <td>62.871910</td>\n",
       "    </tr>\n",
       "    <tr>\n",
       "      <th>3</th>\n",
       "      <td>q6cA6</td>\n",
       "      <td>2.236060</td>\n",
       "      <td>-0.553760</td>\n",
       "      <td>0.930038</td>\n",
       "      <td>114.572842</td>\n",
       "    </tr>\n",
       "    <tr>\n",
       "      <th>4</th>\n",
       "      <td>WPMUX</td>\n",
       "      <td>-0.515993</td>\n",
       "      <td>1.716266</td>\n",
       "      <td>5.899011</td>\n",
       "      <td>149.600746</td>\n",
       "    </tr>\n",
       "    <tr>\n",
       "      <th>...</th>\n",
       "      <td>...</td>\n",
       "      <td>...</td>\n",
       "      <td>...</td>\n",
       "      <td>...</td>\n",
       "      <td>...</td>\n",
       "    </tr>\n",
       "    <tr>\n",
       "      <th>99995</th>\n",
       "      <td>4GxBu</td>\n",
       "      <td>-1.777037</td>\n",
       "      <td>1.125220</td>\n",
       "      <td>6.263374</td>\n",
       "      <td>172.327046</td>\n",
       "    </tr>\n",
       "    <tr>\n",
       "      <th>99996</th>\n",
       "      <td>YKFjq</td>\n",
       "      <td>-1.261523</td>\n",
       "      <td>-0.894828</td>\n",
       "      <td>2.524545</td>\n",
       "      <td>138.748846</td>\n",
       "    </tr>\n",
       "    <tr>\n",
       "      <th>99997</th>\n",
       "      <td>tKPY3</td>\n",
       "      <td>-1.199934</td>\n",
       "      <td>-2.957637</td>\n",
       "      <td>5.219411</td>\n",
       "      <td>157.080080</td>\n",
       "    </tr>\n",
       "    <tr>\n",
       "      <th>99998</th>\n",
       "      <td>nmxp2</td>\n",
       "      <td>-2.419896</td>\n",
       "      <td>2.417221</td>\n",
       "      <td>-5.548444</td>\n",
       "      <td>51.795253</td>\n",
       "    </tr>\n",
       "    <tr>\n",
       "      <th>99999</th>\n",
       "      <td>V9kWn</td>\n",
       "      <td>-2.551421</td>\n",
       "      <td>-2.025625</td>\n",
       "      <td>6.090891</td>\n",
       "      <td>102.775767</td>\n",
       "    </tr>\n",
       "  </tbody>\n",
       "</table>\n",
       "<p>100000 rows × 5 columns</p>\n",
       "</div>"
      ],
      "text/plain": [
       "          id        f0        f1        f2     product\n",
       "0      fwXo0 -1.146987  0.963328 -0.828965   27.758673\n",
       "1      WJtFt  0.262778  0.269839 -2.530187   56.069697\n",
       "2      ovLUW  0.194587  0.289035 -5.586433   62.871910\n",
       "3      q6cA6  2.236060 -0.553760  0.930038  114.572842\n",
       "4      WPMUX -0.515993  1.716266  5.899011  149.600746\n",
       "...      ...       ...       ...       ...         ...\n",
       "99995  4GxBu -1.777037  1.125220  6.263374  172.327046\n",
       "99996  YKFjq -1.261523 -0.894828  2.524545  138.748846\n",
       "99997  tKPY3 -1.199934 -2.957637  5.219411  157.080080\n",
       "99998  nmxp2 -2.419896  2.417221 -5.548444   51.795253\n",
       "99999  V9kWn -2.551421 -2.025625  6.090891  102.775767\n",
       "\n",
       "[100000 rows x 5 columns]"
      ]
     },
     "execution_count": 3,
     "metadata": {},
     "output_type": "execute_result"
    }
   ],
   "source": [
    "display(df1)\n",
    "display(df2)\n",
    "df3"
   ]
  },
  {
   "cell_type": "code",
   "execution_count": 4,
   "metadata": {},
   "outputs": [
    {
     "name": "stdout",
     "output_type": "stream",
     "text": [
      "<class 'pandas.core.frame.DataFrame'>\n",
      "RangeIndex: 100000 entries, 0 to 99999\n",
      "Data columns (total 5 columns):\n",
      " #   Column   Non-Null Count   Dtype  \n",
      "---  ------   --------------   -----  \n",
      " 0   id       100000 non-null  object \n",
      " 1   f0       100000 non-null  float64\n",
      " 2   f1       100000 non-null  float64\n",
      " 3   f2       100000 non-null  float64\n",
      " 4   product  100000 non-null  float64\n",
      "dtypes: float64(4), object(1)\n",
      "memory usage: 3.8+ MB\n"
     ]
    },
    {
     "data": {
      "text/plain": [
       "None"
      ]
     },
     "metadata": {},
     "output_type": "display_data"
    },
    {
     "name": "stdout",
     "output_type": "stream",
     "text": [
      "<class 'pandas.core.frame.DataFrame'>\n",
      "RangeIndex: 100000 entries, 0 to 99999\n",
      "Data columns (total 5 columns):\n",
      " #   Column   Non-Null Count   Dtype  \n",
      "---  ------   --------------   -----  \n",
      " 0   id       100000 non-null  object \n",
      " 1   f0       100000 non-null  float64\n",
      " 2   f1       100000 non-null  float64\n",
      " 3   f2       100000 non-null  float64\n",
      " 4   product  100000 non-null  float64\n",
      "dtypes: float64(4), object(1)\n",
      "memory usage: 3.8+ MB\n"
     ]
    },
    {
     "data": {
      "text/plain": [
       "None"
      ]
     },
     "metadata": {},
     "output_type": "display_data"
    },
    {
     "name": "stdout",
     "output_type": "stream",
     "text": [
      "<class 'pandas.core.frame.DataFrame'>\n",
      "RangeIndex: 100000 entries, 0 to 99999\n",
      "Data columns (total 5 columns):\n",
      " #   Column   Non-Null Count   Dtype  \n",
      "---  ------   --------------   -----  \n",
      " 0   id       100000 non-null  object \n",
      " 1   f0       100000 non-null  float64\n",
      " 2   f1       100000 non-null  float64\n",
      " 3   f2       100000 non-null  float64\n",
      " 4   product  100000 non-null  float64\n",
      "dtypes: float64(4), object(1)\n",
      "memory usage: 3.8+ MB\n"
     ]
    }
   ],
   "source": [
    "display(df1.info())\n",
    "display(df2.info())\n",
    "df3.info()"
   ]
  },
  {
   "cell_type": "code",
   "execution_count": 5,
   "metadata": {},
   "outputs": [
    {
     "data": {
      "text/html": [
       "<div>\n",
       "<style scoped>\n",
       "    .dataframe tbody tr th:only-of-type {\n",
       "        vertical-align: middle;\n",
       "    }\n",
       "\n",
       "    .dataframe tbody tr th {\n",
       "        vertical-align: top;\n",
       "    }\n",
       "\n",
       "    .dataframe thead th {\n",
       "        text-align: right;\n",
       "    }\n",
       "</style>\n",
       "<table border=\"1\" class=\"dataframe\">\n",
       "  <thead>\n",
       "    <tr style=\"text-align: right;\">\n",
       "      <th></th>\n",
       "      <th>f0</th>\n",
       "      <th>f1</th>\n",
       "      <th>f2</th>\n",
       "      <th>product</th>\n",
       "    </tr>\n",
       "  </thead>\n",
       "  <tbody>\n",
       "    <tr>\n",
       "      <th>count</th>\n",
       "      <td>100000.000000</td>\n",
       "      <td>100000.000000</td>\n",
       "      <td>100000.000000</td>\n",
       "      <td>100000.000000</td>\n",
       "    </tr>\n",
       "    <tr>\n",
       "      <th>mean</th>\n",
       "      <td>0.500419</td>\n",
       "      <td>0.250143</td>\n",
       "      <td>2.502647</td>\n",
       "      <td>92.500000</td>\n",
       "    </tr>\n",
       "    <tr>\n",
       "      <th>std</th>\n",
       "      <td>0.871832</td>\n",
       "      <td>0.504433</td>\n",
       "      <td>3.248248</td>\n",
       "      <td>44.288691</td>\n",
       "    </tr>\n",
       "    <tr>\n",
       "      <th>min</th>\n",
       "      <td>-1.408605</td>\n",
       "      <td>-0.848218</td>\n",
       "      <td>-12.088328</td>\n",
       "      <td>0.000000</td>\n",
       "    </tr>\n",
       "    <tr>\n",
       "      <th>25%</th>\n",
       "      <td>-0.072580</td>\n",
       "      <td>-0.200881</td>\n",
       "      <td>0.287748</td>\n",
       "      <td>56.497507</td>\n",
       "    </tr>\n",
       "    <tr>\n",
       "      <th>50%</th>\n",
       "      <td>0.502360</td>\n",
       "      <td>0.250252</td>\n",
       "      <td>2.515969</td>\n",
       "      <td>91.849972</td>\n",
       "    </tr>\n",
       "    <tr>\n",
       "      <th>75%</th>\n",
       "      <td>1.073581</td>\n",
       "      <td>0.700646</td>\n",
       "      <td>4.715088</td>\n",
       "      <td>128.564089</td>\n",
       "    </tr>\n",
       "    <tr>\n",
       "      <th>max</th>\n",
       "      <td>2.362331</td>\n",
       "      <td>1.343769</td>\n",
       "      <td>16.003790</td>\n",
       "      <td>185.364347</td>\n",
       "    </tr>\n",
       "  </tbody>\n",
       "</table>\n",
       "</div>"
      ],
      "text/plain": [
       "                  f0             f1             f2        product\n",
       "count  100000.000000  100000.000000  100000.000000  100000.000000\n",
       "mean        0.500419       0.250143       2.502647      92.500000\n",
       "std         0.871832       0.504433       3.248248      44.288691\n",
       "min        -1.408605      -0.848218     -12.088328       0.000000\n",
       "25%        -0.072580      -0.200881       0.287748      56.497507\n",
       "50%         0.502360       0.250252       2.515969      91.849972\n",
       "75%         1.073581       0.700646       4.715088     128.564089\n",
       "max         2.362331       1.343769      16.003790     185.364347"
      ]
     },
     "metadata": {},
     "output_type": "display_data"
    },
    {
     "data": {
      "text/html": [
       "<div>\n",
       "<style scoped>\n",
       "    .dataframe tbody tr th:only-of-type {\n",
       "        vertical-align: middle;\n",
       "    }\n",
       "\n",
       "    .dataframe tbody tr th {\n",
       "        vertical-align: top;\n",
       "    }\n",
       "\n",
       "    .dataframe thead th {\n",
       "        text-align: right;\n",
       "    }\n",
       "</style>\n",
       "<table border=\"1\" class=\"dataframe\">\n",
       "  <thead>\n",
       "    <tr style=\"text-align: right;\">\n",
       "      <th></th>\n",
       "      <th>f0</th>\n",
       "      <th>f1</th>\n",
       "      <th>f2</th>\n",
       "      <th>product</th>\n",
       "    </tr>\n",
       "  </thead>\n",
       "  <tbody>\n",
       "    <tr>\n",
       "      <th>count</th>\n",
       "      <td>100000.000000</td>\n",
       "      <td>100000.000000</td>\n",
       "      <td>100000.000000</td>\n",
       "      <td>100000.000000</td>\n",
       "    </tr>\n",
       "    <tr>\n",
       "      <th>mean</th>\n",
       "      <td>1.141296</td>\n",
       "      <td>-4.796579</td>\n",
       "      <td>2.494541</td>\n",
       "      <td>68.825000</td>\n",
       "    </tr>\n",
       "    <tr>\n",
       "      <th>std</th>\n",
       "      <td>8.965932</td>\n",
       "      <td>5.119872</td>\n",
       "      <td>1.703572</td>\n",
       "      <td>45.944423</td>\n",
       "    </tr>\n",
       "    <tr>\n",
       "      <th>min</th>\n",
       "      <td>-31.609576</td>\n",
       "      <td>-26.358598</td>\n",
       "      <td>-0.018144</td>\n",
       "      <td>0.000000</td>\n",
       "    </tr>\n",
       "    <tr>\n",
       "      <th>25%</th>\n",
       "      <td>-6.298551</td>\n",
       "      <td>-8.267985</td>\n",
       "      <td>1.000021</td>\n",
       "      <td>26.953261</td>\n",
       "    </tr>\n",
       "    <tr>\n",
       "      <th>50%</th>\n",
       "      <td>1.153055</td>\n",
       "      <td>-4.813172</td>\n",
       "      <td>2.011479</td>\n",
       "      <td>57.085625</td>\n",
       "    </tr>\n",
       "    <tr>\n",
       "      <th>75%</th>\n",
       "      <td>8.621015</td>\n",
       "      <td>-1.332816</td>\n",
       "      <td>3.999904</td>\n",
       "      <td>107.813044</td>\n",
       "    </tr>\n",
       "    <tr>\n",
       "      <th>max</th>\n",
       "      <td>29.421755</td>\n",
       "      <td>18.734063</td>\n",
       "      <td>5.019721</td>\n",
       "      <td>137.945408</td>\n",
       "    </tr>\n",
       "  </tbody>\n",
       "</table>\n",
       "</div>"
      ],
      "text/plain": [
       "                  f0             f1             f2        product\n",
       "count  100000.000000  100000.000000  100000.000000  100000.000000\n",
       "mean        1.141296      -4.796579       2.494541      68.825000\n",
       "std         8.965932       5.119872       1.703572      45.944423\n",
       "min       -31.609576     -26.358598      -0.018144       0.000000\n",
       "25%        -6.298551      -8.267985       1.000021      26.953261\n",
       "50%         1.153055      -4.813172       2.011479      57.085625\n",
       "75%         8.621015      -1.332816       3.999904     107.813044\n",
       "max        29.421755      18.734063       5.019721     137.945408"
      ]
     },
     "metadata": {},
     "output_type": "display_data"
    },
    {
     "data": {
      "text/html": [
       "<div>\n",
       "<style scoped>\n",
       "    .dataframe tbody tr th:only-of-type {\n",
       "        vertical-align: middle;\n",
       "    }\n",
       "\n",
       "    .dataframe tbody tr th {\n",
       "        vertical-align: top;\n",
       "    }\n",
       "\n",
       "    .dataframe thead th {\n",
       "        text-align: right;\n",
       "    }\n",
       "</style>\n",
       "<table border=\"1\" class=\"dataframe\">\n",
       "  <thead>\n",
       "    <tr style=\"text-align: right;\">\n",
       "      <th></th>\n",
       "      <th>f0</th>\n",
       "      <th>f1</th>\n",
       "      <th>f2</th>\n",
       "      <th>product</th>\n",
       "    </tr>\n",
       "  </thead>\n",
       "  <tbody>\n",
       "    <tr>\n",
       "      <th>count</th>\n",
       "      <td>100000.000000</td>\n",
       "      <td>100000.000000</td>\n",
       "      <td>100000.000000</td>\n",
       "      <td>100000.000000</td>\n",
       "    </tr>\n",
       "    <tr>\n",
       "      <th>mean</th>\n",
       "      <td>0.002023</td>\n",
       "      <td>-0.002081</td>\n",
       "      <td>2.495128</td>\n",
       "      <td>95.000000</td>\n",
       "    </tr>\n",
       "    <tr>\n",
       "      <th>std</th>\n",
       "      <td>1.732045</td>\n",
       "      <td>1.730417</td>\n",
       "      <td>3.473445</td>\n",
       "      <td>44.749921</td>\n",
       "    </tr>\n",
       "    <tr>\n",
       "      <th>min</th>\n",
       "      <td>-8.760004</td>\n",
       "      <td>-7.084020</td>\n",
       "      <td>-11.970335</td>\n",
       "      <td>0.000000</td>\n",
       "    </tr>\n",
       "    <tr>\n",
       "      <th>25%</th>\n",
       "      <td>-1.162288</td>\n",
       "      <td>-1.174820</td>\n",
       "      <td>0.130359</td>\n",
       "      <td>59.450441</td>\n",
       "    </tr>\n",
       "    <tr>\n",
       "      <th>50%</th>\n",
       "      <td>0.009424</td>\n",
       "      <td>-0.009482</td>\n",
       "      <td>2.484236</td>\n",
       "      <td>94.925613</td>\n",
       "    </tr>\n",
       "    <tr>\n",
       "      <th>75%</th>\n",
       "      <td>1.158535</td>\n",
       "      <td>1.163678</td>\n",
       "      <td>4.858794</td>\n",
       "      <td>130.595027</td>\n",
       "    </tr>\n",
       "    <tr>\n",
       "      <th>max</th>\n",
       "      <td>7.238262</td>\n",
       "      <td>7.844801</td>\n",
       "      <td>16.739402</td>\n",
       "      <td>190.029838</td>\n",
       "    </tr>\n",
       "  </tbody>\n",
       "</table>\n",
       "</div>"
      ],
      "text/plain": [
       "                  f0             f1             f2        product\n",
       "count  100000.000000  100000.000000  100000.000000  100000.000000\n",
       "mean        0.002023      -0.002081       2.495128      95.000000\n",
       "std         1.732045       1.730417       3.473445      44.749921\n",
       "min        -8.760004      -7.084020     -11.970335       0.000000\n",
       "25%        -1.162288      -1.174820       0.130359      59.450441\n",
       "50%         0.009424      -0.009482       2.484236      94.925613\n",
       "75%         1.158535       1.163678       4.858794     130.595027\n",
       "max         7.238262       7.844801      16.739402     190.029838"
      ]
     },
     "execution_count": 5,
     "metadata": {},
     "output_type": "execute_result"
    }
   ],
   "source": [
    "display(df1.describe())\n",
    "display(df2.describe())\n",
    "df3.describe()"
   ]
  },
  {
   "cell_type": "code",
   "execution_count": 6,
   "metadata": {},
   "outputs": [
    {
     "name": "stdout",
     "output_type": "stream",
     "text": [
      "0\n",
      "\n",
      "0\n",
      "\n",
      "0\n"
     ]
    }
   ],
   "source": [
    "print(df1.duplicated().sum())\n",
    "print()\n",
    "print(df2.duplicated().sum())\n",
    "print()\n",
    "print(df3.duplicated().sum())"
   ]
  },
  {
   "cell_type": "code",
   "execution_count": 7,
   "metadata": {},
   "outputs": [],
   "source": [
    "df1 = df1.drop('id', axis=1)#удаляем столбец id из данных\n",
    "df2 = df2.drop('id', axis=1)\n",
    "df3 = df3.drop('id', axis=1)"
   ]
  },
  {
   "cell_type": "code",
   "execution_count": 8,
   "metadata": {},
   "outputs": [],
   "source": [
    "def num_plots(df,about):#функция для построения графиков по количественным признакам \n",
    "    fig,axes = plt.subplots(1, 2,figsize = (15,5))\n",
    "    plt.subplot(1,2,1)\n",
    "    a = df.count()\n",
    "    b = round(1 + 3.322*math.log(a)) #для определения оптимального количества интервалов используется правило Стёрджеса\n",
    "    plt.hist(df,bins = b,ec='black')\n",
    "    plt.xlabel('Значения')\n",
    "    plt.ylabel(\"Частота\")\n",
    "    plt.title('Распределение значений по признаку {0}'.format(about)),\n",
    "    plt.subplot(1,2,2)\n",
    "    plt.boxplot(df, vert=False)\n",
    "    plt.title('Ящик с усами для признака {0}'.format(about))\n",
    "    plt.show();"
   ]
  },
  {
   "cell_type": "code",
   "execution_count": 9,
   "metadata": {},
   "outputs": [
    {
     "name": "stdout",
     "output_type": "stream",
     "text": [
      "Первый регион\n"
     ]
    },
    {
     "data": {
      "image/png": "[encoded data removed]",
      "text/plain": [
       "<Figure size 1080x360 with 2 Axes>"
      ]
     },
     "metadata": {
      "needs_background": "light"
     },
     "output_type": "display_data"
    },
    {
     "data": {
      "image/png": "[encoded data removed]",
      "text/plain": [
       "<Figure size 1080x360 with 2 Axes>"
      ]
     },
     "metadata": {
      "needs_background": "light"
     },
     "output_type": "display_data"
    },
    {
     "data": {
      "image/png": "[encoded data removed]",
      "text/plain": [
       "<Figure size 1080x360 with 2 Axes>"
      ]
     },
     "metadata": {
      "needs_background": "light"
     },
     "output_type": "display_data"
    },
    {
     "data": {
      "image/png": "[encoded data removed]",
      "text/plain": [
       "<Figure size 1080x360 with 2 Axes>"
      ]
     },
     "metadata": {
      "needs_background": "light"
     },
     "output_type": "display_data"
    },
    {
     "name": "stdout",
     "output_type": "stream",
     "text": [
      "Второй регион\n"
     ]
    },
    {
     "data": {
      "image/png": "[encoded data removed]",
      "text/plain": [
       "<Figure size 1080x360 with 2 Axes>"
      ]
     },
     "metadata": {
      "needs_background": "light"
     },
     "output_type": "display_data"
    },
    {
     "data": {
      "image/png": "[encoded data removed]",
      "text/plain": [
       "<Figure size 1080x360 with 2 Axes>"
      ]
     },
     "metadata": {
      "needs_background": "light"
     },
     "output_type": "display_data"
    },
    {
     "data": {
      "image/png": "[encoded data removed]",
      "text/plain": [
       "<Figure size 1080x360 with 2 Axes>"
      ]
     },
     "metadata": {
      "needs_background": "light"
     },
     "output_type": "display_data"
    },
    {
     "data": {
      "image/png": "[encoded data removed]",
      "text/plain": [
       "<Figure size 1080x360 with 2 Axes>"
      ]
     },
     "metadata": {
      "needs_background": "light"
     },
     "output_type": "display_data"
    },
    {
     "name": "stdout",
     "output_type": "stream",
     "text": [
      "Третий регион\n"
     ]
    },
    {
     "data": {
      "image/png": "[encoded data removed]",
      "text/plain": [
       "<Figure size 1080x360 with 2 Axes>"
      ]
     },
     "metadata": {
      "needs_background": "light"
     },
     "output_type": "display_data"
    },
    {
     "data": {
      "image/png": "[encoded data removed]",
      "text/plain": [
       "<Figure size 1080x360 with 2 Axes>"
      ]
     },
     "metadata": {
      "needs_background": "light"
     },
     "output_type": "display_data"
    },
    {
     "data": {
      "image/png": "[encoded data removed]",
      "text/plain": [
       "<Figure size 1080x360 with 2 Axes>"
      ]
     },
     "metadata": {
      "needs_background": "light"
     },
     "output_type": "display_data"
    },
    {
     "data": {
      "image/png": "[encoded data removed]",
      "text/plain": [
       "<Figure size 1080x360 with 2 Axes>"
      ]
     },
     "metadata": {
      "needs_background": "light"
     },
     "output_type": "display_data"
    }
   ],
   "source": [
    "datas = [df1,df2,df3]\n",
    "region_names = ['Первый регион', 'Второй регион', 'Третий регион']\n",
    "for d, region_name in zip(datas, region_names):\n",
    "    print(region_name) \n",
    "    for_num = d[d.select_dtypes(include='number').columns]\n",
    "    for x in for_num:\n",
    "        num_plots(d[x],x)\n",
    "        plt.show()"
   ]
  },
  {
   "cell_type": "markdown",
   "metadata": {},
   "source": [
    "# Вывод\n",
    "\n",
    "По результатам первичного анализа можно сказать, что в данных нет пропусков, также в данных отустсвуют дубликаты, все типы данных соотвуетсвующие, нулевых значений/аномалий также нет\n",
    "\n",
    "Распределения в данных сильно отличаются, например во втором регионе F2 и product имеют мультимодальное распредление.\n",
    "\n",
    "Нормальное распределение характерно только для:\n",
    "- f2 в 1 регионе, \n",
    "- f1 во 2 регионе\n",
    "- f0, f1, f2 в 3 регионе."
   ]
  },
  {
   "cell_type": "markdown",
   "metadata": {},
   "source": [
    "## Обучение и проверка модели"
   ]
  },
  {
   "cell_type": "code",
   "execution_count": 10,
   "metadata": {},
   "outputs": [],
   "source": [
    "target1=df1['product']\n",
    "features1=df1.drop(['product'], axis=1)\n",
    "\n",
    "target2=df2['product']\n",
    "features2=df2.drop(['product'], axis=1)\n",
    "\n",
    "target3=df3['product']\n",
    "features3=df3.drop(['product'], axis=1)"
   ]
  },
  {
   "cell_type": "code",
   "execution_count": 11,
   "metadata": {},
   "outputs": [],
   "source": [
    "# Разобьём данные на обучающую и валидационную выборки в соотношении 75:25:    \n",
    "features1_train, features1_valid, target1_train, target1_valid = \\\n",
    "    train_test_split(features1, target1, test_size=0.25, random_state=RANDOM_STATE)"
   ]
  },
  {
   "cell_type": "code",
   "execution_count": 12,
   "metadata": {},
   "outputs": [],
   "source": [
    "# Разобьём данные на обучающую и валидационную выборки в соотношении 75:25:    \n",
    "features2_train, features2_valid, target2_train, target2_valid = \\\n",
    "    train_test_split(features2, target2, test_size=0.25, random_state=RANDOM_STATE)"
   ]
  },
  {
   "cell_type": "code",
   "execution_count": 13,
   "metadata": {},
   "outputs": [],
   "source": [
    "# Разобьём данные на обучающую и валидационную выборки в соотношении 75:25:    \n",
    "features3_train, features3_valid, target3_train, target3_valid = \\\n",
    "    train_test_split(features3, target3, test_size=0.25, random_state=RANDOM_STATE)"
   ]
  },
  {
   "cell_type": "code",
   "execution_count": 14,
   "metadata": {},
   "outputs": [
    {
     "name": "stdout",
     "output_type": "stream",
     "text": [
      "RMSE: 37.58\n"
     ]
    }
   ],
   "source": [
    "model1=LinearRegression() #интегрируем модель\n",
    "model1.fit(features1_train,target1_train) #обучаем ее\n",
    "predict1=model1.predict(features1_valid) #получаем предсказания на валидационной выборке\n",
    "rmse1 = mean_squared_error(target1_valid, predict1)**0.5 #квадрат из MSE \n",
    "print('RMSE: %.2f'% rmse1)"
   ]
  },
  {
   "cell_type": "code",
   "execution_count": 15,
   "metadata": {},
   "outputs": [
    {
     "name": "stdout",
     "output_type": "stream",
     "text": [
      "RMSE: 0.89\n"
     ]
    }
   ],
   "source": [
    "model2=LinearRegression()\n",
    "model2.fit(features2_train,target2_train)\n",
    "predict2=model2.predict(features2_valid)\n",
    "rmse2 = mean_squared_error(target2_valid, predict2)**0.5\n",
    "print('RMSE: %.2f'% rmse2)"
   ]
  },
  {
   "cell_type": "code",
   "execution_count": 16,
   "metadata": {},
   "outputs": [
    {
     "name": "stdout",
     "output_type": "stream",
     "text": [
      "RMSE: 40.03\n"
     ]
    }
   ],
   "source": [
    "model3=LinearRegression()\n",
    "model3.fit(features3_train,target3_train)\n",
    "predict3=model3.predict(features3_valid)\n",
    "rmse3 = mean_squared_error(target3_valid, predict3)**0.5\n",
    "print('RMSE: %.2f'% rmse3)"
   ]
  },
  {
   "cell_type": "code",
   "execution_count": 17,
   "metadata": {},
   "outputs": [
    {
     "data": {
      "text/html": [
       "<div>\n",
       "<style scoped>\n",
       "    .dataframe tbody tr th:only-of-type {\n",
       "        vertical-align: middle;\n",
       "    }\n",
       "\n",
       "    .dataframe tbody tr th {\n",
       "        vertical-align: top;\n",
       "    }\n",
       "\n",
       "    .dataframe thead th {\n",
       "        text-align: right;\n",
       "    }\n",
       "</style>\n",
       "<table border=\"1\" class=\"dataframe\">\n",
       "  <thead>\n",
       "    <tr style=\"text-align: right;\">\n",
       "      <th></th>\n",
       "      <th>регион 1</th>\n",
       "      <th>регион 2</th>\n",
       "      <th>регион 3</th>\n",
       "    </tr>\n",
       "  </thead>\n",
       "  <tbody>\n",
       "    <tr>\n",
       "      <th>Средний запас предсказанного сырья</th>\n",
       "      <td>92.592568</td>\n",
       "      <td>68.728547</td>\n",
       "      <td>94.965046</td>\n",
       "    </tr>\n",
       "    <tr>\n",
       "      <th>RMSE</th>\n",
       "      <td>37.579422</td>\n",
       "      <td>0.893099</td>\n",
       "      <td>40.029709</td>\n",
       "    </tr>\n",
       "  </tbody>\n",
       "</table>\n",
       "</div>"
      ],
      "text/plain": [
       "                                     регион 1   регион 2   регион 3\n",
       "Средний запас предсказанного сырья  92.592568  68.728547  94.965046\n",
       "RMSE                                37.579422   0.893099  40.029709"
      ]
     },
     "execution_count": 17,
     "metadata": {},
     "output_type": "execute_result"
    }
   ],
   "source": [
    "regions = pd.DataFrame(index=['Средний запас предсказанного сырья','RMSE'], columns=['регион 1','регион 2','регион 3'])\n",
    "regions['регион 1'] = predict1.mean(), rmse1\n",
    "regions['регион 2'] = predict2.mean(), rmse2\n",
    "regions['регион 3'] = predict3.mean(), rmse3\n",
    "regions"
   ]
  },
  {
   "cell_type": "markdown",
   "metadata": {},
   "source": [
    "# Вывод\n",
    "- Разделили данные на валидационную и трейн выборку в соотношении 75/25 \n",
    "\n",
    "- Обучили модель LinearRegression\n",
    "\n",
    "- Получили предсказания на валидационной выборке \n",
    "\n",
    "- Создали таблицу с визуализацией среднего запаса сырья по регионам и метрикой RMSE, наименьшее значение у 2 региона, наибольшее у 3 региона\n",
    "\n"
   ]
  },
  {
   "cell_type": "markdown",
   "metadata": {},
   "source": [
    "## Подготовка к расчёту прибыли"
   ]
  },
  {
   "cell_type": "code",
   "execution_count": 18,
   "metadata": {},
   "outputs": [],
   "source": [
    "budget= 10000000 #Бюджет в тыс руб\n",
    "cost = 450 #цена 1 ед в тыс руб\n",
    "for_1_point = budget/200"
   ]
  },
  {
   "cell_type": "code",
   "execution_count": 19,
   "metadata": {},
   "outputs": [
    {
     "name": "stdout",
     "output_type": "stream",
     "text": [
      "Средний запас сырья в первом регионе: 92.5\n",
      "Средний запас сырья во втором регионе: 68.83\n",
      "Средний запас сырья в третьем регионе: 95.0\n",
      "Бюджет на 1 точку: 50000.0 тыс рублей\n",
      "Достаточный обьем сырья в 1 скважине для безубыточной дятельности: 111.11 тыс баррелей\n",
      "Общий объем сырья на регион для безубытчной дяетельности: 22222.2 тыс баррелей\n"
     ]
    }
   ],
   "source": [
    "print('Средний запас сырья в первом регионе:', round(df1['product'].mean(),2))\n",
    "print('Средний запас сырья во втором регионе:', round(df2['product'].mean(),2))\n",
    "print('Средний запас сырья в третьем регионе:', round(df3['product'].mean(),2))\n",
    "print('Бюджет на 1 точку:', for_1_point, 'тыс рублей')\n",
    "print('Достаточный обьем сырья в 1 скважине для безубыточной дятельности:',round(for_1_point/cost,2),'тыс баррелей')\n",
    "print('Общий объем сырья на регион для безубытчной дяетельности:',round(for_1_point/cost,3)*200,'тыс баррелей')"
   ]
  },
  {
   "cell_type": "code",
   "execution_count": 20,
   "metadata": {},
   "outputs": [
    {
     "data": {
      "text/html": [
       "<div>\n",
       "<style scoped>\n",
       "    .dataframe tbody tr th:only-of-type {\n",
       "        vertical-align: middle;\n",
       "    }\n",
       "\n",
       "    .dataframe tbody tr th {\n",
       "        vertical-align: top;\n",
       "    }\n",
       "\n",
       "    .dataframe thead th {\n",
       "        text-align: right;\n",
       "    }\n",
       "</style>\n",
       "<table border=\"1\" class=\"dataframe\">\n",
       "  <thead>\n",
       "    <tr style=\"text-align: right;\">\n",
       "      <th></th>\n",
       "      <th>f0</th>\n",
       "      <th>f1</th>\n",
       "      <th>f2</th>\n",
       "      <th>product</th>\n",
       "      <th>profit</th>\n",
       "    </tr>\n",
       "  </thead>\n",
       "  <tbody>\n",
       "    <tr>\n",
       "      <th>0</th>\n",
       "      <td>0.705745</td>\n",
       "      <td>-0.497823</td>\n",
       "      <td>1.22117</td>\n",
       "      <td>105.280062</td>\n",
       "      <td>47376.027830</td>\n",
       "    </tr>\n",
       "    <tr>\n",
       "      <th>1</th>\n",
       "      <td>1.334711</td>\n",
       "      <td>-0.340164</td>\n",
       "      <td>4.36508</td>\n",
       "      <td>73.037750</td>\n",
       "      <td>32866.987619</td>\n",
       "    </tr>\n",
       "  </tbody>\n",
       "</table>\n",
       "</div>"
      ],
      "text/plain": [
       "         f0        f1       f2     product        profit\n",
       "0  0.705745 -0.497823  1.22117  105.280062  47376.027830\n",
       "1  1.334711 -0.340164  4.36508   73.037750  32866.987619"
      ]
     },
     "metadata": {},
     "output_type": "display_data"
    },
    {
     "data": {
      "text/html": [
       "<div>\n",
       "<style scoped>\n",
       "    .dataframe tbody tr th:only-of-type {\n",
       "        vertical-align: middle;\n",
       "    }\n",
       "\n",
       "    .dataframe tbody tr th {\n",
       "        vertical-align: top;\n",
       "    }\n",
       "\n",
       "    .dataframe thead th {\n",
       "        text-align: right;\n",
       "    }\n",
       "</style>\n",
       "<table border=\"1\" class=\"dataframe\">\n",
       "  <thead>\n",
       "    <tr style=\"text-align: right;\">\n",
       "      <th></th>\n",
       "      <th>f0</th>\n",
       "      <th>f1</th>\n",
       "      <th>f2</th>\n",
       "      <th>product</th>\n",
       "      <th>profit</th>\n",
       "    </tr>\n",
       "  </thead>\n",
       "  <tbody>\n",
       "    <tr>\n",
       "      <th>0</th>\n",
       "      <td>-15.001348</td>\n",
       "      <td>-8.276000</td>\n",
       "      <td>-0.005876</td>\n",
       "      <td>3.179103</td>\n",
       "      <td>1430.596162</td>\n",
       "    </tr>\n",
       "    <tr>\n",
       "      <th>1</th>\n",
       "      <td>14.272088</td>\n",
       "      <td>-3.475083</td>\n",
       "      <td>0.999183</td>\n",
       "      <td>26.953261</td>\n",
       "      <td>12128.967464</td>\n",
       "    </tr>\n",
       "  </tbody>\n",
       "</table>\n",
       "</div>"
      ],
      "text/plain": [
       "          f0        f1        f2    product        profit\n",
       "0 -15.001348 -8.276000 -0.005876   3.179103   1430.596162\n",
       "1  14.272088 -3.475083  0.999183  26.953261  12128.967464"
      ]
     },
     "metadata": {},
     "output_type": "display_data"
    },
    {
     "data": {
      "text/html": [
       "<div>\n",
       "<style scoped>\n",
       "    .dataframe tbody tr th:only-of-type {\n",
       "        vertical-align: middle;\n",
       "    }\n",
       "\n",
       "    .dataframe tbody tr th {\n",
       "        vertical-align: top;\n",
       "    }\n",
       "\n",
       "    .dataframe thead th {\n",
       "        text-align: right;\n",
       "    }\n",
       "</style>\n",
       "<table border=\"1\" class=\"dataframe\">\n",
       "  <thead>\n",
       "    <tr style=\"text-align: right;\">\n",
       "      <th></th>\n",
       "      <th>f0</th>\n",
       "      <th>f1</th>\n",
       "      <th>f2</th>\n",
       "      <th>product</th>\n",
       "      <th>profit</th>\n",
       "    </tr>\n",
       "  </thead>\n",
       "  <tbody>\n",
       "    <tr>\n",
       "      <th>0</th>\n",
       "      <td>-1.146987</td>\n",
       "      <td>0.963328</td>\n",
       "      <td>-0.828965</td>\n",
       "      <td>27.758673</td>\n",
       "      <td>12491.402954</td>\n",
       "    </tr>\n",
       "    <tr>\n",
       "      <th>1</th>\n",
       "      <td>0.262778</td>\n",
       "      <td>0.269839</td>\n",
       "      <td>-2.530187</td>\n",
       "      <td>56.069697</td>\n",
       "      <td>25231.363485</td>\n",
       "    </tr>\n",
       "  </tbody>\n",
       "</table>\n",
       "</div>"
      ],
      "text/plain": [
       "         f0        f1        f2    product        profit\n",
       "0 -1.146987  0.963328 -0.828965  27.758673  12491.402954\n",
       "1  0.262778  0.269839 -2.530187  56.069697  25231.363485"
      ]
     },
     "metadata": {},
     "output_type": "display_data"
    }
   ],
   "source": [
    "for df in datas: #посчитаем прибыль с 1 скважины в регионах\n",
    "    df['profit'] = df['product']*cost\n",
    "    display(df.head(2))"
   ]
  },
  {
   "cell_type": "code",
   "execution_count": 21,
   "metadata": {},
   "outputs": [
    {
     "data": {
      "text/html": [
       "<div>\n",
       "<style scoped>\n",
       "    .dataframe tbody tr th:only-of-type {\n",
       "        vertical-align: middle;\n",
       "    }\n",
       "\n",
       "    .dataframe tbody tr th {\n",
       "        vertical-align: top;\n",
       "    }\n",
       "\n",
       "    .dataframe thead th {\n",
       "        text-align: right;\n",
       "    }\n",
       "</style>\n",
       "<table border=\"1\" class=\"dataframe\">\n",
       "  <thead>\n",
       "    <tr style=\"text-align: right;\">\n",
       "      <th></th>\n",
       "      <th>регион 1</th>\n",
       "      <th>регион 2</th>\n",
       "      <th>регион 3</th>\n",
       "    </tr>\n",
       "  </thead>\n",
       "  <tbody>\n",
       "    <tr>\n",
       "      <th>Средний запас предсказанного сырья</th>\n",
       "      <td>92.592568</td>\n",
       "      <td>68.728547</td>\n",
       "      <td>94.965046</td>\n",
       "    </tr>\n",
       "    <tr>\n",
       "      <th>RMSE</th>\n",
       "      <td>37.579422</td>\n",
       "      <td>0.893099</td>\n",
       "      <td>40.029709</td>\n",
       "    </tr>\n",
       "    <tr>\n",
       "      <th>Разница между необходимым и предсказанным сырьем</th>\n",
       "      <td>-18.517432</td>\n",
       "      <td>-42.381453</td>\n",
       "      <td>-16.144954</td>\n",
       "    </tr>\n",
       "    <tr>\n",
       "      <th>Разница в %</th>\n",
       "      <td>-16.665856</td>\n",
       "      <td>-38.143689</td>\n",
       "      <td>-14.530604</td>\n",
       "    </tr>\n",
       "  </tbody>\n",
       "</table>\n",
       "</div>"
      ],
      "text/plain": [
       "                                                   регион 1   регион 2  \\\n",
       "Средний запас предсказанного сырья                92.592568  68.728547   \n",
       "RMSE                                              37.579422   0.893099   \n",
       "Разница между необходимым и предсказанным сырьем -18.517432 -42.381453   \n",
       "Разница в %                                      -16.665856 -38.143689   \n",
       "\n",
       "                                                   регион 3  \n",
       "Средний запас предсказанного сырья                94.965046  \n",
       "RMSE                                              40.029709  \n",
       "Разница между необходимым и предсказанным сырьем -16.144954  \n",
       "Разница в %                                      -14.530604  "
      ]
     },
     "execution_count": 21,
     "metadata": {},
     "output_type": "execute_result"
    }
   ],
   "source": [
    "diff = pd.DataFrame(index=['Средний запас предсказанного сырья','RMSE','Разница между необходимым и предсказанным сырьем', 'Разница в %'], columns=['регион 1','регион 2','регион 3'])\n",
    "diff['регион 1'] = predict1.mean(), rmse1, predict1.mean()-round(for_1_point/cost,2), (predict1.mean()/round(for_1_point/cost,2)-1)*100\n",
    "diff['регион 2'] = predict2.mean(), rmse2, predict2.mean()-round(for_1_point/cost,2), (predict2.mean()/round(for_1_point/cost,2)-1)*100\n",
    "diff['регион 3'] = predict3.mean(), rmse3, predict3.mean()-round(for_1_point/cost,2), (predict3.mean()/round(for_1_point/cost,2)-1)*100\n",
    "diff"
   ]
  },
  {
   "cell_type": "markdown",
   "metadata": {},
   "source": [
    "Как видим ни в 1 регионе средних запасов сырья не хватает даже для окупаемости деятельности, значит необходимо искать самые богатые на сырьё скважины"
   ]
  },
  {
   "cell_type": "code",
   "execution_count": 22,
   "metadata": {},
   "outputs": [],
   "source": [
    "def select(name): #функция для расчета прибыли\n",
    "    reg = pd.Series(name).sort_values(ascending=False).head(200)\n",
    "    reserve = reg.sum()\n",
    "    profit = round((reserve * cost - budget)/1000000,3)\n",
    "    print('Прибыль с региона составляет:', profit,'млрд рублей')"
   ]
  },
  {
   "cell_type": "markdown",
   "metadata": {},
   "source": [
    "Для региона 1 "
   ]
  },
  {
   "cell_type": "code",
   "execution_count": 23,
   "metadata": {},
   "outputs": [
    {
     "name": "stdout",
     "output_type": "stream",
     "text": [
      "Прибыль с региона составляет: 3.996 млрд рублей\n"
     ]
    }
   ],
   "source": [
    "select(predict1)"
   ]
  },
  {
   "cell_type": "markdown",
   "metadata": {},
   "source": [
    "Для региона 2"
   ]
  },
  {
   "cell_type": "code",
   "execution_count": 24,
   "metadata": {},
   "outputs": [
    {
     "name": "stdout",
     "output_type": "stream",
     "text": [
      "Прибыль с региона составляет: 2.486 млрд рублей\n"
     ]
    }
   ],
   "source": [
    "select(predict2)"
   ]
  },
  {
   "cell_type": "markdown",
   "metadata": {},
   "source": [
    "Для региона 3"
   ]
  },
  {
   "cell_type": "code",
   "execution_count": 25,
   "metadata": {},
   "outputs": [
    {
     "name": "stdout",
     "output_type": "stream",
     "text": [
      "Прибыль с региона составляет: 3.322 млрд рублей\n"
     ]
    }
   ],
   "source": [
    "select(predict3)"
   ]
  },
  {
   "cell_type": "markdown",
   "metadata": {},
   "source": [
    "# Вывод\n",
    "Минимальное количество баррелей в скважине должно быть не менее 111 тыс., иначе деятельность будет убыточной \n",
    "\n",
    "Наибольшая прибыль будет с 1-го региона, наименьшая со 2-го, однако это не значит, что мы выберем 1 регион, тк почти во всех сферах чем выше прибыль, тем выше риски. Необходимо расчитать риски убытков для каждого региона."
   ]
  },
  {
   "cell_type": "markdown",
   "metadata": {},
   "source": [
    "## Расчёт прибыли и рисков "
   ]
  },
  {
   "cell_type": "code",
   "execution_count": 26,
   "metadata": {},
   "outputs": [],
   "source": [
    "def profit(predict,target):\n",
    "    reg = pd.Series(predict).sort_values(ascending=False)\n",
    "    reserve = target[reg.index].head(200).sum()\n",
    "    profit = reserve * cost - budget\n",
    "    return profit"
   ]
  },
  {
   "cell_type": "code",
   "execution_count": 27,
   "metadata": {},
   "outputs": [],
   "source": [
    "def revenue(target,predict):\n",
    "    values = []\n",
    "    predict = pd.Series(predict, index=target.index)\n",
    "    state = np.random.RandomState(12345)\n",
    "    \n",
    "    for i in range(1000):\n",
    "        target_subsample = target.sample(n=500,replace=True, random_state=state)\n",
    "        probs_subsample = predict[target_subsample.index]\n",
    "        values.append(profit(probs_subsample,target_subsample))  \n",
    "    values = pd.Series(values)\n",
    "    mean = values.mean()\n",
    "    risks = round((values< 0).mean()*100, 1)\n",
    "    lower = values.quantile(0.025)\n",
    "    higher = values.quantile(0.975)\n",
    "    \n",
    "    plt.title('Распределение прибыли')\n",
    "    values.plot(kind=\"hist\", grid=True, figsize=(10,8))\n",
    "    plt.xlabel('Прибыль')\n",
    "    plt.ylabel('Количество')\n",
    "    plt.show()\n",
    "    \n",
    "    print('Средняя прибыль: ',round(values.mean(),2),'тыс.руб')\n",
    "    print(f'95%-ый доверительный интервал: от {lower} тыс.руб до {higher} тыс.руб')\n",
    "    print('Вероятность убытка: {:.1%}'.format(risks/100))"
   ]
  },
  {
   "cell_type": "code",
   "execution_count": 28,
   "metadata": {},
   "outputs": [
    {
     "data": {
      "image/png": "[encoded data removed]",
      "text/plain": [
       "<Figure size 720x576 with 1 Axes>"
      ]
     },
     "metadata": {
      "needs_background": "light"
     },
     "output_type": "display_data"
    },
    {
     "name": "stdout",
     "output_type": "stream",
     "text": [
      "Средняя прибыль:  425938.53 тыс.руб\n",
      "95%-ый доверительный интервал: от -102090.09483793723 тыс.руб до 947976.353358369 тыс.руб\n",
      "Вероятность убытка: 6.0%\n"
     ]
    }
   ],
   "source": [
    "revenue(target1_valid,predict1)"
   ]
  },
  {
   "cell_type": "code",
   "execution_count": 29,
   "metadata": {},
   "outputs": [
    {
     "data": {
      "image/png": "[encoded data removed]",
      "text/plain": [
       "<Figure size 720x576 with 1 Axes>"
      ]
     },
     "metadata": {
      "needs_background": "light"
     },
     "output_type": "display_data"
    },
    {
     "name": "stdout",
     "output_type": "stream",
     "text": [
      "Средняя прибыль:  515222.77 тыс.руб\n",
      "95%-ый доверительный интервал: от 68873.22537050233 тыс.руб до 931547.5912570491 тыс.руб\n",
      "Вероятность убытка: 1.0%\n"
     ]
    }
   ],
   "source": [
    "revenue(target2_valid,predict2)"
   ]
  },
  {
   "cell_type": "code",
   "execution_count": 30,
   "metadata": {},
   "outputs": [
    {
     "data": {
      "image/png": "[encoded data removed]",
      "text/plain": [
       "<Figure size 720x576 with 1 Axes>"
      ]
     },
     "metadata": {
      "needs_background": "light"
     },
     "output_type": "display_data"
    },
    {
     "name": "stdout",
     "output_type": "stream",
     "text": [
      "Средняя прибыль:  435008.36 тыс.руб\n",
      "95%-ый доверительный интервал: от -128880.54732978888 тыс.руб до 969706.9541802666 тыс.руб\n",
      "Вероятность убытка: 6.4%\n"
     ]
    }
   ],
   "source": [
    "revenue(target3_valid,predict3)"
   ]
  },
  {
   "cell_type": "markdown",
   "metadata": {},
   "source": [
    "# Вывод\n",
    "Заказчику стоит выбрать второй регион для разработки скважин, это можно обяснить тем, что средняя прибыль в данном регионе наивысшая, а вероятность убытка удовлетворяет требованиям заказчика, а также является наименьшей среди 3 представленных регионов, а также тем, что доверительный интервал лишь 2-го региона не содержит отрицательных значений"
   ]
  },
  {
   "cell_type": "markdown",
   "metadata": {},
   "source": [
    "## Чек-лист готовности проекта"
   ]
  },
  {
   "cell_type": "markdown",
   "metadata": {},
   "source": [
    "Поставьте 'x' в выполненных пунктах. Далее нажмите Shift+Enter."
   ]
  },
  {
   "cell_type": "markdown",
   "metadata": {},
   "source": [
    "- [x]  Jupyter Notebook открыт\n",
    "- [x]  Весь код выполняется без ошибок\n",
    "- [x]  Ячейки с кодом расположены в порядке исполнения\n",
    "- [x]  Выполнен шаг 1: данные подготовлены\n",
    "- [x]  Выполнен шаг 2: модели обучены и проверены\n",
    "    - [x]  Данные корректно разбиты на обучающую и валидационную выборки\n",
    "    - [x]  Модели обучены, предсказания сделаны\n",
    "    - [x]  Предсказания и правильные ответы на валидационной выборке сохранены\n",
    "    - [x]  На экране напечатаны результаты\n",
    "    - [x]  Сделаны выводы\n",
    "- [x]  Выполнен шаг 3: проведена подготовка к расчёту прибыли\n",
    "    - [x]  Для всех ключевых значений созданы константы Python\n",
    "    - [x]  Посчитано минимальное среднее количество продукта в месторождениях региона, достаточное для разработки\n",
    "    - [x]  По предыдущему пункту сделаны выводы\n",
    "    - [x]  Написана функция расчёта прибыли\n",
    "- [x]  Выполнен шаг 4: посчитаны риски и прибыль\n",
    "    - [x]  Проведена процедура *Bootstrap*\n",
    "    - [x]  Все параметры бутстрепа соответствуют условию\n",
    "    - [x]  Найдены все нужные величины\n",
    "    - [x]  Предложен регион для разработки месторождения\n",
    "    - [x]  Выбор региона обоснован"
   ]
  },
  {
   "cell_type": "markdown",
   "metadata": {},
   "source": [
    "# Общий вывод\n",
    "Мы провелли исследование 3 регионов. Нами было обучено 3 модели линейной регрессии и на их основе получены пресдказания содержания сырья в скважинах. Изначально мы обнаружили, что среднего запаса сырья во всех регионах не хватает даже для безубыточной деятельности, однако позже выяснили, что если использовать только скважины с наибольшим содержанием в них сырья, то средний доход со 2-го региона составит 515 млн рублей, а риски убытков в этом регионе будут наименьшими, по сравнению с остальными регионами."
   ]
  }
 ],
 "metadata": {
  "ExecuteTimeLog": [
   {
    "duration": 1725,
    "start_time": "2024-04-22T14:14:57.481Z"
   },
   {
    "duration": 3,
    "start_time": "2024-04-22T14:15:09.948Z"
   },
   {
    "duration": 620,
    "start_time": "2024-04-22T14:15:13.791Z"
   },
   {
    "duration": 36,
    "start_time": "2024-04-22T14:15:28.878Z"
   },
   {
    "duration": 51,
    "start_time": "2024-04-22T14:16:42.547Z"
   },
   {
    "duration": 96,
    "start_time": "2024-04-22T14:17:03.936Z"
   },
   {
    "duration": 116,
    "start_time": "2024-04-22T14:18:19.110Z"
   },
   {
    "duration": 125,
    "start_time": "2024-04-22T14:18:29.689Z"
   },
   {
    "duration": 10,
    "start_time": "2024-04-22T14:31:53.329Z"
   },
   {
    "duration": 10,
    "start_time": "2024-04-22T14:32:01.820Z"
   },
   {
    "duration": 10,
    "start_time": "2024-04-22T14:32:12.572Z"
   },
   {
    "duration": 3,
    "start_time": "2024-04-22T14:32:18.526Z"
   },
   {
    "duration": 411,
    "start_time": "2024-04-22T14:32:19.096Z"
   },
   {
    "duration": 27,
    "start_time": "2024-04-22T14:32:20.600Z"
   },
   {
    "duration": 40,
    "start_time": "2024-04-22T14:32:21.127Z"
   },
   {
    "duration": 95,
    "start_time": "2024-04-22T14:32:21.611Z"
   },
   {
    "duration": 114,
    "start_time": "2024-04-22T14:32:22.120Z"
   },
   {
    "duration": 9,
    "start_time": "2024-04-22T14:32:22.533Z"
   },
   {
    "duration": 1401,
    "start_time": "2024-04-22T14:32:28.682Z"
   },
   {
    "duration": 390,
    "start_time": "2024-04-22T14:32:30.085Z"
   },
   {
    "duration": 33,
    "start_time": "2024-04-22T14:32:30.476Z"
   },
   {
    "duration": 134,
    "start_time": "2024-04-22T14:32:30.511Z"
   },
   {
    "duration": 118,
    "start_time": "2024-04-22T14:32:30.655Z"
   },
   {
    "duration": 119,
    "start_time": "2024-04-22T14:32:31.099Z"
   },
   {
    "duration": 100,
    "start_time": "2024-04-22T14:32:32.434Z"
   },
   {
    "duration": 63,
    "start_time": "2024-04-22T14:33:04.840Z"
   },
   {
    "duration": 12,
    "start_time": "2024-04-22T14:33:58.229Z"
   },
   {
    "duration": 412,
    "start_time": "2024-04-22T14:39:31.998Z"
   },
   {
    "duration": 355,
    "start_time": "2024-04-22T14:39:47.746Z"
   },
   {
    "duration": 555,
    "start_time": "2024-04-22T14:39:54.070Z"
   },
   {
    "duration": 444,
    "start_time": "2024-04-22T14:40:01.033Z"
   },
   {
    "duration": 237,
    "start_time": "2024-04-22T14:40:36.243Z"
   },
   {
    "duration": 221,
    "start_time": "2024-04-22T14:40:43.010Z"
   },
   {
    "duration": 168,
    "start_time": "2024-04-22T14:40:46.479Z"
   },
   {
    "duration": 2021,
    "start_time": "2024-04-22T14:41:05.290Z"
   },
   {
    "duration": 7,
    "start_time": "2024-04-22T14:41:24.229Z"
   },
   {
    "duration": 8,
    "start_time": "2024-04-22T14:41:29.645Z"
   },
   {
    "duration": 5,
    "start_time": "2024-04-22T14:41:35.288Z"
   },
   {
    "duration": 48,
    "start_time": "2024-04-22T14:41:46.459Z"
   },
   {
    "duration": 408,
    "start_time": "2024-04-22T14:43:28.924Z"
   },
   {
    "duration": 316,
    "start_time": "2024-04-22T14:44:08.106Z"
   },
   {
    "duration": 187,
    "start_time": "2024-04-22T14:44:28.815Z"
   },
   {
    "duration": 54,
    "start_time": "2024-04-22T14:45:45.481Z"
   },
   {
    "duration": 154,
    "start_time": "2024-04-22T14:45:49.267Z"
   },
   {
    "duration": 464,
    "start_time": "2024-04-22T14:48:42.462Z"
   },
   {
    "duration": 556,
    "start_time": "2024-04-22T14:48:51.307Z"
   },
   {
    "duration": 494,
    "start_time": "2024-04-22T14:49:04.746Z"
   },
   {
    "duration": 459,
    "start_time": "2024-04-22T14:49:13.697Z"
   },
   {
    "duration": 339,
    "start_time": "2024-04-22T14:49:54.476Z"
   },
   {
    "duration": 585,
    "start_time": "2024-04-22T14:50:14.256Z"
   },
   {
    "duration": 486,
    "start_time": "2024-04-22T14:51:01.016Z"
   },
   {
    "duration": 456,
    "start_time": "2024-04-22T14:51:06.374Z"
   },
   {
    "duration": 442,
    "start_time": "2024-04-22T14:51:12.435Z"
   },
   {
    "duration": 546,
    "start_time": "2024-04-22T14:51:26.737Z"
   },
   {
    "duration": 455,
    "start_time": "2024-04-22T14:51:33.450Z"
   },
   {
    "duration": 468,
    "start_time": "2024-04-22T14:51:42.454Z"
   },
   {
    "duration": 7,
    "start_time": "2024-04-22T14:54:35.494Z"
   },
   {
    "duration": 197,
    "start_time": "2024-04-22T14:55:11.968Z"
   },
   {
    "duration": 3,
    "start_time": "2024-04-22T14:55:37.511Z"
   },
   {
    "duration": 5,
    "start_time": "2024-04-22T14:55:41.922Z"
   },
   {
    "duration": 1288,
    "start_time": "2024-04-22T14:55:42.333Z"
   },
   {
    "duration": 63,
    "start_time": "2024-04-22T14:57:01.750Z"
   },
   {
    "duration": 5127,
    "start_time": "2024-04-22T14:57:10.951Z"
   },
   {
    "duration": 1063,
    "start_time": "2024-04-22T14:57:59.769Z"
   },
   {
    "duration": 3612,
    "start_time": "2024-04-22T14:58:42.503Z"
   },
   {
    "duration": 9,
    "start_time": "2024-04-22T15:00:03.165Z"
   },
   {
    "duration": 3697,
    "start_time": "2024-04-22T15:00:22.416Z"
   },
   {
    "duration": 3499,
    "start_time": "2024-04-22T15:01:02.933Z"
   },
   {
    "duration": 3712,
    "start_time": "2024-04-22T15:02:00.272Z"
   },
   {
    "duration": 3520,
    "start_time": "2024-04-22T15:02:09.039Z"
   },
   {
    "duration": 13,
    "start_time": "2024-04-22T15:36:34.823Z"
   },
   {
    "duration": 12,
    "start_time": "2024-04-22T15:36:47.631Z"
   },
   {
    "duration": 4,
    "start_time": "2024-04-22T15:37:59.318Z"
   },
   {
    "duration": 56,
    "start_time": "2024-04-22T15:43:15.416Z"
   },
   {
    "duration": 13,
    "start_time": "2024-04-22T15:43:28.777Z"
   },
   {
    "duration": 47,
    "start_time": "2024-04-22T15:43:29.324Z"
   },
   {
    "duration": 46,
    "start_time": "2024-04-22T15:43:29.761Z"
   },
   {
    "duration": 13,
    "start_time": "2024-04-22T15:43:41.001Z"
   },
   {
    "duration": 14,
    "start_time": "2024-04-22T15:43:41.572Z"
   },
   {
    "duration": 26,
    "start_time": "2024-04-22T15:47:22.761Z"
   },
   {
    "duration": 12,
    "start_time": "2024-04-22T15:51:05.109Z"
   },
   {
    "duration": 25,
    "start_time": "2024-04-22T15:51:36.950Z"
   },
   {
    "duration": 17,
    "start_time": "2024-04-22T15:51:41.161Z"
   },
   {
    "duration": 18,
    "start_time": "2024-04-22T15:51:41.953Z"
   },
   {
    "duration": 13,
    "start_time": "2024-04-22T15:51:45.782Z"
   },
   {
    "duration": 46,
    "start_time": "2024-04-22T15:54:15.686Z"
   },
   {
    "duration": 13,
    "start_time": "2024-04-22T15:54:19.342Z"
   },
   {
    "duration": 12,
    "start_time": "2024-04-22T16:07:46.413Z"
   },
   {
    "duration": 12,
    "start_time": "2024-04-22T16:09:11.002Z"
   },
   {
    "duration": 2636,
    "start_time": "2024-04-23T12:52:59.268Z"
   },
   {
    "duration": 1744,
    "start_time": "2024-04-23T12:53:01.907Z"
   },
   {
    "duration": 32,
    "start_time": "2024-04-23T12:53:03.653Z"
   },
   {
    "duration": 51,
    "start_time": "2024-04-23T12:53:03.687Z"
   },
   {
    "duration": 108,
    "start_time": "2024-04-23T12:53:03.739Z"
   },
   {
    "duration": 131,
    "start_time": "2024-04-23T12:53:03.849Z"
   },
   {
    "duration": 11,
    "start_time": "2024-04-23T12:53:03.981Z"
   },
   {
    "duration": 21,
    "start_time": "2024-04-23T12:53:03.994Z"
   },
   {
    "duration": 3803,
    "start_time": "2024-04-23T12:53:04.016Z"
   },
   {
    "duration": 9,
    "start_time": "2024-04-23T12:53:07.821Z"
   },
   {
    "duration": 31,
    "start_time": "2024-04-23T12:53:07.832Z"
   },
   {
    "duration": 13,
    "start_time": "2024-04-23T12:53:07.864Z"
   },
   {
    "duration": 13,
    "start_time": "2024-04-23T12:53:07.879Z"
   },
   {
    "duration": 223,
    "start_time": "2024-04-23T12:53:07.893Z"
   },
   {
    "duration": 15,
    "start_time": "2024-04-23T12:53:08.117Z"
   },
   {
    "duration": 184,
    "start_time": "2024-04-23T12:53:08.134Z"
   },
   {
    "duration": 96,
    "start_time": "2024-04-23T12:53:08.321Z"
   },
   {
    "duration": 3,
    "start_time": "2024-04-23T12:58:23.374Z"
   },
   {
    "duration": 80,
    "start_time": "2024-04-23T12:59:29.269Z"
   },
   {
    "duration": 7,
    "start_time": "2024-04-23T12:59:37.936Z"
   },
   {
    "duration": 5,
    "start_time": "2024-04-23T12:59:48.978Z"
   },
   {
    "duration": 6,
    "start_time": "2024-04-23T13:00:29.773Z"
   },
   {
    "duration": 7,
    "start_time": "2024-04-23T13:00:59.143Z"
   },
   {
    "duration": 6,
    "start_time": "2024-04-23T13:01:20.693Z"
   },
   {
    "duration": 7,
    "start_time": "2024-04-23T13:01:28.695Z"
   },
   {
    "duration": 7,
    "start_time": "2024-04-23T13:03:52.000Z"
   },
   {
    "duration": 6,
    "start_time": "2024-04-23T13:04:30.477Z"
   },
   {
    "duration": 7,
    "start_time": "2024-04-23T13:04:37.260Z"
   },
   {
    "duration": 8,
    "start_time": "2024-04-23T13:05:43.437Z"
   },
   {
    "duration": 7,
    "start_time": "2024-04-23T13:05:57.984Z"
   },
   {
    "duration": 7,
    "start_time": "2024-04-23T13:06:00.980Z"
   },
   {
    "duration": 7,
    "start_time": "2024-04-23T13:06:34.525Z"
   },
   {
    "duration": 11,
    "start_time": "2024-04-23T13:12:33.414Z"
   },
   {
    "duration": 8,
    "start_time": "2024-04-23T13:14:22.576Z"
   },
   {
    "duration": 12,
    "start_time": "2024-04-23T13:14:26.611Z"
   },
   {
    "duration": 13,
    "start_time": "2024-04-23T13:19:35.838Z"
   },
   {
    "duration": 15,
    "start_time": "2024-04-23T13:20:31.647Z"
   },
   {
    "duration": 12,
    "start_time": "2024-04-23T13:20:53.251Z"
   },
   {
    "duration": 13,
    "start_time": "2024-04-23T13:21:06.138Z"
   },
   {
    "duration": 17,
    "start_time": "2024-04-23T13:21:23.042Z"
   },
   {
    "duration": 3,
    "start_time": "2024-04-23T13:31:00.669Z"
   },
   {
    "duration": 9,
    "start_time": "2024-04-23T13:31:06.140Z"
   },
   {
    "duration": 103,
    "start_time": "2024-04-23T13:31:24.578Z"
   },
   {
    "duration": 9,
    "start_time": "2024-04-23T13:31:43.992Z"
   },
   {
    "duration": 14,
    "start_time": "2024-04-23T13:31:54.814Z"
   },
   {
    "duration": 8,
    "start_time": "2024-04-23T13:32:16.508Z"
   },
   {
    "duration": 15,
    "start_time": "2024-04-23T13:33:28.075Z"
   },
   {
    "duration": 9,
    "start_time": "2024-04-23T13:34:00.161Z"
   },
   {
    "duration": 9,
    "start_time": "2024-04-23T13:34:11.203Z"
   },
   {
    "duration": 13,
    "start_time": "2024-04-23T13:34:22.988Z"
   },
   {
    "duration": 14,
    "start_time": "2024-04-23T13:34:32.196Z"
   },
   {
    "duration": 13,
    "start_time": "2024-04-23T13:34:38.565Z"
   },
   {
    "duration": 13,
    "start_time": "2024-04-23T13:34:41.816Z"
   },
   {
    "duration": 14,
    "start_time": "2024-04-23T13:35:11.450Z"
   },
   {
    "duration": 5,
    "start_time": "2024-04-23T13:35:28.747Z"
   },
   {
    "duration": 8,
    "start_time": "2024-04-23T13:35:37.363Z"
   },
   {
    "duration": 9,
    "start_time": "2024-04-23T13:35:47.933Z"
   },
   {
    "duration": 11,
    "start_time": "2024-04-23T13:36:13.527Z"
   },
   {
    "duration": 8,
    "start_time": "2024-04-23T13:36:23.400Z"
   },
   {
    "duration": 11,
    "start_time": "2024-04-23T13:36:36.815Z"
   },
   {
    "duration": 9,
    "start_time": "2024-04-23T13:36:44.682Z"
   },
   {
    "duration": 3,
    "start_time": "2024-04-23T13:41:04.176Z"
   },
   {
    "duration": 4,
    "start_time": "2024-04-23T13:41:22.138Z"
   },
   {
    "duration": 14,
    "start_time": "2024-04-23T13:41:36.045Z"
   },
   {
    "duration": 11,
    "start_time": "2024-04-23T13:41:58.766Z"
   },
   {
    "duration": 6,
    "start_time": "2024-04-23T13:42:04.458Z"
   },
   {
    "duration": 8,
    "start_time": "2024-04-23T13:42:10.849Z"
   },
   {
    "duration": 7,
    "start_time": "2024-04-23T13:42:15.214Z"
   },
   {
    "duration": 11,
    "start_time": "2024-04-23T13:42:31.899Z"
   },
   {
    "duration": 9,
    "start_time": "2024-04-23T13:42:45.887Z"
   },
   {
    "duration": 4,
    "start_time": "2024-04-23T13:46:07.265Z"
   },
   {
    "duration": 3,
    "start_time": "2024-04-23T13:46:23.576Z"
   },
   {
    "duration": 14,
    "start_time": "2024-04-23T13:46:23.893Z"
   },
   {
    "duration": 11,
    "start_time": "2024-04-23T13:46:52.729Z"
   },
   {
    "duration": 3,
    "start_time": "2024-04-23T13:47:35.107Z"
   },
   {
    "duration": 13,
    "start_time": "2024-04-23T13:47:42.389Z"
   },
   {
    "duration": 4,
    "start_time": "2024-04-23T13:47:49.165Z"
   },
   {
    "duration": 14,
    "start_time": "2024-04-23T13:47:49.550Z"
   },
   {
    "duration": 3,
    "start_time": "2024-04-23T13:47:54.909Z"
   },
   {
    "duration": 6,
    "start_time": "2024-04-23T13:47:55.186Z"
   },
   {
    "duration": 7,
    "start_time": "2024-04-23T13:48:19.121Z"
   },
   {
    "duration": 7,
    "start_time": "2024-04-23T13:48:48.271Z"
   },
   {
    "duration": 6,
    "start_time": "2024-04-23T13:48:50.212Z"
   },
   {
    "duration": 3,
    "start_time": "2024-04-23T13:49:10.297Z"
   },
   {
    "duration": 6,
    "start_time": "2024-04-23T13:49:10.823Z"
   },
   {
    "duration": 6,
    "start_time": "2024-04-23T13:49:11.592Z"
   },
   {
    "duration": 7,
    "start_time": "2024-04-23T13:49:12.377Z"
   },
   {
    "duration": 4,
    "start_time": "2024-04-23T13:49:19.821Z"
   },
   {
    "duration": 7,
    "start_time": "2024-04-23T13:49:20.221Z"
   },
   {
    "duration": 6,
    "start_time": "2024-04-23T13:49:20.833Z"
   },
   {
    "duration": 6,
    "start_time": "2024-04-23T13:49:21.429Z"
   },
   {
    "duration": 4,
    "start_time": "2024-04-23T13:56:07.602Z"
   },
   {
    "duration": 4,
    "start_time": "2024-04-23T13:56:08.282Z"
   },
   {
    "duration": 4,
    "start_time": "2024-04-23T13:56:18.741Z"
   },
   {
    "duration": 3,
    "start_time": "2024-04-23T13:57:10.481Z"
   },
   {
    "duration": 33,
    "start_time": "2024-04-23T13:57:18.630Z"
   },
   {
    "duration": 10,
    "start_time": "2024-04-23T13:57:50.876Z"
   },
   {
    "duration": 13,
    "start_time": "2024-04-23T13:58:01.722Z"
   },
   {
    "duration": 9,
    "start_time": "2024-04-23T13:58:06.043Z"
   },
   {
    "duration": 13,
    "start_time": "2024-04-23T13:58:21.197Z"
   },
   {
    "duration": 14,
    "start_time": "2024-04-23T14:06:21.437Z"
   },
   {
    "duration": 14,
    "start_time": "2024-04-23T14:16:13.699Z"
   },
   {
    "duration": 6,
    "start_time": "2024-04-23T14:17:36.985Z"
   },
   {
    "duration": 6,
    "start_time": "2024-04-23T14:17:42.079Z"
   },
   {
    "duration": 13,
    "start_time": "2024-04-23T14:18:06.771Z"
   },
   {
    "duration": 7,
    "start_time": "2024-04-23T14:18:20.629Z"
   },
   {
    "duration": 15,
    "start_time": "2024-04-23T14:18:21.162Z"
   },
   {
    "duration": 6,
    "start_time": "2024-04-23T14:28:32.369Z"
   },
   {
    "duration": 4,
    "start_time": "2024-04-23T14:29:04.145Z"
   },
   {
    "duration": 7,
    "start_time": "2024-04-23T14:29:04.843Z"
   },
   {
    "duration": 3,
    "start_time": "2024-04-23T14:29:10.432Z"
   },
   {
    "duration": 9,
    "start_time": "2024-04-23T14:29:11.199Z"
   },
   {
    "duration": 6,
    "start_time": "2024-04-23T14:29:31.830Z"
   },
   {
    "duration": 18,
    "start_time": "2024-04-23T14:29:54.924Z"
   },
   {
    "duration": 3,
    "start_time": "2024-04-23T14:31:04.163Z"
   },
   {
    "duration": 7,
    "start_time": "2024-04-23T14:31:04.558Z"
   },
   {
    "duration": 1480,
    "start_time": "2024-04-23T14:31:22.008Z"
   },
   {
    "duration": 3,
    "start_time": "2024-04-23T14:34:29.527Z"
   },
   {
    "duration": 7,
    "start_time": "2024-04-23T14:34:30.081Z"
   },
   {
    "duration": 1507,
    "start_time": "2024-04-23T14:34:31.596Z"
   },
   {
    "duration": 108,
    "start_time": "2024-04-23T14:37:51.821Z"
   },
   {
    "duration": 1417,
    "start_time": "2024-04-23T14:37:52.282Z"
   },
   {
    "duration": 7,
    "start_time": "2024-04-23T14:38:06.899Z"
   },
   {
    "duration": 1483,
    "start_time": "2024-04-23T14:38:08.440Z"
   },
   {
    "duration": 6,
    "start_time": "2024-04-23T14:41:37.154Z"
   },
   {
    "duration": 1459,
    "start_time": "2024-04-23T14:41:37.452Z"
   },
   {
    "duration": 100,
    "start_time": "2024-04-23T14:43:12.739Z"
   },
   {
    "duration": 6,
    "start_time": "2024-04-23T14:43:20.550Z"
   },
   {
    "duration": 1456,
    "start_time": "2024-04-23T14:43:20.934Z"
   },
   {
    "duration": 14,
    "start_time": "2024-04-23T14:43:33.628Z"
   },
   {
    "duration": 3,
    "start_time": "2024-04-23T14:43:45.371Z"
   },
   {
    "duration": 6,
    "start_time": "2024-04-23T14:43:45.709Z"
   },
   {
    "duration": 21,
    "start_time": "2024-04-23T14:43:46.237Z"
   },
   {
    "duration": 4,
    "start_time": "2024-04-23T14:44:35.154Z"
   },
   {
    "duration": 6,
    "start_time": "2024-04-23T14:44:35.518Z"
   },
   {
    "duration": 14,
    "start_time": "2024-04-23T14:44:36.952Z"
   },
   {
    "duration": 3,
    "start_time": "2024-04-23T14:45:00.884Z"
   },
   {
    "duration": 6,
    "start_time": "2024-04-23T14:45:01.252Z"
   },
   {
    "duration": 886,
    "start_time": "2024-04-23T14:45:01.685Z"
   },
   {
    "duration": 5,
    "start_time": "2024-04-23T14:46:21.553Z"
   },
   {
    "duration": 911,
    "start_time": "2024-04-23T14:46:22.173Z"
   },
   {
    "duration": 6,
    "start_time": "2024-04-23T14:47:06.175Z"
   },
   {
    "duration": 880,
    "start_time": "2024-04-23T14:47:06.577Z"
   },
   {
    "duration": 6,
    "start_time": "2024-04-23T14:48:34.817Z"
   },
   {
    "duration": 13,
    "start_time": "2024-04-23T14:48:48.721Z"
   },
   {
    "duration": 6,
    "start_time": "2024-04-23T14:48:56.830Z"
   },
   {
    "duration": 12,
    "start_time": "2024-04-23T14:48:58.330Z"
   },
   {
    "duration": 871,
    "start_time": "2024-04-23T14:49:24.189Z"
   },
   {
    "duration": 6,
    "start_time": "2024-04-23T14:49:45.176Z"
   },
   {
    "duration": 1005,
    "start_time": "2024-04-23T14:49:45.552Z"
   },
   {
    "duration": 6,
    "start_time": "2024-04-23T14:49:58.187Z"
   },
   {
    "duration": 1024,
    "start_time": "2024-04-23T14:49:58.731Z"
   },
   {
    "duration": 99,
    "start_time": "2024-04-23T14:51:55.268Z"
   },
   {
    "duration": 103,
    "start_time": "2024-04-23T14:52:14.725Z"
   },
   {
    "duration": 6,
    "start_time": "2024-04-23T14:52:19.025Z"
   },
   {
    "duration": 6,
    "start_time": "2024-04-23T14:52:54.003Z"
   },
   {
    "duration": 12,
    "start_time": "2024-04-23T14:53:05.520Z"
   },
   {
    "duration": 6,
    "start_time": "2024-04-23T14:53:12.288Z"
   },
   {
    "duration": 1666,
    "start_time": "2024-04-23T14:53:12.562Z"
   },
   {
    "duration": 6,
    "start_time": "2024-04-23T14:54:02.169Z"
   },
   {
    "duration": 13,
    "start_time": "2024-04-23T14:54:02.691Z"
   },
   {
    "duration": 112,
    "start_time": "2024-04-23T14:54:07.752Z"
   },
   {
    "duration": 13,
    "start_time": "2024-04-23T14:54:08.149Z"
   },
   {
    "duration": 5,
    "start_time": "2024-04-23T14:54:18.888Z"
   },
   {
    "duration": 1002,
    "start_time": "2024-04-23T14:54:19.696Z"
   },
   {
    "duration": 3,
    "start_time": "2024-04-23T14:54:25.185Z"
   },
   {
    "duration": 6,
    "start_time": "2024-04-23T14:54:35.860Z"
   },
   {
    "duration": 17,
    "start_time": "2024-04-23T14:54:38.891Z"
   },
   {
    "duration": 4,
    "start_time": "2024-04-23T14:54:49.822Z"
   },
   {
    "duration": 6,
    "start_time": "2024-04-23T14:54:51.391Z"
   },
   {
    "duration": 1623,
    "start_time": "2024-04-23T14:54:51.876Z"
   },
   {
    "duration": 3,
    "start_time": "2024-04-23T14:55:36.351Z"
   },
   {
    "duration": 6,
    "start_time": "2024-04-23T14:55:37.826Z"
   },
   {
    "duration": 12,
    "start_time": "2024-04-23T14:55:38.616Z"
   },
   {
    "duration": 6,
    "start_time": "2024-04-23T14:55:46.467Z"
   },
   {
    "duration": 1469,
    "start_time": "2024-04-23T14:55:47.184Z"
   },
   {
    "duration": 998,
    "start_time": "2024-04-23T14:55:55.820Z"
   },
   {
    "duration": 112,
    "start_time": "2024-04-23T14:56:12.998Z"
   },
   {
    "duration": 1439,
    "start_time": "2024-04-23T14:56:14.402Z"
   },
   {
    "duration": 5,
    "start_time": "2024-04-23T14:56:33.912Z"
   },
   {
    "duration": 1643,
    "start_time": "2024-04-23T14:56:34.450Z"
   },
   {
    "duration": 6,
    "start_time": "2024-04-23T14:56:45.574Z"
   },
   {
    "duration": 1661,
    "start_time": "2024-04-23T14:56:46.158Z"
   },
   {
    "duration": 6,
    "start_time": "2024-04-23T14:57:47.059Z"
   },
   {
    "duration": 830,
    "start_time": "2024-04-23T14:57:50.427Z"
   },
   {
    "duration": 6,
    "start_time": "2024-04-23T14:58:05.876Z"
   },
   {
    "duration": 1498,
    "start_time": "2024-04-23T14:58:07.492Z"
   },
   {
    "duration": 6,
    "start_time": "2024-04-23T14:58:59.345Z"
   },
   {
    "duration": 822,
    "start_time": "2024-04-23T14:58:59.875Z"
   },
   {
    "duration": 3,
    "start_time": "2024-04-23T15:00:03.722Z"
   },
   {
    "duration": 6,
    "start_time": "2024-04-23T15:00:05.854Z"
   },
   {
    "duration": 6,
    "start_time": "2024-04-23T15:00:07.093Z"
   },
   {
    "duration": 852,
    "start_time": "2024-04-23T15:00:08.113Z"
   },
   {
    "duration": 819,
    "start_time": "2024-04-23T15:00:08.966Z"
   },
   {
    "duration": 6,
    "start_time": "2024-04-23T15:00:33.832Z"
   },
   {
    "duration": 1459,
    "start_time": "2024-04-23T15:00:34.602Z"
   },
   {
    "duration": 4,
    "start_time": "2024-04-23T15:01:29.619Z"
   },
   {
    "duration": 7,
    "start_time": "2024-04-23T15:01:31.278Z"
   },
   {
    "duration": 1305,
    "start_time": "2024-04-23T15:01:33.972Z"
   },
   {
    "duration": 4,
    "start_time": "2024-04-23T15:02:08.821Z"
   },
   {
    "duration": 7,
    "start_time": "2024-04-23T15:02:10.105Z"
   },
   {
    "duration": 1420,
    "start_time": "2024-04-23T15:02:12.886Z"
   },
   {
    "duration": 95,
    "start_time": "2024-04-23T15:02:37.986Z"
   },
   {
    "duration": 1437,
    "start_time": "2024-04-23T15:02:40.889Z"
   },
   {
    "duration": 7,
    "start_time": "2024-04-23T15:03:56.124Z"
   },
   {
    "duration": 1431,
    "start_time": "2024-04-23T15:03:56.496Z"
   },
   {
    "duration": 6,
    "start_time": "2024-04-23T15:05:12.982Z"
   },
   {
    "duration": 1469,
    "start_time": "2024-04-23T15:05:13.482Z"
   },
   {
    "duration": 1437,
    "start_time": "2024-04-23T15:05:40.633Z"
   },
   {
    "duration": 1490,
    "start_time": "2024-04-23T15:05:54.878Z"
   },
   {
    "duration": 9,
    "start_time": "2024-04-23T15:10:33.737Z"
   },
   {
    "duration": 1543,
    "start_time": "2024-04-23T15:12:34.794Z"
   },
   {
    "duration": 421,
    "start_time": "2024-04-23T15:12:36.338Z"
   },
   {
    "duration": 33,
    "start_time": "2024-04-23T15:12:36.816Z"
   },
   {
    "duration": 39,
    "start_time": "2024-04-23T15:12:37.371Z"
   },
   {
    "duration": 105,
    "start_time": "2024-04-23T15:12:37.991Z"
   },
   {
    "duration": 116,
    "start_time": "2024-04-23T15:12:38.505Z"
   },
   {
    "duration": 11,
    "start_time": "2024-04-23T15:12:39.427Z"
   },
   {
    "duration": 5,
    "start_time": "2024-04-23T15:12:40.279Z"
   },
   {
    "duration": 3597,
    "start_time": "2024-04-23T15:12:40.999Z"
   },
   {
    "duration": 9,
    "start_time": "2024-04-23T15:13:06.193Z"
   },
   {
    "duration": 12,
    "start_time": "2024-04-23T15:13:07.877Z"
   },
   {
    "duration": 14,
    "start_time": "2024-04-23T15:13:08.230Z"
   },
   {
    "duration": 12,
    "start_time": "2024-04-23T15:13:08.581Z"
   },
   {
    "duration": 8,
    "start_time": "2024-04-23T15:14:00.343Z"
   },
   {
    "duration": 13,
    "start_time": "2024-04-23T15:14:14.906Z"
   },
   {
    "duration": 10,
    "start_time": "2024-04-23T15:14:15.207Z"
   },
   {
    "duration": 10,
    "start_time": "2024-04-23T15:14:15.562Z"
   },
   {
    "duration": 18,
    "start_time": "2024-04-23T15:14:15.969Z"
   },
   {
    "duration": 13,
    "start_time": "2024-04-23T15:14:21.139Z"
   },
   {
    "duration": 13,
    "start_time": "2024-04-23T15:14:24.164Z"
   },
   {
    "duration": 11,
    "start_time": "2024-04-23T15:14:24.849Z"
   },
   {
    "duration": 3,
    "start_time": "2024-04-23T15:14:31.578Z"
   },
   {
    "duration": 9,
    "start_time": "2024-04-23T15:14:31.951Z"
   },
   {
    "duration": 7,
    "start_time": "2024-04-23T15:14:44.530Z"
   },
   {
    "duration": 24,
    "start_time": "2024-04-23T15:15:19.310Z"
   },
   {
    "duration": 14,
    "start_time": "2024-04-23T15:15:39.630Z"
   },
   {
    "duration": 4,
    "start_time": "2024-04-23T15:16:04.724Z"
   },
   {
    "duration": 7,
    "start_time": "2024-04-23T15:16:05.526Z"
   },
   {
    "duration": 8,
    "start_time": "2024-04-23T15:16:06.468Z"
   },
   {
    "duration": 4,
    "start_time": "2024-04-23T15:16:11.036Z"
   },
   {
    "duration": 6,
    "start_time": "2024-04-23T15:16:11.552Z"
   },
   {
    "duration": 6,
    "start_time": "2024-04-23T15:16:12.259Z"
   },
   {
    "duration": 7,
    "start_time": "2024-04-23T15:16:12.974Z"
   },
   {
    "duration": 3,
    "start_time": "2024-04-23T15:19:56.579Z"
   },
   {
    "duration": 6,
    "start_time": "2024-04-23T15:22:31.466Z"
   },
   {
    "duration": 113,
    "start_time": "2024-04-23T15:22:31.973Z"
   },
   {
    "duration": 3,
    "start_time": "2024-04-23T15:22:37.037Z"
   },
   {
    "duration": 6,
    "start_time": "2024-04-23T15:22:37.544Z"
   },
   {
    "duration": 1483,
    "start_time": "2024-04-23T15:22:37.950Z"
   },
   {
    "duration": 1438,
    "start_time": "2024-04-23T15:22:41.207Z"
   },
   {
    "duration": 1447,
    "start_time": "2024-04-23T15:22:42.647Z"
   },
   {
    "duration": 1474,
    "start_time": "2024-04-23T15:31:58.306Z"
   },
   {
    "duration": 417,
    "start_time": "2024-04-23T15:31:59.782Z"
   },
   {
    "duration": 39,
    "start_time": "2024-04-23T15:32:00.200Z"
   },
   {
    "duration": 108,
    "start_time": "2024-04-23T15:32:00.241Z"
   },
   {
    "duration": 117,
    "start_time": "2024-04-23T15:32:00.350Z"
   },
   {
    "duration": 124,
    "start_time": "2024-04-23T15:32:00.468Z"
   },
   {
    "duration": 21,
    "start_time": "2024-04-23T15:32:00.594Z"
   },
   {
    "duration": 107,
    "start_time": "2024-04-23T15:32:00.617Z"
   },
   {
    "duration": 3619,
    "start_time": "2024-04-23T15:32:00.726Z"
   },
   {
    "duration": 8,
    "start_time": "2024-04-23T15:32:04.347Z"
   },
   {
    "duration": 13,
    "start_time": "2024-04-23T15:32:04.356Z"
   },
   {
    "duration": 13,
    "start_time": "2024-04-23T15:32:04.371Z"
   },
   {
    "duration": 33,
    "start_time": "2024-04-23T15:32:04.386Z"
   },
   {
    "duration": 94,
    "start_time": "2024-04-23T15:32:04.421Z"
   },
   {
    "duration": 104,
    "start_time": "2024-04-23T15:32:04.517Z"
   },
   {
    "duration": 101,
    "start_time": "2024-04-23T15:32:04.624Z"
   },
   {
    "duration": 101,
    "start_time": "2024-04-23T15:32:04.816Z"
   },
   {
    "duration": 13,
    "start_time": "2024-04-23T15:32:04.920Z"
   },
   {
    "duration": 12,
    "start_time": "2024-04-23T15:32:04.934Z"
   },
   {
    "duration": 39,
    "start_time": "2024-04-23T15:32:04.948Z"
   },
   {
    "duration": 27,
    "start_time": "2024-04-23T15:32:04.989Z"
   },
   {
    "duration": 4,
    "start_time": "2024-04-23T15:32:05.018Z"
   },
   {
    "duration": 27,
    "start_time": "2024-04-23T15:32:05.024Z"
   },
   {
    "duration": 13,
    "start_time": "2024-04-23T15:32:05.052Z"
   },
   {
    "duration": 18,
    "start_time": "2024-04-23T15:32:05.068Z"
   },
   {
    "duration": 3,
    "start_time": "2024-04-23T15:32:05.574Z"
   },
   {
    "duration": 6,
    "start_time": "2024-04-23T15:32:05.764Z"
   },
   {
    "duration": 1490,
    "start_time": "2024-04-23T15:32:05.946Z"
   },
   {
    "duration": 1504,
    "start_time": "2024-04-23T15:32:07.437Z"
   },
   {
    "duration": 1472,
    "start_time": "2024-04-23T15:32:08.942Z"
   },
   {
    "duration": 4372,
    "start_time": "2024-04-23T20:36:50.013Z"
   },
   {
    "duration": 1679,
    "start_time": "2024-04-23T20:36:54.387Z"
   },
   {
    "duration": 30,
    "start_time": "2024-04-23T20:36:56.068Z"
   },
   {
    "duration": 36,
    "start_time": "2024-04-23T20:36:56.100Z"
   },
   {
    "duration": 113,
    "start_time": "2024-04-23T20:36:56.138Z"
   },
   {
    "duration": 127,
    "start_time": "2024-04-23T20:36:56.253Z"
   },
   {
    "duration": 13,
    "start_time": "2024-04-23T20:36:56.382Z"
   },
   {
    "duration": 14,
    "start_time": "2024-04-23T20:36:56.396Z"
   },
   {
    "duration": 3344,
    "start_time": "2024-04-23T20:36:56.412Z"
   },
   {
    "duration": 8,
    "start_time": "2024-04-23T20:36:59.757Z"
   },
   {
    "duration": 17,
    "start_time": "2024-04-23T20:36:59.774Z"
   },
   {
    "duration": 12,
    "start_time": "2024-04-23T20:36:59.793Z"
   },
   {
    "duration": 51,
    "start_time": "2024-04-23T20:36:59.806Z"
   },
   {
    "duration": 215,
    "start_time": "2024-04-23T20:36:59.860Z"
   },
   {
    "duration": 14,
    "start_time": "2024-04-23T20:37:00.077Z"
   },
   {
    "duration": 195,
    "start_time": "2024-04-23T20:37:00.093Z"
   },
   {
    "duration": 245,
    "start_time": "2024-04-23T20:37:00.290Z"
   },
   {
    "duration": 91,
    "start_time": "2024-04-23T20:37:00.536Z"
   },
   {
    "duration": 106,
    "start_time": "2024-04-23T20:37:00.629Z"
   },
   {
    "duration": 174,
    "start_time": "2024-04-23T20:37:00.737Z"
   },
   {
    "duration": 76,
    "start_time": "2024-04-23T20:37:00.913Z"
   },
   {
    "duration": 135,
    "start_time": "2024-04-23T20:37:00.991Z"
   },
   {
    "duration": 454,
    "start_time": "2024-04-23T20:37:01.127Z"
   },
   {
    "duration": 190,
    "start_time": "2024-04-23T20:37:01.583Z"
   },
   {
    "duration": 224,
    "start_time": "2024-04-23T20:37:01.775Z"
   },
   {
    "duration": 166,
    "start_time": "2024-04-23T20:37:02.001Z"
   },
   {
    "duration": 53,
    "start_time": "2024-04-23T20:37:02.169Z"
   },
   {
    "duration": 1481,
    "start_time": "2024-04-23T20:37:02.223Z"
   },
   {
    "duration": 1424,
    "start_time": "2024-04-23T20:37:03.705Z"
   },
   {
    "duration": 1416,
    "start_time": "2024-04-23T20:37:05.131Z"
   },
   {
    "duration": 4330,
    "start_time": "2024-04-23T20:37:47.774Z"
   },
   {
    "duration": 4235,
    "start_time": "2024-04-23T20:37:54.659Z"
   },
   {
    "duration": 4267,
    "start_time": "2024-04-23T20:38:10.122Z"
   },
   {
    "duration": 5559,
    "start_time": "2024-04-23T20:38:16.067Z"
   },
   {
    "duration": 83,
    "start_time": "2024-04-23T20:38:25.643Z"
   },
   {
    "duration": 4504,
    "start_time": "2024-04-23T20:38:28.222Z"
   },
   {
    "duration": 4,
    "start_time": "2024-04-23T20:39:07.853Z"
   },
   {
    "duration": 4,
    "start_time": "2024-04-23T20:39:08.599Z"
   },
   {
    "duration": 312,
    "start_time": "2024-04-23T20:39:08.773Z"
   },
   {
    "duration": 5,
    "start_time": "2024-04-23T20:39:13.642Z"
   },
   {
    "duration": 191,
    "start_time": "2024-04-23T20:39:13.817Z"
   },
   {
    "duration": 6,
    "start_time": "2024-04-23T20:39:30.013Z"
   },
   {
    "duration": 4371,
    "start_time": "2024-04-23T20:39:30.257Z"
   },
   {
    "duration": 14,
    "start_time": "2024-04-23T20:40:00.542Z"
   },
   {
    "duration": 5,
    "start_time": "2024-04-23T20:40:02.041Z"
   },
   {
    "duration": 4268,
    "start_time": "2024-04-23T20:40:02.242Z"
   },
   {
    "duration": 103,
    "start_time": "2024-04-23T20:46:33.491Z"
   },
   {
    "duration": 1727,
    "start_time": "2024-04-24T08:27:09.120Z"
   },
   {
    "duration": 1690,
    "start_time": "2024-04-24T08:27:10.850Z"
   },
   {
    "duration": 50,
    "start_time": "2024-04-24T08:27:12.542Z"
   },
   {
    "duration": 46,
    "start_time": "2024-04-24T08:27:12.594Z"
   },
   {
    "duration": 150,
    "start_time": "2024-04-24T08:27:12.641Z"
   },
   {
    "duration": 134,
    "start_time": "2024-04-24T08:27:12.794Z"
   },
   {
    "duration": 16,
    "start_time": "2024-04-24T08:27:12.930Z"
   },
   {
    "duration": 16,
    "start_time": "2024-04-24T08:27:12.948Z"
   },
   {
    "duration": 4088,
    "start_time": "2024-04-24T08:27:12.966Z"
   },
   {
    "duration": 8,
    "start_time": "2024-04-24T08:27:17.057Z"
   },
   {
    "duration": 36,
    "start_time": "2024-04-24T08:27:17.067Z"
   },
   {
    "duration": 34,
    "start_time": "2024-04-24T08:27:17.105Z"
   },
   {
    "duration": 20,
    "start_time": "2024-04-24T08:27:17.140Z"
   },
   {
    "duration": 130,
    "start_time": "2024-04-24T08:27:17.162Z"
   },
   {
    "duration": 104,
    "start_time": "2024-04-24T08:27:17.294Z"
   },
   {
    "duration": 189,
    "start_time": "2024-04-24T08:27:17.400Z"
   },
   {
    "duration": 194,
    "start_time": "2024-04-24T08:27:17.592Z"
   },
   {
    "duration": 29,
    "start_time": "2024-04-24T08:27:17.788Z"
   },
   {
    "duration": 16,
    "start_time": "2024-04-24T08:27:17.819Z"
   },
   {
    "duration": 57,
    "start_time": "2024-04-24T08:27:17.836Z"
   },
   {
    "duration": 14,
    "start_time": "2024-04-24T08:27:17.895Z"
   },
   {
    "duration": 4,
    "start_time": "2024-04-24T08:27:20.873Z"
   },
   {
    "duration": 8,
    "start_time": "2024-04-24T08:27:22.281Z"
   },
   {
    "duration": 7,
    "start_time": "2024-04-24T08:27:23.243Z"
   },
   {
    "duration": 7,
    "start_time": "2024-04-24T08:27:24.058Z"
   },
   {
    "duration": 4,
    "start_time": "2024-04-24T08:27:26.718Z"
   },
   {
    "duration": 1304,
    "start_time": "2024-05-27T20:35:43.471Z"
   },
   {
    "duration": 635,
    "start_time": "2024-05-27T20:35:44.777Z"
   },
   {
    "duration": 32,
    "start_time": "2024-05-27T20:35:45.414Z"
   },
   {
    "duration": 41,
    "start_time": "2024-05-27T20:35:45.448Z"
   },
   {
    "duration": 109,
    "start_time": "2024-05-27T20:35:45.490Z"
   },
   {
    "duration": 139,
    "start_time": "2024-05-27T20:35:45.600Z"
   },
   {
    "duration": 25,
    "start_time": "2024-05-27T20:35:45.741Z"
   },
   {
    "duration": 5,
    "start_time": "2024-05-27T20:35:45.767Z"
   },
   {
    "duration": 3628,
    "start_time": "2024-05-27T20:35:45.774Z"
   },
   {
    "duration": 11,
    "start_time": "2024-05-27T20:35:49.405Z"
   },
   {
    "duration": 16,
    "start_time": "2024-05-27T20:35:49.417Z"
   },
   {
    "duration": 30,
    "start_time": "2024-05-27T20:35:49.435Z"
   },
   {
    "duration": 12,
    "start_time": "2024-05-27T20:35:49.467Z"
   },
   {
    "duration": 184,
    "start_time": "2024-05-27T20:35:49.481Z"
   },
   {
    "duration": 100,
    "start_time": "2024-05-27T20:35:49.667Z"
   },
   {
    "duration": 95,
    "start_time": "2024-05-27T20:35:49.774Z"
   },
   {
    "duration": 98,
    "start_time": "2024-05-27T20:35:49.871Z"
   },
   {
    "duration": 93,
    "start_time": "2024-05-27T20:35:49.972Z"
   },
   {
    "duration": 68,
    "start_time": "2024-05-27T20:35:50.067Z"
   },
   {
    "duration": 23,
    "start_time": "2024-05-27T20:35:50.136Z"
   },
   {
    "duration": 13,
    "start_time": "2024-05-27T20:35:50.160Z"
   },
   {
    "duration": 3,
    "start_time": "2024-05-27T20:35:50.174Z"
   },
   {
    "duration": 7,
    "start_time": "2024-05-27T20:35:50.178Z"
   },
   {
    "duration": 7,
    "start_time": "2024-05-27T20:35:50.186Z"
   },
   {
    "duration": 6,
    "start_time": "2024-05-27T20:35:50.194Z"
   },
   {
    "duration": 6,
    "start_time": "2024-05-27T20:35:50.201Z"
   },
   {
    "duration": 7,
    "start_time": "2024-05-27T20:35:50.208Z"
   },
   {
    "duration": 1548,
    "start_time": "2024-05-27T20:35:50.218Z"
   },
   {
    "duration": 1491,
    "start_time": "2024-05-27T20:35:51.767Z"
   },
   {
    "duration": 1431,
    "start_time": "2024-05-27T20:35:53.265Z"
   }
  ],
  "kernelspec": {
   "display_name": "Python 3 (ipykernel)",
   "language": "python",
   "name": "python3"
  },
  "language_info": {
   "codemirror_mode": {
    "name": "ipython",
    "version": 3
   },
   "file_extension": ".py",
   "mimetype": "text/x-python",
   "name": "python",
   "nbconvert_exporter": "python",
   "pygments_lexer": "ipython3",
   "version": "3.9.5"
  },
  "toc": {
   "base_numbering": 1,
   "nav_menu": {
    "height": "150px",
    "width": "240px"
   },
   "number_sections": true,
   "sideBar": true,
   "skip_h1_title": true,
   "title_cell": "Table of Contents",
   "title_sidebar": "Contents",
   "toc_cell": false,
   "toc_position": {},
   "toc_section_display": true,
   "toc_window_display": false
  }
 },
 "nbformat": 4,
 "nbformat_minor": 2
}
